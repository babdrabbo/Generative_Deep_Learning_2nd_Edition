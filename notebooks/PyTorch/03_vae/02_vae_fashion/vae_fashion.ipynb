{
 "cells": [
  {
   "cell_type": "markdown",
   "id": "b076bd1a-b236-4fbc-953d-8295b25122ae",
   "metadata": {},
   "source": [
    "# 👖 Variational Autoencoders - Fashion-MNIST"
   ]
  },
  {
   "cell_type": "markdown",
   "id": "9235cbd1-f136-411c-88d9-f69f270c0b96",
   "metadata": {},
   "source": [
    "In this notebook, we'll walk through the steps required to train your own autoencoder on the fashion MNIST dataset."
   ]
  },
  {
   "cell_type": "markdown",
   "id": "4ab8071b-6381-4147-8755-ea2ee48e8ab3",
   "metadata": {},
   "source": [
    "The code has been adapted from the excellent [VAE tutorial](https://keras.io/examples/generative/vae/) created by Francois Chollet, available on the Keras website."
   ]
  },
  {
   "cell_type": "code",
   "execution_count": null,
   "id": "84acc7be-6764-4668-b2bb-178f63deeed3",
   "metadata": {},
   "outputs": [],
   "source": [
    "import os, sys\n",
    "from dotenv import load_dotenv\n",
    "\n",
    "load_dotenv()\n",
    "python_path = os.getenv('PYTHONPATH')\n",
    "data_path = os.getenv('DATA_PATH')\n",
    "if python_path:\n",
    "    for path in python_path.split(os.pathsep):\n",
    "        if path not in sys.path:\n",
    "            sys.path.append(path)\n",
    "\n",
    "\n",
    "import numpy as np\n",
    "from scipy.stats import norm\n",
    "import matplotlib.pyplot as plt\n",
    "\n",
    "import torch\n",
    "import torch.nn as nn\n",
    "import torch.nn.functional as F\n",
    "from torch.utils.data import DataLoader, Dataset\n",
    "from torchvision import datasets, transforms\n",
    "\n",
    "from tqdm import tqdm, trange\n",
    "\n",
    "from notebooks.pt_utils import display"
   ]
  },
  {
   "cell_type": "markdown",
   "id": "339e6268-ebd7-4feb-86db-1fe7abccdbe5",
   "metadata": {},
   "source": [
    "## 0. Parameters <a name=\"parameters\"></a>"
   ]
  },
  {
   "cell_type": "code",
   "execution_count": null,
   "id": "1b2ee6ce-129f-4833-b0c5-fa567381c4e0",
   "metadata": {},
   "outputs": [],
   "source": [
    "IMAGE_SIZE = 32\n",
    "BATCH_SIZE = 100\n",
    "VALIDATION_SPLIT = 0.2\n",
    "EMBEDDING_DIM = 2\n",
    "EPOCHS = 5\n",
    "BETA = 400\n",
    "\n",
    "NUM_WOERKERS = 24\n",
    "\n",
    "device = torch.device('cuda' if torch.cuda.is_available() else 'cpu')"
   ]
  },
  {
   "cell_type": "markdown",
   "id": "b7716fac-0010-49b0-b98e-53be2259edde",
   "metadata": {},
   "source": [
    "## 1. Prepare the data <a name=\"prepare\"></a>"
   ]
  },
  {
   "cell_type": "code",
   "execution_count": null,
   "id": "9a73e5a4-1638-411c-8d3c-29f823424458",
   "metadata": {},
   "outputs": [],
   "source": [
    "class AutoencoderDataset(Dataset):\n",
    "    def __init__(self, dataset):\n",
    "        super().__init__()\n",
    "        self.dataset = dataset\n",
    "    \n",
    "    def __len__(self):\n",
    "        return len(self.dataset)\n",
    "    \n",
    "    def __getitem__(self, idx):\n",
    "        data, _ = self.dataset[idx]\n",
    "        return data, data"
   ]
  },
  {
   "cell_type": "code",
   "execution_count": null,
   "id": "9317619c",
   "metadata": {},
   "outputs": [],
   "source": [
    "transform = transforms.Compose([\n",
    "    transforms.ToTensor(),\n",
    "    transforms.Pad(padding=2),\n",
    "])\n",
    "\n",
    "train_dataset = datasets.FashionMNIST(root=data_path, train=True, transform=transform)\n",
    "train_dataset, val_dataset = torch.utils.data.random_split(train_dataset, [0.8, 0.2])\n",
    "test_dataset = datasets.FashionMNIST(root=data_path, train=False, transform=transform)\n",
    "\n",
    "vae_train_dataset = AutoencoderDataset(train_dataset)\n",
    "vae_val_dataset = AutoencoderDataset(val_dataset)\n",
    "vae_test_dataset = AutoencoderDataset(test_dataset)"
   ]
  },
  {
   "cell_type": "code",
   "execution_count": null,
   "id": "7726f173",
   "metadata": {},
   "outputs": [],
   "source": [
    "train_loader = DataLoader(train_dataset, batch_size=BATCH_SIZE, shuffle=True, num_workers=NUM_WOERKERS, pin_memory=True, pin_memory_device='cuda')\n",
    "val_loader = DataLoader(val_dataset, batch_size=BATCH_SIZE, shuffle=False, num_workers=NUM_WOERKERS, pin_memory=True, pin_memory_device='cuda')\n",
    "test_loader = DataLoader(test_dataset, batch_size=BATCH_SIZE, shuffle=False, num_workers=NUM_WOERKERS, pin_memory=True, pin_memory_device='cuda')\n",
    "\n",
    "vae_train_loader = DataLoader(vae_train_dataset, batch_size=BATCH_SIZE, shuffle=True, num_workers=NUM_WOERKERS, pin_memory=True, pin_memory_device='cuda')\n",
    "vae_val_loader = DataLoader(vae_val_dataset, batch_size=BATCH_SIZE, shuffle=False, num_workers=NUM_WOERKERS, pin_memory=True, pin_memory_device='cuda')\n",
    "vae_test_loader = DataLoader(vae_test_dataset, batch_size=BATCH_SIZE, shuffle=False, num_workers=NUM_WOERKERS, pin_memory=True, pin_memory_device='cuda')"
   ]
  },
  {
   "cell_type": "code",
   "execution_count": null,
   "id": "5a322ec7",
   "metadata": {},
   "outputs": [],
   "source": [
    "images, labels = next(iter(train_loader))\n",
    "display(images)\n",
    "print(labels[:10])"
   ]
  },
  {
   "cell_type": "code",
   "execution_count": null,
   "id": "14b94166",
   "metadata": {},
   "outputs": [],
   "source": [
    "print(f'image size: {images[0].size()}')\n",
    "print(f'image min: {torch.min(images).item()}')\n",
    "print(f'image max: {torch.max(images).item()}')"
   ]
  },
  {
   "cell_type": "markdown",
   "id": "aff50401-3abe-4c10-bba8-b35bc13ad7d5",
   "metadata": {
    "tags": []
   },
   "source": [
    "## 2. Build the variational autoencoder <a name=\"build\"></a>"
   ]
  },
  {
   "cell_type": "code",
   "execution_count": null,
   "id": "c1afd86a",
   "metadata": {},
   "outputs": [],
   "source": [
    "class VariationalAutoencoder(nn.Module):\n",
    "    def __init__(self, input_size, latent_size):\n",
    "        super().__init__()\n",
    "        c, w, h = input_size\n",
    "        z_size = latent_size\n",
    "        flat_size = 128 * 4 * 4\n",
    "        unflat_size = (128, 4, 4)\n",
    "\n",
    "        class SampleZ(nn.Module):\n",
    "            def __init__(self):\n",
    "                super().__init__()\n",
    "\n",
    "            def forward(self, inputs):\n",
    "                z_mean, z_log_var = inputs\n",
    "                epsilon = torch.randn_like(z_mean)\n",
    "                return z_mean + torch.exp(0.5 * z_log_var) * epsilon\n",
    "            \n",
    "        class Encoder(nn.Module):\n",
    "            def __init__(self):\n",
    "                super().__init__()\n",
    "\n",
    "                self.seq = nn.Sequential(\n",
    "                    nn.Conv2d(c, 32, 3, stride=2, padding=1),\n",
    "                    nn.ReLU(),\n",
    "                    nn.Conv2d(32, 64, 3, stride=2, padding=1),\n",
    "                    nn.ReLU(),\n",
    "                    nn.Conv2d(64, 128, 3, stride=2, padding=1),\n",
    "                    nn.ReLU(),\n",
    "                    nn.Flatten(),\n",
    "                )\n",
    "                \n",
    "                self.z_mean_branch = nn.Linear(flat_size, z_size)\n",
    "                self.z_logvar_branch = nn.Linear(flat_size, z_size)\n",
    "                self.z_sampler = SampleZ()\n",
    "            \n",
    "            def forward(self, x):\n",
    "                x = self.seq(x)\n",
    "                z_mean = self.z_mean_branch(x)\n",
    "                z_logvar = self.z_logvar_branch(x)\n",
    "                z = self.z_sampler([z_mean, z_logvar])\n",
    "                return z, z_mean, z_logvar\n",
    "        \n",
    "        class Decoder(nn.Module):\n",
    "            def __init__(self):\n",
    "                super().__init__()\n",
    "\n",
    "                self.seq = nn.Sequential(\n",
    "                    nn.Linear(z_size, flat_size),\n",
    "                    nn.Unflatten(dim=1, unflattened_size=unflat_size),\n",
    "                    nn.ConvTranspose2d(128, 128, 3, stride=2, padding=1, output_padding=1),\n",
    "                    nn.ReLU(),\n",
    "                    nn.ConvTranspose2d(128, 64, 3, stride=2, padding=1, output_padding=1),\n",
    "                    nn.ReLU(),\n",
    "                    nn.ConvTranspose2d(64, 32, 3, stride=2, padding=1, output_padding=1),\n",
    "                    nn.ReLU(),\n",
    "                    nn.Conv2d(32, 1, 3, stride=1, padding='same'),\n",
    "                    nn.Sigmoid(),\n",
    "                )\n",
    "            \n",
    "            def forward(self, x):\n",
    "                return self.seq(x)\n",
    "\n",
    "\n",
    "        self.encoder = Encoder()\n",
    "        self.decoder = Decoder()\n",
    "\n",
    "    \n",
    "    def forward(self, x):\n",
    "        z, _, _ = self.encoder(x)\n",
    "        return self.decoder(z)\n",
    "\n",
    "\n",
    "    def _construction_loss(self, original, reconstructed, beta=BETA):\n",
    "        return beta * F.binary_cross_entropy(reconstructed, original)\n",
    "\n",
    "    def _kl_div_loss(self, z_mean, z_logvar):\n",
    "        return torch.mean(\n",
    "            torch.sum(\n",
    "                -0.5 * (1 + z_logvar - torch.square(z_mean) - torch.exp(z_logvar)), \n",
    "                dim=1\n",
    "            )\n",
    "        )\n",
    "    \n",
    "    def fit(self, train_loader, val_loader, epochs, optimizer, beta=BETA):\n",
    "\n",
    "        with trange(epochs, desc='Epochs', unit='epoch', leave=True) as pbar:\n",
    "            for epoch in range(epochs):\n",
    "\n",
    "\n",
    "                # Train\n",
    "                self.encoder.train()\n",
    "                self.decoder.train()\n",
    "                for inputs, labels in train_loader:\n",
    "                    inputs, labels = inputs.to(device), labels.to(device)\n",
    "                    optimizer.zero_grad()\n",
    "                    z, z_mean, z_logvar = self.encoder(inputs)\n",
    "                    reconstructions = self.decoder(z)\n",
    "                    loss = (\n",
    "                        self._construction_loss(inputs, reconstructions, beta) + \n",
    "                        self._kl_div_loss(z_mean, z_logvar)\n",
    "                    )\n",
    "                    loss.backward()\n",
    "                    optimizer.step()\n",
    "\n",
    "\n",
    "                # Validate\n",
    "                val_loss = 0.0\n",
    "                self.encoder.eval()\n",
    "                self.decoder.eval()\n",
    "                with torch.no_grad():\n",
    "                    for vb, (inputs, labels) in enumerate(val_loader):\n",
    "                        inputs, labels = inputs.to(device), labels.to(device)\n",
    "                        z, z_mean, z_logvar = self.encoder(inputs)\n",
    "                        reconstructions = self.decoder(z)\n",
    "                        loss = (\n",
    "                            self._construction_loss(inputs, reconstructions, beta) + \n",
    "                            self._kl_div_loss(z_mean, z_logvar)\n",
    "                        )\n",
    "                        val_loss += loss.item()\n",
    "\n",
    "                val_loss /= (vb + 1)\n",
    "                postfix_str = f'Loss: {val_loss:0.4f}'\n",
    "                pbar.set_postfix_str(postfix_str)\n",
    "                pbar.update()\n",
    "\n"
   ]
  },
  {
   "cell_type": "markdown",
   "id": "35b14665-4359-447b-be58-3fd58ba69084",
   "metadata": {},
   "source": [
    "## 3. Train the variational autoencoder <a name=\"train\"></a>"
   ]
  },
  {
   "cell_type": "code",
   "execution_count": null,
   "id": "6e250508",
   "metadata": {},
   "outputs": [],
   "source": [
    "vae = VariationalAutoencoder((1, 32, 32), 2).to(device)\n",
    "optimizer = torch.optim.Adam(params=vae.parameters(), lr=0.0005)\n",
    "\n",
    "vae.fit(\n",
    "    train_loader=vae_train_loader,\n",
    "    val_loader=vae_val_loader,\n",
    "    epochs=EPOCHS,\n",
    "    optimizer=optimizer,\n",
    "    beta=BETA\n",
    ")\n"
   ]
  },
  {
   "cell_type": "markdown",
   "id": "07ab76a1-c4b8-44e3-9c0f-00622fa82277",
   "metadata": {},
   "source": [
    "## 3. Reconstruct using the variational autoencoder <a name=\"reconstruct\"></a>"
   ]
  },
  {
   "cell_type": "code",
   "execution_count": null,
   "id": "19c3ec7b",
   "metadata": {},
   "outputs": [],
   "source": [
    "ex_loader = DataLoader(test_dataset, batch_size=5000, shuffle=True, num_workers=24)\n",
    "example_images, example_labels = next(iter(ex_loader))"
   ]
  },
  {
   "cell_type": "code",
   "execution_count": null,
   "id": "af8c8327-fda5-40d7-8909-9883c47b1a3e",
   "metadata": {},
   "outputs": [],
   "source": [
    "# Create autoencoder predictions and display\n",
    "reconstructions = vae(example_images.to(device)).detach().cpu()\n",
    "print(\"Example real clothing items\")\n",
    "display(example_images)\n",
    "print(\"Reconstructions\")\n",
    "display(reconstructions)"
   ]
  },
  {
   "cell_type": "markdown",
   "id": "caf7d66e-b194-4372-bcc2-cdda026f8593",
   "metadata": {},
   "source": [
    "## 4. Embed using the encoder <a name=\"encode\"></a>"
   ]
  },
  {
   "cell_type": "code",
   "execution_count": null,
   "id": "1aac4bca-15fa-4679-b790-1347854c22b0",
   "metadata": {},
   "outputs": [],
   "source": [
    "# Encode the example images\n",
    "z, z_mean, z_logvar = vae.encoder(example_images.to(device))"
   ]
  },
  {
   "cell_type": "code",
   "execution_count": null,
   "id": "e6836c5d-a7f3-4a98-ba1f-3d204a8654c0",
   "metadata": {},
   "outputs": [],
   "source": [
    "# Some examples of the embeddings\n",
    "z = z.detach().cpu()\n",
    "print(z[:10])"
   ]
  },
  {
   "cell_type": "code",
   "execution_count": null,
   "id": "02736f3a-2446-4e4c-a8c1-f1eb34729f03",
   "metadata": {},
   "outputs": [],
   "source": [
    "# Show the encoded points in 2D space\n",
    "figsize = 8\n",
    "\n",
    "plt.figure(figsize=(figsize, figsize))\n",
    "plt.scatter(z[:, 0], z[:, 1], c=\"black\", alpha=0.5, s=3)\n",
    "plt.show()"
   ]
  },
  {
   "cell_type": "markdown",
   "id": "f8fb22e1-f73f-4b97-8a8a-787c1c5e605a",
   "metadata": {},
   "source": [
    "## 5. Generate using the decoder <a name=\"decode\"></a>"
   ]
  },
  {
   "cell_type": "code",
   "execution_count": null,
   "id": "c8cbb2e9-4ba6-4332-b5cf-c509472b4d39",
   "metadata": {},
   "outputs": [],
   "source": [
    "# Sample some points in the latent space, from the standard normal distribution\n",
    "grid_width, grid_height = (6, 3)\n",
    "z_sample = torch.randn((grid_width * grid_height, 2))"
   ]
  },
  {
   "cell_type": "code",
   "execution_count": null,
   "id": "dd914b15-f9f5-4b59-934d-52ae4c7917cc",
   "metadata": {},
   "outputs": [],
   "source": [
    "# Decode the sampled points\n",
    "reconstructions = vae.decoder(z_sample.to(device)).detach().cpu()"
   ]
  },
  {
   "cell_type": "code",
   "execution_count": null,
   "id": "fc563362-4683-4065-a4f5-f2bbe21ce62e",
   "metadata": {},
   "outputs": [],
   "source": [
    "# Convert original embeddings and sampled embeddings to p-values\n",
    "p = norm.cdf(z)\n",
    "p_sample = norm.cdf(z_sample)"
   ]
  },
  {
   "cell_type": "code",
   "execution_count": null,
   "id": "0159b056-675e-4f3d-ab1a-eab40cfa9c46",
   "metadata": {},
   "outputs": [],
   "source": [
    "# Draw a plot of...\n",
    "figsize = 8\n",
    "plt.figure(figsize=(figsize, figsize))\n",
    "\n",
    "# ... the original embeddings ...\n",
    "plt.scatter(z[:, 0], z[:, 1], c=\"black\", alpha=0.5, s=2)\n",
    "\n",
    "# ... and the newly generated points in the latent space\n",
    "plt.scatter(z_sample[:, 0], z_sample[:, 1], c=\"#00B0F0\", alpha=1, s=40)\n",
    "plt.show()\n",
    "\n",
    "# Add underneath a grid of the decoded images\n",
    "fig = plt.figure(figsize=(figsize, grid_height * 2))\n",
    "fig.subplots_adjust(hspace=0.4, wspace=0.4)\n",
    "\n",
    "for i in range(grid_width * grid_height):\n",
    "    ax = fig.add_subplot(grid_height, grid_width, i + 1)\n",
    "    ax.axis(\"off\")\n",
    "    ax.text(\n",
    "        0.5,\n",
    "        -0.35,\n",
    "        str(np.round(z_sample[i, :].numpy(), 1)),\n",
    "        fontsize=10,\n",
    "        ha=\"center\",\n",
    "        transform=ax.transAxes,\n",
    "    )\n",
    "    ax.imshow(reconstructions[i, :, :].permute(1, 2, 0), cmap=\"Greys\")"
   ]
  },
  {
   "cell_type": "markdown",
   "id": "a70a79b8-b109-4a47-8364-f0edc15a0e7f",
   "metadata": {},
   "source": [
    "## 6. Explore the latent space <a name=\"explore\"></a>"
   ]
  },
  {
   "cell_type": "code",
   "execution_count": null,
   "id": "9547247c-0e2a-4ac5-9490-4a1346a3f527",
   "metadata": {},
   "outputs": [],
   "source": [
    "# Colour the embeddings by their label (clothing type - see table)\n",
    "figsize = 8\n",
    "fig = plt.figure(figsize=(figsize * 2, figsize))\n",
    "ax = fig.add_subplot(1, 2, 1)\n",
    "plot_1 = ax.scatter(\n",
    "    z[:, 0], z[:, 1], cmap=\"rainbow\", c=example_labels, alpha=0.8, s=3\n",
    ")\n",
    "plt.colorbar(plot_1)\n",
    "ax = fig.add_subplot(1, 2, 2)\n",
    "plot_2 = ax.scatter(\n",
    "    p[:, 0], p[:, 1], cmap=\"rainbow\", c=example_labels, alpha=0.8, s=3\n",
    ")\n",
    "plt.show()"
   ]
  },
  {
   "cell_type": "markdown",
   "id": "4e176e97-8ee6-491a-9f93-92e9e526a2c7",
   "metadata": {},
   "source": [
    "| ID | Clothing Label |\n",
    "| :- | :- |\n",
    "| 0 | T-shirt/top |\n",
    "| 1 | Trouser |\n",
    "| 2 | Pullover |\n",
    "| 3 | Dress |\n",
    "| 4 | Coat |\n",
    "| 5 | Sandal |\n",
    "| 6 | Shirt |\n",
    "| 7 | Sneaker |\n",
    "| 8 | Bag |\n",
    "| 9 | Ankle boot |"
   ]
  },
  {
   "cell_type": "code",
   "execution_count": null,
   "id": "276fdfa2-b5e9-41fe-b13d-fde00e3edff4",
   "metadata": {},
   "outputs": [],
   "source": [
    "# Colour the embeddings by their label (clothing type - see table)\n",
    "figsize = 12\n",
    "grid_size = 15\n",
    "plt.figure(figsize=(figsize, figsize))\n",
    "# plt.scatter(\n",
    "#     p[:, 0], p[:, 1], cmap=\"rainbow\", c=example_labels, alpha=0.8, s=300\n",
    "# )\n",
    "# plt.colorbar()\n",
    "\n",
    "x = norm.ppf(np.linspace(0, 1, grid_size))\n",
    "y = norm.ppf(np.linspace(1, 0, grid_size))\n",
    "xv, yv = np.meshgrid(x, y)\n",
    "xv = xv.flatten()\n",
    "yv = yv.flatten()\n",
    "grid = np.array(list(zip(xv, yv)))\n",
    "grid = torch.from_numpy(grid).to(torch.float32).to(device)\n",
    "\n",
    "reconstructions = vae.decoder(grid).detach().cpu()\n",
    "# plt.scatter(grid[:, 0], grid[:, 1], c=\"black\", alpha=1, s=10)\n",
    "plt.show()\n",
    "\n",
    "fig = plt.figure(figsize=(figsize, figsize))\n",
    "fig.subplots_adjust(hspace=0.4, wspace=0.4)\n",
    "for i in range(grid_size**2):\n",
    "    ax = fig.add_subplot(grid_size, grid_size, i + 1)\n",
    "    ax.axis(\"off\")\n",
    "    ax.imshow(reconstructions[i, :, :].permute(1, 2, 0), cmap=\"Greys\")"
   ]
  }
 ],
 "metadata": {
  "kernelspec": {
   "display_name": "torch",
   "language": "python",
   "name": "python3"
  },
  "language_info": {
   "codemirror_mode": {
    "name": "ipython",
    "version": 3
   },
   "file_extension": ".py",
   "mimetype": "text/x-python",
   "name": "python",
   "nbconvert_exporter": "python",
   "pygments_lexer": "ipython3",
   "version": "3.12.7"
  }
 },
 "nbformat": 4,
 "nbformat_minor": 5
}
