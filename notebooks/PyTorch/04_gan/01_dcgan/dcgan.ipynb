{
 "cells": [
  {
   "cell_type": "markdown",
   "id": "b076bd1a-b236-4fbc-953d-8295b25122ae",
   "metadata": {},
   "source": [
    "# 🧱 DCGAN - Bricks Data"
   ]
  },
  {
   "cell_type": "markdown",
   "id": "1603ea4b-8345-4e2e-ae7c-01c9953900e8",
   "metadata": {},
   "source": [
    "In this notebook, we'll walk through the steps required to train your own DCGAN on the bricks dataset"
   ]
  },
  {
   "cell_type": "code",
   "execution_count": 1,
   "id": "4e0d56cc-4773-4029-97d8-26f882ba79c9",
   "metadata": {},
   "outputs": [],
   "source": [
    "%load_ext autoreload\n",
    "%autoreload 2\n",
    "\n",
    "import os, sys, glob, math\n",
    "from PIL import Image\n",
    "from tqdm import tqdm, trange\n",
    "\n",
    "from dotenv import load_dotenv\n",
    "load_dotenv()\n",
    "python_path = os.getenv('PYTHONPATH')\n",
    "data_path = os.getenv('DATA_PATH')\n",
    "if python_path:\n",
    "    for path in python_path.split(os.pathsep):\n",
    "        if path not in sys.path:\n",
    "            sys.path.append(path)\n",
    "\n",
    "\n",
    "import torch\n",
    "import torch.nn as nn\n",
    "import torch.nn.functional as F\n",
    "from torch.utils.data import DataLoader, Dataset\n",
    "from torchvision import datasets, transforms\n",
    "from torchmetrics import MeanMetric\n",
    "from torchmetrics.classification import BinaryAccuracy\n",
    "\n",
    "\n",
    "from notebooks.pt_utils import *"
   ]
  },
  {
   "cell_type": "markdown",
   "id": "339e6268-ebd7-4feb-86db-1fe7abccdbe5",
   "metadata": {},
   "source": [
    "## 0. Parameters <a name=\"parameters\"></a>"
   ]
  },
  {
   "cell_type": "code",
   "execution_count": 2,
   "id": "1b2ee6ce-129f-4833-b0c5-fa567381c4e0",
   "metadata": {},
   "outputs": [],
   "source": [
    "IMAGE_SIZE = 64\n",
    "CHANNELS = 1\n",
    "BATCH_SIZE = 128\n",
    "Z_DIM = 100\n",
    "EPOCHS = 300\n",
    "LOAD_MODEL = False\n",
    "ADAM_BETA_1 = 0.5\n",
    "ADAM_BETA_2 = 0.999\n",
    "LEARNING_RATE = 0.0002\n",
    "NOISE_PARAM = 0.1\n",
    "NUM_WORKERS = 24"
   ]
  },
  {
   "cell_type": "markdown",
   "id": "b7716fac-0010-49b0-b98e-53be2259edde",
   "metadata": {},
   "source": [
    "## 1. Prepare the data <a name=\"prepare\"></a>"
   ]
  },
  {
   "cell_type": "code",
   "execution_count": 3,
   "id": "877a30a3",
   "metadata": {},
   "outputs": [],
   "source": [
    "class LegoBricksDataset(Dataset):\n",
    "    def __init__(self, root, transform=None):\n",
    "        self.root = root\n",
    "        self.transform = transform\n",
    "\n",
    "        self.image_files = glob.glob(os.path.join(self.root, '*.png'))\n",
    "\n",
    "    def __len__(self):\n",
    "        return len(self.image_files)\n",
    "\n",
    "    def __getitem__(self, index):\n",
    "        image = Image.open(self.image_files[index])\n",
    "\n",
    "        if self.transform:\n",
    "            image = self.transform(image)\n",
    "\n",
    "        return image"
   ]
  },
  {
   "cell_type": "code",
   "execution_count": 4,
   "id": "7c75625e",
   "metadata": {},
   "outputs": [],
   "source": [
    "train_dataset = LegoBricksDataset(\n",
    "    root = os.path.join(data_path, 'lego-brick-images/dataset'), \n",
    "    transform=transforms.Compose([\n",
    "        transforms.Resize((IMAGE_SIZE, IMAGE_SIZE), interpolation=transforms.InterpolationMode.BILINEAR),\n",
    "        transforms.Grayscale(),\n",
    "        transforms.ToTensor(),\n",
    "        transforms.Normalize(0.5, 0.5),\n",
    "    ]),\n",
    ")\n",
    "train_loader = DataLoader(train_dataset, batch_size=BATCH_SIZE, shuffle=True, num_workers=NUM_WORKERS, pin_memory=True, pin_memory_device='cuda')"
   ]
  },
  {
   "cell_type": "code",
   "execution_count": null,
   "id": "fa53709f-7f3f-483b-9db8-2e5f9b9942c2",
   "metadata": {},
   "outputs": [],
   "source": [
    "train_sample = next(iter(train_loader))\n",
    "display(train_sample)"
   ]
  },
  {
   "cell_type": "markdown",
   "id": "aff50401-3abe-4c10-bba8-b35bc13ad7d5",
   "metadata": {
    "tags": []
   },
   "source": [
    "## 2. Build the GAN <a name=\"build\"></a>"
   ]
  },
  {
   "cell_type": "code",
   "execution_count": 6,
   "id": "f8bd023a",
   "metadata": {},
   "outputs": [],
   "source": [
    "def generate_sample_images(epoch, generator, device, latent_dim=Z_DIM, num_images=10):\n",
    "    random_latent_vectors = torch.randn(size=(num_images, latent_dim)).to(device)\n",
    "    images = generator(random_latent_vectors)\n",
    "    display(images.cpu(), save_to=f'./output/generated_img_{epoch:03d}.png')"
   ]
  },
  {
   "cell_type": "code",
   "execution_count": 7,
   "id": "cfb99158",
   "metadata": {},
   "outputs": [],
   "source": [
    "class DCGAN(nn.Module):\n",
    "    def __init__(self, img_size, latent_dim):\n",
    "\n",
    "        super().__init__()\n",
    "        \n",
    "        c, w, h = img_size\n",
    "        self.latent_dim = latent_dim\n",
    "\n",
    "        \n",
    "        class Discriminator(nn.Module):\n",
    "            def __init__(self):\n",
    "                super().__init__()\n",
    "\n",
    "                self.seq = nn.Sequential(\n",
    "                    \n",
    "                    nn.Conv2d(c, 64, 4, stride=2, padding=1, bias=False),\n",
    "                    nn.LeakyReLU(0.2),\n",
    "                    nn.Dropout2d(0.3),\n",
    "\n",
    "                    nn.Conv2d(64, 128, 4, stride=2, padding=1, bias=False),\n",
    "                    nn.BatchNorm2d(num_features=128, momentum=0.9),\n",
    "                    nn.LeakyReLU(0.2),\n",
    "                    nn.Dropout2d(0.3),\n",
    "                    \n",
    "                    nn.Conv2d(128, 256, 4, stride=2, padding=1, bias=False),\n",
    "                    nn.BatchNorm2d(num_features=256, momentum=0.9),\n",
    "                    nn.LeakyReLU(0.2),\n",
    "                    nn.Dropout2d(0.3),\n",
    "                    \n",
    "                    nn.Conv2d(256, 512, 4, stride=2, padding=1, bias=False),\n",
    "                    nn.BatchNorm2d(num_features=512, momentum=0.9),\n",
    "                    nn.LeakyReLU(0.2),\n",
    "                    nn.Dropout2d(0.3),\n",
    "                    \n",
    "                    nn.Conv2d(512, 1, 4, stride=1, padding=0, bias=False),\n",
    "                    nn.Sigmoid(),\n",
    "\n",
    "                    nn.Flatten(),\n",
    "                )\n",
    "\n",
    "            def forward(self, x):\n",
    "                return self.seq(x)\n",
    "            \n",
    "        \n",
    "        class Generator(nn.Module):\n",
    "            def __init__(self):\n",
    "                super().__init__()\n",
    "\n",
    "                self.seq = nn.Sequential(\n",
    "                    \n",
    "                    nn.ConvTranspose2d(latent_dim, 512, 4, stride=1, padding=0, bias=False),\n",
    "                    nn.BatchNorm2d(num_features=512, momentum=0.9),\n",
    "                    nn.LeakyReLU(0.2),\n",
    "                    \n",
    "                    nn.ConvTranspose2d(512, 256, 4, stride=2, padding=1, bias=False),\n",
    "                    nn.BatchNorm2d(num_features=256, momentum=0.9),\n",
    "                    nn.LeakyReLU(0.2),\n",
    "                    \n",
    "                    nn.ConvTranspose2d(256, 128, 4, stride=2, padding=1, bias=False),\n",
    "                    nn.BatchNorm2d(num_features=128, momentum=0.9),\n",
    "                    nn.LeakyReLU(0.2),\n",
    "                    \n",
    "                    nn.ConvTranspose2d(128, 64, 4, stride=2, padding=1, bias=False),\n",
    "                    nn.BatchNorm2d(num_features=64, momentum=0.9),\n",
    "                    nn.LeakyReLU(0.2),\n",
    "\n",
    "                    nn.ConvTranspose2d(64, c, 4, stride=2, padding=1, bias=False),\n",
    "                    nn.Tanh(),\n",
    "                )\n",
    "\n",
    "            def forward(self, x):\n",
    "                x = x.reshape(*x.size(), 1, 1)\n",
    "                return self.seq(x)\n",
    "            \n",
    "        \n",
    "        self.generator = Generator()\n",
    "        self.discriminator = Discriminator()\n",
    "\n",
    "    \n",
    "    def forward(self, x):\n",
    "        return None\n",
    "    \n",
    "    def fit(self, loader, epochs, loss_fn, g_optimizer, d_optimizer, device):\n",
    "\n",
    "        g_loss_metric = MeanMetric().to(device)\n",
    "        d_loss_metric = MeanMetric().to(device)\n",
    "        g_acc_metric = BinaryAccuracy().to(device)\n",
    "        d_acc_metric = BinaryAccuracy().to(device)\n",
    "        d_acc_real_metric  = BinaryAccuracy().to(device)\n",
    "        d_acc_fake_metric  = BinaryAccuracy().to(device)\n",
    "\n",
    "\n",
    "        for epoch in range(epochs):\n",
    "\n",
    "            # Train\n",
    "\n",
    "            with trange(math.ceil(len(loader.dataset)/BATCH_SIZE), desc=f'Epoch {epoch + 1}', unit='batch', leave=True) as pbar:\n",
    "                \n",
    "                for batch, real_images in enumerate(loader):\n",
    "\n",
    "                    self.generator.train()\n",
    "                    self.discriminator.train()\n",
    "\n",
    "                    random_latent_vectors = torch.randn(size=(len(real_images), self.latent_dim)).to(device)\n",
    "\n",
    "                    real_images = real_images.to(device)\n",
    "                    fake_images = self.generator(random_latent_vectors)\n",
    "\n",
    "\n",
    "                    d_optimizer.zero_grad()\n",
    "\n",
    "                    real_preds = self.discriminator(real_images)\n",
    "                    real_labels = torch.ones_like(real_preds)\n",
    "                    real_labels_noisy = real_labels - NOISE_PARAM * torch.rand_like(real_preds)\n",
    "                    d_real_loss = loss_fn(real_preds, real_labels_noisy)\n",
    "                    d_real_loss.backward()\n",
    "\n",
    "                    fake_preds = self.discriminator(fake_images.detach())\n",
    "                    fake_labels = torch.zeros_like(fake_preds)\n",
    "                    fake_labels_noisy = fake_labels + NOISE_PARAM * torch.rand_like(fake_labels)\n",
    "                    d_fake_loss = loss_fn(fake_preds, fake_labels_noisy)\n",
    "                    d_fake_loss.backward()\n",
    "\n",
    "                    d_optimizer.step()\n",
    "\n",
    "\n",
    "                    g_optimizer.zero_grad()\n",
    "                    \n",
    "                    fake_preds = self.discriminator(fake_images)\n",
    "                    g_loss = loss_fn(fake_preds, real_labels)\n",
    "                    g_loss.backward()\n",
    "\n",
    "                    g_optimizer.step()\n",
    "\n",
    "\n",
    "                    g_loss_metric.update(g_loss)\n",
    "                    g_acc_metric.update(fake_preds, real_labels)\n",
    "\n",
    "                    d_loss_metric.update((d_real_loss + d_fake_loss) / 2.0)\n",
    "                    d_acc_metric.update(real_preds, real_labels)\n",
    "                    d_acc_metric.update(fake_preds, fake_labels)\n",
    "                    d_acc_real_metric.update(real_preds, real_labels)\n",
    "                    d_acc_fake_metric.update(fake_preds, fake_labels)\n",
    "\n",
    "                    d_loss      = d_loss_metric.compute()\n",
    "                    d_acc       = d_acc_metric.compute()\n",
    "                    d_acc_real  = d_acc_real_metric.compute()\n",
    "                    d_acc_fake  = d_acc_fake_metric.compute()\n",
    "                    g_loss      = g_loss_metric.compute()\n",
    "                    g_acc       = g_acc_metric.compute()\n",
    "                \n",
    "                    postfix_str = f'd_loss: {d_loss:0.4f}, d_acc: {d_acc:0.4f}, d_acc_real: {d_acc_real:0.4f}, d_acc_fake: {d_acc_fake:0.4f}, g_loss: {g_loss:0.4f}, g_acc: {g_acc:0.4f}'\n",
    "                    pbar.set_postfix_str(postfix_str)\n",
    "                    pbar.update()\n",
    "            \n",
    "\n",
    "            self.generator.eval()\n",
    "            with torch.no_grad():\n",
    "                generate_sample_images(\n",
    "                    epoch=epoch,\n",
    "                    generator=self.generator, \n",
    "                    device=device, \n",
    "                    latent_dim=self.latent_dim, \n",
    "                    num_images=10\n",
    "                )\n",
    "        \n",
    "\n"
   ]
  },
  {
   "cell_type": "markdown",
   "id": "35b14665-4359-447b-be58-3fd58ba69084",
   "metadata": {},
   "source": [
    "## 3. Train the GAN <a name=\"train\"></a>"
   ]
  },
  {
   "cell_type": "code",
   "execution_count": 8,
   "id": "e898dd8e-f562-4517-8351-fc2f8b617a24",
   "metadata": {},
   "outputs": [],
   "source": [
    "# Create a DCGAN\n",
    "device = torch.device('cuda' if torch.cuda.is_available() else 'cpu')\n",
    "dcgan = DCGAN(img_size=(CHANNELS, IMAGE_SIZE, IMAGE_SIZE), latent_dim=Z_DIM).to(device)"
   ]
  },
  {
   "cell_type": "code",
   "execution_count": 9,
   "id": "800a3c6e-fb11-4792-b6bc-9a43a7c977ad",
   "metadata": {},
   "outputs": [],
   "source": [
    "if LOAD_MODEL:\n",
    "    dcgan.load_weights(\"./checkpoint/checkpoint.ckpt\")"
   ]
  },
  {
   "cell_type": "code",
   "execution_count": 10,
   "id": "245e6374-5f5b-4efa-be0a-07b182f82d2d",
   "metadata": {},
   "outputs": [],
   "source": [
    "loss_fn = nn.BCELoss()\n",
    "g_optimizer = torch.optim.Adam(params=dcgan.generator.parameters(), lr=LEARNING_RATE, betas=[ADAM_BETA_1, ADAM_BETA_2])\n",
    "d_optimizer = torch.optim.Adam(params=dcgan.discriminator.parameters(), lr=LEARNING_RATE, betas=[ADAM_BETA_1, ADAM_BETA_2])"
   ]
  },
  {
   "cell_type": "code",
   "execution_count": null,
   "id": "2f5d8dc0",
   "metadata": {},
   "outputs": [],
   "source": [
    "dcgan.fit(\n",
    "    train_loader, \n",
    "    epochs=EPOCHS, \n",
    "    loss_fn=loss_fn, \n",
    "    g_optimizer=g_optimizer, \n",
    "    d_optimizer=d_optimizer, \n",
    "    device=device\n",
    ")"
   ]
  },
  {
   "cell_type": "code",
   "execution_count": 17,
   "id": "4221bf97",
   "metadata": {},
   "outputs": [],
   "source": [
    "# torch.save(dcgan.state_dict(), './models/dcgan')"
   ]
  },
  {
   "cell_type": "code",
   "execution_count": null,
   "id": "cd12fc28",
   "metadata": {},
   "outputs": [],
   "source": [
    "dcgan.load_state_dict(torch.load('./models/dcgan'))"
   ]
  },
  {
   "cell_type": "markdown",
   "id": "26999087-0e85-4ddf-ba5f-13036466fce7",
   "metadata": {},
   "source": [
    "## 3. Generate new images <a name=\"decode\"></a>"
   ]
  },
  {
   "cell_type": "code",
   "execution_count": 12,
   "id": "9d73a6fd",
   "metadata": {},
   "outputs": [],
   "source": [
    "def showable(img_tensor):\n",
    "    trns = transforms.Compose([\n",
    "        transforms.Normalize(-1, 2),\n",
    "        transforms.ToPILImage()\n",
    "    ])\n",
    "    return trns(img_tensor)"
   ]
  },
  {
   "cell_type": "code",
   "execution_count": 13,
   "id": "48e90117-2e0e-4f4b-9138-b25dce9870f6",
   "metadata": {},
   "outputs": [],
   "source": [
    "# Sample some points in the latent space, from the standard normal distribution\n",
    "grid_width, grid_height = (10, 3)\n",
    "z_sample = torch.randn(size=(grid_width * grid_height, Z_DIM))"
   ]
  },
  {
   "cell_type": "code",
   "execution_count": 14,
   "id": "2e185509-3861-425c-882d-4fe16d82d355",
   "metadata": {},
   "outputs": [],
   "source": [
    "# Decode the sampled points\n",
    "dcgan.generator.eval()\n",
    "with torch.no_grad():\n",
    "    reconstructions = dcgan.generator(z_sample.to(device))"
   ]
  },
  {
   "cell_type": "code",
   "execution_count": null,
   "id": "5e5e43c0-ef06-4d32-acf6-09f00cf2fa9c",
   "metadata": {},
   "outputs": [],
   "source": [
    "# Draw a plot of decoded images\n",
    "fig = plt.figure(figsize=(18, 5))\n",
    "fig.subplots_adjust(hspace=0.4, wspace=0.4)\n",
    "\n",
    "# Output the grid of faces\n",
    "for i in range(grid_width * grid_height):\n",
    "    ax = fig.add_subplot(grid_height, grid_width, i + 1)\n",
    "    ax.axis(\"off\")\n",
    "    ax.imshow(showable(reconstructions[i]), cmap=\"Greys\")"
   ]
  },
  {
   "cell_type": "code",
   "execution_count": 16,
   "id": "59bfd4e4-7fdc-488a-86df-2c131c904803",
   "metadata": {},
   "outputs": [],
   "source": [
    "def compare_images(img1, img2):\n",
    "    return torch.mean(torch.abs(img1 - img2))"
   ]
  },
  {
   "cell_type": "code",
   "execution_count": null,
   "id": "7c4b5bb1-3581-49b3-81ce-920400d6f3f7",
   "metadata": {},
   "outputs": [],
   "source": [
    "r, c = 3, 5\n",
    "fig, axs = plt.subplots(r, c, figsize=(10, 6))\n",
    "fig.suptitle(\"Generated images\", fontsize=20)\n",
    "\n",
    "noise = torch.randn(size=(r * c, Z_DIM))\n",
    "dcgan.generator.eval()\n",
    "with torch.no_grad():\n",
    "    gen_imgs = dcgan.generator(noise.to(device)).cpu()\n",
    "\n",
    "cnt = 0\n",
    "for i in range(r):\n",
    "    for j in range(c):\n",
    "        axs[i, j].imshow(showable(gen_imgs[cnt]), cmap=\"gray_r\")\n",
    "        axs[i, j].axis(\"off\")\n",
    "        cnt += 1\n",
    "\n",
    "plt.show()"
   ]
  },
  {
   "cell_type": "code",
   "execution_count": null,
   "id": "51923e98-bf0e-4de4-948a-05147c486b72",
   "metadata": {},
   "outputs": [],
   "source": [
    "fig, axs = plt.subplots(r, c, figsize=(10, 6))\n",
    "fig.suptitle(\"Closest images in the training set\", fontsize=20)\n",
    "\n",
    "cnt = 0\n",
    "for i in range(r):\n",
    "    for j in range(c):\n",
    "        c_diff = 99999\n",
    "        c_img = None\n",
    "        for k_idx, ks in enumerate(train_loader):\n",
    "            for k in ks:\n",
    "                diff = compare_images(gen_imgs[cnt], k)\n",
    "                if diff < c_diff:\n",
    "                    c_img = torch.clone(k)\n",
    "                    c_diff = diff\n",
    "        axs[i, j].imshow(showable(c_img), cmap=\"gray_r\")\n",
    "        axs[i, j].axis(\"off\")\n",
    "        cnt += 1\n",
    "\n",
    "plt.show()"
   ]
  }
 ],
 "metadata": {
  "kernelspec": {
   "display_name": "torch",
   "language": "python",
   "name": "python3"
  },
  "language_info": {
   "codemirror_mode": {
    "name": "ipython",
    "version": 3
   },
   "file_extension": ".py",
   "mimetype": "text/x-python",
   "name": "python",
   "nbconvert_exporter": "python",
   "pygments_lexer": "ipython3",
   "version": "3.12.7"
  }
 },
 "nbformat": 4,
 "nbformat_minor": 5
}
