{
 "cells": [
  {
   "cell_type": "markdown",
   "id": "b076bd1a-b236-4fbc-953d-8295b25122ae",
   "metadata": {},
   "source": [
    "# 🚀 GPT"
   ]
  },
  {
   "cell_type": "markdown",
   "id": "4dca6836-0007-43f3-af65-d12ae1922c02",
   "metadata": {
    "tags": []
   },
   "source": [
    "In this notebook, we'll walk through the steps required to train your own GPT model on the wine review dataset"
   ]
  },
  {
   "cell_type": "markdown",
   "id": "3e6cb7c7-d3d5-4b12-b357-1f6118edffe0",
   "metadata": {},
   "source": [
    "The code is adapted from the excellent [GPT tutorial](https://keras.io/examples/generative/text_generation_with_miniature_gpt/) created by Apoorv Nandan available on the Keras website."
   ]
  },
  {
   "cell_type": "code",
   "execution_count": 1,
   "id": "73350761-bef2-4e96-b3ac-a158eabd2b65",
   "metadata": {
    "tags": []
   },
   "outputs": [],
   "source": [
    "%load_ext autoreload\n",
    "%autoreload 2\n",
    "import re\n",
    "import math\n",
    "import json\n",
    "import string\n",
    "import numpy as np\n",
    "from typing import List, Union\n",
    "from collections import Counter\n",
    "from IPython.display import display, HTML\n",
    "\n",
    "import torch\n",
    "import torch.nn as nn\n",
    "import torch.nn.functional as F\n",
    "from torch.utils.data import Dataset, DataLoader"
   ]
  },
  {
   "cell_type": "markdown",
   "id": "339e6268-ebd7-4feb-86db-1fe7abccdbe5",
   "metadata": {},
   "source": [
    "## 0. Parameters <a name=\"parameters\"></a>"
   ]
  },
  {
   "cell_type": "code",
   "execution_count": 2,
   "id": "2d8352af-343e-4c2e-8c91-95f8bac1c8a1",
   "metadata": {},
   "outputs": [],
   "source": [
    "VOCAB_SIZE = 10000\n",
    "MAX_LEN = 80\n",
    "EMBEDDING_DIM = 256\n",
    "KEY_DIM = 256\n",
    "N_HEADS = 2\n",
    "N_BLOCKS = 1\n",
    "FEED_FORWARD_DIM = 256\n",
    "VALIDATION_SPLIT = 0.2\n",
    "SEED = 42\n",
    "TRAIN_MODEL = True\n",
    "LOAD_MODEL = False\n",
    "BATCH_SIZE = 32\n",
    "EPOCHS = 5\n",
    "\n",
    "NUM_WORKERS = 24\n",
    "DEVICE = torch.device('cuda' if torch.cuda.is_available() else 'cpu')"
   ]
  },
  {
   "cell_type": "markdown",
   "id": "b7716fac-0010-49b0-b98e-53be2259edde",
   "metadata": {},
   "source": [
    "## 1. Load and explore the data <a name=\"load\"></a>"
   ]
  },
  {
   "cell_type": "code",
   "execution_count": 3,
   "id": "93cf6b0f-9667-4146-8911-763a8a2925d3",
   "metadata": {
    "tags": []
   },
   "outputs": [],
   "source": [
    "# Load the full dataset\n",
    "with open(\"../../../../data/wine-reviews/winemag-data-130k-v2.json\") as json_data:\n",
    "    wine_data = json.load(json_data)"
   ]
  },
  {
   "cell_type": "code",
   "execution_count": 4,
   "id": "2db5c0fc-0d5f-42ab-ade1-57e594c416ec",
   "metadata": {
    "tags": []
   },
   "outputs": [
    {
     "data": {
      "text/plain": [
       "{'points': '87',\n",
       " 'title': 'Kirkland Signature 2011 Mountain Cuvée Cabernet Sauvignon (Napa Valley)',\n",
       " 'description': 'Soft, supple plum envelopes an oaky structure in this Cabernet, supported by 15% Merlot. Coffee and chocolate complete the picture, finishing strong at the end, resulting in a value-priced wine of attractive flavor and immediate accessibility.',\n",
       " 'taster_name': 'Virginie Boone',\n",
       " 'taster_twitter_handle': '@vboone',\n",
       " 'price': 19,\n",
       " 'designation': 'Mountain Cuvée',\n",
       " 'variety': 'Cabernet Sauvignon',\n",
       " 'region_1': 'Napa Valley',\n",
       " 'region_2': 'Napa',\n",
       " 'province': 'California',\n",
       " 'country': 'US',\n",
       " 'winery': 'Kirkland Signature'}"
      ]
     },
     "execution_count": 4,
     "metadata": {},
     "output_type": "execute_result"
    }
   ],
   "source": [
    "wine_data[10]"
   ]
  },
  {
   "cell_type": "code",
   "execution_count": 5,
   "id": "4668579a",
   "metadata": {},
   "outputs": [],
   "source": [
    "class WineReviewsTextDataset(Dataset):\n",
    "    def __init__(self, json_file_path):\n",
    "        \n",
    "        self.wine_reviews = None\n",
    "        self.n_wine_reviews = 0\n",
    "\n",
    "        def filter_and_format(data):\n",
    "            return [\n",
    "                \"wine review : \"\n",
    "                + x[\"country\"]\n",
    "                + \" : \"\n",
    "                + x[\"province\"]\n",
    "                + \" : \"\n",
    "                + x[\"variety\"]\n",
    "                + \" : \"\n",
    "                + x[\"description\"]\n",
    "                for x in data\n",
    "                if x[\"country\"] is not None\n",
    "                and x[\"province\"] is not None\n",
    "                and x[\"variety\"] is not None\n",
    "                and x[\"description\"] is not None\n",
    "            ]\n",
    "        \n",
    "        # Load the full dataset\n",
    "        with open(json_file_path) as json_data:\n",
    "            self.wine_reviews = json.load(json_data)\n",
    "            self.wine_reviews = filter_and_format(self.wine_reviews)\n",
    "            self.n_wine_reviews = len(self.wine_reviews)\n",
    "    \n",
    "\n",
    "    def __len__(self):\n",
    "        return self.n_wine_reviews\n",
    "    \n",
    "    def __getitem__(self, index):\n",
    "        return self.wine_reviews[index]"
   ]
  },
  {
   "cell_type": "code",
   "execution_count": 6,
   "id": "3fe055af",
   "metadata": {},
   "outputs": [],
   "source": [
    "text_ds = WineReviewsTextDataset(\"../../../../data/wine-reviews/winemag-data-130k-v2.json\")"
   ]
  },
  {
   "cell_type": "code",
   "execution_count": 7,
   "id": "20c4e42f",
   "metadata": {},
   "outputs": [
    {
     "name": "stdout",
     "output_type": "stream",
     "text": [
      "129907 recipes loaded\n"
     ]
    }
   ],
   "source": [
    "# Count the recipes\n",
    "n_wines = len(text_ds)\n",
    "print(f\"{n_wines} recipes loaded\")"
   ]
  },
  {
   "cell_type": "code",
   "execution_count": 8,
   "id": "8c95fbcc",
   "metadata": {},
   "outputs": [
    {
     "name": "stdout",
     "output_type": "stream",
     "text": [
      "wine review : US : California : Pinot Noir : Oak and earth intermingle around robust aromas of wet forest floor in this vineyard-designated Pinot that hails from a high-elevation site. Small in production, it offers intense, full-bodied raspberry and blackberry steeped in smoky spice and smooth texture.\n"
     ]
    }
   ],
   "source": [
    "example = text_ds[25]\n",
    "print(example)"
   ]
  },
  {
   "cell_type": "markdown",
   "id": "3f871aaf-d873-41c7-8946-e4eef7ac17c1",
   "metadata": {},
   "source": [
    "## 2. Tokenize the data <a name=\"tokenize\"></a>"
   ]
  },
  {
   "cell_type": "code",
   "execution_count": 9,
   "id": "de7f8025",
   "metadata": {},
   "outputs": [],
   "source": [
    "class SimpleTokenizer:\n",
    "    def __init__(self, max_size_vocab: int, max_len_seq: int):\n",
    "        self.max_len_seq = max_len_seq\n",
    "        self.max_size_vocab = max_size_vocab\n",
    "\n",
    "        self.PAD = \"<PAD>\"\n",
    "        self.UNKNOWN = \"<UNK>\"\n",
    "\n",
    "        self.vocab = []\n",
    "        self.id_to_token = {}\n",
    "        self.token_to_id = {self.PAD: 0, self.UNKNOWN: 1}\n",
    "\n",
    "    def tokenize(self, text: str) -> List[str]:\n",
    "        text = text.lower()\n",
    "        text = re.sub(f\"([{string.punctuation}, '\\n'])\", r\" \\1 \", text)\n",
    "        text = re.sub(\" +\", \" \", text)\n",
    "        return text.split()\n",
    "    \n",
    "    def adapt(self, texts: List[str]):\n",
    "        counter = Counter()\n",
    "        for text in texts:\n",
    "            tokens = self.tokenize(text)\n",
    "            counter.update(tokens)\n",
    "        \n",
    "        most_common = counter.most_common(self.max_size_vocab - len(self.token_to_id))\n",
    "        for idx, (word, _) in enumerate(most_common, start=len(self.token_to_id)):\n",
    "            self.token_to_id[word] = idx\n",
    "\n",
    "        for (token, id) in self.token_to_id.items():\n",
    "            self.id_to_token[id] = token\n",
    "\n",
    "        self.vocab = list(self.token_to_id.keys())\n",
    "    \n",
    "    def _encode_one(self, text: str, pad) -> List[int]:\n",
    "        tokens = self.tokenize(text)\n",
    "        ids = [self.token_to_id.get(token, self.token_to_id[self.UNKNOWN]) for token in tokens]\n",
    "        if len(ids) < self.max_len_seq:\n",
    "            if pad:\n",
    "                ids += [self.token_to_id[self.PAD]] * (self.max_len_seq - len(ids))\n",
    "        else:\n",
    "            ids = ids[:self.max_len_seq]\n",
    "        \n",
    "        return ids\n",
    "    \n",
    "    def encode(self, texts: Union[str, List[str]], pad=True) -> Union[List[int], List[List[int]]]:\n",
    "        if isinstance(texts, str):\n",
    "            return self._encode_one(texts, pad)\n",
    "        elif isinstance(texts, list) and all(isinstance(t, str) for t in texts):\n",
    "            return [self._encode_one(text, pad) for text in texts]\n",
    "        else:\n",
    "            raise TypeError(\"Input must be either a str or a List[str].\")\n",
    "    \n",
    "    def _decode_one(self, text_ids: List[int]) -> str:\n",
    "        return ' '.join([self.id_to_token.get(token_id, self.UNKNOWN) for token_id in text_ids])\n",
    "    \n",
    "    def decode(self, texts_ids: Union[List[int], List[List[int]]]) -> Union[str, List[str]]:\n",
    "        def is_list_of_ints(l):\n",
    "            return isinstance(l, list) and all(isinstance(x, int) for x in l)\n",
    "        \n",
    "        if is_list_of_ints(texts_ids):\n",
    "            return self._decode_one(texts_ids)\n",
    "        elif isinstance(texts_ids, list) and all(is_list_of_ints(x) for x in texts_ids):\n",
    "            return [self._decode_one(text_ids) for text_ids in texts_ids]\n",
    "        else:\n",
    "            raise ValueError(\"Input must be either a List[int] or a List[List[int]].\")"
   ]
  },
  {
   "cell_type": "code",
   "execution_count": 10,
   "id": "419e9c61",
   "metadata": {},
   "outputs": [],
   "source": [
    "tokenizer = SimpleTokenizer(max_size_vocab=VOCAB_SIZE, max_len_seq=MAX_LEN)\n",
    "tokenizer.adapt([s for s in text_ds])"
   ]
  },
  {
   "cell_type": "code",
   "execution_count": 11,
   "id": "bd51feaf",
   "metadata": {},
   "outputs": [
    {
     "data": {
      "text/plain": [
       "['<PAD>', '<UNK>', ':', ',', '.', 'and', 'the', 'wine', 'a', 'of']"
      ]
     },
     "execution_count": 11,
     "metadata": {},
     "output_type": "execute_result"
    }
   ],
   "source": [
    "tokenizer.vocab[:10]"
   ]
  },
  {
   "cell_type": "code",
   "execution_count": 12,
   "id": "22ffb120",
   "metadata": {},
   "outputs": [
    {
     "name": "stdout",
     "output_type": "stream",
     "text": [
      "0 : <PAD>\n",
      "1 : <UNK>\n",
      "2 : :\n",
      "3 : ,\n",
      "4 : .\n",
      "5 : and\n",
      "6 : the\n",
      "7 : wine\n",
      "8 : a\n",
      "9 : of\n"
     ]
    }
   ],
   "source": [
    "# Display some token:word mappings\n",
    "from itertools import islice\n",
    "for token, id in islice(tokenizer.token_to_id.items(), 10):\n",
    "    print(f\"{id} : {token}\")"
   ]
  },
  {
   "cell_type": "code",
   "execution_count": 13,
   "id": "8f707d08",
   "metadata": {},
   "outputs": [
    {
     "name": "stdout",
     "output_type": "stream",
     "text": [
      "[   7   10    2   20    2   29    2   43   62    2   55    5  243 4118\n",
      "  453  634   26    9  497  498  666   17   12  142   14 2210   43   25\n",
      " 2481   32    8  223   14 2211  948    4  594   17  987    3   15   75\n",
      "  237    3   64   14   82   97    5   74 2631   17  198   49    5  125\n",
      "   77    4    0    0    0    0    0    0    0    0    0    0    0    0\n",
      "    0    0    0    0    0    0    0    0    0    0]\n"
     ]
    }
   ],
   "source": [
    "# Display the same example converted to ints\n",
    "example_tokenised = tokenizer.encode(example)\n",
    "print(np.array(example_tokenised))"
   ]
  },
  {
   "cell_type": "markdown",
   "id": "8c195efb-84c6-4be0-a989-a7542188ad35",
   "metadata": {},
   "source": [
    "## 3. Create the Training Set <a name=\"create\"></a>"
   ]
  },
  {
   "cell_type": "code",
   "execution_count": 14,
   "id": "5eeb189c",
   "metadata": {},
   "outputs": [],
   "source": [
    "class WineReviewsDataset(Dataset):\n",
    "\n",
    "    def __init__(self, text_ds, tokenizer, transform=None, target_transform=None):\n",
    "        self.transform = transform\n",
    "        self.target_transform = target_transform\n",
    "        self.tokenizer = tokenizer\n",
    "        self.tokenizer.adapt([s for s in text_ds])\n",
    "        self.enc_ds = [self.tokenizer.encode(t) for t in text_ds]\n",
    "    \n",
    "    def __len__(self):\n",
    "        return len(self.enc_ds)\n",
    "    \n",
    "    def __getitem__(self, index):\n",
    "        x = self.enc_ds[index][:-1]\n",
    "        y = self.enc_ds[index][1:]\n",
    "        if self.transform:\n",
    "            x = self.transform(x)\n",
    "        if self.target_transform:\n",
    "            y = self.target_transform(y)\n",
    "        return x, y"
   ]
  },
  {
   "cell_type": "code",
   "execution_count": 15,
   "id": "c184462d",
   "metadata": {},
   "outputs": [],
   "source": [
    "class ToTensor:\n",
    "    def __call__(self, x):\n",
    "        return torch.tensor(x)"
   ]
  },
  {
   "cell_type": "code",
   "execution_count": 16,
   "id": "fcc7d375",
   "metadata": {},
   "outputs": [],
   "source": [
    "train_ds = WineReviewsDataset(text_ds, tokenizer, transform=ToTensor(), target_transform=ToTensor())\n",
    "\n",
    "train_ds, test_ds = torch.utils.data.random_split(train_ds, [0.9, 0.1])\n",
    "train_ds, valid_ds = torch.utils.data.random_split(train_ds, [(1 - VALIDATION_SPLIT), VALIDATION_SPLIT])"
   ]
  },
  {
   "cell_type": "code",
   "execution_count": 17,
   "id": "3e6c576d",
   "metadata": {},
   "outputs": [],
   "source": [
    "train_loader = DataLoader(train_ds, batch_size=BATCH_SIZE, shuffle=True, num_workers=NUM_WORKERS, pin_memory=True, pin_memory_device=str(DEVICE))\n",
    "valid_loader = DataLoader(valid_ds, batch_size=BATCH_SIZE, shuffle=False, num_workers=NUM_WORKERS, pin_memory=True, pin_memory_device=str(DEVICE))\n",
    "test_loader = DataLoader(test_ds, batch_size=BATCH_SIZE, shuffle=False, num_workers=NUM_WORKERS, pin_memory=True, pin_memory_device=str(DEVICE))"
   ]
  },
  {
   "cell_type": "code",
   "execution_count": 18,
   "id": "cad80ffb-4298-4249-86b4-9918d62534c5",
   "metadata": {},
   "outputs": [],
   "source": [
    "example_input_output = train_ds[0]"
   ]
  },
  {
   "cell_type": "code",
   "execution_count": 19,
   "id": "67ff7263-f62d-44c1-997b-1aa99a393521",
   "metadata": {},
   "outputs": [
    {
     "name": "stdout",
     "output_type": "stream",
     "text": [
      "[   7   10    2   85    2  208   85    2 1471  542 1704    2   74    5\n",
      "  194   26   39  634    5  726   46 1704    4   17    6  133    3 1040\n",
      "    3   12   13 1151  137    5  111 1699    4   78   59   16   39   71\n",
      " 1078    3   80    6   31  245    9   74    5  107   33  210  137   51\n",
      " 3427    4   35  121  672  296   12  113  852  122    8  860    7    4\n",
      "    0    0    0    0    0    0    0    0    0]\n"
     ]
    }
   ],
   "source": [
    "# Example Input\n",
    "print(np.array(example_input_output[0]))"
   ]
  },
  {
   "cell_type": "code",
   "execution_count": 20,
   "id": "ef2e2cad-414c-4e6d-a2ac-6b9598f9dd01",
   "metadata": {},
   "outputs": [
    {
     "name": "stdout",
     "output_type": "stream",
     "text": [
      "[  10    2   85    2  208   85    2 1471  542 1704    2   74    5  194\n",
      "   26   39  634    5  726   46 1704    4   17    6  133    3 1040    3\n",
      "   12   13 1151  137    5  111 1699    4   78   59   16   39   71 1078\n",
      "    3   80    6   31  245    9   74    5  107   33  210  137   51 3427\n",
      "    4   35  121  672  296   12  113  852  122    8  860    7    4    0\n",
      "    0    0    0    0    0    0    0    0    0]\n"
     ]
    }
   ],
   "source": [
    "# Example Output (shifted by one token)\n",
    "print(np.array(example_input_output[1]))"
   ]
  },
  {
   "cell_type": "markdown",
   "id": "aff50401-3abe-4c10-bba8-b35bc13ad7d5",
   "metadata": {
    "tags": []
   },
   "source": [
    "## 5. Create the causal attention mask function <a name=\"causal\"></a>"
   ]
  },
  {
   "cell_type": "code",
   "execution_count": 21,
   "id": "f523cb0a",
   "metadata": {},
   "outputs": [],
   "source": [
    "def attn_mask(len_q, len_k, device):\n",
    "    return torch.triu(torch.ones(len_q, len_k, device=device), diagonal=1).bool()"
   ]
  },
  {
   "cell_type": "markdown",
   "id": "3501dbad-0860-40ad-b7d6-47950e37858f",
   "metadata": {},
   "source": [
    "## 6. Create a Transformer Block layer <a name=\"transformer\"></a>"
   ]
  },
  {
   "cell_type": "code",
   "execution_count": 22,
   "id": "d5ab0a9e",
   "metadata": {},
   "outputs": [],
   "source": [
    "class TransformerDecoderBlock(nn.Module):\n",
    "    def __init__(self, n_heads, d_key, d_embed, d_ff, rate_dropout = 0.1):\n",
    "        super().__init__()\n",
    "\n",
    "        self.attn = nn.MultiheadAttention(embed_dim=d_embed, num_heads=n_heads, dropout=rate_dropout, kdim=d_key, batch_first=True)\n",
    "        self.ln1 = nn.LayerNorm(d_embed)\n",
    "        self.ff = nn.Sequential(\n",
    "            nn.Linear(d_embed, d_ff),\n",
    "            nn.ReLU(),\n",
    "            nn.Linear(d_ff, d_embed),\n",
    "        )\n",
    "        self.ln2 = nn.LayerNorm(d_embed)\n",
    "        self.dropout = nn.Dropout(rate_dropout)\n",
    "    \n",
    "    def forward(self, x):\n",
    "        len_seq = x.shape[1]\n",
    "        attn_out, attn_out_wts = self.attn(x, x, x, attn_mask=attn_mask(len_seq, len_seq, device=x.device), is_causal=True)\n",
    "        x = self.ln1(x + self.dropout(attn_out))\n",
    "        ff_out = self.ff(x)\n",
    "        x = self.ln2(x + self.dropout(ff_out))\n",
    "        return x, attn_out_wts"
   ]
  },
  {
   "cell_type": "markdown",
   "id": "076a6be0-9796-4974-9bcd-6ebbcfe7514e",
   "metadata": {
    "tags": []
   },
   "source": [
    "## 7. Positional Embedding <a name=\"embedder\"></a>"
   ]
  },
  {
   "cell_type": "code",
   "execution_count": 23,
   "id": "2167172a",
   "metadata": {},
   "outputs": [],
   "source": [
    "class PositionalEncoding(nn.Module):\n",
    "    def __init__(self, d_embed, max_len_seq=MAX_LEN):\n",
    "        super().__init__()\n",
    "        pe = torch.zeros(max_len_seq, d_embed)  # [max_len_seq, d_embed]\n",
    "        position = torch.arange(0, max_len_seq, dtype=torch.float).unsqueeze(1)  # [max_len_seq, 1]\n",
    "        div_term = torch.exp(torch.arange(0, d_embed, 2).float() * (-math.log(10000.0) / d_embed))  # [d_embed/2]\n",
    "\n",
    "        pe[:, 0::2] = torch.sin(position * div_term)  # even dims\n",
    "        pe[:, 1::2] = torch.cos(position * div_term)  # odd dims\n",
    "        pe = pe.unsqueeze(0)  # [1, max_len_seq, d_embed]\n",
    "        self.register_buffer('pe', pe)\n",
    "\n",
    "    def forward(self, x):\n",
    "        return x + self.pe[:, :x.size(1)]"
   ]
  },
  {
   "cell_type": "markdown",
   "id": "aac2e2d4-5980-47e3-b5b0-6c41c0c2d152",
   "metadata": {},
   "source": [
    "## 8. Build the Transformer model <a name=\"transformer_decoder\"></a>"
   ]
  },
  {
   "cell_type": "code",
   "execution_count": 24,
   "id": "e6edb00d",
   "metadata": {},
   "outputs": [],
   "source": [
    "class DecoderOnlyTransformer(nn.Module):\n",
    "    def __init__(self, size_vocab, d_embed, n_heads, n_blocks, d_ff, max_len_seq):\n",
    "        super().__init__()\n",
    "        self.n_blocks = n_blocks\n",
    "        self.embed = nn.Embedding(size_vocab, d_embed)\n",
    "        self.pos_enc = PositionalEncoding(d_embed=d_embed, max_len_seq=max_len_seq)\n",
    "        self.blocks = nn.ModuleList([\n",
    "            TransformerDecoderBlock(n_heads=n_heads, d_key=d_embed, d_embed=d_embed, d_ff=d_ff) \n",
    "            for _ in range(n_blocks)\n",
    "        ])\n",
    "        self.head = nn.Linear(d_embed, size_vocab)\n",
    "    \n",
    "    def forward(self, x):\n",
    "\n",
    "        # len_seq = x.size(1)\n",
    "        attn_out_wts = None\n",
    "\n",
    "        x = self.embed(x)\n",
    "        x = self.pos_enc(x)\n",
    "        for block in self.blocks:\n",
    "            x, attn_out_wts = block(x)\n",
    "        logits = self.head(x)\n",
    "        \n",
    "        return logits, attn_out_wts\n"
   ]
  },
  {
   "cell_type": "code",
   "execution_count": 25,
   "id": "18405608",
   "metadata": {},
   "outputs": [],
   "source": [
    "gpt = DecoderOnlyTransformer(\n",
    "    size_vocab=VOCAB_SIZE, \n",
    "    d_embed=EMBEDDING_DIM, \n",
    "    n_heads=N_HEADS, \n",
    "    n_blocks=N_BLOCKS, \n",
    "    d_ff=FEED_FORWARD_DIM, \n",
    "    max_len_seq=MAX_LEN\n",
    ")"
   ]
  },
  {
   "cell_type": "code",
   "execution_count": 26,
   "id": "800a3c6e-fb11-4792-b6bc-9a43a7c977ad",
   "metadata": {
    "tags": []
   },
   "outputs": [],
   "source": [
    "if LOAD_MODEL:\n",
    "    gpt.load_state_dict(torch.load('./models/gpt.pth'))\n",
    "    gpt.to(DEVICE)"
   ]
  },
  {
   "cell_type": "markdown",
   "id": "35b14665-4359-447b-be58-3fd58ba69084",
   "metadata": {},
   "source": [
    "## 9. Train the Transformer <a name=\"train\"></a>"
   ]
  },
  {
   "cell_type": "code",
   "execution_count": 27,
   "id": "3ddcff5f-829d-4449-99d2-9a3cb68f7d72",
   "metadata": {},
   "outputs": [],
   "source": [
    "# Create a TextGenerator\n",
    "class TextGenerator():\n",
    "    def __init__(self, model, tokenizer, max_tokens=MAX_LEN, top_k=10):\n",
    "        self.model = model\n",
    "        self.tokenizer = tokenizer\n",
    "        self.max_tokens = max_tokens\n",
    "        self.id_to_token = tokenizer.id_to_token\n",
    "        self.token_to_id = tokenizer.token_to_id\n",
    "\n",
    "    def sample_from(self, probs, temperature):\n",
    "        probs = probs ** (1 / temperature)\n",
    "        probs = probs / np.sum(probs)\n",
    "        return np.random.choice(len(probs), p=probs), probs\n",
    "\n",
    "    def generate(self, prompt, max_tokens, temperature, return_info=False):\n",
    "        generated_ids = self.tokenizer.encode(prompt, pad = False)\n",
    "        generated_text = prompt\n",
    "        sample_token = None\n",
    "        info = []\n",
    "        device = next(self.model.parameters()).device\n",
    "        while len(generated_ids) < max_tokens and sample_token != tokenizer.PAD:\n",
    "            logits, att = self.model(torch.tensor(generated_ids).unsqueeze(0).to(device))\n",
    "            probs = F.softmax(logits, dim=-1)\n",
    "            sample_token, probs = self.sample_from(probs[0][-1].detach().cpu().numpy(), temperature)\n",
    "            if return_info == True:\n",
    "                info.append(\n",
    "                    {\n",
    "                        \"prompt\": generated_text,\n",
    "                        \"word_probs\": probs,\n",
    "                        \"atts\": att[0, -1, :],\n",
    "                    }\n",
    "                )\n",
    "            generated_ids.append(sample_token)\n",
    "            generated_text = self.tokenizer.decode(generated_ids)\n",
    "        # print(f\"\\ngenerated text:\\n{generated_text}\\n\")\n",
    "        if return_info:\n",
    "            return generated_text, info\n",
    "        else:\n",
    "            return generated_text\n",
    "\n",
    "    def on_epoch_end(self, epoch, logs=None):\n",
    "        print(f'Generated text: \"{self.generate(\"wine review\", max_tokens=self.max_tokens, temperature=1.0)}\"\\n')"
   ]
  },
  {
   "cell_type": "code",
   "execution_count": 28,
   "id": "d61bbfe4",
   "metadata": {},
   "outputs": [],
   "source": [
    "text_generator = TextGenerator(model=gpt, tokenizer=tokenizer, max_tokens=MAX_LEN)"
   ]
  },
  {
   "cell_type": "code",
   "execution_count": 29,
   "id": "b547d563",
   "metadata": {},
   "outputs": [],
   "source": [
    "criterion = nn.CrossEntropyLoss()\n",
    "optimizer = torch.optim.Adam(gpt.parameters(), lr=0.001)"
   ]
  },
  {
   "cell_type": "code",
   "execution_count": 30,
   "id": "461c2b3e-b5ae-4def-8bd9-e7bab8c63d8e",
   "metadata": {
    "tags": []
   },
   "outputs": [
    {
     "name": "stdout",
     "output_type": "stream",
     "text": [
      "Epoch 1/5, Loss: 2.5905\n",
      "Generated text: \"wine review : us : washington : merlot : this falls too often <UNK> - vineyard , attractively takes nearly aromas of purple fruit flavors . taste floor , the a compact effort are balanced mix of barrel notes work with power and bark flavors . it drinks for chewy , it ' s all varietal and perfectly quaffable in burgenland . <PAD> <PAD> <PAD> <PAD> <PAD> <PAD> <PAD> <PAD> <PAD> <PAD> <PAD> <PAD> <PAD> <PAD> <PAD> <PAD> <PAD> <PAD>\"\n",
      "\n",
      "Epoch 2/5, Loss: 2.2150\n",
      "Generated text: \"wine review : chile : cachapoal valley : cabernet sauvignon : leathery , jumpy and lactic smelling , with sweet , spicy aromas . feels round , ripe and feels round , loose , like all brunello , while acids rises up thick , and rubbery aromas and feels smooth , with flavors of blackberry and coconut . finishes definitely could benefit from a torrontés . <PAD> <PAD> <PAD> <PAD> <PAD> <PAD> <PAD> <PAD> <PAD> <PAD> <PAD> <PAD> <PAD> <PAD>\"\n",
      "\n",
      "Epoch 3/5, Loss: 2.1095\n",
      "Generated text: \"wine review : australia : australia other : chardonnay : a short and minerally , this wine is tart , zesty citrus - oaking that also emerging . it deftly mixes keeping light , but showing great fruit and concentration . it ' s a good choice for oysters or midweek for everyday white wine . <PAD> <PAD> <PAD> <PAD> <PAD> <PAD> <PAD> <PAD> <PAD> <PAD> <PAD> <PAD> <PAD> <PAD> <PAD> <PAD> <PAD> <PAD> <PAD> <PAD> <PAD> <PAD> <PAD> <PAD>\"\n",
      "\n",
      "Epoch 4/5, Loss: 2.0524\n",
      "Generated text: \"wine review : italy : tuscany : red blend : beautiful and smooth , this montepulciano blend showcases its softness almost - <UNK> <UNK> delivers good cassis territory highlights and firm tannins . vines , old school loads of the palate offers black cherry , strawberry , dried tobacco , espresso and a long - mocha flavors . <PAD> <PAD> <PAD> <PAD> <PAD> <PAD> <PAD> <PAD> <PAD> <PAD> <PAD> <PAD> <PAD> <PAD> <PAD> <PAD> <PAD> <PAD> <PAD> <PAD> <PAD> <PAD>\"\n",
      "\n",
      "Epoch 5/5, Loss: 2.0132\n",
      "Generated text: \"wine review : us : california : sauvignon blanc : <UNK> is softly delicious and flavors of lemonade <UNK> beef requisite candy on this wine from mostly . <PAD> <PAD> <PAD> <PAD> <PAD> <PAD> <PAD> <PAD> <PAD> <PAD> <PAD> <PAD> <PAD> <PAD> <PAD> <PAD> <PAD> <PAD> <PAD> <PAD> <PAD> <PAD> <PAD> <PAD> <PAD> <PAD> <PAD> <PAD> <PAD> <PAD> <PAD> <PAD> <PAD> <PAD> <PAD> <PAD> <PAD> <PAD> <PAD> <PAD> <PAD> <PAD> <PAD> <PAD> <PAD> <PAD> <PAD> <PAD> <PAD> <PAD> <PAD> <PAD>\"\n",
      "\n"
     ]
    }
   ],
   "source": [
    "# Learning Loop\n",
    "\n",
    "if TRAIN_MODEL:\n",
    "    gpt.to(DEVICE)\n",
    "    gpt.train()\n",
    "    for epoch in range(EPOCHS):\n",
    "        total_loss = 0.0\n",
    "        for input_ids, target_ids in train_loader:\n",
    "            input_ids = input_ids.to(DEVICE)\n",
    "            target_ids = target_ids.to(DEVICE)\n",
    "\n",
    "            optimizer.zero_grad()\n",
    "\n",
    "            logits, _ = gpt(input_ids)          # logits: [Batch, Seq, Vocab]\n",
    "            \n",
    "            logits = logits.permute(0, 2, 1)    # logits: [Batch, Vocab, Seq] ==> For CrossEntropyLoss (refer to multidimensional cases)\n",
    "            loss = criterion(logits, target_ids)\n",
    "\n",
    "            loss.backward()\n",
    "            optimizer.step()\n",
    "\n",
    "            total_loss += loss.item()\n",
    "\n",
    "        print(f\"Epoch {epoch+1}/{EPOCHS}, Loss: {total_loss / len(train_loader):.4f}\")\n",
    "        text_generator.on_epoch_end(epoch)"
   ]
  },
  {
   "cell_type": "code",
   "execution_count": 31,
   "id": "369bde44-2e39-4bc6-8549-a3a27ecce55c",
   "metadata": {
    "tags": []
   },
   "outputs": [],
   "source": [
    "# Save the final model\n",
    "torch.save(gpt.state_dict(), './models/gpt.pth')"
   ]
  },
  {
   "cell_type": "markdown",
   "id": "d64e02d2-84dc-40c8-8446-40c09adf1e20",
   "metadata": {},
   "source": [
    "# 3. Generate text using the Transformer"
   ]
  },
  {
   "cell_type": "code",
   "execution_count": 32,
   "id": "4ad23adb-3ec9-4e9a-9a59-b9f9bafca649",
   "metadata": {},
   "outputs": [],
   "source": [
    "def print_probs(info, vocab, top_k=5):\n",
    "    for i in info:\n",
    "        highlighted_text = []\n",
    "        for word, att_score in zip(\n",
    "            # i[\"prompt\"].split(), np.mean(i[\"atts\"], axis=0)\n",
    "            i[\"prompt\"].split(), i[\"atts\"]\n",
    "        ):\n",
    "            highlighted_text.append(\n",
    "                '<span style=\"background-color:rgba(135,206,250,'\n",
    "                # + str(att_score / max(np.mean(i[\"atts\"], axis=0)))\n",
    "                + str(att_score / max(i[\"atts\"]))\n",
    "                + ');\">'\n",
    "                + word\n",
    "                + \"</span>\"\n",
    "            )\n",
    "        highlighted_text = \" \".join(highlighted_text)\n",
    "        display(HTML(highlighted_text))\n",
    "\n",
    "        word_probs = i[\"word_probs\"]\n",
    "        p_sorted = np.sort(word_probs)[::-1][:top_k]\n",
    "        i_sorted = np.argsort(word_probs)[::-1][:top_k]\n",
    "        for p, i in zip(p_sorted, i_sorted):\n",
    "            print(f\"{vocab[i]}:   \\t{np.round(100*p,2)}%\")\n",
    "        print(\"--------\\n\")"
   ]
  },
  {
   "cell_type": "code",
   "execution_count": 33,
   "id": "3cf25578-d47c-4b26-8252-fcdf2316a4ac",
   "metadata": {},
   "outputs": [],
   "source": [
    "gen_text, info = text_generator.generate(\"wine review : us\", max_tokens=80, temperature=1.0, return_info=True)"
   ]
  },
  {
   "cell_type": "code",
   "execution_count": 34,
   "id": "4ae2da8e-9b7c-4b71-b37b-021115b3d7ea",
   "metadata": {},
   "outputs": [],
   "source": [
    "gen_text, info = text_generator.generate(\"wine review : italy\", max_tokens=80, temperature=0.5, return_info=True)"
   ]
  },
  {
   "cell_type": "code",
   "execution_count": 35,
   "id": "5cae6d5d-263d-4455-b96c-f315cbe284ee",
   "metadata": {},
   "outputs": [
    {
     "data": {
      "text/html": [
       "<span style=\"background-color:rgba(135,206,250,tensor(0.6110, device='cuda:0', grad_fn=<DivBackward0>));\">wine</span> <span style=\"background-color:rgba(135,206,250,tensor(1., device='cuda:0', grad_fn=<DivBackward0>));\">review</span> <span style=\"background-color:rgba(135,206,250,tensor(0.0056, device='cuda:0', grad_fn=<DivBackward0>));\">:</span> <span style=\"background-color:rgba(135,206,250,tensor(0.3728, device='cuda:0', grad_fn=<DivBackward0>));\">germany</span>"
      ],
      "text/plain": [
       "<IPython.core.display.HTML object>"
      ]
     },
     "metadata": {},
     "output_type": "display_data"
    },
    {
     "name": "stdout",
     "output_type": "stream",
     "text": [
      "::   \t100.0%\n",
      "zealand:   \t0.0%\n",
      "-:   \t0.0%\n",
      "in:   \t0.0%\n",
      "<UNK>:   \t0.0%\n",
      "--------\n",
      "\n"
     ]
    },
    {
     "data": {
      "text/html": [
       "<span style=\"background-color:rgba(135,206,250,tensor(0.1211, device='cuda:0', grad_fn=<DivBackward0>));\">wine</span> <span style=\"background-color:rgba(135,206,250,tensor(0.1869, device='cuda:0', grad_fn=<DivBackward0>));\">review</span> <span style=\"background-color:rgba(135,206,250,tensor(0.0771, device='cuda:0', grad_fn=<DivBackward0>));\">:</span> <span style=\"background-color:rgba(135,206,250,tensor(1., device='cuda:0', grad_fn=<DivBackward0>));\">germany</span> <span style=\"background-color:rgba(135,206,250,tensor(0.1593, device='cuda:0', grad_fn=<DivBackward0>));\">:</span>"
      ],
      "text/plain": [
       "<IPython.core.display.HTML object>"
      ]
     },
     "metadata": {},
     "output_type": "display_data"
    },
    {
     "name": "stdout",
     "output_type": "stream",
     "text": [
      "mosel:   \t96.91%\n",
      "rheinhessen:   \t1.74%\n",
      "rheingau:   \t0.92%\n",
      "nahe:   \t0.26%\n",
      "pfalz:   \t0.08%\n",
      "--------\n",
      "\n"
     ]
    },
    {
     "data": {
      "text/html": [
       "<span style=\"background-color:rgba(135,206,250,tensor(1., device='cuda:0', grad_fn=<DivBackward0>));\">wine</span> <span style=\"background-color:rgba(135,206,250,tensor(0.8993, device='cuda:0', grad_fn=<DivBackward0>));\">review</span> <span style=\"background-color:rgba(135,206,250,tensor(0.1328, device='cuda:0', grad_fn=<DivBackward0>));\">:</span> <span style=\"background-color:rgba(135,206,250,tensor(0.2884, device='cuda:0', grad_fn=<DivBackward0>));\">germany</span> <span style=\"background-color:rgba(135,206,250,tensor(0.1727, device='cuda:0', grad_fn=<DivBackward0>));\">:</span> <span style=\"background-color:rgba(135,206,250,tensor(0.1679, device='cuda:0', grad_fn=<DivBackward0>));\">mosel</span>"
      ],
      "text/plain": [
       "<IPython.core.display.HTML object>"
      ]
     },
     "metadata": {},
     "output_type": "display_data"
    },
    {
     "name": "stdout",
     "output_type": "stream",
     "text": [
      "::   \t99.87%\n",
      "-:   \t0.13%\n",
      "<UNK>:   \t0.0%\n",
      "grosso:   \t0.0%\n",
      "blend:   \t0.0%\n",
      "--------\n",
      "\n"
     ]
    },
    {
     "data": {
      "text/html": [
       "<span style=\"background-color:rgba(135,206,250,tensor(0.2690, device='cuda:0', grad_fn=<DivBackward0>));\">wine</span> <span style=\"background-color:rgba(135,206,250,tensor(0.1830, device='cuda:0', grad_fn=<DivBackward0>));\">review</span> <span style=\"background-color:rgba(135,206,250,tensor(0.0669, device='cuda:0', grad_fn=<DivBackward0>));\">:</span> <span style=\"background-color:rgba(135,206,250,tensor(0.4356, device='cuda:0', grad_fn=<DivBackward0>));\">germany</span> <span style=\"background-color:rgba(135,206,250,tensor(0.0394, device='cuda:0', grad_fn=<DivBackward0>));\">:</span> <span style=\"background-color:rgba(135,206,250,tensor(1., device='cuda:0', grad_fn=<DivBackward0>));\">mosel</span> <span style=\"background-color:rgba(135,206,250,tensor(0.1578, device='cuda:0', grad_fn=<DivBackward0>));\">:</span>"
      ],
      "text/plain": [
       "<IPython.core.display.HTML object>"
      ]
     },
     "metadata": {},
     "output_type": "display_data"
    },
    {
     "name": "stdout",
     "output_type": "stream",
     "text": [
      "riesling:   \t99.99%\n",
      "pinot:   \t0.0%\n",
      "gewürztraminer:   \t0.0%\n",
      "chardonnay:   \t0.0%\n",
      "rosé:   \t0.0%\n",
      "--------\n",
      "\n"
     ]
    },
    {
     "data": {
      "text/html": [
       "<span style=\"background-color:rgba(135,206,250,tensor(0.6394, device='cuda:0', grad_fn=<DivBackward0>));\">wine</span> <span style=\"background-color:rgba(135,206,250,tensor(1., device='cuda:0', grad_fn=<DivBackward0>));\">review</span> <span style=\"background-color:rgba(135,206,250,tensor(0.1699, device='cuda:0', grad_fn=<DivBackward0>));\">:</span> <span style=\"background-color:rgba(135,206,250,tensor(0.0582, device='cuda:0', grad_fn=<DivBackward0>));\">germany</span> <span style=\"background-color:rgba(135,206,250,tensor(0.1552, device='cuda:0', grad_fn=<DivBackward0>));\">:</span> <span style=\"background-color:rgba(135,206,250,tensor(0.0884, device='cuda:0', grad_fn=<DivBackward0>));\">mosel</span> <span style=\"background-color:rgba(135,206,250,tensor(0.2121, device='cuda:0', grad_fn=<DivBackward0>));\">:</span> <span style=\"background-color:rgba(135,206,250,tensor(0.0269, device='cuda:0', grad_fn=<DivBackward0>));\">riesling</span>"
      ],
      "text/plain": [
       "<IPython.core.display.HTML object>"
      ]
     },
     "metadata": {},
     "output_type": "display_data"
    },
    {
     "name": "stdout",
     "output_type": "stream",
     "text": [
      "::   \t100.0%\n",
      "grosso:   \t0.0%\n",
      "-:   \t0.0%\n",
      "is:   \t0.0%\n",
      "giallo:   \t0.0%\n",
      "--------\n",
      "\n"
     ]
    },
    {
     "data": {
      "text/html": [
       "<span style=\"background-color:rgba(135,206,250,tensor(0.4211, device='cuda:0', grad_fn=<DivBackward0>));\">wine</span> <span style=\"background-color:rgba(135,206,250,tensor(0.2459, device='cuda:0', grad_fn=<DivBackward0>));\">review</span> <span style=\"background-color:rgba(135,206,250,tensor(0.2814, device='cuda:0', grad_fn=<DivBackward0>));\">:</span> <span style=\"background-color:rgba(135,206,250,tensor(0.7752, device='cuda:0', grad_fn=<DivBackward0>));\">germany</span> <span style=\"background-color:rgba(135,206,250,tensor(0.4432, device='cuda:0', grad_fn=<DivBackward0>));\">:</span> <span style=\"background-color:rgba(135,206,250,tensor(1., device='cuda:0', grad_fn=<DivBackward0>));\">mosel</span> <span style=\"background-color:rgba(135,206,250,tensor(0., device='cuda:0', grad_fn=<DivBackward0>));\">:</span> <span style=\"background-color:rgba(135,206,250,tensor(0.5957, device='cuda:0', grad_fn=<DivBackward0>));\">riesling</span> <span style=\"background-color:rgba(135,206,250,tensor(0.4489, device='cuda:0', grad_fn=<DivBackward0>));\">:</span>"
      ],
      "text/plain": [
       "<IPython.core.display.HTML object>"
      ]
     },
     "metadata": {},
     "output_type": "display_data"
    },
    {
     "name": "stdout",
     "output_type": "stream",
     "text": [
      "a:   \t33.59%\n",
      "while:   \t12.79%\n",
      "this:   \t10.85%\n",
      "hints:   \t6.41%\n",
      "ripe:   \t3.05%\n",
      "--------\n",
      "\n"
     ]
    },
    {
     "data": {
      "text/html": [
       "<span style=\"background-color:rgba(135,206,250,tensor(1., device='cuda:0', grad_fn=<DivBackward0>));\">wine</span> <span style=\"background-color:rgba(135,206,250,tensor(0.2015, device='cuda:0', grad_fn=<DivBackward0>));\">review</span> <span style=\"background-color:rgba(135,206,250,tensor(0.2308, device='cuda:0', grad_fn=<DivBackward0>));\">:</span> <span style=\"background-color:rgba(135,206,250,tensor(0.7317, device='cuda:0', grad_fn=<DivBackward0>));\">germany</span> <span style=\"background-color:rgba(135,206,250,tensor(0.2963, device='cuda:0', grad_fn=<DivBackward0>));\">:</span> <span style=\"background-color:rgba(135,206,250,tensor(0.7091, device='cuda:0', grad_fn=<DivBackward0>));\">mosel</span> <span style=\"background-color:rgba(135,206,250,tensor(0.3018, device='cuda:0', grad_fn=<DivBackward0>));\">:</span> <span style=\"background-color:rgba(135,206,250,tensor(0.6772, device='cuda:0', grad_fn=<DivBackward0>));\">riesling</span> <span style=\"background-color:rgba(135,206,250,tensor(0.3545, device='cuda:0', grad_fn=<DivBackward0>));\">:</span> <span style=\"background-color:rgba(135,206,250,tensor(0.0981, device='cuda:0', grad_fn=<DivBackward0>));\">pristine</span>"
      ],
      "text/plain": [
       "<IPython.core.display.HTML object>"
      ]
     },
     "metadata": {},
     "output_type": "display_data"
    },
    {
     "name": "stdout",
     "output_type": "stream",
     "text": [
      "aromas:   \t66.52%\n",
      "peach:   \t12.03%\n",
      "white:   \t4.31%\n",
      ",:   \t3.24%\n",
      "yellow:   \t2.58%\n",
      "--------\n",
      "\n"
     ]
    },
    {
     "data": {
      "text/html": [
       "<span style=\"background-color:rgba(135,206,250,tensor(1., device='cuda:0', grad_fn=<DivBackward0>));\">wine</span> <span style=\"background-color:rgba(135,206,250,tensor(0.6001, device='cuda:0', grad_fn=<DivBackward0>));\">review</span> <span style=\"background-color:rgba(135,206,250,tensor(0.5058, device='cuda:0', grad_fn=<DivBackward0>));\">:</span> <span style=\"background-color:rgba(135,206,250,tensor(0.8628, device='cuda:0', grad_fn=<DivBackward0>));\">germany</span> <span style=\"background-color:rgba(135,206,250,tensor(0.1422, device='cuda:0', grad_fn=<DivBackward0>));\">:</span> <span style=\"background-color:rgba(135,206,250,tensor(0.2559, device='cuda:0', grad_fn=<DivBackward0>));\">mosel</span> <span style=\"background-color:rgba(135,206,250,tensor(0.3388, device='cuda:0', grad_fn=<DivBackward0>));\">:</span> <span style=\"background-color:rgba(135,206,250,tensor(0.2165, device='cuda:0', grad_fn=<DivBackward0>));\">riesling</span> <span style=\"background-color:rgba(135,206,250,tensor(0.5037, device='cuda:0', grad_fn=<DivBackward0>));\">:</span> <span style=\"background-color:rgba(135,206,250,tensor(0.3130, device='cuda:0', grad_fn=<DivBackward0>));\">pristine</span> <span style=\"background-color:rgba(135,206,250,tensor(0.1850, device='cuda:0', grad_fn=<DivBackward0>));\">aromas</span>"
      ],
      "text/plain": [
       "<IPython.core.display.HTML object>"
      ]
     },
     "metadata": {},
     "output_type": "display_data"
    },
    {
     "name": "stdout",
     "output_type": "stream",
     "text": [
      "of:   \t99.87%\n",
      "and:   \t0.05%\n",
      "are:   \t0.02%\n",
      "include:   \t0.01%\n",
      "hint:   \t0.01%\n",
      "--------\n",
      "\n"
     ]
    },
    {
     "data": {
      "text/html": [
       "<span style=\"background-color:rgba(135,206,250,tensor(0.4674, device='cuda:0', grad_fn=<DivBackward0>));\">wine</span> <span style=\"background-color:rgba(135,206,250,tensor(0.2452, device='cuda:0', grad_fn=<DivBackward0>));\">review</span> <span style=\"background-color:rgba(135,206,250,tensor(0.1079, device='cuda:0', grad_fn=<DivBackward0>));\">:</span> <span style=\"background-color:rgba(135,206,250,tensor(0.9605, device='cuda:0', grad_fn=<DivBackward0>));\">germany</span> <span style=\"background-color:rgba(135,206,250,tensor(0.2525, device='cuda:0', grad_fn=<DivBackward0>));\">:</span> <span style=\"background-color:rgba(135,206,250,tensor(0.9619, device='cuda:0', grad_fn=<DivBackward0>));\">mosel</span> <span style=\"background-color:rgba(135,206,250,tensor(0.2246, device='cuda:0', grad_fn=<DivBackward0>));\">:</span> <span style=\"background-color:rgba(135,206,250,tensor(0.8421, device='cuda:0', grad_fn=<DivBackward0>));\">riesling</span> <span style=\"background-color:rgba(135,206,250,tensor(0.2394, device='cuda:0', grad_fn=<DivBackward0>));\">:</span> <span style=\"background-color:rgba(135,206,250,tensor(0.1352, device='cuda:0', grad_fn=<DivBackward0>));\">pristine</span> <span style=\"background-color:rgba(135,206,250,tensor(1., device='cuda:0', grad_fn=<DivBackward0>));\">aromas</span> <span style=\"background-color:rgba(135,206,250,tensor(0.2295, device='cuda:0', grad_fn=<DivBackward0>));\">of</span>"
      ],
      "text/plain": [
       "<IPython.core.display.HTML object>"
      ]
     },
     "metadata": {},
     "output_type": "display_data"
    },
    {
     "name": "stdout",
     "output_type": "stream",
     "text": [
      "pressed:   \t19.92%\n",
      "sweet:   \t12.73%\n",
      "ripe:   \t12.12%\n",
      "freshly:   \t9.53%\n",
      "crushed:   \t8.86%\n",
      "--------\n",
      "\n"
     ]
    },
    {
     "data": {
      "text/html": [
       "<span style=\"background-color:rgba(135,206,250,tensor(0.9852, device='cuda:0', grad_fn=<DivBackward0>));\">wine</span> <span style=\"background-color:rgba(135,206,250,tensor(0.9975, device='cuda:0', grad_fn=<DivBackward0>));\">review</span> <span style=\"background-color:rgba(135,206,250,tensor(0.7493, device='cuda:0', grad_fn=<DivBackward0>));\">:</span> <span style=\"background-color:rgba(135,206,250,tensor(0.5694, device='cuda:0', grad_fn=<DivBackward0>));\">germany</span> <span style=\"background-color:rgba(135,206,250,tensor(0.5635, device='cuda:0', grad_fn=<DivBackward0>));\">:</span> <span style=\"background-color:rgba(135,206,250,tensor(1., device='cuda:0', grad_fn=<DivBackward0>));\">mosel</span> <span style=\"background-color:rgba(135,206,250,tensor(0.4496, device='cuda:0', grad_fn=<DivBackward0>));\">:</span> <span style=\"background-color:rgba(135,206,250,tensor(0.0809, device='cuda:0', grad_fn=<DivBackward0>));\">riesling</span> <span style=\"background-color:rgba(135,206,250,tensor(0.4242, device='cuda:0', grad_fn=<DivBackward0>));\">:</span> <span style=\"background-color:rgba(135,206,250,tensor(0.2756, device='cuda:0', grad_fn=<DivBackward0>));\">pristine</span> <span style=\"background-color:rgba(135,206,250,tensor(0.9360, device='cuda:0', grad_fn=<DivBackward0>));\">aromas</span> <span style=\"background-color:rgba(135,206,250,tensor(0.1794, device='cuda:0', grad_fn=<DivBackward0>));\">of</span> <span style=\"background-color:rgba(135,206,250,tensor(0.2800, device='cuda:0', grad_fn=<DivBackward0>));\">freshly</span>"
      ],
      "text/plain": [
       "<IPython.core.display.HTML object>"
      ]
     },
     "metadata": {},
     "output_type": "display_data"
    },
    {
     "name": "stdout",
     "output_type": "stream",
     "text": [
      "cut:   \t51.33%\n",
      "pressed:   \t35.32%\n",
      "crushed:   \t12.79%\n",
      "picked:   \t0.19%\n",
      "baked:   \t0.13%\n",
      "--------\n",
      "\n"
     ]
    },
    {
     "data": {
      "text/html": [
       "<span style=\"background-color:rgba(135,206,250,tensor(0.5548, device='cuda:0', grad_fn=<DivBackward0>));\">wine</span> <span style=\"background-color:rgba(135,206,250,tensor(0.2289, device='cuda:0', grad_fn=<DivBackward0>));\">review</span> <span style=\"background-color:rgba(135,206,250,tensor(0.1839, device='cuda:0', grad_fn=<DivBackward0>));\">:</span> <span style=\"background-color:rgba(135,206,250,tensor(0.8495, device='cuda:0', grad_fn=<DivBackward0>));\">germany</span> <span style=\"background-color:rgba(135,206,250,tensor(0.2220, device='cuda:0', grad_fn=<DivBackward0>));\">:</span> <span style=\"background-color:rgba(135,206,250,tensor(0.6573, device='cuda:0', grad_fn=<DivBackward0>));\">mosel</span> <span style=\"background-color:rgba(135,206,250,tensor(0.2214, device='cuda:0', grad_fn=<DivBackward0>));\">:</span> <span style=\"background-color:rgba(135,206,250,tensor(0.9491, device='cuda:0', grad_fn=<DivBackward0>));\">riesling</span> <span style=\"background-color:rgba(135,206,250,tensor(0.2114, device='cuda:0', grad_fn=<DivBackward0>));\">:</span> <span style=\"background-color:rgba(135,206,250,tensor(0.2224, device='cuda:0', grad_fn=<DivBackward0>));\">pristine</span> <span style=\"background-color:rgba(135,206,250,tensor(1., device='cuda:0', grad_fn=<DivBackward0>));\">aromas</span> <span style=\"background-color:rgba(135,206,250,tensor(0.4911, device='cuda:0', grad_fn=<DivBackward0>));\">of</span> <span style=\"background-color:rgba(135,206,250,tensor(0.9137, device='cuda:0', grad_fn=<DivBackward0>));\">freshly</span> <span style=\"background-color:rgba(135,206,250,tensor(0.2479, device='cuda:0', grad_fn=<DivBackward0>));\">pressed</span>"
      ],
      "text/plain": [
       "<IPython.core.display.HTML object>"
      ]
     },
     "metadata": {},
     "output_type": "display_data"
    },
    {
     "name": "stdout",
     "output_type": "stream",
     "text": [
      "apples:   \t52.15%\n",
      "apple:   \t37.41%\n",
      "yellow:   \t8.72%\n",
      "peach:   \t0.39%\n",
      "white:   \t0.31%\n",
      "--------\n",
      "\n"
     ]
    },
    {
     "data": {
      "text/html": [
       "<span style=\"background-color:rgba(135,206,250,tensor(0.2458, device='cuda:0', grad_fn=<DivBackward0>));\">wine</span> <span style=\"background-color:rgba(135,206,250,tensor(0.1401, device='cuda:0', grad_fn=<DivBackward0>));\">review</span> <span style=\"background-color:rgba(135,206,250,tensor(0.0840, device='cuda:0', grad_fn=<DivBackward0>));\">:</span> <span style=\"background-color:rgba(135,206,250,tensor(0.4589, device='cuda:0', grad_fn=<DivBackward0>));\">germany</span> <span style=\"background-color:rgba(135,206,250,tensor(0.1207, device='cuda:0', grad_fn=<DivBackward0>));\">:</span> <span style=\"background-color:rgba(135,206,250,tensor(0.3197, device='cuda:0', grad_fn=<DivBackward0>));\">mosel</span> <span style=\"background-color:rgba(135,206,250,tensor(0.0157, device='cuda:0', grad_fn=<DivBackward0>));\">:</span> <span style=\"background-color:rgba(135,206,250,tensor(0.1348, device='cuda:0', grad_fn=<DivBackward0>));\">riesling</span> <span style=\"background-color:rgba(135,206,250,tensor(0.0651, device='cuda:0', grad_fn=<DivBackward0>));\">:</span> <span style=\"background-color:rgba(135,206,250,tensor(0.0046, device='cuda:0', grad_fn=<DivBackward0>));\">pristine</span> <span style=\"background-color:rgba(135,206,250,tensor(0.1483, device='cuda:0', grad_fn=<DivBackward0>));\">aromas</span> <span style=\"background-color:rgba(135,206,250,tensor(0.0789, device='cuda:0', grad_fn=<DivBackward0>));\">of</span> <span style=\"background-color:rgba(135,206,250,tensor(0.1003, device='cuda:0', grad_fn=<DivBackward0>));\">freshly</span> <span style=\"background-color:rgba(135,206,250,tensor(1., device='cuda:0', grad_fn=<DivBackward0>));\">pressed</span> <span style=\"background-color:rgba(135,206,250,tensor(0.0439, device='cuda:0', grad_fn=<DivBackward0>));\">yellow</span>"
      ],
      "text/plain": [
       "<IPython.core.display.HTML object>"
      ]
     },
     "metadata": {},
     "output_type": "display_data"
    },
    {
     "name": "stdout",
     "output_type": "stream",
     "text": [
      "flowers:   \t49.83%\n",
      "flower:   \t35.98%\n",
      "peach:   \t5.82%\n",
      "apples:   \t3.18%\n",
      "apple:   \t1.85%\n",
      "--------\n",
      "\n"
     ]
    },
    {
     "data": {
      "text/html": [
       "<span style=\"background-color:rgba(135,206,250,tensor(0.1962, device='cuda:0', grad_fn=<DivBackward0>));\">wine</span> <span style=\"background-color:rgba(135,206,250,tensor(0.2240, device='cuda:0', grad_fn=<DivBackward0>));\">review</span> <span style=\"background-color:rgba(135,206,250,tensor(0.1151, device='cuda:0', grad_fn=<DivBackward0>));\">:</span> <span style=\"background-color:rgba(135,206,250,tensor(1., device='cuda:0', grad_fn=<DivBackward0>));\">germany</span> <span style=\"background-color:rgba(135,206,250,tensor(0.1673, device='cuda:0', grad_fn=<DivBackward0>));\">:</span> <span style=\"background-color:rgba(135,206,250,tensor(0.1599, device='cuda:0', grad_fn=<DivBackward0>));\">mosel</span> <span style=\"background-color:rgba(135,206,250,tensor(0.1133, device='cuda:0', grad_fn=<DivBackward0>));\">:</span> <span style=\"background-color:rgba(135,206,250,tensor(0.2298, device='cuda:0', grad_fn=<DivBackward0>));\">riesling</span> <span style=\"background-color:rgba(135,206,250,tensor(0.0732, device='cuda:0', grad_fn=<DivBackward0>));\">:</span> <span style=\"background-color:rgba(135,206,250,tensor(0.0993, device='cuda:0', grad_fn=<DivBackward0>));\">pristine</span> <span style=\"background-color:rgba(135,206,250,tensor(0.3911, device='cuda:0', grad_fn=<DivBackward0>));\">aromas</span> <span style=\"background-color:rgba(135,206,250,tensor(0.3911, device='cuda:0', grad_fn=<DivBackward0>));\">of</span> <span style=\"background-color:rgba(135,206,250,tensor(0.2184, device='cuda:0', grad_fn=<DivBackward0>));\">freshly</span> <span style=\"background-color:rgba(135,206,250,tensor(0.0989, device='cuda:0', grad_fn=<DivBackward0>));\">pressed</span> <span style=\"background-color:rgba(135,206,250,tensor(0.0977, device='cuda:0', grad_fn=<DivBackward0>));\">yellow</span> <span style=\"background-color:rgba(135,206,250,tensor(0.2099, device='cuda:0', grad_fn=<DivBackward0>));\">flowers</span>"
      ],
      "text/plain": [
       "<IPython.core.display.HTML object>"
      ]
     },
     "metadata": {},
     "output_type": "display_data"
    },
    {
     "name": "stdout",
     "output_type": "stream",
     "text": [
      "and:   \t79.72%\n",
      ",:   \t20.21%\n",
      "with:   \t0.02%\n",
      "from:   \t0.02%\n",
      "on:   \t0.01%\n",
      "--------\n",
      "\n"
     ]
    },
    {
     "data": {
      "text/html": [
       "<span style=\"background-color:rgba(135,206,250,tensor(0.1693, device='cuda:0', grad_fn=<DivBackward0>));\">wine</span> <span style=\"background-color:rgba(135,206,250,tensor(0.0887, device='cuda:0', grad_fn=<DivBackward0>));\">review</span> <span style=\"background-color:rgba(135,206,250,tensor(0.0407, device='cuda:0', grad_fn=<DivBackward0>));\">:</span> <span style=\"background-color:rgba(135,206,250,tensor(0.6568, device='cuda:0', grad_fn=<DivBackward0>));\">germany</span> <span style=\"background-color:rgba(135,206,250,tensor(0.0674, device='cuda:0', grad_fn=<DivBackward0>));\">:</span> <span style=\"background-color:rgba(135,206,250,tensor(0.3528, device='cuda:0', grad_fn=<DivBackward0>));\">mosel</span> <span style=\"background-color:rgba(135,206,250,tensor(0.0576, device='cuda:0', grad_fn=<DivBackward0>));\">:</span> <span style=\"background-color:rgba(135,206,250,tensor(0.0483, device='cuda:0', grad_fn=<DivBackward0>));\">riesling</span> <span style=\"background-color:rgba(135,206,250,tensor(0.0368, device='cuda:0', grad_fn=<DivBackward0>));\">:</span> <span style=\"background-color:rgba(135,206,250,tensor(0.1625, device='cuda:0', grad_fn=<DivBackward0>));\">pristine</span> <span style=\"background-color:rgba(135,206,250,tensor(0.3190, device='cuda:0', grad_fn=<DivBackward0>));\">aromas</span> <span style=\"background-color:rgba(135,206,250,tensor(0.1481, device='cuda:0', grad_fn=<DivBackward0>));\">of</span> <span style=\"background-color:rgba(135,206,250,tensor(0.0290, device='cuda:0', grad_fn=<DivBackward0>));\">freshly</span> <span style=\"background-color:rgba(135,206,250,tensor(0.2883, device='cuda:0', grad_fn=<DivBackward0>));\">pressed</span> <span style=\"background-color:rgba(135,206,250,tensor(0.4530, device='cuda:0', grad_fn=<DivBackward0>));\">yellow</span> <span style=\"background-color:rgba(135,206,250,tensor(1., device='cuda:0', grad_fn=<DivBackward0>));\">flowers</span> <span style=\"background-color:rgba(135,206,250,tensor(0.2235, device='cuda:0', grad_fn=<DivBackward0>));\">and</span>"
      ],
      "text/plain": [
       "<IPython.core.display.HTML object>"
      ]
     },
     "metadata": {},
     "output_type": "display_data"
    },
    {
     "name": "stdout",
     "output_type": "stream",
     "text": [
      "white:   \t15.79%\n",
      "peach:   \t13.02%\n",
      "apple:   \t7.12%\n",
      "citrus:   \t7.07%\n",
      "freesia:   \t5.84%\n",
      "--------\n",
      "\n"
     ]
    },
    {
     "data": {
      "text/html": [
       "<span style=\"background-color:rgba(135,206,250,tensor(0.2684, device='cuda:0', grad_fn=<DivBackward0>));\">wine</span> <span style=\"background-color:rgba(135,206,250,tensor(0.5972, device='cuda:0', grad_fn=<DivBackward0>));\">review</span> <span style=\"background-color:rgba(135,206,250,tensor(0.1648, device='cuda:0', grad_fn=<DivBackward0>));\">:</span> <span style=\"background-color:rgba(135,206,250,tensor(1., device='cuda:0', grad_fn=<DivBackward0>));\">germany</span> <span style=\"background-color:rgba(135,206,250,tensor(0.1571, device='cuda:0', grad_fn=<DivBackward0>));\">:</span> <span style=\"background-color:rgba(135,206,250,tensor(0.1528, device='cuda:0', grad_fn=<DivBackward0>));\">mosel</span> <span style=\"background-color:rgba(135,206,250,tensor(0.0383, device='cuda:0', grad_fn=<DivBackward0>));\">:</span> <span style=\"background-color:rgba(135,206,250,tensor(0.5341, device='cuda:0', grad_fn=<DivBackward0>));\">riesling</span> <span style=\"background-color:rgba(135,206,250,tensor(0.0845, device='cuda:0', grad_fn=<DivBackward0>));\">:</span> <span style=\"background-color:rgba(135,206,250,tensor(0.1570, device='cuda:0', grad_fn=<DivBackward0>));\">pristine</span> <span style=\"background-color:rgba(135,206,250,tensor(0.2414, device='cuda:0', grad_fn=<DivBackward0>));\">aromas</span> <span style=\"background-color:rgba(135,206,250,tensor(0.2607, device='cuda:0', grad_fn=<DivBackward0>));\">of</span> <span style=\"background-color:rgba(135,206,250,tensor(0.0506, device='cuda:0', grad_fn=<DivBackward0>));\">freshly</span> <span style=\"background-color:rgba(135,206,250,tensor(0.0645, device='cuda:0', grad_fn=<DivBackward0>));\">pressed</span> <span style=\"background-color:rgba(135,206,250,tensor(0.3072, device='cuda:0', grad_fn=<DivBackward0>));\">yellow</span> <span style=\"background-color:rgba(135,206,250,tensor(0.8444, device='cuda:0', grad_fn=<DivBackward0>));\">flowers</span> <span style=\"background-color:rgba(135,206,250,tensor(0.7218, device='cuda:0', grad_fn=<DivBackward0>));\">and</span> <span style=\"background-color:rgba(135,206,250,tensor(0., device='cuda:0', grad_fn=<DivBackward0>));\">white</span>"
      ],
      "text/plain": [
       "<IPython.core.display.HTML object>"
      ]
     },
     "metadata": {},
     "output_type": "display_data"
    },
    {
     "name": "stdout",
     "output_type": "stream",
     "text": [
      "peach:   \t83.44%\n",
      "stone:   \t11.94%\n",
      "flowers:   \t1.99%\n",
      "flower:   \t1.31%\n",
      "-:   \t0.66%\n",
      "--------\n",
      "\n"
     ]
    },
    {
     "data": {
      "text/html": [
       "<span style=\"background-color:rgba(135,206,250,tensor(0.2832, device='cuda:0', grad_fn=<DivBackward0>));\">wine</span> <span style=\"background-color:rgba(135,206,250,tensor(0.1959, device='cuda:0', grad_fn=<DivBackward0>));\">review</span> <span style=\"background-color:rgba(135,206,250,tensor(0.1296, device='cuda:0', grad_fn=<DivBackward0>));\">:</span> <span style=\"background-color:rgba(135,206,250,tensor(1., device='cuda:0', grad_fn=<DivBackward0>));\">germany</span> <span style=\"background-color:rgba(135,206,250,tensor(0.1521, device='cuda:0', grad_fn=<DivBackward0>));\">:</span> <span style=\"background-color:rgba(135,206,250,tensor(0.2361, device='cuda:0', grad_fn=<DivBackward0>));\">mosel</span> <span style=\"background-color:rgba(135,206,250,tensor(0.0892, device='cuda:0', grad_fn=<DivBackward0>));\">:</span> <span style=\"background-color:rgba(135,206,250,tensor(0.1447, device='cuda:0', grad_fn=<DivBackward0>));\">riesling</span> <span style=\"background-color:rgba(135,206,250,tensor(0.0539, device='cuda:0', grad_fn=<DivBackward0>));\">:</span> <span style=\"background-color:rgba(135,206,250,tensor(0.0929, device='cuda:0', grad_fn=<DivBackward0>));\">pristine</span> <span style=\"background-color:rgba(135,206,250,tensor(0.4369, device='cuda:0', grad_fn=<DivBackward0>));\">aromas</span> <span style=\"background-color:rgba(135,206,250,tensor(0.2589, device='cuda:0', grad_fn=<DivBackward0>));\">of</span> <span style=\"background-color:rgba(135,206,250,tensor(0.1114, device='cuda:0', grad_fn=<DivBackward0>));\">freshly</span> <span style=\"background-color:rgba(135,206,250,tensor(0.0864, device='cuda:0', grad_fn=<DivBackward0>));\">pressed</span> <span style=\"background-color:rgba(135,206,250,tensor(0.0888, device='cuda:0', grad_fn=<DivBackward0>));\">yellow</span> <span style=\"background-color:rgba(135,206,250,tensor(0.2777, device='cuda:0', grad_fn=<DivBackward0>));\">flowers</span> <span style=\"background-color:rgba(135,206,250,tensor(0.1955, device='cuda:0', grad_fn=<DivBackward0>));\">and</span> <span style=\"background-color:rgba(135,206,250,tensor(0.3340, device='cuda:0', grad_fn=<DivBackward0>));\">white</span> <span style=\"background-color:rgba(135,206,250,tensor(0.1694, device='cuda:0', grad_fn=<DivBackward0>));\">peach</span>"
      ],
      "text/plain": [
       "<IPython.core.display.HTML object>"
      ]
     },
     "metadata": {},
     "output_type": "display_data"
    },
    {
     "name": "stdout",
     "output_type": "stream",
     "text": [
      "and:   \t81.53%\n",
      ",:   \t12.39%\n",
      "with:   \t1.34%\n",
      "are:   \t1.07%\n",
      "on:   \t1.0%\n",
      "--------\n",
      "\n"
     ]
    },
    {
     "data": {
      "text/html": [
       "<span style=\"background-color:rgba(135,206,250,tensor(0.1687, device='cuda:0', grad_fn=<DivBackward0>));\">wine</span> <span style=\"background-color:rgba(135,206,250,tensor(0.0340, device='cuda:0', grad_fn=<DivBackward0>));\">review</span> <span style=\"background-color:rgba(135,206,250,tensor(0.0307, device='cuda:0', grad_fn=<DivBackward0>));\">:</span> <span style=\"background-color:rgba(135,206,250,tensor(0.1437, device='cuda:0', grad_fn=<DivBackward0>));\">germany</span> <span style=\"background-color:rgba(135,206,250,tensor(0.0504, device='cuda:0', grad_fn=<DivBackward0>));\">:</span> <span style=\"background-color:rgba(135,206,250,tensor(0.3465, device='cuda:0', grad_fn=<DivBackward0>));\">mosel</span> <span style=\"background-color:rgba(135,206,250,tensor(0.0376, device='cuda:0', grad_fn=<DivBackward0>));\">:</span> <span style=\"background-color:rgba(135,206,250,tensor(0.3589, device='cuda:0', grad_fn=<DivBackward0>));\">riesling</span> <span style=\"background-color:rgba(135,206,250,tensor(0.0208, device='cuda:0', grad_fn=<DivBackward0>));\">:</span> <span style=\"background-color:rgba(135,206,250,tensor(0.1393, device='cuda:0', grad_fn=<DivBackward0>));\">pristine</span> <span style=\"background-color:rgba(135,206,250,tensor(0.2332, device='cuda:0', grad_fn=<DivBackward0>));\">aromas</span> <span style=\"background-color:rgba(135,206,250,tensor(0.0681, device='cuda:0', grad_fn=<DivBackward0>));\">of</span> <span style=\"background-color:rgba(135,206,250,tensor(0.0406, device='cuda:0', grad_fn=<DivBackward0>));\">freshly</span> <span style=\"background-color:rgba(135,206,250,tensor(0.0880, device='cuda:0', grad_fn=<DivBackward0>));\">pressed</span> <span style=\"background-color:rgba(135,206,250,tensor(0.1599, device='cuda:0', grad_fn=<DivBackward0>));\">yellow</span> <span style=\"background-color:rgba(135,206,250,tensor(0.2457, device='cuda:0', grad_fn=<DivBackward0>));\">flowers</span> <span style=\"background-color:rgba(135,206,250,tensor(0.0730, device='cuda:0', grad_fn=<DivBackward0>));\">and</span> <span style=\"background-color:rgba(135,206,250,tensor(0.4755, device='cuda:0', grad_fn=<DivBackward0>));\">white</span> <span style=\"background-color:rgba(135,206,250,tensor(1., device='cuda:0', grad_fn=<DivBackward0>));\">peach</span> <span style=\"background-color:rgba(135,206,250,tensor(0.2107, device='cuda:0', grad_fn=<DivBackward0>));\">and</span>"
      ],
      "text/plain": [
       "<IPython.core.display.HTML object>"
      ]
     },
     "metadata": {},
     "output_type": "display_data"
    },
    {
     "name": "stdout",
     "output_type": "stream",
     "text": [
      "citrus:   \t16.19%\n",
      "pear:   \t9.19%\n",
      "white:   \t9.14%\n",
      "lemon:   \t8.51%\n",
      "honeydew:   \t7.21%\n",
      "--------\n",
      "\n"
     ]
    },
    {
     "data": {
      "text/html": [
       "<span style=\"background-color:rgba(135,206,250,tensor(0.2343, device='cuda:0', grad_fn=<DivBackward0>));\">wine</span> <span style=\"background-color:rgba(135,206,250,tensor(0.1492, device='cuda:0', grad_fn=<DivBackward0>));\">review</span> <span style=\"background-color:rgba(135,206,250,tensor(0.0517, device='cuda:0', grad_fn=<DivBackward0>));\">:</span> <span style=\"background-color:rgba(135,206,250,tensor(0.4113, device='cuda:0', grad_fn=<DivBackward0>));\">germany</span> <span style=\"background-color:rgba(135,206,250,tensor(0.0674, device='cuda:0', grad_fn=<DivBackward0>));\">:</span> <span style=\"background-color:rgba(135,206,250,tensor(0.2537, device='cuda:0', grad_fn=<DivBackward0>));\">mosel</span> <span style=\"background-color:rgba(135,206,250,tensor(0.0441, device='cuda:0', grad_fn=<DivBackward0>));\">:</span> <span style=\"background-color:rgba(135,206,250,tensor(0.2167, device='cuda:0', grad_fn=<DivBackward0>));\">riesling</span> <span style=\"background-color:rgba(135,206,250,tensor(0.0292, device='cuda:0', grad_fn=<DivBackward0>));\">:</span> <span style=\"background-color:rgba(135,206,250,tensor(0.1209, device='cuda:0', grad_fn=<DivBackward0>));\">pristine</span> <span style=\"background-color:rgba(135,206,250,tensor(0.3004, device='cuda:0', grad_fn=<DivBackward0>));\">aromas</span> <span style=\"background-color:rgba(135,206,250,tensor(0.0881, device='cuda:0', grad_fn=<DivBackward0>));\">of</span> <span style=\"background-color:rgba(135,206,250,tensor(0.0147, device='cuda:0', grad_fn=<DivBackward0>));\">freshly</span> <span style=\"background-color:rgba(135,206,250,tensor(0.0556, device='cuda:0', grad_fn=<DivBackward0>));\">pressed</span> <span style=\"background-color:rgba(135,206,250,tensor(0.0849, device='cuda:0', grad_fn=<DivBackward0>));\">yellow</span> <span style=\"background-color:rgba(135,206,250,tensor(0.1433, device='cuda:0', grad_fn=<DivBackward0>));\">flowers</span> <span style=\"background-color:rgba(135,206,250,tensor(0.2447, device='cuda:0', grad_fn=<DivBackward0>));\">and</span> <span style=\"background-color:rgba(135,206,250,tensor(0.2289, device='cuda:0', grad_fn=<DivBackward0>));\">white</span> <span style=\"background-color:rgba(135,206,250,tensor(0.0412, device='cuda:0', grad_fn=<DivBackward0>));\">peach</span> <span style=\"background-color:rgba(135,206,250,tensor(1., device='cuda:0', grad_fn=<DivBackward0>));\">and</span> <span style=\"background-color:rgba(135,206,250,tensor(0.4341, device='cuda:0', grad_fn=<DivBackward0>));\">honeydew</span>"
      ],
      "text/plain": [
       "<IPython.core.display.HTML object>"
      ]
     },
     "metadata": {},
     "output_type": "display_data"
    },
    {
     "name": "stdout",
     "output_type": "stream",
     "text": [
      "melon:   \t96.33%\n",
      "melons:   \t0.66%\n",
      "mango:   \t0.56%\n",
      "fruit:   \t0.54%\n",
      "flavors:   \t0.44%\n",
      "--------\n",
      "\n"
     ]
    },
    {
     "data": {
      "text/html": [
       "<span style=\"background-color:rgba(135,206,250,tensor(0.1812, device='cuda:0', grad_fn=<DivBackward0>));\">wine</span> <span style=\"background-color:rgba(135,206,250,tensor(0.1432, device='cuda:0', grad_fn=<DivBackward0>));\">review</span> <span style=\"background-color:rgba(135,206,250,tensor(0.0364, device='cuda:0', grad_fn=<DivBackward0>));\">:</span> <span style=\"background-color:rgba(135,206,250,tensor(0.7603, device='cuda:0', grad_fn=<DivBackward0>));\">germany</span> <span style=\"background-color:rgba(135,206,250,tensor(0.1348, device='cuda:0', grad_fn=<DivBackward0>));\">:</span> <span style=\"background-color:rgba(135,206,250,tensor(0.1437, device='cuda:0', grad_fn=<DivBackward0>));\">mosel</span> <span style=\"background-color:rgba(135,206,250,tensor(0.0756, device='cuda:0', grad_fn=<DivBackward0>));\">:</span> <span style=\"background-color:rgba(135,206,250,tensor(0.1448, device='cuda:0', grad_fn=<DivBackward0>));\">riesling</span> <span style=\"background-color:rgba(135,206,250,tensor(0.0401, device='cuda:0', grad_fn=<DivBackward0>));\">:</span> <span style=\"background-color:rgba(135,206,250,tensor(0.0628, device='cuda:0', grad_fn=<DivBackward0>));\">pristine</span> <span style=\"background-color:rgba(135,206,250,tensor(0.2874, device='cuda:0', grad_fn=<DivBackward0>));\">aromas</span> <span style=\"background-color:rgba(135,206,250,tensor(0.1736, device='cuda:0', grad_fn=<DivBackward0>));\">of</span> <span style=\"background-color:rgba(135,206,250,tensor(0.0132, device='cuda:0', grad_fn=<DivBackward0>));\">freshly</span> <span style=\"background-color:rgba(135,206,250,tensor(0.0366, device='cuda:0', grad_fn=<DivBackward0>));\">pressed</span> <span style=\"background-color:rgba(135,206,250,tensor(0.0604, device='cuda:0', grad_fn=<DivBackward0>));\">yellow</span> <span style=\"background-color:rgba(135,206,250,tensor(0.1608, device='cuda:0', grad_fn=<DivBackward0>));\">flowers</span> <span style=\"background-color:rgba(135,206,250,tensor(0.3018, device='cuda:0', grad_fn=<DivBackward0>));\">and</span> <span style=\"background-color:rgba(135,206,250,tensor(0.0539, device='cuda:0', grad_fn=<DivBackward0>));\">white</span> <span style=\"background-color:rgba(135,206,250,tensor(0.1596, device='cuda:0', grad_fn=<DivBackward0>));\">peach</span> <span style=\"background-color:rgba(135,206,250,tensor(1., device='cuda:0', grad_fn=<DivBackward0>));\">and</span> <span style=\"background-color:rgba(135,206,250,tensor(0., device='cuda:0', grad_fn=<DivBackward0>));\">honeydew</span> <span style=\"background-color:rgba(135,206,250,tensor(0.3706, device='cuda:0', grad_fn=<DivBackward0>));\">melon</span>"
      ],
      "text/plain": [
       "<IPython.core.display.HTML object>"
      ]
     },
     "metadata": {},
     "output_type": "display_data"
    },
    {
     "name": "stdout",
     "output_type": "stream",
     "text": [
      "lead:   \t39.77%\n",
      "are:   \t18.31%\n",
      "flavors:   \t16.14%\n",
      "rind:   \t6.88%\n",
      "in:   \t5.05%\n",
      "--------\n",
      "\n"
     ]
    },
    {
     "data": {
      "text/html": [
       "<span style=\"background-color:rgba(135,206,250,tensor(0.1544, device='cuda:0', grad_fn=<DivBackward0>));\">wine</span> <span style=\"background-color:rgba(135,206,250,tensor(0.0591, device='cuda:0', grad_fn=<DivBackward0>));\">review</span> <span style=\"background-color:rgba(135,206,250,tensor(0.0208, device='cuda:0', grad_fn=<DivBackward0>));\">:</span> <span style=\"background-color:rgba(135,206,250,tensor(0.4198, device='cuda:0', grad_fn=<DivBackward0>));\">germany</span> <span style=\"background-color:rgba(135,206,250,tensor(0.0467, device='cuda:0', grad_fn=<DivBackward0>));\">:</span> <span style=\"background-color:rgba(135,206,250,tensor(0.0918, device='cuda:0', grad_fn=<DivBackward0>));\">mosel</span> <span style=\"background-color:rgba(135,206,250,tensor(0.0259, device='cuda:0', grad_fn=<DivBackward0>));\">:</span> <span style=\"background-color:rgba(135,206,250,tensor(0.0281, device='cuda:0', grad_fn=<DivBackward0>));\">riesling</span> <span style=\"background-color:rgba(135,206,250,tensor(0.0166, device='cuda:0', grad_fn=<DivBackward0>));\">:</span> <span style=\"background-color:rgba(135,206,250,tensor(0.0904, device='cuda:0', grad_fn=<DivBackward0>));\">pristine</span> <span style=\"background-color:rgba(135,206,250,tensor(0.1250, device='cuda:0', grad_fn=<DivBackward0>));\">aromas</span> <span style=\"background-color:rgba(135,206,250,tensor(0.0747, device='cuda:0', grad_fn=<DivBackward0>));\">of</span> <span style=\"background-color:rgba(135,206,250,tensor(0.0478, device='cuda:0', grad_fn=<DivBackward0>));\">freshly</span> <span style=\"background-color:rgba(135,206,250,tensor(0.0260, device='cuda:0', grad_fn=<DivBackward0>));\">pressed</span> <span style=\"background-color:rgba(135,206,250,tensor(0.0967, device='cuda:0', grad_fn=<DivBackward0>));\">yellow</span> <span style=\"background-color:rgba(135,206,250,tensor(0.0813, device='cuda:0', grad_fn=<DivBackward0>));\">flowers</span> <span style=\"background-color:rgba(135,206,250,tensor(0.1336, device='cuda:0', grad_fn=<DivBackward0>));\">and</span> <span style=\"background-color:rgba(135,206,250,tensor(0.0855, device='cuda:0', grad_fn=<DivBackward0>));\">white</span> <span style=\"background-color:rgba(135,206,250,tensor(0.1353, device='cuda:0', grad_fn=<DivBackward0>));\">peach</span> <span style=\"background-color:rgba(135,206,250,tensor(0.3384, device='cuda:0', grad_fn=<DivBackward0>));\">and</span> <span style=\"background-color:rgba(135,206,250,tensor(0.1877, device='cuda:0', grad_fn=<DivBackward0>));\">honeydew</span> <span style=\"background-color:rgba(135,206,250,tensor(1., device='cuda:0', grad_fn=<DivBackward0>));\">melon</span> <span style=\"background-color:rgba(135,206,250,tensor(0.2672, device='cuda:0', grad_fn=<DivBackward0>));\">flavors</span>"
      ],
      "text/plain": [
       "<IPython.core.display.HTML object>"
      ]
     },
     "metadata": {},
     "output_type": "display_data"
    },
    {
     "name": "stdout",
     "output_type": "stream",
     "text": [
      "are:   \t30.57%\n",
      "in:   \t23.9%\n",
      ".:   \t11.0%\n",
      "this:   \t8.83%\n",
      "make:   \t5.63%\n",
      "--------\n",
      "\n"
     ]
    },
    {
     "data": {
      "text/html": [
       "<span style=\"background-color:rgba(135,206,250,tensor(0.6223, device='cuda:0', grad_fn=<DivBackward0>));\">wine</span> <span style=\"background-color:rgba(135,206,250,tensor(0.0429, device='cuda:0', grad_fn=<DivBackward0>));\">review</span> <span style=\"background-color:rgba(135,206,250,tensor(0.0829, device='cuda:0', grad_fn=<DivBackward0>));\">:</span> <span style=\"background-color:rgba(135,206,250,tensor(1., device='cuda:0', grad_fn=<DivBackward0>));\">germany</span> <span style=\"background-color:rgba(135,206,250,tensor(0.0840, device='cuda:0', grad_fn=<DivBackward0>));\">:</span> <span style=\"background-color:rgba(135,206,250,tensor(0.0833, device='cuda:0', grad_fn=<DivBackward0>));\">mosel</span> <span style=\"background-color:rgba(135,206,250,tensor(0.0375, device='cuda:0', grad_fn=<DivBackward0>));\">:</span> <span style=\"background-color:rgba(135,206,250,tensor(0.4684, device='cuda:0', grad_fn=<DivBackward0>));\">riesling</span> <span style=\"background-color:rgba(135,206,250,tensor(0.0164, device='cuda:0', grad_fn=<DivBackward0>));\">:</span> <span style=\"background-color:rgba(135,206,250,tensor(0.1446, device='cuda:0', grad_fn=<DivBackward0>));\">pristine</span> <span style=\"background-color:rgba(135,206,250,tensor(0.2079, device='cuda:0', grad_fn=<DivBackward0>));\">aromas</span> <span style=\"background-color:rgba(135,206,250,tensor(0.0341, device='cuda:0', grad_fn=<DivBackward0>));\">of</span> <span style=\"background-color:rgba(135,206,250,tensor(0.0293, device='cuda:0', grad_fn=<DivBackward0>));\">freshly</span> <span style=\"background-color:rgba(135,206,250,tensor(0.0058, device='cuda:0', grad_fn=<DivBackward0>));\">pressed</span> <span style=\"background-color:rgba(135,206,250,tensor(0.0495, device='cuda:0', grad_fn=<DivBackward0>));\">yellow</span> <span style=\"background-color:rgba(135,206,250,tensor(0.0028, device='cuda:0', grad_fn=<DivBackward0>));\">flowers</span> <span style=\"background-color:rgba(135,206,250,tensor(0.0359, device='cuda:0', grad_fn=<DivBackward0>));\">and</span> <span style=\"background-color:rgba(135,206,250,tensor(0.1118, device='cuda:0', grad_fn=<DivBackward0>));\">white</span> <span style=\"background-color:rgba(135,206,250,tensor(0.0400, device='cuda:0', grad_fn=<DivBackward0>));\">peach</span> <span style=\"background-color:rgba(135,206,250,tensor(0.0682, device='cuda:0', grad_fn=<DivBackward0>));\">and</span> <span style=\"background-color:rgba(135,206,250,tensor(0.1940, device='cuda:0', grad_fn=<DivBackward0>));\">honeydew</span> <span style=\"background-color:rgba(135,206,250,tensor(0.2625, device='cuda:0', grad_fn=<DivBackward0>));\">melon</span> <span style=\"background-color:rgba(135,206,250,tensor(0.5384, device='cuda:0', grad_fn=<DivBackward0>));\">flavors</span> <span style=\"background-color:rgba(135,206,250,tensor(0.2972, device='cuda:0', grad_fn=<DivBackward0>));\">this</span>"
      ],
      "text/plain": [
       "<IPython.core.display.HTML object>"
      ]
     },
     "metadata": {},
     "output_type": "display_data"
    },
    {
     "name": "stdout",
     "output_type": "stream",
     "text": [
      "dry:   \t80.71%\n",
      "medium:   \t8.42%\n",
      "off:   \t5.28%\n",
      "wine:   \t2.9%\n",
      "riesling:   \t0.4%\n",
      "--------\n",
      "\n"
     ]
    },
    {
     "data": {
      "text/html": [
       "<span style=\"background-color:rgba(135,206,250,tensor(0.1036, device='cuda:0', grad_fn=<DivBackward0>));\">wine</span> <span style=\"background-color:rgba(135,206,250,tensor(0.0113, device='cuda:0', grad_fn=<DivBackward0>));\">review</span> <span style=\"background-color:rgba(135,206,250,tensor(0.0071, device='cuda:0', grad_fn=<DivBackward0>));\">:</span> <span style=\"background-color:rgba(135,206,250,tensor(0.3022, device='cuda:0', grad_fn=<DivBackward0>));\">germany</span> <span style=\"background-color:rgba(135,206,250,tensor(0.0118, device='cuda:0', grad_fn=<DivBackward0>));\">:</span> <span style=\"background-color:rgba(135,206,250,tensor(0.1533, device='cuda:0', grad_fn=<DivBackward0>));\">mosel</span> <span style=\"background-color:rgba(135,206,250,tensor(0.0076, device='cuda:0', grad_fn=<DivBackward0>));\">:</span> <span style=\"background-color:rgba(135,206,250,tensor(0.3396, device='cuda:0', grad_fn=<DivBackward0>));\">riesling</span> <span style=\"background-color:rgba(135,206,250,tensor(0.0042, device='cuda:0', grad_fn=<DivBackward0>));\">:</span> <span style=\"background-color:rgba(135,206,250,tensor(0.0506, device='cuda:0', grad_fn=<DivBackward0>));\">pristine</span> <span style=\"background-color:rgba(135,206,250,tensor(0.0038, device='cuda:0', grad_fn=<DivBackward0>));\">aromas</span> <span style=\"background-color:rgba(135,206,250,tensor(0.0146, device='cuda:0', grad_fn=<DivBackward0>));\">of</span> <span style=\"background-color:rgba(135,206,250,tensor(0.0095, device='cuda:0', grad_fn=<DivBackward0>));\">freshly</span> <span style=\"background-color:rgba(135,206,250,tensor(0.0157, device='cuda:0', grad_fn=<DivBackward0>));\">pressed</span> <span style=\"background-color:rgba(135,206,250,tensor(0.0241, device='cuda:0', grad_fn=<DivBackward0>));\">yellow</span> <span style=\"background-color:rgba(135,206,250,tensor(0.0346, device='cuda:0', grad_fn=<DivBackward0>));\">flowers</span> <span style=\"background-color:rgba(135,206,250,tensor(0.0179, device='cuda:0', grad_fn=<DivBackward0>));\">and</span> <span style=\"background-color:rgba(135,206,250,tensor(0.0573, device='cuda:0', grad_fn=<DivBackward0>));\">white</span> <span style=\"background-color:rgba(135,206,250,tensor(0.0102, device='cuda:0', grad_fn=<DivBackward0>));\">peach</span> <span style=\"background-color:rgba(135,206,250,tensor(0.0440, device='cuda:0', grad_fn=<DivBackward0>));\">and</span> <span style=\"background-color:rgba(135,206,250,tensor(0.0804, device='cuda:0', grad_fn=<DivBackward0>));\">honeydew</span> <span style=\"background-color:rgba(135,206,250,tensor(0.0550, device='cuda:0', grad_fn=<DivBackward0>));\">melon</span> <span style=\"background-color:rgba(135,206,250,tensor(0.3759, device='cuda:0', grad_fn=<DivBackward0>));\">flavors</span> <span style=\"background-color:rgba(135,206,250,tensor(1., device='cuda:0', grad_fn=<DivBackward0>));\">this</span> <span style=\"background-color:rgba(135,206,250,tensor(0.0716, device='cuda:0', grad_fn=<DivBackward0>));\">dry</span>"
      ],
      "text/plain": [
       "<IPython.core.display.HTML object>"
      ]
     },
     "metadata": {},
     "output_type": "display_data"
    },
    {
     "name": "stdout",
     "output_type": "stream",
     "text": [
      ",:   \t81.0%\n",
      "riesling:   \t15.02%\n",
      "off:   \t2.89%\n",
      "yet:   \t0.65%\n",
      "and:   \t0.13%\n",
      "--------\n",
      "\n"
     ]
    },
    {
     "data": {
      "text/html": [
       "<span style=\"background-color:rgba(135,206,250,tensor(0.5615, device='cuda:0', grad_fn=<DivBackward0>));\">wine</span> <span style=\"background-color:rgba(135,206,250,tensor(0.2138, device='cuda:0', grad_fn=<DivBackward0>));\">review</span> <span style=\"background-color:rgba(135,206,250,tensor(0.1098, device='cuda:0', grad_fn=<DivBackward0>));\">:</span> <span style=\"background-color:rgba(135,206,250,tensor(0.6329, device='cuda:0', grad_fn=<DivBackward0>));\">germany</span> <span style=\"background-color:rgba(135,206,250,tensor(0.0468, device='cuda:0', grad_fn=<DivBackward0>));\">:</span> <span style=\"background-color:rgba(135,206,250,tensor(0.1161, device='cuda:0', grad_fn=<DivBackward0>));\">mosel</span> <span style=\"background-color:rgba(135,206,250,tensor(0.0585, device='cuda:0', grad_fn=<DivBackward0>));\">:</span> <span style=\"background-color:rgba(135,206,250,tensor(0.0808, device='cuda:0', grad_fn=<DivBackward0>));\">riesling</span> <span style=\"background-color:rgba(135,206,250,tensor(0.0366, device='cuda:0', grad_fn=<DivBackward0>));\">:</span> <span style=\"background-color:rgba(135,206,250,tensor(0.0763, device='cuda:0', grad_fn=<DivBackward0>));\">pristine</span> <span style=\"background-color:rgba(135,206,250,tensor(0.2246, device='cuda:0', grad_fn=<DivBackward0>));\">aromas</span> <span style=\"background-color:rgba(135,206,250,tensor(0.1662, device='cuda:0', grad_fn=<DivBackward0>));\">of</span> <span style=\"background-color:rgba(135,206,250,tensor(0.0434, device='cuda:0', grad_fn=<DivBackward0>));\">freshly</span> <span style=\"background-color:rgba(135,206,250,tensor(0.0275, device='cuda:0', grad_fn=<DivBackward0>));\">pressed</span> <span style=\"background-color:rgba(135,206,250,tensor(0.0924, device='cuda:0', grad_fn=<DivBackward0>));\">yellow</span> <span style=\"background-color:rgba(135,206,250,tensor(0.1051, device='cuda:0', grad_fn=<DivBackward0>));\">flowers</span> <span style=\"background-color:rgba(135,206,250,tensor(0.1409, device='cuda:0', grad_fn=<DivBackward0>));\">and</span> <span style=\"background-color:rgba(135,206,250,tensor(0.0392, device='cuda:0', grad_fn=<DivBackward0>));\">white</span> <span style=\"background-color:rgba(135,206,250,tensor(0.1304, device='cuda:0', grad_fn=<DivBackward0>));\">peach</span> <span style=\"background-color:rgba(135,206,250,tensor(0.2169, device='cuda:0', grad_fn=<DivBackward0>));\">and</span> <span style=\"background-color:rgba(135,206,250,tensor(0.0845, device='cuda:0', grad_fn=<DivBackward0>));\">honeydew</span> <span style=\"background-color:rgba(135,206,250,tensor(0.1567, device='cuda:0', grad_fn=<DivBackward0>));\">melon</span> <span style=\"background-color:rgba(135,206,250,tensor(0.6878, device='cuda:0', grad_fn=<DivBackward0>));\">flavors</span> <span style=\"background-color:rgba(135,206,250,tensor(1., device='cuda:0', grad_fn=<DivBackward0>));\">this</span> <span style=\"background-color:rgba(135,206,250,tensor(0.4084, device='cuda:0', grad_fn=<DivBackward0>));\">dry</span> <span style=\"background-color:rgba(135,206,250,tensor(0.1242, device='cuda:0', grad_fn=<DivBackward0>));\">riesling</span>"
      ],
      "text/plain": [
       "<IPython.core.display.HTML object>"
      ]
     },
     "metadata": {},
     "output_type": "display_data"
    },
    {
     "name": "stdout",
     "output_type": "stream",
     "text": [
      ".:   \t99.13%\n",
      "from:   \t0.42%\n",
      ",:   \t0.19%\n",
      "a:   \t0.05%\n",
      "are:   \t0.04%\n",
      "--------\n",
      "\n"
     ]
    },
    {
     "data": {
      "text/html": [
       "<span style=\"background-color:rgba(135,206,250,tensor(0.3438, device='cuda:0', grad_fn=<DivBackward0>));\">wine</span> <span style=\"background-color:rgba(135,206,250,tensor(0.2590, device='cuda:0', grad_fn=<DivBackward0>));\">review</span> <span style=\"background-color:rgba(135,206,250,tensor(0.1531, device='cuda:0', grad_fn=<DivBackward0>));\">:</span> <span style=\"background-color:rgba(135,206,250,tensor(1., device='cuda:0', grad_fn=<DivBackward0>));\">germany</span> <span style=\"background-color:rgba(135,206,250,tensor(0.0154, device='cuda:0', grad_fn=<DivBackward0>));\">:</span> <span style=\"background-color:rgba(135,206,250,tensor(0., device='cuda:0', grad_fn=<DivBackward0>));\">mosel</span> <span style=\"background-color:rgba(135,206,250,tensor(0.0738, device='cuda:0', grad_fn=<DivBackward0>));\">:</span> <span style=\"background-color:rgba(135,206,250,tensor(0.1709, device='cuda:0', grad_fn=<DivBackward0>));\">riesling</span> <span style=\"background-color:rgba(135,206,250,tensor(0.0217, device='cuda:0', grad_fn=<DivBackward0>));\">:</span> <span style=\"background-color:rgba(135,206,250,tensor(0.0046, device='cuda:0', grad_fn=<DivBackward0>));\">pristine</span> <span style=\"background-color:rgba(135,206,250,tensor(0.1361, device='cuda:0', grad_fn=<DivBackward0>));\">aromas</span> <span style=\"background-color:rgba(135,206,250,tensor(0.0285, device='cuda:0', grad_fn=<DivBackward0>));\">of</span> <span style=\"background-color:rgba(135,206,250,tensor(0.0288, device='cuda:0', grad_fn=<DivBackward0>));\">freshly</span> <span style=\"background-color:rgba(135,206,250,tensor(0.0302, device='cuda:0', grad_fn=<DivBackward0>));\">pressed</span> <span style=\"background-color:rgba(135,206,250,tensor(0.0537, device='cuda:0', grad_fn=<DivBackward0>));\">yellow</span> <span style=\"background-color:rgba(135,206,250,tensor(0.0850, device='cuda:0', grad_fn=<DivBackward0>));\">flowers</span> <span style=\"background-color:rgba(135,206,250,tensor(0.0355, device='cuda:0', grad_fn=<DivBackward0>));\">and</span> <span style=\"background-color:rgba(135,206,250,tensor(0.0039, device='cuda:0', grad_fn=<DivBackward0>));\">white</span> <span style=\"background-color:rgba(135,206,250,tensor(0.0704, device='cuda:0', grad_fn=<DivBackward0>));\">peach</span> <span style=\"background-color:rgba(135,206,250,tensor(0.0380, device='cuda:0', grad_fn=<DivBackward0>));\">and</span> <span style=\"background-color:rgba(135,206,250,tensor(0.0729, device='cuda:0', grad_fn=<DivBackward0>));\">honeydew</span> <span style=\"background-color:rgba(135,206,250,tensor(0.0927, device='cuda:0', grad_fn=<DivBackward0>));\">melon</span> <span style=\"background-color:rgba(135,206,250,tensor(0.3345, device='cuda:0', grad_fn=<DivBackward0>));\">flavors</span> <span style=\"background-color:rgba(135,206,250,tensor(0.2584, device='cuda:0', grad_fn=<DivBackward0>));\">this</span> <span style=\"background-color:rgba(135,206,250,tensor(0.0763, device='cuda:0', grad_fn=<DivBackward0>));\">dry</span> <span style=\"background-color:rgba(135,206,250,tensor(0.1840, device='cuda:0', grad_fn=<DivBackward0>));\">riesling</span> <span style=\"background-color:rgba(135,206,250,tensor(0.1697, device='cuda:0', grad_fn=<DivBackward0>));\">.</span>"
      ],
      "text/plain": [
       "<IPython.core.display.HTML object>"
      ]
     },
     "metadata": {},
     "output_type": "display_data"
    },
    {
     "name": "stdout",
     "output_type": "stream",
     "text": [
      "it:   \t68.42%\n",
      "the:   \t29.34%\n",
      "a:   \t0.51%\n",
      "this:   \t0.43%\n",
      "dry:   \t0.34%\n",
      "--------\n",
      "\n"
     ]
    },
    {
     "data": {
      "text/html": [
       "<span style=\"background-color:rgba(135,206,250,tensor(0.1630, device='cuda:0', grad_fn=<DivBackward0>));\">wine</span> <span style=\"background-color:rgba(135,206,250,tensor(0.0818, device='cuda:0', grad_fn=<DivBackward0>));\">review</span> <span style=\"background-color:rgba(135,206,250,tensor(0.0364, device='cuda:0', grad_fn=<DivBackward0>));\">:</span> <span style=\"background-color:rgba(135,206,250,tensor(0.5978, device='cuda:0', grad_fn=<DivBackward0>));\">germany</span> <span style=\"background-color:rgba(135,206,250,tensor(0.0449, device='cuda:0', grad_fn=<DivBackward0>));\">:</span> <span style=\"background-color:rgba(135,206,250,tensor(0.0343, device='cuda:0', grad_fn=<DivBackward0>));\">mosel</span> <span style=\"background-color:rgba(135,206,250,tensor(0.0238, device='cuda:0', grad_fn=<DivBackward0>));\">:</span> <span style=\"background-color:rgba(135,206,250,tensor(0.2577, device='cuda:0', grad_fn=<DivBackward0>));\">riesling</span> <span style=\"background-color:rgba(135,206,250,tensor(0.0098, device='cuda:0', grad_fn=<DivBackward0>));\">:</span> <span style=\"background-color:rgba(135,206,250,tensor(0.0681, device='cuda:0', grad_fn=<DivBackward0>));\">pristine</span> <span style=\"background-color:rgba(135,206,250,tensor(0.0962, device='cuda:0', grad_fn=<DivBackward0>));\">aromas</span> <span style=\"background-color:rgba(135,206,250,tensor(0.0272, device='cuda:0', grad_fn=<DivBackward0>));\">of</span> <span style=\"background-color:rgba(135,206,250,tensor(0.0214, device='cuda:0', grad_fn=<DivBackward0>));\">freshly</span> <span style=\"background-color:rgba(135,206,250,tensor(0.0251, device='cuda:0', grad_fn=<DivBackward0>));\">pressed</span> <span style=\"background-color:rgba(135,206,250,tensor(0.0669, device='cuda:0', grad_fn=<DivBackward0>));\">yellow</span> <span style=\"background-color:rgba(135,206,250,tensor(0.0029, device='cuda:0', grad_fn=<DivBackward0>));\">flowers</span> <span style=\"background-color:rgba(135,206,250,tensor(0.0328, device='cuda:0', grad_fn=<DivBackward0>));\">and</span> <span style=\"background-color:rgba(135,206,250,tensor(0.0565, device='cuda:0', grad_fn=<DivBackward0>));\">white</span> <span style=\"background-color:rgba(135,206,250,tensor(0.0684, device='cuda:0', grad_fn=<DivBackward0>));\">peach</span> <span style=\"background-color:rgba(135,206,250,tensor(0.0265, device='cuda:0', grad_fn=<DivBackward0>));\">and</span> <span style=\"background-color:rgba(135,206,250,tensor(0.0743, device='cuda:0', grad_fn=<DivBackward0>));\">honeydew</span> <span style=\"background-color:rgba(135,206,250,tensor(0.1137, device='cuda:0', grad_fn=<DivBackward0>));\">melon</span> <span style=\"background-color:rgba(135,206,250,tensor(0.2056, device='cuda:0', grad_fn=<DivBackward0>));\">flavors</span> <span style=\"background-color:rgba(135,206,250,tensor(0.1857, device='cuda:0', grad_fn=<DivBackward0>));\">this</span> <span style=\"background-color:rgba(135,206,250,tensor(0.1421, device='cuda:0', grad_fn=<DivBackward0>));\">dry</span> <span style=\"background-color:rgba(135,206,250,tensor(0.2951, device='cuda:0', grad_fn=<DivBackward0>));\">riesling</span> <span style=\"background-color:rgba(135,206,250,tensor(1., device='cuda:0', grad_fn=<DivBackward0>));\">.</span> <span style=\"background-color:rgba(135,206,250,tensor(0.1703, device='cuda:0', grad_fn=<DivBackward0>));\">the</span>"
      ],
      "text/plain": [
       "<IPython.core.display.HTML object>"
      ]
     },
     "metadata": {},
     "output_type": "display_data"
    },
    {
     "name": "stdout",
     "output_type": "stream",
     "text": [
      "palate:   \t99.84%\n",
      "flavors:   \t0.06%\n",
      "mouth:   \t0.04%\n",
      "medium:   \t0.01%\n",
      "acidity:   \t0.01%\n",
      "--------\n",
      "\n"
     ]
    },
    {
     "data": {
      "text/html": [
       "<span style=\"background-color:rgba(135,206,250,tensor(0.1791, device='cuda:0', grad_fn=<DivBackward0>));\">wine</span> <span style=\"background-color:rgba(135,206,250,tensor(0.0863, device='cuda:0', grad_fn=<DivBackward0>));\">review</span> <span style=\"background-color:rgba(135,206,250,tensor(0.0322, device='cuda:0', grad_fn=<DivBackward0>));\">:</span> <span style=\"background-color:rgba(135,206,250,tensor(0.6052, device='cuda:0', grad_fn=<DivBackward0>));\">germany</span> <span style=\"background-color:rgba(135,206,250,tensor(0.0378, device='cuda:0', grad_fn=<DivBackward0>));\">:</span> <span style=\"background-color:rgba(135,206,250,tensor(0.1248, device='cuda:0', grad_fn=<DivBackward0>));\">mosel</span> <span style=\"background-color:rgba(135,206,250,tensor(0.0055, device='cuda:0', grad_fn=<DivBackward0>));\">:</span> <span style=\"background-color:rgba(135,206,250,tensor(0.0095, device='cuda:0', grad_fn=<DivBackward0>));\">riesling</span> <span style=\"background-color:rgba(135,206,250,tensor(0.0071, device='cuda:0', grad_fn=<DivBackward0>));\">:</span> <span style=\"background-color:rgba(135,206,250,tensor(0.0014, device='cuda:0', grad_fn=<DivBackward0>));\">pristine</span> <span style=\"background-color:rgba(135,206,250,tensor(0.0533, device='cuda:0', grad_fn=<DivBackward0>));\">aromas</span> <span style=\"background-color:rgba(135,206,250,tensor(0.0025, device='cuda:0', grad_fn=<DivBackward0>));\">of</span> <span style=\"background-color:rgba(135,206,250,tensor(0.0096, device='cuda:0', grad_fn=<DivBackward0>));\">freshly</span> <span style=\"background-color:rgba(135,206,250,tensor(0.0130, device='cuda:0', grad_fn=<DivBackward0>));\">pressed</span> <span style=\"background-color:rgba(135,206,250,tensor(0.0382, device='cuda:0', grad_fn=<DivBackward0>));\">yellow</span> <span style=\"background-color:rgba(135,206,250,tensor(0.0280, device='cuda:0', grad_fn=<DivBackward0>));\">flowers</span> <span style=\"background-color:rgba(135,206,250,tensor(0.0314, device='cuda:0', grad_fn=<DivBackward0>));\">and</span> <span style=\"background-color:rgba(135,206,250,tensor(0.0190, device='cuda:0', grad_fn=<DivBackward0>));\">white</span> <span style=\"background-color:rgba(135,206,250,tensor(0.0404, device='cuda:0', grad_fn=<DivBackward0>));\">peach</span> <span style=\"background-color:rgba(135,206,250,tensor(0.0397, device='cuda:0', grad_fn=<DivBackward0>));\">and</span> <span style=\"background-color:rgba(135,206,250,tensor(0.0273, device='cuda:0', grad_fn=<DivBackward0>));\">honeydew</span> <span style=\"background-color:rgba(135,206,250,tensor(0.0635, device='cuda:0', grad_fn=<DivBackward0>));\">melon</span> <span style=\"background-color:rgba(135,206,250,tensor(0.1799, device='cuda:0', grad_fn=<DivBackward0>));\">flavors</span> <span style=\"background-color:rgba(135,206,250,tensor(0.1876, device='cuda:0', grad_fn=<DivBackward0>));\">this</span> <span style=\"background-color:rgba(135,206,250,tensor(0.1091, device='cuda:0', grad_fn=<DivBackward0>));\">dry</span> <span style=\"background-color:rgba(135,206,250,tensor(0.1670, device='cuda:0', grad_fn=<DivBackward0>));\">riesling</span> <span style=\"background-color:rgba(135,206,250,tensor(1., device='cuda:0', grad_fn=<DivBackward0>));\">.</span> <span style=\"background-color:rgba(135,206,250,tensor(0.0714, device='cuda:0', grad_fn=<DivBackward0>));\">the</span> <span style=\"background-color:rgba(135,206,250,tensor(0.1009, device='cuda:0', grad_fn=<DivBackward0>));\">palate</span>"
      ],
      "text/plain": [
       "<IPython.core.display.HTML object>"
      ]
     },
     "metadata": {},
     "output_type": "display_data"
    },
    {
     "name": "stdout",
     "output_type": "stream",
     "text": [
      "is:   \t96.57%\n",
      "offers:   \t0.94%\n",
      "shows:   \t0.64%\n",
      "has:   \t0.61%\n",
      "boasts:   \t0.38%\n",
      "--------\n",
      "\n"
     ]
    },
    {
     "data": {
      "text/html": [
       "<span style=\"background-color:rgba(135,206,250,tensor(0.4227, device='cuda:0', grad_fn=<DivBackward0>));\">wine</span> <span style=\"background-color:rgba(135,206,250,tensor(0.2529, device='cuda:0', grad_fn=<DivBackward0>));\">review</span> <span style=\"background-color:rgba(135,206,250,tensor(0.1062, device='cuda:0', grad_fn=<DivBackward0>));\">:</span> <span style=\"background-color:rgba(135,206,250,tensor(1., device='cuda:0', grad_fn=<DivBackward0>));\">germany</span> <span style=\"background-color:rgba(135,206,250,tensor(0.1114, device='cuda:0', grad_fn=<DivBackward0>));\">:</span> <span style=\"background-color:rgba(135,206,250,tensor(0.2927, device='cuda:0', grad_fn=<DivBackward0>));\">mosel</span> <span style=\"background-color:rgba(135,206,250,tensor(0.0451, device='cuda:0', grad_fn=<DivBackward0>));\">:</span> <span style=\"background-color:rgba(135,206,250,tensor(0.3065, device='cuda:0', grad_fn=<DivBackward0>));\">riesling</span> <span style=\"background-color:rgba(135,206,250,tensor(0.0172, device='cuda:0', grad_fn=<DivBackward0>));\">:</span> <span style=\"background-color:rgba(135,206,250,tensor(0.2899, device='cuda:0', grad_fn=<DivBackward0>));\">pristine</span> <span style=\"background-color:rgba(135,206,250,tensor(0.2002, device='cuda:0', grad_fn=<DivBackward0>));\">aromas</span> <span style=\"background-color:rgba(135,206,250,tensor(0.0030, device='cuda:0', grad_fn=<DivBackward0>));\">of</span> <span style=\"background-color:rgba(135,206,250,tensor(0.0290, device='cuda:0', grad_fn=<DivBackward0>));\">freshly</span> <span style=\"background-color:rgba(135,206,250,tensor(0.0016, device='cuda:0', grad_fn=<DivBackward0>));\">pressed</span> <span style=\"background-color:rgba(135,206,250,tensor(0.1007, device='cuda:0', grad_fn=<DivBackward0>));\">yellow</span> <span style=\"background-color:rgba(135,206,250,tensor(0.1277, device='cuda:0', grad_fn=<DivBackward0>));\">flowers</span> <span style=\"background-color:rgba(135,206,250,tensor(0.0056, device='cuda:0', grad_fn=<DivBackward0>));\">and</span> <span style=\"background-color:rgba(135,206,250,tensor(0.1241, device='cuda:0', grad_fn=<DivBackward0>));\">white</span> <span style=\"background-color:rgba(135,206,250,tensor(0.0146, device='cuda:0', grad_fn=<DivBackward0>));\">peach</span> <span style=\"background-color:rgba(135,206,250,tensor(0.0327, device='cuda:0', grad_fn=<DivBackward0>));\">and</span> <span style=\"background-color:rgba(135,206,250,tensor(0.1127, device='cuda:0', grad_fn=<DivBackward0>));\">honeydew</span> <span style=\"background-color:rgba(135,206,250,tensor(0.1788, device='cuda:0', grad_fn=<DivBackward0>));\">melon</span> <span style=\"background-color:rgba(135,206,250,tensor(0.0248, device='cuda:0', grad_fn=<DivBackward0>));\">flavors</span> <span style=\"background-color:rgba(135,206,250,tensor(0.1910, device='cuda:0', grad_fn=<DivBackward0>));\">this</span> <span style=\"background-color:rgba(135,206,250,tensor(0.2409, device='cuda:0', grad_fn=<DivBackward0>));\">dry</span> <span style=\"background-color:rgba(135,206,250,tensor(0.2381, device='cuda:0', grad_fn=<DivBackward0>));\">riesling</span> <span style=\"background-color:rgba(135,206,250,tensor(0.6045, device='cuda:0', grad_fn=<DivBackward0>));\">.</span> <span style=\"background-color:rgba(135,206,250,tensor(0.7478, device='cuda:0', grad_fn=<DivBackward0>));\">the</span> <span style=\"background-color:rgba(135,206,250,tensor(0.6776, device='cuda:0', grad_fn=<DivBackward0>));\">palate</span> <span style=\"background-color:rgba(135,206,250,tensor(0.2945, device='cuda:0', grad_fn=<DivBackward0>));\">is</span>"
      ],
      "text/plain": [
       "<IPython.core.display.HTML object>"
      ]
     },
     "metadata": {},
     "output_type": "display_data"
    },
    {
     "name": "stdout",
     "output_type": "stream",
     "text": [
      "medium:   \t12.99%\n",
      "juicy:   \t11.2%\n",
      "a:   \t10.34%\n",
      "full:   \t9.39%\n",
      "dry:   \t7.96%\n",
      "--------\n",
      "\n"
     ]
    },
    {
     "data": {
      "text/html": [
       "<span style=\"background-color:rgba(135,206,250,tensor(0.3212, device='cuda:0', grad_fn=<DivBackward0>));\">wine</span> <span style=\"background-color:rgba(135,206,250,tensor(0.1569, device='cuda:0', grad_fn=<DivBackward0>));\">review</span> <span style=\"background-color:rgba(135,206,250,tensor(0.0541, device='cuda:0', grad_fn=<DivBackward0>));\">:</span> <span style=\"background-color:rgba(135,206,250,tensor(0.5100, device='cuda:0', grad_fn=<DivBackward0>));\">germany</span> <span style=\"background-color:rgba(135,206,250,tensor(0.0314, device='cuda:0', grad_fn=<DivBackward0>));\">:</span> <span style=\"background-color:rgba(135,206,250,tensor(0.2688, device='cuda:0', grad_fn=<DivBackward0>));\">mosel</span> <span style=\"background-color:rgba(135,206,250,tensor(0.0256, device='cuda:0', grad_fn=<DivBackward0>));\">:</span> <span style=\"background-color:rgba(135,206,250,tensor(0.2102, device='cuda:0', grad_fn=<DivBackward0>));\">riesling</span> <span style=\"background-color:rgba(135,206,250,tensor(0.0126, device='cuda:0', grad_fn=<DivBackward0>));\">:</span> <span style=\"background-color:rgba(135,206,250,tensor(0.0767, device='cuda:0', grad_fn=<DivBackward0>));\">pristine</span> <span style=\"background-color:rgba(135,206,250,tensor(0.1307, device='cuda:0', grad_fn=<DivBackward0>));\">aromas</span> <span style=\"background-color:rgba(135,206,250,tensor(0.0454, device='cuda:0', grad_fn=<DivBackward0>));\">of</span> <span style=\"background-color:rgba(135,206,250,tensor(0.0216, device='cuda:0', grad_fn=<DivBackward0>));\">freshly</span> <span style=\"background-color:rgba(135,206,250,tensor(0.0270, device='cuda:0', grad_fn=<DivBackward0>));\">pressed</span> <span style=\"background-color:rgba(135,206,250,tensor(0.0641, device='cuda:0', grad_fn=<DivBackward0>));\">yellow</span> <span style=\"background-color:rgba(135,206,250,tensor(0.0695, device='cuda:0', grad_fn=<DivBackward0>));\">flowers</span> <span style=\"background-color:rgba(135,206,250,tensor(0.0022, device='cuda:0', grad_fn=<DivBackward0>));\">and</span> <span style=\"background-color:rgba(135,206,250,tensor(0.0694, device='cuda:0', grad_fn=<DivBackward0>));\">white</span> <span style=\"background-color:rgba(135,206,250,tensor(0.0686, device='cuda:0', grad_fn=<DivBackward0>));\">peach</span> <span style=\"background-color:rgba(135,206,250,tensor(0.0490, device='cuda:0', grad_fn=<DivBackward0>));\">and</span> <span style=\"background-color:rgba(135,206,250,tensor(0.0717, device='cuda:0', grad_fn=<DivBackward0>));\">honeydew</span> <span style=\"background-color:rgba(135,206,250,tensor(0.1364, device='cuda:0', grad_fn=<DivBackward0>));\">melon</span> <span style=\"background-color:rgba(135,206,250,tensor(0.2450, device='cuda:0', grad_fn=<DivBackward0>));\">flavors</span> <span style=\"background-color:rgba(135,206,250,tensor(0.0944, device='cuda:0', grad_fn=<DivBackward0>));\">this</span> <span style=\"background-color:rgba(135,206,250,tensor(0.0704, device='cuda:0', grad_fn=<DivBackward0>));\">dry</span> <span style=\"background-color:rgba(135,206,250,tensor(0.1968, device='cuda:0', grad_fn=<DivBackward0>));\">riesling</span> <span style=\"background-color:rgba(135,206,250,tensor(0.4143, device='cuda:0', grad_fn=<DivBackward0>));\">.</span> <span style=\"background-color:rgba(135,206,250,tensor(0.3677, device='cuda:0', grad_fn=<DivBackward0>));\">the</span> <span style=\"background-color:rgba(135,206,250,tensor(1., device='cuda:0', grad_fn=<DivBackward0>));\">palate</span> <span style=\"background-color:rgba(135,206,250,tensor(0.8143, device='cuda:0', grad_fn=<DivBackward0>));\">is</span> <span style=\"background-color:rgba(135,206,250,tensor(0.1322, device='cuda:0', grad_fn=<DivBackward0>));\">full</span>"
      ],
      "text/plain": [
       "<IPython.core.display.HTML object>"
      ]
     },
     "metadata": {},
     "output_type": "display_data"
    },
    {
     "name": "stdout",
     "output_type": "stream",
     "text": [
      "of:   \t93.06%\n",
      "and:   \t3.26%\n",
      ",:   \t1.58%\n",
      "but:   \t1.07%\n",
      "bodied:   \t0.51%\n",
      "--------\n",
      "\n"
     ]
    },
    {
     "data": {
      "text/html": [
       "<span style=\"background-color:rgba(135,206,250,tensor(0.2763, device='cuda:0', grad_fn=<DivBackward0>));\">wine</span> <span style=\"background-color:rgba(135,206,250,tensor(0.1243, device='cuda:0', grad_fn=<DivBackward0>));\">review</span> <span style=\"background-color:rgba(135,206,250,tensor(0.0578, device='cuda:0', grad_fn=<DivBackward0>));\">:</span> <span style=\"background-color:rgba(135,206,250,tensor(1., device='cuda:0', grad_fn=<DivBackward0>));\">germany</span> <span style=\"background-color:rgba(135,206,250,tensor(0.0763, device='cuda:0', grad_fn=<DivBackward0>));\">:</span> <span style=\"background-color:rgba(135,206,250,tensor(0.4793, device='cuda:0', grad_fn=<DivBackward0>));\">mosel</span> <span style=\"background-color:rgba(135,206,250,tensor(0.0423, device='cuda:0', grad_fn=<DivBackward0>));\">:</span> <span style=\"background-color:rgba(135,206,250,tensor(0.0489, device='cuda:0', grad_fn=<DivBackward0>));\">riesling</span> <span style=\"background-color:rgba(135,206,250,tensor(0.0191, device='cuda:0', grad_fn=<DivBackward0>));\">:</span> <span style=\"background-color:rgba(135,206,250,tensor(0.2193, device='cuda:0', grad_fn=<DivBackward0>));\">pristine</span> <span style=\"background-color:rgba(135,206,250,tensor(0.1527, device='cuda:0', grad_fn=<DivBackward0>));\">aromas</span> <span style=\"background-color:rgba(135,206,250,tensor(0.0004, device='cuda:0', grad_fn=<DivBackward0>));\">of</span> <span style=\"background-color:rgba(135,206,250,tensor(0.0370, device='cuda:0', grad_fn=<DivBackward0>));\">freshly</span> <span style=\"background-color:rgba(135,206,250,tensor(0.0723, device='cuda:0', grad_fn=<DivBackward0>));\">pressed</span> <span style=\"background-color:rgba(135,206,250,tensor(0.0058, device='cuda:0', grad_fn=<DivBackward0>));\">yellow</span> <span style=\"background-color:rgba(135,206,250,tensor(0.0854, device='cuda:0', grad_fn=<DivBackward0>));\">flowers</span> <span style=\"background-color:rgba(135,206,250,tensor(0.0410, device='cuda:0', grad_fn=<DivBackward0>));\">and</span> <span style=\"background-color:rgba(135,206,250,tensor(0.1560, device='cuda:0', grad_fn=<DivBackward0>));\">white</span> <span style=\"background-color:rgba(135,206,250,tensor(0.1383, device='cuda:0', grad_fn=<DivBackward0>));\">peach</span> <span style=\"background-color:rgba(135,206,250,tensor(0.0481, device='cuda:0', grad_fn=<DivBackward0>));\">and</span> <span style=\"background-color:rgba(135,206,250,tensor(0.1740, device='cuda:0', grad_fn=<DivBackward0>));\">honeydew</span> <span style=\"background-color:rgba(135,206,250,tensor(0.2055, device='cuda:0', grad_fn=<DivBackward0>));\">melon</span> <span style=\"background-color:rgba(135,206,250,tensor(0.2545, device='cuda:0', grad_fn=<DivBackward0>));\">flavors</span> <span style=\"background-color:rgba(135,206,250,tensor(0.1815, device='cuda:0', grad_fn=<DivBackward0>));\">this</span> <span style=\"background-color:rgba(135,206,250,tensor(0.2501, device='cuda:0', grad_fn=<DivBackward0>));\">dry</span> <span style=\"background-color:rgba(135,206,250,tensor(0.4781, device='cuda:0', grad_fn=<DivBackward0>));\">riesling</span> <span style=\"background-color:rgba(135,206,250,tensor(0.3707, device='cuda:0', grad_fn=<DivBackward0>));\">.</span> <span style=\"background-color:rgba(135,206,250,tensor(0.4680, device='cuda:0', grad_fn=<DivBackward0>));\">the</span> <span style=\"background-color:rgba(135,206,250,tensor(0.4998, device='cuda:0', grad_fn=<DivBackward0>));\">palate</span> <span style=\"background-color:rgba(135,206,250,tensor(0.5988, device='cuda:0', grad_fn=<DivBackward0>));\">is</span> <span style=\"background-color:rgba(135,206,250,tensor(0., device='cuda:0', grad_fn=<DivBackward0>));\">full</span> <span style=\"background-color:rgba(135,206,250,tensor(0.2904, device='cuda:0', grad_fn=<DivBackward0>));\">of</span>"
      ],
      "text/plain": [
       "<IPython.core.display.HTML object>"
      ]
     },
     "metadata": {},
     "output_type": "display_data"
    },
    {
     "name": "stdout",
     "output_type": "stream",
     "text": [
      "the:   \t64.1%\n",
      "sweet:   \t10.49%\n",
      "a:   \t9.14%\n",
      "this:   \t3.09%\n",
      "fresh:   \t3.04%\n",
      "--------\n",
      "\n"
     ]
    },
    {
     "data": {
      "text/html": [
       "<span style=\"background-color:rgba(135,206,250,tensor(0.2302, device='cuda:0', grad_fn=<DivBackward0>));\">wine</span> <span style=\"background-color:rgba(135,206,250,tensor(0.1653, device='cuda:0', grad_fn=<DivBackward0>));\">review</span> <span style=\"background-color:rgba(135,206,250,tensor(0.0603, device='cuda:0', grad_fn=<DivBackward0>));\">:</span> <span style=\"background-color:rgba(135,206,250,tensor(0.9062, device='cuda:0', grad_fn=<DivBackward0>));\">germany</span> <span style=\"background-color:rgba(135,206,250,tensor(0.0685, device='cuda:0', grad_fn=<DivBackward0>));\">:</span> <span style=\"background-color:rgba(135,206,250,tensor(0.3142, device='cuda:0', grad_fn=<DivBackward0>));\">mosel</span> <span style=\"background-color:rgba(135,206,250,tensor(0.0342, device='cuda:0', grad_fn=<DivBackward0>));\">:</span> <span style=\"background-color:rgba(135,206,250,tensor(0.3386, device='cuda:0', grad_fn=<DivBackward0>));\">riesling</span> <span style=\"background-color:rgba(135,206,250,tensor(0.0124, device='cuda:0', grad_fn=<DivBackward0>));\">:</span> <span style=\"background-color:rgba(135,206,250,tensor(0.0815, device='cuda:0', grad_fn=<DivBackward0>));\">pristine</span> <span style=\"background-color:rgba(135,206,250,tensor(0.1164, device='cuda:0', grad_fn=<DivBackward0>));\">aromas</span> <span style=\"background-color:rgba(135,206,250,tensor(0.0329, device='cuda:0', grad_fn=<DivBackward0>));\">of</span> <span style=\"background-color:rgba(135,206,250,tensor(0.0182, device='cuda:0', grad_fn=<DivBackward0>));\">freshly</span> <span style=\"background-color:rgba(135,206,250,tensor(0.0254, device='cuda:0', grad_fn=<DivBackward0>));\">pressed</span> <span style=\"background-color:rgba(135,206,250,tensor(0.0728, device='cuda:0', grad_fn=<DivBackward0>));\">yellow</span> <span style=\"background-color:rgba(135,206,250,tensor(0.0617, device='cuda:0', grad_fn=<DivBackward0>));\">flowers</span> <span style=\"background-color:rgba(135,206,250,tensor(0.0301, device='cuda:0', grad_fn=<DivBackward0>));\">and</span> <span style=\"background-color:rgba(135,206,250,tensor(0.0550, device='cuda:0', grad_fn=<DivBackward0>));\">white</span> <span style=\"background-color:rgba(135,206,250,tensor(0.0702, device='cuda:0', grad_fn=<DivBackward0>));\">peach</span> <span style=\"background-color:rgba(135,206,250,tensor(0.0349, device='cuda:0', grad_fn=<DivBackward0>));\">and</span> <span style=\"background-color:rgba(135,206,250,tensor(0.0725, device='cuda:0', grad_fn=<DivBackward0>));\">honeydew</span> <span style=\"background-color:rgba(135,206,250,tensor(0.0996, device='cuda:0', grad_fn=<DivBackward0>));\">melon</span> <span style=\"background-color:rgba(135,206,250,tensor(0.0091, device='cuda:0', grad_fn=<DivBackward0>));\">flavors</span> <span style=\"background-color:rgba(135,206,250,tensor(0.0935, device='cuda:0', grad_fn=<DivBackward0>));\">this</span> <span style=\"background-color:rgba(135,206,250,tensor(0.1145, device='cuda:0', grad_fn=<DivBackward0>));\">dry</span> <span style=\"background-color:rgba(135,206,250,tensor(0.2223, device='cuda:0', grad_fn=<DivBackward0>));\">riesling</span> <span style=\"background-color:rgba(135,206,250,tensor(0.2257, device='cuda:0', grad_fn=<DivBackward0>));\">.</span> <span style=\"background-color:rgba(135,206,250,tensor(0.0533, device='cuda:0', grad_fn=<DivBackward0>));\">the</span> <span style=\"background-color:rgba(135,206,250,tensor(0.5436, device='cuda:0', grad_fn=<DivBackward0>));\">palate</span> <span style=\"background-color:rgba(135,206,250,tensor(0.3807, device='cuda:0', grad_fn=<DivBackward0>));\">is</span> <span style=\"background-color:rgba(135,206,250,tensor(1., device='cuda:0', grad_fn=<DivBackward0>));\">full</span> <span style=\"background-color:rgba(135,206,250,tensor(0.6963, device='cuda:0', grad_fn=<DivBackward0>));\">of</span> <span style=\"background-color:rgba(135,206,250,tensor(0.2818, device='cuda:0', grad_fn=<DivBackward0>));\">the</span>"
      ],
      "text/plain": [
       "<IPython.core.display.HTML object>"
      ]
     },
     "metadata": {},
     "output_type": "display_data"
    },
    {
     "name": "stdout",
     "output_type": "stream",
     "text": [
      "mouth:   \t77.15%\n",
      "flavors:   \t11.53%\n",
      "palate:   \t6.52%\n",
      "same:   \t1.63%\n",
      "flavor:   \t1.28%\n",
      "--------\n",
      "\n"
     ]
    },
    {
     "data": {
      "text/html": [
       "<span style=\"background-color:rgba(135,206,250,tensor(0.1941, device='cuda:0', grad_fn=<DivBackward0>));\">wine</span> <span style=\"background-color:rgba(135,206,250,tensor(0.2408, device='cuda:0', grad_fn=<DivBackward0>));\">review</span> <span style=\"background-color:rgba(135,206,250,tensor(0.0758, device='cuda:0', grad_fn=<DivBackward0>));\">:</span> <span style=\"background-color:rgba(135,206,250,tensor(0.6599, device='cuda:0', grad_fn=<DivBackward0>));\">germany</span> <span style=\"background-color:rgba(135,206,250,tensor(0.1039, device='cuda:0', grad_fn=<DivBackward0>));\">:</span> <span style=\"background-color:rgba(135,206,250,tensor(0.0971, device='cuda:0', grad_fn=<DivBackward0>));\">mosel</span> <span style=\"background-color:rgba(135,206,250,tensor(0.0483, device='cuda:0', grad_fn=<DivBackward0>));\">:</span> <span style=\"background-color:rgba(135,206,250,tensor(0.0852, device='cuda:0', grad_fn=<DivBackward0>));\">riesling</span> <span style=\"background-color:rgba(135,206,250,tensor(0.0197, device='cuda:0', grad_fn=<DivBackward0>));\">:</span> <span style=\"background-color:rgba(135,206,250,tensor(0.0037, device='cuda:0', grad_fn=<DivBackward0>));\">pristine</span> <span style=\"background-color:rgba(135,206,250,tensor(0.0758, device='cuda:0', grad_fn=<DivBackward0>));\">aromas</span> <span style=\"background-color:rgba(135,206,250,tensor(0.0607, device='cuda:0', grad_fn=<DivBackward0>));\">of</span> <span style=\"background-color:rgba(135,206,250,tensor(0.0297, device='cuda:0', grad_fn=<DivBackward0>));\">freshly</span> <span style=\"background-color:rgba(135,206,250,tensor(0.0190, device='cuda:0', grad_fn=<DivBackward0>));\">pressed</span> <span style=\"background-color:rgba(135,206,250,tensor(0.0295, device='cuda:0', grad_fn=<DivBackward0>));\">yellow</span> <span style=\"background-color:rgba(135,206,250,tensor(0.0511, device='cuda:0', grad_fn=<DivBackward0>));\">flowers</span> <span style=\"background-color:rgba(135,206,250,tensor(0.0500, device='cuda:0', grad_fn=<DivBackward0>));\">and</span> <span style=\"background-color:rgba(135,206,250,tensor(0.0233, device='cuda:0', grad_fn=<DivBackward0>));\">white</span> <span style=\"background-color:rgba(135,206,250,tensor(0.0399, device='cuda:0', grad_fn=<DivBackward0>));\">peach</span> <span style=\"background-color:rgba(135,206,250,tensor(0.0542, device='cuda:0', grad_fn=<DivBackward0>));\">and</span> <span style=\"background-color:rgba(135,206,250,tensor(0.0030, device='cuda:0', grad_fn=<DivBackward0>));\">honeydew</span> <span style=\"background-color:rgba(135,206,250,tensor(0.0473, device='cuda:0', grad_fn=<DivBackward0>));\">melon</span> <span style=\"background-color:rgba(135,206,250,tensor(0.2383, device='cuda:0', grad_fn=<DivBackward0>));\">flavors</span> <span style=\"background-color:rgba(135,206,250,tensor(0.1529, device='cuda:0', grad_fn=<DivBackward0>));\">this</span> <span style=\"background-color:rgba(135,206,250,tensor(0.0245, device='cuda:0', grad_fn=<DivBackward0>));\">dry</span> <span style=\"background-color:rgba(135,206,250,tensor(0.0253, device='cuda:0', grad_fn=<DivBackward0>));\">riesling</span> <span style=\"background-color:rgba(135,206,250,tensor(0.5187, device='cuda:0', grad_fn=<DivBackward0>));\">.</span> <span style=\"background-color:rgba(135,206,250,tensor(0.1536, device='cuda:0', grad_fn=<DivBackward0>));\">the</span> <span style=\"background-color:rgba(135,206,250,tensor(0.1357, device='cuda:0', grad_fn=<DivBackward0>));\">palate</span> <span style=\"background-color:rgba(135,206,250,tensor(0.5757, device='cuda:0', grad_fn=<DivBackward0>));\">is</span> <span style=\"background-color:rgba(135,206,250,tensor(0.3320, device='cuda:0', grad_fn=<DivBackward0>));\">full</span> <span style=\"background-color:rgba(135,206,250,tensor(0.9265, device='cuda:0', grad_fn=<DivBackward0>));\">of</span> <span style=\"background-color:rgba(135,206,250,tensor(1., device='cuda:0', grad_fn=<DivBackward0>));\">the</span> <span style=\"background-color:rgba(135,206,250,tensor(0.1954, device='cuda:0', grad_fn=<DivBackward0>));\">mouth</span>"
      ],
      "text/plain": [
       "<IPython.core.display.HTML object>"
      ]
     },
     "metadata": {},
     "output_type": "display_data"
    },
    {
     "name": "stdout",
     "output_type": "stream",
     "text": [
      ",:   \t58.12%\n",
      "-:   \t17.34%\n",
      "with:   \t12.91%\n",
      "and:   \t8.76%\n",
      "but:   \t1.84%\n",
      "--------\n",
      "\n"
     ]
    },
    {
     "data": {
      "text/html": [
       "<span style=\"background-color:rgba(135,206,250,tensor(0.2308, device='cuda:0', grad_fn=<DivBackward0>));\">wine</span> <span style=\"background-color:rgba(135,206,250,tensor(0.0411, device='cuda:0', grad_fn=<DivBackward0>));\">review</span> <span style=\"background-color:rgba(135,206,250,tensor(0.0377, device='cuda:0', grad_fn=<DivBackward0>));\">:</span> <span style=\"background-color:rgba(135,206,250,tensor(0.6419, device='cuda:0', grad_fn=<DivBackward0>));\">germany</span> <span style=\"background-color:rgba(135,206,250,tensor(0.0534, device='cuda:0', grad_fn=<DivBackward0>));\">:</span> <span style=\"background-color:rgba(135,206,250,tensor(0.2984, device='cuda:0', grad_fn=<DivBackward0>));\">mosel</span> <span style=\"background-color:rgba(135,206,250,tensor(0.0289, device='cuda:0', grad_fn=<DivBackward0>));\">:</span> <span style=\"background-color:rgba(135,206,250,tensor(0.0287, device='cuda:0', grad_fn=<DivBackward0>));\">riesling</span> <span style=\"background-color:rgba(135,206,250,tensor(0.0117, device='cuda:0', grad_fn=<DivBackward0>));\">:</span> <span style=\"background-color:rgba(135,206,250,tensor(0.1312, device='cuda:0', grad_fn=<DivBackward0>));\">pristine</span> <span style=\"background-color:rgba(135,206,250,tensor(0.1151, device='cuda:0', grad_fn=<DivBackward0>));\">aromas</span> <span style=\"background-color:rgba(135,206,250,tensor(0.0370, device='cuda:0', grad_fn=<DivBackward0>));\">of</span> <span style=\"background-color:rgba(135,206,250,tensor(0.0209, device='cuda:0', grad_fn=<DivBackward0>));\">freshly</span> <span style=\"background-color:rgba(135,206,250,tensor(0.0397, device='cuda:0', grad_fn=<DivBackward0>));\">pressed</span> <span style=\"background-color:rgba(135,206,250,tensor(0.0504, device='cuda:0', grad_fn=<DivBackward0>));\">yellow</span> <span style=\"background-color:rgba(135,206,250,tensor(0.0642, device='cuda:0', grad_fn=<DivBackward0>));\">flowers</span> <span style=\"background-color:rgba(135,206,250,tensor(0.0531, device='cuda:0', grad_fn=<DivBackward0>));\">and</span> <span style=\"background-color:rgba(135,206,250,tensor(0.0625, device='cuda:0', grad_fn=<DivBackward0>));\">white</span> <span style=\"background-color:rgba(135,206,250,tensor(0.0585, device='cuda:0', grad_fn=<DivBackward0>));\">peach</span> <span style=\"background-color:rgba(135,206,250,tensor(0.0585, device='cuda:0', grad_fn=<DivBackward0>));\">and</span> <span style=\"background-color:rgba(135,206,250,tensor(0.0850, device='cuda:0', grad_fn=<DivBackward0>));\">honeydew</span> <span style=\"background-color:rgba(135,206,250,tensor(0.0712, device='cuda:0', grad_fn=<DivBackward0>));\">melon</span> <span style=\"background-color:rgba(135,206,250,tensor(0.1169, device='cuda:0', grad_fn=<DivBackward0>));\">flavors</span> <span style=\"background-color:rgba(135,206,250,tensor(0.1457, device='cuda:0', grad_fn=<DivBackward0>));\">this</span> <span style=\"background-color:rgba(135,206,250,tensor(0.1009, device='cuda:0', grad_fn=<DivBackward0>));\">dry</span> <span style=\"background-color:rgba(135,206,250,tensor(0.2233, device='cuda:0', grad_fn=<DivBackward0>));\">riesling</span> <span style=\"background-color:rgba(135,206,250,tensor(0.2948, device='cuda:0', grad_fn=<DivBackward0>));\">.</span> <span style=\"background-color:rgba(135,206,250,tensor(0.1451, device='cuda:0', grad_fn=<DivBackward0>));\">the</span> <span style=\"background-color:rgba(135,206,250,tensor(0.2690, device='cuda:0', grad_fn=<DivBackward0>));\">palate</span> <span style=\"background-color:rgba(135,206,250,tensor(0.3264, device='cuda:0', grad_fn=<DivBackward0>));\">is</span> <span style=\"background-color:rgba(135,206,250,tensor(0.2577, device='cuda:0', grad_fn=<DivBackward0>));\">full</span> <span style=\"background-color:rgba(135,206,250,tensor(0.2982, device='cuda:0', grad_fn=<DivBackward0>));\">of</span> <span style=\"background-color:rgba(135,206,250,tensor(1., device='cuda:0', grad_fn=<DivBackward0>));\">the</span> <span style=\"background-color:rgba(135,206,250,tensor(0.6935, device='cuda:0', grad_fn=<DivBackward0>));\">mouth</span> <span style=\"background-color:rgba(135,206,250,tensor(0.3140, device='cuda:0', grad_fn=<DivBackward0>));\">,</span>"
      ],
      "text/plain": [
       "<IPython.core.display.HTML object>"
      ]
     },
     "metadata": {},
     "output_type": "display_data"
    },
    {
     "name": "stdout",
     "output_type": "stream",
     "text": [
      "with:   \t88.43%\n",
      "but:   \t8.33%\n",
      "yet:   \t0.98%\n",
      "accented:   \t0.39%\n",
      "however:   \t0.3%\n",
      "--------\n",
      "\n"
     ]
    },
    {
     "data": {
      "text/html": [
       "<span style=\"background-color:rgba(135,206,250,tensor(0.2665, device='cuda:0', grad_fn=<DivBackward0>));\">wine</span> <span style=\"background-color:rgba(135,206,250,tensor(0.1224, device='cuda:0', grad_fn=<DivBackward0>));\">review</span> <span style=\"background-color:rgba(135,206,250,tensor(0.1189, device='cuda:0', grad_fn=<DivBackward0>));\">:</span> <span style=\"background-color:rgba(135,206,250,tensor(0.3556, device='cuda:0', grad_fn=<DivBackward0>));\">germany</span> <span style=\"background-color:rgba(135,206,250,tensor(0.1171, device='cuda:0', grad_fn=<DivBackward0>));\">:</span> <span style=\"background-color:rgba(135,206,250,tensor(0.5119, device='cuda:0', grad_fn=<DivBackward0>));\">mosel</span> <span style=\"background-color:rgba(135,206,250,tensor(0.0540, device='cuda:0', grad_fn=<DivBackward0>));\">:</span> <span style=\"background-color:rgba(135,206,250,tensor(0.4058, device='cuda:0', grad_fn=<DivBackward0>));\">riesling</span> <span style=\"background-color:rgba(135,206,250,tensor(0.0179, device='cuda:0', grad_fn=<DivBackward0>));\">:</span> <span style=\"background-color:rgba(135,206,250,tensor(0.2566, device='cuda:0', grad_fn=<DivBackward0>));\">pristine</span> <span style=\"background-color:rgba(135,206,250,tensor(0.1806, device='cuda:0', grad_fn=<DivBackward0>));\">aromas</span> <span style=\"background-color:rgba(135,206,250,tensor(0.0204, device='cuda:0', grad_fn=<DivBackward0>));\">of</span> <span style=\"background-color:rgba(135,206,250,tensor(0.0179, device='cuda:0', grad_fn=<DivBackward0>));\">freshly</span> <span style=\"background-color:rgba(135,206,250,tensor(0.0347, device='cuda:0', grad_fn=<DivBackward0>));\">pressed</span> <span style=\"background-color:rgba(135,206,250,tensor(0.1178, device='cuda:0', grad_fn=<DivBackward0>));\">yellow</span> <span style=\"background-color:rgba(135,206,250,tensor(0.1532, device='cuda:0', grad_fn=<DivBackward0>));\">flowers</span> <span style=\"background-color:rgba(135,206,250,tensor(0.0155, device='cuda:0', grad_fn=<DivBackward0>));\">and</span> <span style=\"background-color:rgba(135,206,250,tensor(0.0917, device='cuda:0', grad_fn=<DivBackward0>));\">white</span> <span style=\"background-color:rgba(135,206,250,tensor(0.1347, device='cuda:0', grad_fn=<DivBackward0>));\">peach</span> <span style=\"background-color:rgba(135,206,250,tensor(0.0194, device='cuda:0', grad_fn=<DivBackward0>));\">and</span> <span style=\"background-color:rgba(135,206,250,tensor(0.1691, device='cuda:0', grad_fn=<DivBackward0>));\">honeydew</span> <span style=\"background-color:rgba(135,206,250,tensor(0.0020, device='cuda:0', grad_fn=<DivBackward0>));\">melon</span> <span style=\"background-color:rgba(135,206,250,tensor(0.1784, device='cuda:0', grad_fn=<DivBackward0>));\">flavors</span> <span style=\"background-color:rgba(135,206,250,tensor(0.0535, device='cuda:0', grad_fn=<DivBackward0>));\">this</span> <span style=\"background-color:rgba(135,206,250,tensor(0.0135, device='cuda:0', grad_fn=<DivBackward0>));\">dry</span> <span style=\"background-color:rgba(135,206,250,tensor(0.1766, device='cuda:0', grad_fn=<DivBackward0>));\">riesling</span> <span style=\"background-color:rgba(135,206,250,tensor(0.1642, device='cuda:0', grad_fn=<DivBackward0>));\">.</span> <span style=\"background-color:rgba(135,206,250,tensor(0.0394, device='cuda:0', grad_fn=<DivBackward0>));\">the</span> <span style=\"background-color:rgba(135,206,250,tensor(0.0804, device='cuda:0', grad_fn=<DivBackward0>));\">palate</span> <span style=\"background-color:rgba(135,206,250,tensor(0.0807, device='cuda:0', grad_fn=<DivBackward0>));\">is</span> <span style=\"background-color:rgba(135,206,250,tensor(0.2547, device='cuda:0', grad_fn=<DivBackward0>));\">full</span> <span style=\"background-color:rgba(135,206,250,tensor(0.0752, device='cuda:0', grad_fn=<DivBackward0>));\">of</span> <span style=\"background-color:rgba(135,206,250,tensor(0.3263, device='cuda:0', grad_fn=<DivBackward0>));\">the</span> <span style=\"background-color:rgba(135,206,250,tensor(0.5512, device='cuda:0', grad_fn=<DivBackward0>));\">mouth</span> <span style=\"background-color:rgba(135,206,250,tensor(1., device='cuda:0', grad_fn=<DivBackward0>));\">,</span> <span style=\"background-color:rgba(135,206,250,tensor(0.5497, device='cuda:0', grad_fn=<DivBackward0>));\">with</span>"
      ],
      "text/plain": [
       "<IPython.core.display.HTML object>"
      ]
     },
     "metadata": {},
     "output_type": "display_data"
    },
    {
     "name": "stdout",
     "output_type": "stream",
     "text": [
      "a:   \t97.24%\n",
      "just:   \t0.64%\n",
      "the:   \t0.23%\n",
      "an:   \t0.22%\n",
      "hints:   \t0.2%\n",
      "--------\n",
      "\n"
     ]
    },
    {
     "data": {
      "text/html": [
       "<span style=\"background-color:rgba(135,206,250,tensor(0.1752, device='cuda:0', grad_fn=<DivBackward0>));\">wine</span> <span style=\"background-color:rgba(135,206,250,tensor(0.0350, device='cuda:0', grad_fn=<DivBackward0>));\">review</span> <span style=\"background-color:rgba(135,206,250,tensor(0.0195, device='cuda:0', grad_fn=<DivBackward0>));\">:</span> <span style=\"background-color:rgba(135,206,250,tensor(0.5020, device='cuda:0', grad_fn=<DivBackward0>));\">germany</span> <span style=\"background-color:rgba(135,206,250,tensor(0.0363, device='cuda:0', grad_fn=<DivBackward0>));\">:</span> <span style=\"background-color:rgba(135,206,250,tensor(0.2442, device='cuda:0', grad_fn=<DivBackward0>));\">mosel</span> <span style=\"background-color:rgba(135,206,250,tensor(0.0178, device='cuda:0', grad_fn=<DivBackward0>));\">:</span> <span style=\"background-color:rgba(135,206,250,tensor(0.2039, device='cuda:0', grad_fn=<DivBackward0>));\">riesling</span> <span style=\"background-color:rgba(135,206,250,tensor(0.0056, device='cuda:0', grad_fn=<DivBackward0>));\">:</span> <span style=\"background-color:rgba(135,206,250,tensor(0.0964, device='cuda:0', grad_fn=<DivBackward0>));\">pristine</span> <span style=\"background-color:rgba(135,206,250,tensor(0.0727, device='cuda:0', grad_fn=<DivBackward0>));\">aromas</span> <span style=\"background-color:rgba(135,206,250,tensor(0.0197, device='cuda:0', grad_fn=<DivBackward0>));\">of</span> <span style=\"background-color:rgba(135,206,250,tensor(0.0133, device='cuda:0', grad_fn=<DivBackward0>));\">freshly</span> <span style=\"background-color:rgba(135,206,250,tensor(0.0254, device='cuda:0', grad_fn=<DivBackward0>));\">pressed</span> <span style=\"background-color:rgba(135,206,250,tensor(0.0029, device='cuda:0', grad_fn=<DivBackward0>));\">yellow</span> <span style=\"background-color:rgba(135,206,250,tensor(0.0683, device='cuda:0', grad_fn=<DivBackward0>));\">flowers</span> <span style=\"background-color:rgba(135,206,250,tensor(0.0163, device='cuda:0', grad_fn=<DivBackward0>));\">and</span> <span style=\"background-color:rgba(135,206,250,tensor(0.0419, device='cuda:0', grad_fn=<DivBackward0>));\">white</span> <span style=\"background-color:rgba(135,206,250,tensor(0.0442, device='cuda:0', grad_fn=<DivBackward0>));\">peach</span> <span style=\"background-color:rgba(135,206,250,tensor(0.0176, device='cuda:0', grad_fn=<DivBackward0>));\">and</span> <span style=\"background-color:rgba(135,206,250,tensor(0.0661, device='cuda:0', grad_fn=<DivBackward0>));\">honeydew</span> <span style=\"background-color:rgba(135,206,250,tensor(0.0019, device='cuda:0', grad_fn=<DivBackward0>));\">melon</span> <span style=\"background-color:rgba(135,206,250,tensor(0.0853, device='cuda:0', grad_fn=<DivBackward0>));\">flavors</span> <span style=\"background-color:rgba(135,206,250,tensor(0.0064, device='cuda:0', grad_fn=<DivBackward0>));\">this</span> <span style=\"background-color:rgba(135,206,250,tensor(0.0969, device='cuda:0', grad_fn=<DivBackward0>));\">dry</span> <span style=\"background-color:rgba(135,206,250,tensor(0.1075, device='cuda:0', grad_fn=<DivBackward0>));\">riesling</span> <span style=\"background-color:rgba(135,206,250,tensor(0.0950, device='cuda:0', grad_fn=<DivBackward0>));\">.</span> <span style=\"background-color:rgba(135,206,250,tensor(0.0366, device='cuda:0', grad_fn=<DivBackward0>));\">the</span> <span style=\"background-color:rgba(135,206,250,tensor(0.1833, device='cuda:0', grad_fn=<DivBackward0>));\">palate</span> <span style=\"background-color:rgba(135,206,250,tensor(0.0502, device='cuda:0', grad_fn=<DivBackward0>));\">is</span> <span style=\"background-color:rgba(135,206,250,tensor(0.0915, device='cuda:0', grad_fn=<DivBackward0>));\">full</span> <span style=\"background-color:rgba(135,206,250,tensor(0.1132, device='cuda:0', grad_fn=<DivBackward0>));\">of</span> <span style=\"background-color:rgba(135,206,250,tensor(0.1093, device='cuda:0', grad_fn=<DivBackward0>));\">the</span> <span style=\"background-color:rgba(135,206,250,tensor(0.3892, device='cuda:0', grad_fn=<DivBackward0>));\">mouth</span> <span style=\"background-color:rgba(135,206,250,tensor(0.2338, device='cuda:0', grad_fn=<DivBackward0>));\">,</span> <span style=\"background-color:rgba(135,206,250,tensor(1., device='cuda:0', grad_fn=<DivBackward0>));\">with</span> <span style=\"background-color:rgba(135,206,250,tensor(0.2053, device='cuda:0', grad_fn=<DivBackward0>));\">a</span>"
      ],
      "text/plain": [
       "<IPython.core.display.HTML object>"
      ]
     },
     "metadata": {},
     "output_type": "display_data"
    },
    {
     "name": "stdout",
     "output_type": "stream",
     "text": [
      "hint:   \t50.63%\n",
      "touch:   \t14.88%\n",
      "lingering:   \t14.68%\n",
      "long:   \t2.43%\n",
      "creamy:   \t1.93%\n",
      "--------\n",
      "\n"
     ]
    },
    {
     "data": {
      "text/html": [
       "<span style=\"background-color:rgba(135,206,250,tensor(0.1487, device='cuda:0', grad_fn=<DivBackward0>));\">wine</span> <span style=\"background-color:rgba(135,206,250,tensor(0.1833, device='cuda:0', grad_fn=<DivBackward0>));\">review</span> <span style=\"background-color:rgba(135,206,250,tensor(0.0144, device='cuda:0', grad_fn=<DivBackward0>));\">:</span> <span style=\"background-color:rgba(135,206,250,tensor(0.5251, device='cuda:0', grad_fn=<DivBackward0>));\">germany</span> <span style=\"background-color:rgba(135,206,250,tensor(0.0529, device='cuda:0', grad_fn=<DivBackward0>));\">:</span> <span style=\"background-color:rgba(135,206,250,tensor(0.1067, device='cuda:0', grad_fn=<DivBackward0>));\">mosel</span> <span style=\"background-color:rgba(135,206,250,tensor(0.0050, device='cuda:0', grad_fn=<DivBackward0>));\">:</span> <span style=\"background-color:rgba(135,206,250,tensor(0.0906, device='cuda:0', grad_fn=<DivBackward0>));\">riesling</span> <span style=\"background-color:rgba(135,206,250,tensor(0.0176, device='cuda:0', grad_fn=<DivBackward0>));\">:</span> <span style=\"background-color:rgba(135,206,250,tensor(0.0201, device='cuda:0', grad_fn=<DivBackward0>));\">pristine</span> <span style=\"background-color:rgba(135,206,250,tensor(0.0580, device='cuda:0', grad_fn=<DivBackward0>));\">aromas</span> <span style=\"background-color:rgba(135,206,250,tensor(0.0274, device='cuda:0', grad_fn=<DivBackward0>));\">of</span> <span style=\"background-color:rgba(135,206,250,tensor(0.0073, device='cuda:0', grad_fn=<DivBackward0>));\">freshly</span> <span style=\"background-color:rgba(135,206,250,tensor(0.0135, device='cuda:0', grad_fn=<DivBackward0>));\">pressed</span> <span style=\"background-color:rgba(135,206,250,tensor(0.0136, device='cuda:0', grad_fn=<DivBackward0>));\">yellow</span> <span style=\"background-color:rgba(135,206,250,tensor(0.0176, device='cuda:0', grad_fn=<DivBackward0>));\">flowers</span> <span style=\"background-color:rgba(135,206,250,tensor(0.0222, device='cuda:0', grad_fn=<DivBackward0>));\">and</span> <span style=\"background-color:rgba(135,206,250,tensor(0.0006, device='cuda:0', grad_fn=<DivBackward0>));\">white</span> <span style=\"background-color:rgba(135,206,250,tensor(0.0096, device='cuda:0', grad_fn=<DivBackward0>));\">peach</span> <span style=\"background-color:rgba(135,206,250,tensor(0.0227, device='cuda:0', grad_fn=<DivBackward0>));\">and</span> <span style=\"background-color:rgba(135,206,250,tensor(0.0143, device='cuda:0', grad_fn=<DivBackward0>));\">honeydew</span> <span style=\"background-color:rgba(135,206,250,tensor(0.0181, device='cuda:0', grad_fn=<DivBackward0>));\">melon</span> <span style=\"background-color:rgba(135,206,250,tensor(0.0535, device='cuda:0', grad_fn=<DivBackward0>));\">flavors</span> <span style=\"background-color:rgba(135,206,250,tensor(0.0351, device='cuda:0', grad_fn=<DivBackward0>));\">this</span> <span style=\"background-color:rgba(135,206,250,tensor(0.0210, device='cuda:0', grad_fn=<DivBackward0>));\">dry</span> <span style=\"background-color:rgba(135,206,250,tensor(0.0432, device='cuda:0', grad_fn=<DivBackward0>));\">riesling</span> <span style=\"background-color:rgba(135,206,250,tensor(0.0783, device='cuda:0', grad_fn=<DivBackward0>));\">.</span> <span style=\"background-color:rgba(135,206,250,tensor(0.0589, device='cuda:0', grad_fn=<DivBackward0>));\">the</span> <span style=\"background-color:rgba(135,206,250,tensor(0.0618, device='cuda:0', grad_fn=<DivBackward0>));\">palate</span> <span style=\"background-color:rgba(135,206,250,tensor(0.0911, device='cuda:0', grad_fn=<DivBackward0>));\">is</span> <span style=\"background-color:rgba(135,206,250,tensor(0.0975, device='cuda:0', grad_fn=<DivBackward0>));\">full</span> <span style=\"background-color:rgba(135,206,250,tensor(0.1041, device='cuda:0', grad_fn=<DivBackward0>));\">of</span> <span style=\"background-color:rgba(135,206,250,tensor(0.1275, device='cuda:0', grad_fn=<DivBackward0>));\">the</span> <span style=\"background-color:rgba(135,206,250,tensor(0.0531, device='cuda:0', grad_fn=<DivBackward0>));\">mouth</span> <span style=\"background-color:rgba(135,206,250,tensor(0.1549, device='cuda:0', grad_fn=<DivBackward0>));\">,</span> <span style=\"background-color:rgba(135,206,250,tensor(0.5430, device='cuda:0', grad_fn=<DivBackward0>));\">with</span> <span style=\"background-color:rgba(135,206,250,tensor(1., device='cuda:0', grad_fn=<DivBackward0>));\">a</span> <span style=\"background-color:rgba(135,206,250,tensor(0.1654, device='cuda:0', grad_fn=<DivBackward0>));\">hint</span>"
      ],
      "text/plain": [
       "<IPython.core.display.HTML object>"
      ]
     },
     "metadata": {},
     "output_type": "display_data"
    },
    {
     "name": "stdout",
     "output_type": "stream",
     "text": [
      "of:   \t100.0%\n",
      "that:   \t0.0%\n",
      ",:   \t0.0%\n",
      "on:   \t0.0%\n",
      "and:   \t0.0%\n",
      "--------\n",
      "\n"
     ]
    },
    {
     "data": {
      "text/html": [
       "<span style=\"background-color:rgba(135,206,250,tensor(0.2161, device='cuda:0', grad_fn=<DivBackward0>));\">wine</span> <span style=\"background-color:rgba(135,206,250,tensor(0.0308, device='cuda:0', grad_fn=<DivBackward0>));\">review</span> <span style=\"background-color:rgba(135,206,250,tensor(0.0136, device='cuda:0', grad_fn=<DivBackward0>));\">:</span> <span style=\"background-color:rgba(135,206,250,tensor(1., device='cuda:0', grad_fn=<DivBackward0>));\">germany</span> <span style=\"background-color:rgba(135,206,250,tensor(0.0641, device='cuda:0', grad_fn=<DivBackward0>));\">:</span> <span style=\"background-color:rgba(135,206,250,tensor(0.3653, device='cuda:0', grad_fn=<DivBackward0>));\">mosel</span> <span style=\"background-color:rgba(135,206,250,tensor(0.0334, device='cuda:0', grad_fn=<DivBackward0>));\">:</span> <span style=\"background-color:rgba(135,206,250,tensor(0.5709, device='cuda:0', grad_fn=<DivBackward0>));\">riesling</span> <span style=\"background-color:rgba(135,206,250,tensor(0.0097, device='cuda:0', grad_fn=<DivBackward0>));\">:</span> <span style=\"background-color:rgba(135,206,250,tensor(0.0025, device='cuda:0', grad_fn=<DivBackward0>));\">pristine</span> <span style=\"background-color:rgba(135,206,250,tensor(0.1057, device='cuda:0', grad_fn=<DivBackward0>));\">aromas</span> <span style=\"background-color:rgba(135,206,250,tensor(0.0195, device='cuda:0', grad_fn=<DivBackward0>));\">of</span> <span style=\"background-color:rgba(135,206,250,tensor(0.0009, device='cuda:0', grad_fn=<DivBackward0>));\">freshly</span> <span style=\"background-color:rgba(135,206,250,tensor(0.0492, device='cuda:0', grad_fn=<DivBackward0>));\">pressed</span> <span style=\"background-color:rgba(135,206,250,tensor(0.1037, device='cuda:0', grad_fn=<DivBackward0>));\">yellow</span> <span style=\"background-color:rgba(135,206,250,tensor(0.0641, device='cuda:0', grad_fn=<DivBackward0>));\">flowers</span> <span style=\"background-color:rgba(135,206,250,tensor(0.0232, device='cuda:0', grad_fn=<DivBackward0>));\">and</span> <span style=\"background-color:rgba(135,206,250,tensor(0.0947, device='cuda:0', grad_fn=<DivBackward0>));\">white</span> <span style=\"background-color:rgba(135,206,250,tensor(0.0771, device='cuda:0', grad_fn=<DivBackward0>));\">peach</span> <span style=\"background-color:rgba(135,206,250,tensor(0.0251, device='cuda:0', grad_fn=<DivBackward0>));\">and</span> <span style=\"background-color:rgba(135,206,250,tensor(0.0938, device='cuda:0', grad_fn=<DivBackward0>));\">honeydew</span> <span style=\"background-color:rgba(135,206,250,tensor(0.1063, device='cuda:0', grad_fn=<DivBackward0>));\">melon</span> <span style=\"background-color:rgba(135,206,250,tensor(0.1145, device='cuda:0', grad_fn=<DivBackward0>));\">flavors</span> <span style=\"background-color:rgba(135,206,250,tensor(0.0532, device='cuda:0', grad_fn=<DivBackward0>));\">this</span> <span style=\"background-color:rgba(135,206,250,tensor(0.1159, device='cuda:0', grad_fn=<DivBackward0>));\">dry</span> <span style=\"background-color:rgba(135,206,250,tensor(0.2048, device='cuda:0', grad_fn=<DivBackward0>));\">riesling</span> <span style=\"background-color:rgba(135,206,250,tensor(0., device='cuda:0', grad_fn=<DivBackward0>));\">.</span> <span style=\"background-color:rgba(135,206,250,tensor(0.0536, device='cuda:0', grad_fn=<DivBackward0>));\">the</span> <span style=\"background-color:rgba(135,206,250,tensor(0.1471, device='cuda:0', grad_fn=<DivBackward0>));\">palate</span> <span style=\"background-color:rgba(135,206,250,tensor(0.0567, device='cuda:0', grad_fn=<DivBackward0>));\">is</span> <span style=\"background-color:rgba(135,206,250,tensor(0.0532, device='cuda:0', grad_fn=<DivBackward0>));\">full</span> <span style=\"background-color:rgba(135,206,250,tensor(0.0325, device='cuda:0', grad_fn=<DivBackward0>));\">of</span> <span style=\"background-color:rgba(135,206,250,tensor(0.1852, device='cuda:0', grad_fn=<DivBackward0>));\">the</span> <span style=\"background-color:rgba(135,206,250,tensor(0.1782, device='cuda:0', grad_fn=<DivBackward0>));\">mouth</span> <span style=\"background-color:rgba(135,206,250,tensor(0.0990, device='cuda:0', grad_fn=<DivBackward0>));\">,</span> <span style=\"background-color:rgba(135,206,250,tensor(0.5284, device='cuda:0', grad_fn=<DivBackward0>));\">with</span> <span style=\"background-color:rgba(135,206,250,tensor(0.5888, device='cuda:0', grad_fn=<DivBackward0>));\">a</span> <span style=\"background-color:rgba(135,206,250,tensor(0.0426, device='cuda:0', grad_fn=<DivBackward0>));\">hint</span> <span style=\"background-color:rgba(135,206,250,tensor(0.2444, device='cuda:0', grad_fn=<DivBackward0>));\">of</span>"
      ],
      "text/plain": [
       "<IPython.core.display.HTML object>"
      ]
     },
     "metadata": {},
     "output_type": "display_data"
    },
    {
     "name": "stdout",
     "output_type": "stream",
     "text": [
      "sweet:   \t36.43%\n",
      "lime:   \t14.73%\n",
      "tangerine:   \t12.17%\n",
      "fresh:   \t5.52%\n",
      "zesty:   \t5.02%\n",
      "--------\n",
      "\n"
     ]
    },
    {
     "data": {
      "text/html": [
       "<span style=\"background-color:rgba(135,206,250,tensor(0.0725, device='cuda:0', grad_fn=<DivBackward0>));\">wine</span> <span style=\"background-color:rgba(135,206,250,tensor(0.0549, device='cuda:0', grad_fn=<DivBackward0>));\">review</span> <span style=\"background-color:rgba(135,206,250,tensor(0.0495, device='cuda:0', grad_fn=<DivBackward0>));\">:</span> <span style=\"background-color:rgba(135,206,250,tensor(0.7784, device='cuda:0', grad_fn=<DivBackward0>));\">germany</span> <span style=\"background-color:rgba(135,206,250,tensor(0.0528, device='cuda:0', grad_fn=<DivBackward0>));\">:</span> <span style=\"background-color:rgba(135,206,250,tensor(0.1615, device='cuda:0', grad_fn=<DivBackward0>));\">mosel</span> <span style=\"background-color:rgba(135,206,250,tensor(0.0241, device='cuda:0', grad_fn=<DivBackward0>));\">:</span> <span style=\"background-color:rgba(135,206,250,tensor(0.0764, device='cuda:0', grad_fn=<DivBackward0>));\">riesling</span> <span style=\"background-color:rgba(135,206,250,tensor(0.0011, device='cuda:0', grad_fn=<DivBackward0>));\">:</span> <span style=\"background-color:rgba(135,206,250,tensor(0.0535, device='cuda:0', grad_fn=<DivBackward0>));\">pristine</span> <span style=\"background-color:rgba(135,206,250,tensor(0.0637, device='cuda:0', grad_fn=<DivBackward0>));\">aromas</span> <span style=\"background-color:rgba(135,206,250,tensor(0.0402, device='cuda:0', grad_fn=<DivBackward0>));\">of</span> <span style=\"background-color:rgba(135,206,250,tensor(0.0105, device='cuda:0', grad_fn=<DivBackward0>));\">freshly</span> <span style=\"background-color:rgba(135,206,250,tensor(0.0130, device='cuda:0', grad_fn=<DivBackward0>));\">pressed</span> <span style=\"background-color:rgba(135,206,250,tensor(0.0427, device='cuda:0', grad_fn=<DivBackward0>));\">yellow</span> <span style=\"background-color:rgba(135,206,250,tensor(0.0209, device='cuda:0', grad_fn=<DivBackward0>));\">flowers</span> <span style=\"background-color:rgba(135,206,250,tensor(0.0309, device='cuda:0', grad_fn=<DivBackward0>));\">and</span> <span style=\"background-color:rgba(135,206,250,tensor(0.0213, device='cuda:0', grad_fn=<DivBackward0>));\">white</span> <span style=\"background-color:rgba(135,206,250,tensor(0.0462, device='cuda:0', grad_fn=<DivBackward0>));\">peach</span> <span style=\"background-color:rgba(135,206,250,tensor(0.0315, device='cuda:0', grad_fn=<DivBackward0>));\">and</span> <span style=\"background-color:rgba(135,206,250,tensor(0.0269, device='cuda:0', grad_fn=<DivBackward0>));\">honeydew</span> <span style=\"background-color:rgba(135,206,250,tensor(0.0300, device='cuda:0', grad_fn=<DivBackward0>));\">melon</span> <span style=\"background-color:rgba(135,206,250,tensor(0.1603, device='cuda:0', grad_fn=<DivBackward0>));\">flavors</span> <span style=\"background-color:rgba(135,206,250,tensor(0.0617, device='cuda:0', grad_fn=<DivBackward0>));\">this</span> <span style=\"background-color:rgba(135,206,250,tensor(0.0660, device='cuda:0', grad_fn=<DivBackward0>));\">dry</span> <span style=\"background-color:rgba(135,206,250,tensor(0.0654, device='cuda:0', grad_fn=<DivBackward0>));\">riesling</span> <span style=\"background-color:rgba(135,206,250,tensor(0.1160, device='cuda:0', grad_fn=<DivBackward0>));\">.</span> <span style=\"background-color:rgba(135,206,250,tensor(0.0828, device='cuda:0', grad_fn=<DivBackward0>));\">the</span> <span style=\"background-color:rgba(135,206,250,tensor(0.1198, device='cuda:0', grad_fn=<DivBackward0>));\">palate</span> <span style=\"background-color:rgba(135,206,250,tensor(0.0857, device='cuda:0', grad_fn=<DivBackward0>));\">is</span> <span style=\"background-color:rgba(135,206,250,tensor(0.0394, device='cuda:0', grad_fn=<DivBackward0>));\">full</span> <span style=\"background-color:rgba(135,206,250,tensor(0.1379, device='cuda:0', grad_fn=<DivBackward0>));\">of</span> <span style=\"background-color:rgba(135,206,250,tensor(0.1471, device='cuda:0', grad_fn=<DivBackward0>));\">the</span> <span style=\"background-color:rgba(135,206,250,tensor(0.1189, device='cuda:0', grad_fn=<DivBackward0>));\">mouth</span> <span style=\"background-color:rgba(135,206,250,tensor(0.0969, device='cuda:0', grad_fn=<DivBackward0>));\">,</span> <span style=\"background-color:rgba(135,206,250,tensor(0.3652, device='cuda:0', grad_fn=<DivBackward0>));\">with</span> <span style=\"background-color:rgba(135,206,250,tensor(0.8074, device='cuda:0', grad_fn=<DivBackward0>));\">a</span> <span style=\"background-color:rgba(135,206,250,tensor(1., device='cuda:0', grad_fn=<DivBackward0>));\">hint</span> <span style=\"background-color:rgba(135,206,250,tensor(0.8228, device='cuda:0', grad_fn=<DivBackward0>));\">of</span> <span style=\"background-color:rgba(135,206,250,tensor(0.1072, device='cuda:0', grad_fn=<DivBackward0>));\">tangerine</span>"
      ],
      "text/plain": [
       "<IPython.core.display.HTML object>"
      ]
     },
     "metadata": {},
     "output_type": "display_data"
    },
    {
     "name": "stdout",
     "output_type": "stream",
     "text": [
      "zest:   \t55.14%\n",
      ".:   \t21.03%\n",
      "and:   \t13.91%\n",
      "acidity:   \t4.31%\n",
      "peel:   \t1.98%\n",
      "--------\n",
      "\n"
     ]
    },
    {
     "data": {
      "text/html": [
       "<span style=\"background-color:rgba(135,206,250,tensor(0.0812, device='cuda:0', grad_fn=<DivBackward0>));\">wine</span> <span style=\"background-color:rgba(135,206,250,tensor(0.1753, device='cuda:0', grad_fn=<DivBackward0>));\">review</span> <span style=\"background-color:rgba(135,206,250,tensor(0.0974, device='cuda:0', grad_fn=<DivBackward0>));\">:</span> <span style=\"background-color:rgba(135,206,250,tensor(1., device='cuda:0', grad_fn=<DivBackward0>));\">germany</span> <span style=\"background-color:rgba(135,206,250,tensor(0.0916, device='cuda:0', grad_fn=<DivBackward0>));\">:</span> <span style=\"background-color:rgba(135,206,250,tensor(0., device='cuda:0', grad_fn=<DivBackward0>));\">mosel</span> <span style=\"background-color:rgba(135,206,250,tensor(0.0368, device='cuda:0', grad_fn=<DivBackward0>));\">:</span> <span style=\"background-color:rgba(135,206,250,tensor(0.1590, device='cuda:0', grad_fn=<DivBackward0>));\">riesling</span> <span style=\"background-color:rgba(135,206,250,tensor(0.0119, device='cuda:0', grad_fn=<DivBackward0>));\">:</span> <span style=\"background-color:rgba(135,206,250,tensor(0.0521, device='cuda:0', grad_fn=<DivBackward0>));\">pristine</span> <span style=\"background-color:rgba(135,206,250,tensor(0.0645, device='cuda:0', grad_fn=<DivBackward0>));\">aromas</span> <span style=\"background-color:rgba(135,206,250,tensor(0.0305, device='cuda:0', grad_fn=<DivBackward0>));\">of</span> <span style=\"background-color:rgba(135,206,250,tensor(0.0190, device='cuda:0', grad_fn=<DivBackward0>));\">freshly</span> <span style=\"background-color:rgba(135,206,250,tensor(0.0161, device='cuda:0', grad_fn=<DivBackward0>));\">pressed</span> <span style=\"background-color:rgba(135,206,250,tensor(0.0318, device='cuda:0', grad_fn=<DivBackward0>));\">yellow</span> <span style=\"background-color:rgba(135,206,250,tensor(0.0298, device='cuda:0', grad_fn=<DivBackward0>));\">flowers</span> <span style=\"background-color:rgba(135,206,250,tensor(0.0328, device='cuda:0', grad_fn=<DivBackward0>));\">and</span> <span style=\"background-color:rgba(135,206,250,tensor(0.0175, device='cuda:0', grad_fn=<DivBackward0>));\">white</span> <span style=\"background-color:rgba(135,206,250,tensor(0.0338, device='cuda:0', grad_fn=<DivBackward0>));\">peach</span> <span style=\"background-color:rgba(135,206,250,tensor(0.0275, device='cuda:0', grad_fn=<DivBackward0>));\">and</span> <span style=\"background-color:rgba(135,206,250,tensor(0.0221, device='cuda:0', grad_fn=<DivBackward0>));\">honeydew</span> <span style=\"background-color:rgba(135,206,250,tensor(0.0254, device='cuda:0', grad_fn=<DivBackward0>));\">melon</span> <span style=\"background-color:rgba(135,206,250,tensor(0.0661, device='cuda:0', grad_fn=<DivBackward0>));\">flavors</span> <span style=\"background-color:rgba(135,206,250,tensor(0.0046, device='cuda:0', grad_fn=<DivBackward0>));\">this</span> <span style=\"background-color:rgba(135,206,250,tensor(0.0619, device='cuda:0', grad_fn=<DivBackward0>));\">dry</span> <span style=\"background-color:rgba(135,206,250,tensor(0.0926, device='cuda:0', grad_fn=<DivBackward0>));\">riesling</span> <span style=\"background-color:rgba(135,206,250,tensor(0.2001, device='cuda:0', grad_fn=<DivBackward0>));\">.</span> <span style=\"background-color:rgba(135,206,250,tensor(0.1077, device='cuda:0', grad_fn=<DivBackward0>));\">the</span> <span style=\"background-color:rgba(135,206,250,tensor(0.0151, device='cuda:0', grad_fn=<DivBackward0>));\">palate</span> <span style=\"background-color:rgba(135,206,250,tensor(0.0655, device='cuda:0', grad_fn=<DivBackward0>));\">is</span> <span style=\"background-color:rgba(135,206,250,tensor(0.1016, device='cuda:0', grad_fn=<DivBackward0>));\">full</span> <span style=\"background-color:rgba(135,206,250,tensor(0.1099, device='cuda:0', grad_fn=<DivBackward0>));\">of</span> <span style=\"background-color:rgba(135,206,250,tensor(0.2900, device='cuda:0', grad_fn=<DivBackward0>));\">the</span> <span style=\"background-color:rgba(135,206,250,tensor(0.0566, device='cuda:0', grad_fn=<DivBackward0>));\">mouth</span> <span style=\"background-color:rgba(135,206,250,tensor(0.0977, device='cuda:0', grad_fn=<DivBackward0>));\">,</span> <span style=\"background-color:rgba(135,206,250,tensor(0.6622, device='cuda:0', grad_fn=<DivBackward0>));\">with</span> <span style=\"background-color:rgba(135,206,250,tensor(0.3762, device='cuda:0', grad_fn=<DivBackward0>));\">a</span> <span style=\"background-color:rgba(135,206,250,tensor(0.5238, device='cuda:0', grad_fn=<DivBackward0>));\">hint</span> <span style=\"background-color:rgba(135,206,250,tensor(0.4367, device='cuda:0', grad_fn=<DivBackward0>));\">of</span> <span style=\"background-color:rgba(135,206,250,tensor(0.3875, device='cuda:0', grad_fn=<DivBackward0>));\">tangerine</span> <span style=\"background-color:rgba(135,206,250,tensor(0.2723, device='cuda:0', grad_fn=<DivBackward0>));\">acidity</span>"
      ],
      "text/plain": [
       "<IPython.core.display.HTML object>"
      ]
     },
     "metadata": {},
     "output_type": "display_data"
    },
    {
     "name": "stdout",
     "output_type": "stream",
     "text": [
      ".:   \t50.73%\n",
      "and:   \t37.8%\n",
      ",:   \t6.56%\n",
      "that:   \t2.82%\n",
      "on:   \t1.79%\n",
      "--------\n",
      "\n"
     ]
    },
    {
     "data": {
      "text/html": [
       "<span style=\"background-color:rgba(135,206,250,tensor(0.0735, device='cuda:0', grad_fn=<DivBackward0>));\">wine</span> <span style=\"background-color:rgba(135,206,250,tensor(0.0358, device='cuda:0', grad_fn=<DivBackward0>));\">review</span> <span style=\"background-color:rgba(135,206,250,tensor(0.0102, device='cuda:0', grad_fn=<DivBackward0>));\">:</span> <span style=\"background-color:rgba(135,206,250,tensor(0.4642, device='cuda:0', grad_fn=<DivBackward0>));\">germany</span> <span style=\"background-color:rgba(135,206,250,tensor(0.0166, device='cuda:0', grad_fn=<DivBackward0>));\">:</span> <span style=\"background-color:rgba(135,206,250,tensor(0.2090, device='cuda:0', grad_fn=<DivBackward0>));\">mosel</span> <span style=\"background-color:rgba(135,206,250,tensor(0.0097, device='cuda:0', grad_fn=<DivBackward0>));\">:</span> <span style=\"background-color:rgba(135,206,250,tensor(0.2009, device='cuda:0', grad_fn=<DivBackward0>));\">riesling</span> <span style=\"background-color:rgba(135,206,250,tensor(0.0037, device='cuda:0', grad_fn=<DivBackward0>));\">:</span> <span style=\"background-color:rgba(135,206,250,tensor(0.0809, device='cuda:0', grad_fn=<DivBackward0>));\">pristine</span> <span style=\"background-color:rgba(135,206,250,tensor(0.0567, device='cuda:0', grad_fn=<DivBackward0>));\">aromas</span> <span style=\"background-color:rgba(135,206,250,tensor(0.0129, device='cuda:0', grad_fn=<DivBackward0>));\">of</span> <span style=\"background-color:rgba(135,206,250,tensor(0.0051, device='cuda:0', grad_fn=<DivBackward0>));\">freshly</span> <span style=\"background-color:rgba(135,206,250,tensor(0.0143, device='cuda:0', grad_fn=<DivBackward0>));\">pressed</span> <span style=\"background-color:rgba(135,206,250,tensor(0.0278, device='cuda:0', grad_fn=<DivBackward0>));\">yellow</span> <span style=\"background-color:rgba(135,206,250,tensor(0.0349, device='cuda:0', grad_fn=<DivBackward0>));\">flowers</span> <span style=\"background-color:rgba(135,206,250,tensor(0.0077, device='cuda:0', grad_fn=<DivBackward0>));\">and</span> <span style=\"background-color:rgba(135,206,250,tensor(0.0190, device='cuda:0', grad_fn=<DivBackward0>));\">white</span> <span style=\"background-color:rgba(135,206,250,tensor(0.0256, device='cuda:0', grad_fn=<DivBackward0>));\">peach</span> <span style=\"background-color:rgba(135,206,250,tensor(0.0074, device='cuda:0', grad_fn=<DivBackward0>));\">and</span> <span style=\"background-color:rgba(135,206,250,tensor(0.0449, device='cuda:0', grad_fn=<DivBackward0>));\">honeydew</span> <span style=\"background-color:rgba(135,206,250,tensor(0.0278, device='cuda:0', grad_fn=<DivBackward0>));\">melon</span> <span style=\"background-color:rgba(135,206,250,tensor(0.0445, device='cuda:0', grad_fn=<DivBackward0>));\">flavors</span> <span style=\"background-color:rgba(135,206,250,tensor(0.0152, device='cuda:0', grad_fn=<DivBackward0>));\">this</span> <span style=\"background-color:rgba(135,206,250,tensor(0.0366, device='cuda:0', grad_fn=<DivBackward0>));\">dry</span> <span style=\"background-color:rgba(135,206,250,tensor(0.0588, device='cuda:0', grad_fn=<DivBackward0>));\">riesling</span> <span style=\"background-color:rgba(135,206,250,tensor(0.0358, device='cuda:0', grad_fn=<DivBackward0>));\">.</span> <span style=\"background-color:rgba(135,206,250,tensor(0.0177, device='cuda:0', grad_fn=<DivBackward0>));\">the</span> <span style=\"background-color:rgba(135,206,250,tensor(0.0656, device='cuda:0', grad_fn=<DivBackward0>));\">palate</span> <span style=\"background-color:rgba(135,206,250,tensor(0.0209, device='cuda:0', grad_fn=<DivBackward0>));\">is</span> <span style=\"background-color:rgba(135,206,250,tensor(0.0574, device='cuda:0', grad_fn=<DivBackward0>));\">full</span> <span style=\"background-color:rgba(135,206,250,tensor(0.0269, device='cuda:0', grad_fn=<DivBackward0>));\">of</span> <span style=\"background-color:rgba(135,206,250,tensor(0.0345, device='cuda:0', grad_fn=<DivBackward0>));\">the</span> <span style=\"background-color:rgba(135,206,250,tensor(0.0824, device='cuda:0', grad_fn=<DivBackward0>));\">mouth</span> <span style=\"background-color:rgba(135,206,250,tensor(0.0503, device='cuda:0', grad_fn=<DivBackward0>));\">,</span> <span style=\"background-color:rgba(135,206,250,tensor(0.0942, device='cuda:0', grad_fn=<DivBackward0>));\">with</span> <span style=\"background-color:rgba(135,206,250,tensor(0.0265, device='cuda:0', grad_fn=<DivBackward0>));\">a</span> <span style=\"background-color:rgba(135,206,250,tensor(0.0216, device='cuda:0', grad_fn=<DivBackward0>));\">hint</span> <span style=\"background-color:rgba(135,206,250,tensor(0.2297, device='cuda:0', grad_fn=<DivBackward0>));\">of</span> <span style=\"background-color:rgba(135,206,250,tensor(0.3964, device='cuda:0', grad_fn=<DivBackward0>));\">tangerine</span> <span style=\"background-color:rgba(135,206,250,tensor(1., device='cuda:0', grad_fn=<DivBackward0>));\">acidity</span> <span style=\"background-color:rgba(135,206,250,tensor(0.1215, device='cuda:0', grad_fn=<DivBackward0>));\">and</span>"
      ],
      "text/plain": [
       "<IPython.core.display.HTML object>"
      ]
     },
     "metadata": {},
     "output_type": "display_data"
    },
    {
     "name": "stdout",
     "output_type": "stream",
     "text": [
      "a:   \t79.83%\n",
      "citrus:   \t3.61%\n",
      "lemon:   \t3.31%\n",
      "honey:   \t2.08%\n",
      "lime:   \t1.47%\n",
      "--------\n",
      "\n"
     ]
    },
    {
     "data": {
      "text/html": [
       "<span style=\"background-color:rgba(135,206,250,tensor(0., device='cuda:0', grad_fn=<DivBackward0>));\">wine</span> <span style=\"background-color:rgba(135,206,250,tensor(0.1551, device='cuda:0', grad_fn=<DivBackward0>));\">review</span> <span style=\"background-color:rgba(135,206,250,tensor(0.0484, device='cuda:0', grad_fn=<DivBackward0>));\">:</span> <span style=\"background-color:rgba(135,206,250,tensor(1., device='cuda:0', grad_fn=<DivBackward0>));\">germany</span> <span style=\"background-color:rgba(135,206,250,tensor(0.0351, device='cuda:0', grad_fn=<DivBackward0>));\">:</span> <span style=\"background-color:rgba(135,206,250,tensor(0.3304, device='cuda:0', grad_fn=<DivBackward0>));\">mosel</span> <span style=\"background-color:rgba(135,206,250,tensor(0.0294, device='cuda:0', grad_fn=<DivBackward0>));\">:</span> <span style=\"background-color:rgba(135,206,250,tensor(0.2713, device='cuda:0', grad_fn=<DivBackward0>));\">riesling</span> <span style=\"background-color:rgba(135,206,250,tensor(0.0098, device='cuda:0', grad_fn=<DivBackward0>));\">:</span> <span style=\"background-color:rgba(135,206,250,tensor(0.1353, device='cuda:0', grad_fn=<DivBackward0>));\">pristine</span> <span style=\"background-color:rgba(135,206,250,tensor(0.0035, device='cuda:0', grad_fn=<DivBackward0>));\">aromas</span> <span style=\"background-color:rgba(135,206,250,tensor(0.0288, device='cuda:0', grad_fn=<DivBackward0>));\">of</span> <span style=\"background-color:rgba(135,206,250,tensor(0.0126, device='cuda:0', grad_fn=<DivBackward0>));\">freshly</span> <span style=\"background-color:rgba(135,206,250,tensor(0.0283, device='cuda:0', grad_fn=<DivBackward0>));\">pressed</span> <span style=\"background-color:rgba(135,206,250,tensor(0.0634, device='cuda:0', grad_fn=<DivBackward0>));\">yellow</span> <span style=\"background-color:rgba(135,206,250,tensor(0.0882, device='cuda:0', grad_fn=<DivBackward0>));\">flowers</span> <span style=\"background-color:rgba(135,206,250,tensor(0.0182, device='cuda:0', grad_fn=<DivBackward0>));\">and</span> <span style=\"background-color:rgba(135,206,250,tensor(0.0516, device='cuda:0', grad_fn=<DivBackward0>));\">white</span> <span style=\"background-color:rgba(135,206,250,tensor(0.0602, device='cuda:0', grad_fn=<DivBackward0>));\">peach</span> <span style=\"background-color:rgba(135,206,250,tensor(0.0196, device='cuda:0', grad_fn=<DivBackward0>));\">and</span> <span style=\"background-color:rgba(135,206,250,tensor(0.1054, device='cuda:0', grad_fn=<DivBackward0>));\">honeydew</span> <span style=\"background-color:rgba(135,206,250,tensor(0.0868, device='cuda:0', grad_fn=<DivBackward0>));\">melon</span> <span style=\"background-color:rgba(135,206,250,tensor(0.0952, device='cuda:0', grad_fn=<DivBackward0>));\">flavors</span> <span style=\"background-color:rgba(135,206,250,tensor(0.0390, device='cuda:0', grad_fn=<DivBackward0>));\">this</span> <span style=\"background-color:rgba(135,206,250,tensor(0.0929, device='cuda:0', grad_fn=<DivBackward0>));\">dry</span> <span style=\"background-color:rgba(135,206,250,tensor(0.0990, device='cuda:0', grad_fn=<DivBackward0>));\">riesling</span> <span style=\"background-color:rgba(135,206,250,tensor(0.0744, device='cuda:0', grad_fn=<DivBackward0>));\">.</span> <span style=\"background-color:rgba(135,206,250,tensor(0.0287, device='cuda:0', grad_fn=<DivBackward0>));\">the</span> <span style=\"background-color:rgba(135,206,250,tensor(0.1622, device='cuda:0', grad_fn=<DivBackward0>));\">palate</span> <span style=\"background-color:rgba(135,206,250,tensor(0.0315, device='cuda:0', grad_fn=<DivBackward0>));\">is</span> <span style=\"background-color:rgba(135,206,250,tensor(0.0818, device='cuda:0', grad_fn=<DivBackward0>));\">full</span> <span style=\"background-color:rgba(135,206,250,tensor(0.0573, device='cuda:0', grad_fn=<DivBackward0>));\">of</span> <span style=\"background-color:rgba(135,206,250,tensor(0.0143, device='cuda:0', grad_fn=<DivBackward0>));\">the</span> <span style=\"background-color:rgba(135,206,250,tensor(0.2188, device='cuda:0', grad_fn=<DivBackward0>));\">mouth</span> <span style=\"background-color:rgba(135,206,250,tensor(0.0621, device='cuda:0', grad_fn=<DivBackward0>));\">,</span> <span style=\"background-color:rgba(135,206,250,tensor(0.1369, device='cuda:0', grad_fn=<DivBackward0>));\">with</span> <span style=\"background-color:rgba(135,206,250,tensor(0.0613, device='cuda:0', grad_fn=<DivBackward0>));\">a</span> <span style=\"background-color:rgba(135,206,250,tensor(0.2586, device='cuda:0', grad_fn=<DivBackward0>));\">hint</span> <span style=\"background-color:rgba(135,206,250,tensor(0.3208, device='cuda:0', grad_fn=<DivBackward0>));\">of</span> <span style=\"background-color:rgba(135,206,250,tensor(0.2192, device='cuda:0', grad_fn=<DivBackward0>));\">tangerine</span> <span style=\"background-color:rgba(135,206,250,tensor(0.7523, device='cuda:0', grad_fn=<DivBackward0>));\">acidity</span> <span style=\"background-color:rgba(135,206,250,tensor(0.8215, device='cuda:0', grad_fn=<DivBackward0>));\">and</span> <span style=\"background-color:rgba(135,206,250,tensor(0.3133, device='cuda:0', grad_fn=<DivBackward0>));\">a</span>"
      ],
      "text/plain": [
       "<IPython.core.display.HTML object>"
      ]
     },
     "metadata": {},
     "output_type": "display_data"
    },
    {
     "name": "stdout",
     "output_type": "stream",
     "text": [
      "long:   \t39.61%\n",
      "lingering:   \t22.46%\n",
      "touch:   \t12.52%\n",
      "hint:   \t7.25%\n",
      "steely:   \t3.97%\n",
      "--------\n",
      "\n"
     ]
    },
    {
     "data": {
      "text/html": [
       "<span style=\"background-color:rgba(135,206,250,tensor(0.0890, device='cuda:0', grad_fn=<DivBackward0>));\">wine</span> <span style=\"background-color:rgba(135,206,250,tensor(0.0324, device='cuda:0', grad_fn=<DivBackward0>));\">review</span> <span style=\"background-color:rgba(135,206,250,tensor(0.0102, device='cuda:0', grad_fn=<DivBackward0>));\">:</span> <span style=\"background-color:rgba(135,206,250,tensor(0.2410, device='cuda:0', grad_fn=<DivBackward0>));\">germany</span> <span style=\"background-color:rgba(135,206,250,tensor(0.0076, device='cuda:0', grad_fn=<DivBackward0>));\">:</span> <span style=\"background-color:rgba(135,206,250,tensor(0.2000, device='cuda:0', grad_fn=<DivBackward0>));\">mosel</span> <span style=\"background-color:rgba(135,206,250,tensor(0.0040, device='cuda:0', grad_fn=<DivBackward0>));\">:</span> <span style=\"background-color:rgba(135,206,250,tensor(0.2759, device='cuda:0', grad_fn=<DivBackward0>));\">riesling</span> <span style=\"background-color:rgba(135,206,250,tensor(0.0035, device='cuda:0', grad_fn=<DivBackward0>));\">:</span> <span style=\"background-color:rgba(135,206,250,tensor(0.0264, device='cuda:0', grad_fn=<DivBackward0>));\">pristine</span> <span style=\"background-color:rgba(135,206,250,tensor(0.0466, device='cuda:0', grad_fn=<DivBackward0>));\">aromas</span> <span style=\"background-color:rgba(135,206,250,tensor(0.0064, device='cuda:0', grad_fn=<DivBackward0>));\">of</span> <span style=\"background-color:rgba(135,206,250,tensor(7.9270e-05, device='cuda:0', grad_fn=<DivBackward0>));\">freshly</span> <span style=\"background-color:rgba(135,206,250,tensor(0.0044, device='cuda:0', grad_fn=<DivBackward0>));\">pressed</span> <span style=\"background-color:rgba(135,206,250,tensor(0.0150, device='cuda:0', grad_fn=<DivBackward0>));\">yellow</span> <span style=\"background-color:rgba(135,206,250,tensor(0.0074, device='cuda:0', grad_fn=<DivBackward0>));\">flowers</span> <span style=\"background-color:rgba(135,206,250,tensor(0.0066, device='cuda:0', grad_fn=<DivBackward0>));\">and</span> <span style=\"background-color:rgba(135,206,250,tensor(0.0002, device='cuda:0', grad_fn=<DivBackward0>));\">white</span> <span style=\"background-color:rgba(135,206,250,tensor(0.0232, device='cuda:0', grad_fn=<DivBackward0>));\">peach</span> <span style=\"background-color:rgba(135,206,250,tensor(0.0063, device='cuda:0', grad_fn=<DivBackward0>));\">and</span> <span style=\"background-color:rgba(135,206,250,tensor(0.0240, device='cuda:0', grad_fn=<DivBackward0>));\">honeydew</span> <span style=\"background-color:rgba(135,206,250,tensor(0.0322, device='cuda:0', grad_fn=<DivBackward0>));\">melon</span> <span style=\"background-color:rgba(135,206,250,tensor(0.0388, device='cuda:0', grad_fn=<DivBackward0>));\">flavors</span> <span style=\"background-color:rgba(135,206,250,tensor(0.0080, device='cuda:0', grad_fn=<DivBackward0>));\">this</span> <span style=\"background-color:rgba(135,206,250,tensor(0.0128, device='cuda:0', grad_fn=<DivBackward0>));\">dry</span> <span style=\"background-color:rgba(135,206,250,tensor(0.0589, device='cuda:0', grad_fn=<DivBackward0>));\">riesling</span> <span style=\"background-color:rgba(135,206,250,tensor(0.0015, device='cuda:0', grad_fn=<DivBackward0>));\">.</span> <span style=\"background-color:rgba(135,206,250,tensor(0.0050, device='cuda:0', grad_fn=<DivBackward0>));\">the</span> <span style=\"background-color:rgba(135,206,250,tensor(0.0451, device='cuda:0', grad_fn=<DivBackward0>));\">palate</span> <span style=\"background-color:rgba(135,206,250,tensor(0.0177, device='cuda:0', grad_fn=<DivBackward0>));\">is</span> <span style=\"background-color:rgba(135,206,250,tensor(0.0177, device='cuda:0', grad_fn=<DivBackward0>));\">full</span> <span style=\"background-color:rgba(135,206,250,tensor(0.0102, device='cuda:0', grad_fn=<DivBackward0>));\">of</span> <span style=\"background-color:rgba(135,206,250,tensor(0.0107, device='cuda:0', grad_fn=<DivBackward0>));\">the</span> <span style=\"background-color:rgba(135,206,250,tensor(0.0602, device='cuda:0', grad_fn=<DivBackward0>));\">mouth</span> <span style=\"background-color:rgba(135,206,250,tensor(0.0111, device='cuda:0', grad_fn=<DivBackward0>));\">,</span> <span style=\"background-color:rgba(135,206,250,tensor(0.0286, device='cuda:0', grad_fn=<DivBackward0>));\">with</span> <span style=\"background-color:rgba(135,206,250,tensor(0.0591, device='cuda:0', grad_fn=<DivBackward0>));\">a</span> <span style=\"background-color:rgba(135,206,250,tensor(0.0285, device='cuda:0', grad_fn=<DivBackward0>));\">hint</span> <span style=\"background-color:rgba(135,206,250,tensor(0.0346, device='cuda:0', grad_fn=<DivBackward0>));\">of</span> <span style=\"background-color:rgba(135,206,250,tensor(0.0382, device='cuda:0', grad_fn=<DivBackward0>));\">tangerine</span> <span style=\"background-color:rgba(135,206,250,tensor(0.1790, device='cuda:0', grad_fn=<DivBackward0>));\">acidity</span> <span style=\"background-color:rgba(135,206,250,tensor(0.1105, device='cuda:0', grad_fn=<DivBackward0>));\">and</span> <span style=\"background-color:rgba(135,206,250,tensor(1., device='cuda:0', grad_fn=<DivBackward0>));\">a</span> <span style=\"background-color:rgba(135,206,250,tensor(0.0488, device='cuda:0', grad_fn=<DivBackward0>));\">lingering</span>"
      ],
      "text/plain": [
       "<IPython.core.display.HTML object>"
      ]
     },
     "metadata": {},
     "output_type": "display_data"
    },
    {
     "name": "stdout",
     "output_type": "stream",
     "text": [
      "mineral:   \t26.28%\n",
      "pollen:   \t19.24%\n",
      "finish:   \t15.61%\n",
      ",:   \t11.31%\n",
      "hint:   \t6.31%\n",
      "--------\n",
      "\n"
     ]
    },
    {
     "data": {
      "text/html": [
       "<span style=\"background-color:rgba(135,206,250,tensor(0.1767, device='cuda:0', grad_fn=<DivBackward0>));\">wine</span> <span style=\"background-color:rgba(135,206,250,tensor(0.1141, device='cuda:0', grad_fn=<DivBackward0>));\">review</span> <span style=\"background-color:rgba(135,206,250,tensor(0.0350, device='cuda:0', grad_fn=<DivBackward0>));\">:</span> <span style=\"background-color:rgba(135,206,250,tensor(0.3679, device='cuda:0', grad_fn=<DivBackward0>));\">germany</span> <span style=\"background-color:rgba(135,206,250,tensor(0.0435, device='cuda:0', grad_fn=<DivBackward0>));\">:</span> <span style=\"background-color:rgba(135,206,250,tensor(0.1373, device='cuda:0', grad_fn=<DivBackward0>));\">mosel</span> <span style=\"background-color:rgba(135,206,250,tensor(0.0207, device='cuda:0', grad_fn=<DivBackward0>));\">:</span> <span style=\"background-color:rgba(135,206,250,tensor(0.1239, device='cuda:0', grad_fn=<DivBackward0>));\">riesling</span> <span style=\"background-color:rgba(135,206,250,tensor(0.0075, device='cuda:0', grad_fn=<DivBackward0>));\">:</span> <span style=\"background-color:rgba(135,206,250,tensor(0.0621, device='cuda:0', grad_fn=<DivBackward0>));\">pristine</span> <span style=\"background-color:rgba(135,206,250,tensor(0.0763, device='cuda:0', grad_fn=<DivBackward0>));\">aromas</span> <span style=\"background-color:rgba(135,206,250,tensor(0.0353, device='cuda:0', grad_fn=<DivBackward0>));\">of</span> <span style=\"background-color:rgba(135,206,250,tensor(0.0064, device='cuda:0', grad_fn=<DivBackward0>));\">freshly</span> <span style=\"background-color:rgba(135,206,250,tensor(0.0081, device='cuda:0', grad_fn=<DivBackward0>));\">pressed</span> <span style=\"background-color:rgba(135,206,250,tensor(0.0144, device='cuda:0', grad_fn=<DivBackward0>));\">yellow</span> <span style=\"background-color:rgba(135,206,250,tensor(0.0287, device='cuda:0', grad_fn=<DivBackward0>));\">flowers</span> <span style=\"background-color:rgba(135,206,250,tensor(0.0169, device='cuda:0', grad_fn=<DivBackward0>));\">and</span> <span style=\"background-color:rgba(135,206,250,tensor(0.0138, device='cuda:0', grad_fn=<DivBackward0>));\">white</span> <span style=\"background-color:rgba(135,206,250,tensor(0.0166, device='cuda:0', grad_fn=<DivBackward0>));\">peach</span> <span style=\"background-color:rgba(135,206,250,tensor(0.0170, device='cuda:0', grad_fn=<DivBackward0>));\">and</span> <span style=\"background-color:rgba(135,206,250,tensor(0.0269, device='cuda:0', grad_fn=<DivBackward0>));\">honeydew</span> <span style=\"background-color:rgba(135,206,250,tensor(0.0300, device='cuda:0', grad_fn=<DivBackward0>));\">melon</span> <span style=\"background-color:rgba(135,206,250,tensor(0.0350, device='cuda:0', grad_fn=<DivBackward0>));\">flavors</span> <span style=\"background-color:rgba(135,206,250,tensor(0.0177, device='cuda:0', grad_fn=<DivBackward0>));\">this</span> <span style=\"background-color:rgba(135,206,250,tensor(0.0002, device='cuda:0', grad_fn=<DivBackward0>));\">dry</span> <span style=\"background-color:rgba(135,206,250,tensor(0.0359, device='cuda:0', grad_fn=<DivBackward0>));\">riesling</span> <span style=\"background-color:rgba(135,206,250,tensor(0.0571, device='cuda:0', grad_fn=<DivBackward0>));\">.</span> <span style=\"background-color:rgba(135,206,250,tensor(0.0266, device='cuda:0', grad_fn=<DivBackward0>));\">the</span> <span style=\"background-color:rgba(135,206,250,tensor(0.0041, device='cuda:0', grad_fn=<DivBackward0>));\">palate</span> <span style=\"background-color:rgba(135,206,250,tensor(0.0347, device='cuda:0', grad_fn=<DivBackward0>));\">is</span> <span style=\"background-color:rgba(135,206,250,tensor(0.0745, device='cuda:0', grad_fn=<DivBackward0>));\">full</span> <span style=\"background-color:rgba(135,206,250,tensor(0.0624, device='cuda:0', grad_fn=<DivBackward0>));\">of</span> <span style=\"background-color:rgba(135,206,250,tensor(0.0484, device='cuda:0', grad_fn=<DivBackward0>));\">the</span> <span style=\"background-color:rgba(135,206,250,tensor(0.0556, device='cuda:0', grad_fn=<DivBackward0>));\">mouth</span> <span style=\"background-color:rgba(135,206,250,tensor(0.0287, device='cuda:0', grad_fn=<DivBackward0>));\">,</span> <span style=\"background-color:rgba(135,206,250,tensor(0.0916, device='cuda:0', grad_fn=<DivBackward0>));\">with</span> <span style=\"background-color:rgba(135,206,250,tensor(0.1360, device='cuda:0', grad_fn=<DivBackward0>));\">a</span> <span style=\"background-color:rgba(135,206,250,tensor(0.1131, device='cuda:0', grad_fn=<DivBackward0>));\">hint</span> <span style=\"background-color:rgba(135,206,250,tensor(0.1785, device='cuda:0', grad_fn=<DivBackward0>));\">of</span> <span style=\"background-color:rgba(135,206,250,tensor(0.0819, device='cuda:0', grad_fn=<DivBackward0>));\">tangerine</span> <span style=\"background-color:rgba(135,206,250,tensor(0.2910, device='cuda:0', grad_fn=<DivBackward0>));\">acidity</span> <span style=\"background-color:rgba(135,206,250,tensor(0.2124, device='cuda:0', grad_fn=<DivBackward0>));\">and</span> <span style=\"background-color:rgba(135,206,250,tensor(1., device='cuda:0', grad_fn=<DivBackward0>));\">a</span> <span style=\"background-color:rgba(135,206,250,tensor(0.1244, device='cuda:0', grad_fn=<DivBackward0>));\">lingering</span> <span style=\"background-color:rgba(135,206,250,tensor(0.0957, device='cuda:0', grad_fn=<DivBackward0>));\">mineral</span>"
      ],
      "text/plain": [
       "<IPython.core.display.HTML object>"
      ]
     },
     "metadata": {},
     "output_type": "display_data"
    },
    {
     "name": "stdout",
     "output_type": "stream",
     "text": [
      "note:   \t51.52%\n",
      "finish:   \t22.12%\n",
      "texture:   \t12.58%\n",
      "backbone:   \t3.67%\n",
      "edge:   \t2.48%\n",
      "--------\n",
      "\n"
     ]
    },
    {
     "data": {
      "text/html": [
       "<span style=\"background-color:rgba(135,206,250,tensor(0.1983, device='cuda:0', grad_fn=<DivBackward0>));\">wine</span> <span style=\"background-color:rgba(135,206,250,tensor(0.1696, device='cuda:0', grad_fn=<DivBackward0>));\">review</span> <span style=\"background-color:rgba(135,206,250,tensor(0.0315, device='cuda:0', grad_fn=<DivBackward0>));\">:</span> <span style=\"background-color:rgba(135,206,250,tensor(0.5075, device='cuda:0', grad_fn=<DivBackward0>));\">germany</span> <span style=\"background-color:rgba(135,206,250,tensor(0.0383, device='cuda:0', grad_fn=<DivBackward0>));\">:</span> <span style=\"background-color:rgba(135,206,250,tensor(0.1151, device='cuda:0', grad_fn=<DivBackward0>));\">mosel</span> <span style=\"background-color:rgba(135,206,250,tensor(0.0192, device='cuda:0', grad_fn=<DivBackward0>));\">:</span> <span style=\"background-color:rgba(135,206,250,tensor(0.1269, device='cuda:0', grad_fn=<DivBackward0>));\">riesling</span> <span style=\"background-color:rgba(135,206,250,tensor(0.0080, device='cuda:0', grad_fn=<DivBackward0>));\">:</span> <span style=\"background-color:rgba(135,206,250,tensor(0.0982, device='cuda:0', grad_fn=<DivBackward0>));\">pristine</span> <span style=\"background-color:rgba(135,206,250,tensor(0.0924, device='cuda:0', grad_fn=<DivBackward0>));\">aromas</span> <span style=\"background-color:rgba(135,206,250,tensor(0.0170, device='cuda:0', grad_fn=<DivBackward0>));\">of</span> <span style=\"background-color:rgba(135,206,250,tensor(0.0104, device='cuda:0', grad_fn=<DivBackward0>));\">freshly</span> <span style=\"background-color:rgba(135,206,250,tensor(0.0170, device='cuda:0', grad_fn=<DivBackward0>));\">pressed</span> <span style=\"background-color:rgba(135,206,250,tensor(0.0227, device='cuda:0', grad_fn=<DivBackward0>));\">yellow</span> <span style=\"background-color:rgba(135,206,250,tensor(0.0352, device='cuda:0', grad_fn=<DivBackward0>));\">flowers</span> <span style=\"background-color:rgba(135,206,250,tensor(0.0147, device='cuda:0', grad_fn=<DivBackward0>));\">and</span> <span style=\"background-color:rgba(135,206,250,tensor(0.0248, device='cuda:0', grad_fn=<DivBackward0>));\">white</span> <span style=\"background-color:rgba(135,206,250,tensor(0.0208, device='cuda:0', grad_fn=<DivBackward0>));\">peach</span> <span style=\"background-color:rgba(135,206,250,tensor(0.0144, device='cuda:0', grad_fn=<DivBackward0>));\">and</span> <span style=\"background-color:rgba(135,206,250,tensor(0.0211, device='cuda:0', grad_fn=<DivBackward0>));\">honeydew</span> <span style=\"background-color:rgba(135,206,250,tensor(0.0361, device='cuda:0', grad_fn=<DivBackward0>));\">melon</span> <span style=\"background-color:rgba(135,206,250,tensor(0.0458, device='cuda:0', grad_fn=<DivBackward0>));\">flavors</span> <span style=\"background-color:rgba(135,206,250,tensor(0.0005, device='cuda:0', grad_fn=<DivBackward0>));\">this</span> <span style=\"background-color:rgba(135,206,250,tensor(0.0353, device='cuda:0', grad_fn=<DivBackward0>));\">dry</span> <span style=\"background-color:rgba(135,206,250,tensor(0.0400, device='cuda:0', grad_fn=<DivBackward0>));\">riesling</span> <span style=\"background-color:rgba(135,206,250,tensor(0.0449, device='cuda:0', grad_fn=<DivBackward0>));\">.</span> <span style=\"background-color:rgba(135,206,250,tensor(0.0005, device='cuda:0', grad_fn=<DivBackward0>));\">the</span> <span style=\"background-color:rgba(135,206,250,tensor(0.0389, device='cuda:0', grad_fn=<DivBackward0>));\">palate</span> <span style=\"background-color:rgba(135,206,250,tensor(0.0245, device='cuda:0', grad_fn=<DivBackward0>));\">is</span> <span style=\"background-color:rgba(135,206,250,tensor(0.0574, device='cuda:0', grad_fn=<DivBackward0>));\">full</span> <span style=\"background-color:rgba(135,206,250,tensor(0.0256, device='cuda:0', grad_fn=<DivBackward0>));\">of</span> <span style=\"background-color:rgba(135,206,250,tensor(0.0591, device='cuda:0', grad_fn=<DivBackward0>));\">the</span> <span style=\"background-color:rgba(135,206,250,tensor(0.0323, device='cuda:0', grad_fn=<DivBackward0>));\">mouth</span> <span style=\"background-color:rgba(135,206,250,tensor(0.0491, device='cuda:0', grad_fn=<DivBackward0>));\">,</span> <span style=\"background-color:rgba(135,206,250,tensor(0.1136, device='cuda:0', grad_fn=<DivBackward0>));\">with</span> <span style=\"background-color:rgba(135,206,250,tensor(0.1296, device='cuda:0', grad_fn=<DivBackward0>));\">a</span> <span style=\"background-color:rgba(135,206,250,tensor(0.1365, device='cuda:0', grad_fn=<DivBackward0>));\">hint</span> <span style=\"background-color:rgba(135,206,250,tensor(0.0872, device='cuda:0', grad_fn=<DivBackward0>));\">of</span> <span style=\"background-color:rgba(135,206,250,tensor(0.1084, device='cuda:0', grad_fn=<DivBackward0>));\">tangerine</span> <span style=\"background-color:rgba(135,206,250,tensor(0.2647, device='cuda:0', grad_fn=<DivBackward0>));\">acidity</span> <span style=\"background-color:rgba(135,206,250,tensor(0.1623, device='cuda:0', grad_fn=<DivBackward0>));\">and</span> <span style=\"background-color:rgba(135,206,250,tensor(0.5893, device='cuda:0', grad_fn=<DivBackward0>));\">a</span> <span style=\"background-color:rgba(135,206,250,tensor(0.4288, device='cuda:0', grad_fn=<DivBackward0>));\">lingering</span> <span style=\"background-color:rgba(135,206,250,tensor(1., device='cuda:0', grad_fn=<DivBackward0>));\">mineral</span> <span style=\"background-color:rgba(135,206,250,tensor(0.2740, device='cuda:0', grad_fn=<DivBackward0>));\">finish</span>"
      ],
      "text/plain": [
       "<IPython.core.display.HTML object>"
      ]
     },
     "metadata": {},
     "output_type": "display_data"
    },
    {
     "name": "stdout",
     "output_type": "stream",
     "text": [
      ".:   \t99.48%\n",
      "that:   \t0.39%\n",
      ",:   \t0.03%\n",
      "on:   \t0.03%\n",
      "and:   \t0.03%\n",
      "--------\n",
      "\n"
     ]
    },
    {
     "data": {
      "text/html": [
       "<span style=\"background-color:rgba(135,206,250,tensor(0.0486, device='cuda:0', grad_fn=<DivBackward0>));\">wine</span> <span style=\"background-color:rgba(135,206,250,tensor(0.3741, device='cuda:0', grad_fn=<DivBackward0>));\">review</span> <span style=\"background-color:rgba(135,206,250,tensor(0.1322, device='cuda:0', grad_fn=<DivBackward0>));\">:</span> <span style=\"background-color:rgba(135,206,250,tensor(1., device='cuda:0', grad_fn=<DivBackward0>));\">germany</span> <span style=\"background-color:rgba(135,206,250,tensor(0.1513, device='cuda:0', grad_fn=<DivBackward0>));\">:</span> <span style=\"background-color:rgba(135,206,250,tensor(0.2301, device='cuda:0', grad_fn=<DivBackward0>));\">mosel</span> <span style=\"background-color:rgba(135,206,250,tensor(0.0723, device='cuda:0', grad_fn=<DivBackward0>));\">:</span> <span style=\"background-color:rgba(135,206,250,tensor(0.1893, device='cuda:0', grad_fn=<DivBackward0>));\">riesling</span> <span style=\"background-color:rgba(135,206,250,tensor(0.0166, device='cuda:0', grad_fn=<DivBackward0>));\">:</span> <span style=\"background-color:rgba(135,206,250,tensor(0.0774, device='cuda:0', grad_fn=<DivBackward0>));\">pristine</span> <span style=\"background-color:rgba(135,206,250,tensor(0.0831, device='cuda:0', grad_fn=<DivBackward0>));\">aromas</span> <span style=\"background-color:rgba(135,206,250,tensor(0.0125, device='cuda:0', grad_fn=<DivBackward0>));\">of</span> <span style=\"background-color:rgba(135,206,250,tensor(0.0092, device='cuda:0', grad_fn=<DivBackward0>));\">freshly</span> <span style=\"background-color:rgba(135,206,250,tensor(0.0118, device='cuda:0', grad_fn=<DivBackward0>));\">pressed</span> <span style=\"background-color:rgba(135,206,250,tensor(0.0287, device='cuda:0', grad_fn=<DivBackward0>));\">yellow</span> <span style=\"background-color:rgba(135,206,250,tensor(0.0553, device='cuda:0', grad_fn=<DivBackward0>));\">flowers</span> <span style=\"background-color:rgba(135,206,250,tensor(0.0124, device='cuda:0', grad_fn=<DivBackward0>));\">and</span> <span style=\"background-color:rgba(135,206,250,tensor(0., device='cuda:0', grad_fn=<DivBackward0>));\">white</span> <span style=\"background-color:rgba(135,206,250,tensor(0.0331, device='cuda:0', grad_fn=<DivBackward0>));\">peach</span> <span style=\"background-color:rgba(135,206,250,tensor(0.0112, device='cuda:0', grad_fn=<DivBackward0>));\">and</span> <span style=\"background-color:rgba(135,206,250,tensor(0.0485, device='cuda:0', grad_fn=<DivBackward0>));\">honeydew</span> <span style=\"background-color:rgba(135,206,250,tensor(0.0420, device='cuda:0', grad_fn=<DivBackward0>));\">melon</span> <span style=\"background-color:rgba(135,206,250,tensor(0.1162, device='cuda:0', grad_fn=<DivBackward0>));\">flavors</span> <span style=\"background-color:rgba(135,206,250,tensor(0.0314, device='cuda:0', grad_fn=<DivBackward0>));\">this</span> <span style=\"background-color:rgba(135,206,250,tensor(0.0283, device='cuda:0', grad_fn=<DivBackward0>));\">dry</span> <span style=\"background-color:rgba(135,206,250,tensor(0.0385, device='cuda:0', grad_fn=<DivBackward0>));\">riesling</span> <span style=\"background-color:rgba(135,206,250,tensor(0.0268, device='cuda:0', grad_fn=<DivBackward0>));\">.</span> <span style=\"background-color:rgba(135,206,250,tensor(0.0077, device='cuda:0', grad_fn=<DivBackward0>));\">the</span> <span style=\"background-color:rgba(135,206,250,tensor(0.1208, device='cuda:0', grad_fn=<DivBackward0>));\">palate</span> <span style=\"background-color:rgba(135,206,250,tensor(0.0157, device='cuda:0', grad_fn=<DivBackward0>));\">is</span> <span style=\"background-color:rgba(135,206,250,tensor(9.0922e-05, device='cuda:0', grad_fn=<DivBackward0>));\">full</span> <span style=\"background-color:rgba(135,206,250,tensor(0.0120, device='cuda:0', grad_fn=<DivBackward0>));\">of</span> <span style=\"background-color:rgba(135,206,250,tensor(0.0089, device='cuda:0', grad_fn=<DivBackward0>));\">the</span> <span style=\"background-color:rgba(135,206,250,tensor(0.0835, device='cuda:0', grad_fn=<DivBackward0>));\">mouth</span> <span style=\"background-color:rgba(135,206,250,tensor(0.0107, device='cuda:0', grad_fn=<DivBackward0>));\">,</span> <span style=\"background-color:rgba(135,206,250,tensor(0.0164, device='cuda:0', grad_fn=<DivBackward0>));\">with</span> <span style=\"background-color:rgba(135,206,250,tensor(0.0014, device='cuda:0', grad_fn=<DivBackward0>));\">a</span> <span style=\"background-color:rgba(135,206,250,tensor(0.0246, device='cuda:0', grad_fn=<DivBackward0>));\">hint</span> <span style=\"background-color:rgba(135,206,250,tensor(0.0152, device='cuda:0', grad_fn=<DivBackward0>));\">of</span> <span style=\"background-color:rgba(135,206,250,tensor(0.0542, device='cuda:0', grad_fn=<DivBackward0>));\">tangerine</span> <span style=\"background-color:rgba(135,206,250,tensor(0.1082, device='cuda:0', grad_fn=<DivBackward0>));\">acidity</span> <span style=\"background-color:rgba(135,206,250,tensor(0.0246, device='cuda:0', grad_fn=<DivBackward0>));\">and</span> <span style=\"background-color:rgba(135,206,250,tensor(0.0342, device='cuda:0', grad_fn=<DivBackward0>));\">a</span> <span style=\"background-color:rgba(135,206,250,tensor(0.0813, device='cuda:0', grad_fn=<DivBackward0>));\">lingering</span> <span style=\"background-color:rgba(135,206,250,tensor(0.0996, device='cuda:0', grad_fn=<DivBackward0>));\">mineral</span> <span style=\"background-color:rgba(135,206,250,tensor(0.1717, device='cuda:0', grad_fn=<DivBackward0>));\">finish</span> <span style=\"background-color:rgba(135,206,250,tensor(0.2275, device='cuda:0', grad_fn=<DivBackward0>));\">.</span>"
      ],
      "text/plain": [
       "<IPython.core.display.HTML object>"
      ]
     },
     "metadata": {},
     "output_type": "display_data"
    },
    {
     "name": "stdout",
     "output_type": "stream",
     "text": [
      "it:   \t67.56%\n",
      "finishes:   \t7.74%\n",
      "the:   \t6.85%\n",
      "drink:   \t6.43%\n",
      "<PAD>:   \t5.87%\n",
      "--------\n",
      "\n"
     ]
    },
    {
     "data": {
      "text/html": [
       "<span style=\"background-color:rgba(135,206,250,tensor(0.1171, device='cuda:0', grad_fn=<DivBackward0>));\">wine</span> <span style=\"background-color:rgba(135,206,250,tensor(0.1411, device='cuda:0', grad_fn=<DivBackward0>));\">review</span> <span style=\"background-color:rgba(135,206,250,tensor(0.0141, device='cuda:0', grad_fn=<DivBackward0>));\">:</span> <span style=\"background-color:rgba(135,206,250,tensor(0.6065, device='cuda:0', grad_fn=<DivBackward0>));\">germany</span> <span style=\"background-color:rgba(135,206,250,tensor(0.0225, device='cuda:0', grad_fn=<DivBackward0>));\">:</span> <span style=\"background-color:rgba(135,206,250,tensor(0.2600, device='cuda:0', grad_fn=<DivBackward0>));\">mosel</span> <span style=\"background-color:rgba(135,206,250,tensor(0.0294, device='cuda:0', grad_fn=<DivBackward0>));\">:</span> <span style=\"background-color:rgba(135,206,250,tensor(0.0825, device='cuda:0', grad_fn=<DivBackward0>));\">riesling</span> <span style=\"background-color:rgba(135,206,250,tensor(0.0089, device='cuda:0', grad_fn=<DivBackward0>));\">:</span> <span style=\"background-color:rgba(135,206,250,tensor(0.0485, device='cuda:0', grad_fn=<DivBackward0>));\">pristine</span> <span style=\"background-color:rgba(135,206,250,tensor(0.0584, device='cuda:0', grad_fn=<DivBackward0>));\">aromas</span> <span style=\"background-color:rgba(135,206,250,tensor(0.0183, device='cuda:0', grad_fn=<DivBackward0>));\">of</span> <span style=\"background-color:rgba(135,206,250,tensor(0.0067, device='cuda:0', grad_fn=<DivBackward0>));\">freshly</span> <span style=\"background-color:rgba(135,206,250,tensor(0.0081, device='cuda:0', grad_fn=<DivBackward0>));\">pressed</span> <span style=\"background-color:rgba(135,206,250,tensor(0.0204, device='cuda:0', grad_fn=<DivBackward0>));\">yellow</span> <span style=\"background-color:rgba(135,206,250,tensor(0.0542, device='cuda:0', grad_fn=<DivBackward0>));\">flowers</span> <span style=\"background-color:rgba(135,206,250,tensor(0.0118, device='cuda:0', grad_fn=<DivBackward0>));\">and</span> <span style=\"background-color:rgba(135,206,250,tensor(0.0167, device='cuda:0', grad_fn=<DivBackward0>));\">white</span> <span style=\"background-color:rgba(135,206,250,tensor(0.0205, device='cuda:0', grad_fn=<DivBackward0>));\">peach</span> <span style=\"background-color:rgba(135,206,250,tensor(0.0107, device='cuda:0', grad_fn=<DivBackward0>));\">and</span> <span style=\"background-color:rgba(135,206,250,tensor(0.0355, device='cuda:0', grad_fn=<DivBackward0>));\">honeydew</span> <span style=\"background-color:rgba(135,206,250,tensor(0.0386, device='cuda:0', grad_fn=<DivBackward0>));\">melon</span> <span style=\"background-color:rgba(135,206,250,tensor(0.0500, device='cuda:0', grad_fn=<DivBackward0>));\">flavors</span> <span style=\"background-color:rgba(135,206,250,tensor(0.0003, device='cuda:0', grad_fn=<DivBackward0>));\">this</span> <span style=\"background-color:rgba(135,206,250,tensor(0.0241, device='cuda:0', grad_fn=<DivBackward0>));\">dry</span> <span style=\"background-color:rgba(135,206,250,tensor(0.0003, device='cuda:0', grad_fn=<DivBackward0>));\">riesling</span> <span style=\"background-color:rgba(135,206,250,tensor(0.0321, device='cuda:0', grad_fn=<DivBackward0>));\">.</span> <span style=\"background-color:rgba(135,206,250,tensor(0.0087, device='cuda:0', grad_fn=<DivBackward0>));\">the</span> <span style=\"background-color:rgba(135,206,250,tensor(0.0668, device='cuda:0', grad_fn=<DivBackward0>));\">palate</span> <span style=\"background-color:rgba(135,206,250,tensor(0.0104, device='cuda:0', grad_fn=<DivBackward0>));\">is</span> <span style=\"background-color:rgba(135,206,250,tensor(0.0309, device='cuda:0', grad_fn=<DivBackward0>));\">full</span> <span style=\"background-color:rgba(135,206,250,tensor(0.0185, device='cuda:0', grad_fn=<DivBackward0>));\">of</span> <span style=\"background-color:rgba(135,206,250,tensor(0.0126, device='cuda:0', grad_fn=<DivBackward0>));\">the</span> <span style=\"background-color:rgba(135,206,250,tensor(0.0525, device='cuda:0', grad_fn=<DivBackward0>));\">mouth</span> <span style=\"background-color:rgba(135,206,250,tensor(0.0197, device='cuda:0', grad_fn=<DivBackward0>));\">,</span> <span style=\"background-color:rgba(135,206,250,tensor(0.0289, device='cuda:0', grad_fn=<DivBackward0>));\">with</span> <span style=\"background-color:rgba(135,206,250,tensor(0.0304, device='cuda:0', grad_fn=<DivBackward0>));\">a</span> <span style=\"background-color:rgba(135,206,250,tensor(0.0493, device='cuda:0', grad_fn=<DivBackward0>));\">hint</span> <span style=\"background-color:rgba(135,206,250,tensor(0.0525, device='cuda:0', grad_fn=<DivBackward0>));\">of</span> <span style=\"background-color:rgba(135,206,250,tensor(0.0509, device='cuda:0', grad_fn=<DivBackward0>));\">tangerine</span> <span style=\"background-color:rgba(135,206,250,tensor(0.1510, device='cuda:0', grad_fn=<DivBackward0>));\">acidity</span> <span style=\"background-color:rgba(135,206,250,tensor(0.0220, device='cuda:0', grad_fn=<DivBackward0>));\">and</span> <span style=\"background-color:rgba(135,206,250,tensor(0.1147, device='cuda:0', grad_fn=<DivBackward0>));\">a</span> <span style=\"background-color:rgba(135,206,250,tensor(0.1961, device='cuda:0', grad_fn=<DivBackward0>));\">lingering</span> <span style=\"background-color:rgba(135,206,250,tensor(0.1073, device='cuda:0', grad_fn=<DivBackward0>));\">mineral</span> <span style=\"background-color:rgba(135,206,250,tensor(0.1636, device='cuda:0', grad_fn=<DivBackward0>));\">finish</span> <span style=\"background-color:rgba(135,206,250,tensor(1., device='cuda:0', grad_fn=<DivBackward0>));\">.</span> <span style=\"background-color:rgba(135,206,250,tensor(0.0354, device='cuda:0', grad_fn=<DivBackward0>));\">it</span>"
      ],
      "text/plain": [
       "<IPython.core.display.HTML object>"
      ]
     },
     "metadata": {},
     "output_type": "display_data"
    },
    {
     "name": "stdout",
     "output_type": "stream",
     "text": [
      "':   \t99.88%\n",
      "finishes:   \t0.11%\n",
      "is:   \t0.01%\n",
      "lingers:   \t0.0%\n",
      "has:   \t0.0%\n",
      "--------\n",
      "\n"
     ]
    },
    {
     "data": {
      "text/html": [
       "<span style=\"background-color:rgba(135,206,250,tensor(0.1373, device='cuda:0', grad_fn=<DivBackward0>));\">wine</span> <span style=\"background-color:rgba(135,206,250,tensor(0.1046, device='cuda:0', grad_fn=<DivBackward0>));\">review</span> <span style=\"background-color:rgba(135,206,250,tensor(0.0172, device='cuda:0', grad_fn=<DivBackward0>));\">:</span> <span style=\"background-color:rgba(135,206,250,tensor(0.1988, device='cuda:0', grad_fn=<DivBackward0>));\">germany</span> <span style=\"background-color:rgba(135,206,250,tensor(0.0196, device='cuda:0', grad_fn=<DivBackward0>));\">:</span> <span style=\"background-color:rgba(135,206,250,tensor(0.0849, device='cuda:0', grad_fn=<DivBackward0>));\">mosel</span> <span style=\"background-color:rgba(135,206,250,tensor(0.0111, device='cuda:0', grad_fn=<DivBackward0>));\">:</span> <span style=\"background-color:rgba(135,206,250,tensor(0.0499, device='cuda:0', grad_fn=<DivBackward0>));\">riesling</span> <span style=\"background-color:rgba(135,206,250,tensor(0.0037, device='cuda:0', grad_fn=<DivBackward0>));\">:</span> <span style=\"background-color:rgba(135,206,250,tensor(0.0569, device='cuda:0', grad_fn=<DivBackward0>));\">pristine</span> <span style=\"background-color:rgba(135,206,250,tensor(0.0307, device='cuda:0', grad_fn=<DivBackward0>));\">aromas</span> <span style=\"background-color:rgba(135,206,250,tensor(0.0098, device='cuda:0', grad_fn=<DivBackward0>));\">of</span> <span style=\"background-color:rgba(135,206,250,tensor(0.0074, device='cuda:0', grad_fn=<DivBackward0>));\">freshly</span> <span style=\"background-color:rgba(135,206,250,tensor(0.0069, device='cuda:0', grad_fn=<DivBackward0>));\">pressed</span> <span style=\"background-color:rgba(135,206,250,tensor(0.0177, device='cuda:0', grad_fn=<DivBackward0>));\">yellow</span> <span style=\"background-color:rgba(135,206,250,tensor(0.0273, device='cuda:0', grad_fn=<DivBackward0>));\">flowers</span> <span style=\"background-color:rgba(135,206,250,tensor(0.0090, device='cuda:0', grad_fn=<DivBackward0>));\">and</span> <span style=\"background-color:rgba(135,206,250,tensor(0.0092, device='cuda:0', grad_fn=<DivBackward0>));\">white</span> <span style=\"background-color:rgba(135,206,250,tensor(0.0113, device='cuda:0', grad_fn=<DivBackward0>));\">peach</span> <span style=\"background-color:rgba(135,206,250,tensor(0.0087, device='cuda:0', grad_fn=<DivBackward0>));\">and</span> <span style=\"background-color:rgba(135,206,250,tensor(0.0195, device='cuda:0', grad_fn=<DivBackward0>));\">honeydew</span> <span style=\"background-color:rgba(135,206,250,tensor(0.0329, device='cuda:0', grad_fn=<DivBackward0>));\">melon</span> <span style=\"background-color:rgba(135,206,250,tensor(0.0510, device='cuda:0', grad_fn=<DivBackward0>));\">flavors</span> <span style=\"background-color:rgba(135,206,250,tensor(0.0091, device='cuda:0', grad_fn=<DivBackward0>));\">this</span> <span style=\"background-color:rgba(135,206,250,tensor(0.0217, device='cuda:0', grad_fn=<DivBackward0>));\">dry</span> <span style=\"background-color:rgba(135,206,250,tensor(0.0185, device='cuda:0', grad_fn=<DivBackward0>));\">riesling</span> <span style=\"background-color:rgba(135,206,250,tensor(0.0247, device='cuda:0', grad_fn=<DivBackward0>));\">.</span> <span style=\"background-color:rgba(135,206,250,tensor(0.0068, device='cuda:0', grad_fn=<DivBackward0>));\">the</span> <span style=\"background-color:rgba(135,206,250,tensor(0.0300, device='cuda:0', grad_fn=<DivBackward0>));\">palate</span> <span style=\"background-color:rgba(135,206,250,tensor(0.0006, device='cuda:0', grad_fn=<DivBackward0>));\">is</span> <span style=\"background-color:rgba(135,206,250,tensor(0.0406, device='cuda:0', grad_fn=<DivBackward0>));\">full</span> <span style=\"background-color:rgba(135,206,250,tensor(0.0163, device='cuda:0', grad_fn=<DivBackward0>));\">of</span> <span style=\"background-color:rgba(135,206,250,tensor(0.0112, device='cuda:0', grad_fn=<DivBackward0>));\">the</span> <span style=\"background-color:rgba(135,206,250,tensor(0.0385, device='cuda:0', grad_fn=<DivBackward0>));\">mouth</span> <span style=\"background-color:rgba(135,206,250,tensor(0.0146, device='cuda:0', grad_fn=<DivBackward0>));\">,</span> <span style=\"background-color:rgba(135,206,250,tensor(0.0285, device='cuda:0', grad_fn=<DivBackward0>));\">with</span> <span style=\"background-color:rgba(135,206,250,tensor(0.0371, device='cuda:0', grad_fn=<DivBackward0>));\">a</span> <span style=\"background-color:rgba(135,206,250,tensor(0.0312, device='cuda:0', grad_fn=<DivBackward0>));\">hint</span> <span style=\"background-color:rgba(135,206,250,tensor(0.0334, device='cuda:0', grad_fn=<DivBackward0>));\">of</span> <span style=\"background-color:rgba(135,206,250,tensor(0.0324, device='cuda:0', grad_fn=<DivBackward0>));\">tangerine</span> <span style=\"background-color:rgba(135,206,250,tensor(0.0686, device='cuda:0', grad_fn=<DivBackward0>));\">acidity</span> <span style=\"background-color:rgba(135,206,250,tensor(0.0339, device='cuda:0', grad_fn=<DivBackward0>));\">and</span> <span style=\"background-color:rgba(135,206,250,tensor(0.0718, device='cuda:0', grad_fn=<DivBackward0>));\">a</span> <span style=\"background-color:rgba(135,206,250,tensor(0.0445, device='cuda:0', grad_fn=<DivBackward0>));\">lingering</span> <span style=\"background-color:rgba(135,206,250,tensor(0.0458, device='cuda:0', grad_fn=<DivBackward0>));\">mineral</span> <span style=\"background-color:rgba(135,206,250,tensor(0.3537, device='cuda:0', grad_fn=<DivBackward0>));\">finish</span> <span style=\"background-color:rgba(135,206,250,tensor(0.3988, device='cuda:0', grad_fn=<DivBackward0>));\">.</span> <span style=\"background-color:rgba(135,206,250,tensor(1., device='cuda:0', grad_fn=<DivBackward0>));\">it</span> <span style=\"background-color:rgba(135,206,250,tensor(0.1250, device='cuda:0', grad_fn=<DivBackward0>));\">'</span>"
      ],
      "text/plain": [
       "<IPython.core.display.HTML object>"
      ]
     },
     "metadata": {},
     "output_type": "display_data"
    },
    {
     "name": "stdout",
     "output_type": "stream",
     "text": [
      "s:   \t100.0%\n",
      "ll:   \t0.0%\n",
      "<UNK>:   \t0.0%\n",
      "a:   \t0.0%\n",
      "shows:   \t0.0%\n",
      "--------\n",
      "\n"
     ]
    },
    {
     "data": {
      "text/html": [
       "<span style=\"background-color:rgba(135,206,250,tensor(0.2304, device='cuda:0', grad_fn=<DivBackward0>));\">wine</span> <span style=\"background-color:rgba(135,206,250,tensor(0.1993, device='cuda:0', grad_fn=<DivBackward0>));\">review</span> <span style=\"background-color:rgba(135,206,250,tensor(0.0407, device='cuda:0', grad_fn=<DivBackward0>));\">:</span> <span style=\"background-color:rgba(135,206,250,tensor(1., device='cuda:0', grad_fn=<DivBackward0>));\">germany</span> <span style=\"background-color:rgba(135,206,250,tensor(0.0236, device='cuda:0', grad_fn=<DivBackward0>));\">:</span> <span style=\"background-color:rgba(135,206,250,tensor(0.4278, device='cuda:0', grad_fn=<DivBackward0>));\">mosel</span> <span style=\"background-color:rgba(135,206,250,tensor(0.0245, device='cuda:0', grad_fn=<DivBackward0>));\">:</span> <span style=\"background-color:rgba(135,206,250,tensor(0.3600, device='cuda:0', grad_fn=<DivBackward0>));\">riesling</span> <span style=\"background-color:rgba(135,206,250,tensor(0.0100, device='cuda:0', grad_fn=<DivBackward0>));\">:</span> <span style=\"background-color:rgba(135,206,250,tensor(0.1852, device='cuda:0', grad_fn=<DivBackward0>));\">pristine</span> <span style=\"background-color:rgba(135,206,250,tensor(0.1263, device='cuda:0', grad_fn=<DivBackward0>));\">aromas</span> <span style=\"background-color:rgba(135,206,250,tensor(0.0237, device='cuda:0', grad_fn=<DivBackward0>));\">of</span> <span style=\"background-color:rgba(135,206,250,tensor(0.0103, device='cuda:0', grad_fn=<DivBackward0>));\">freshly</span> <span style=\"background-color:rgba(135,206,250,tensor(0.0191, device='cuda:0', grad_fn=<DivBackward0>));\">pressed</span> <span style=\"background-color:rgba(135,206,250,tensor(0.0513, device='cuda:0', grad_fn=<DivBackward0>));\">yellow</span> <span style=\"background-color:rgba(135,206,250,tensor(0.1137, device='cuda:0', grad_fn=<DivBackward0>));\">flowers</span> <span style=\"background-color:rgba(135,206,250,tensor(0.0161, device='cuda:0', grad_fn=<DivBackward0>));\">and</span> <span style=\"background-color:rgba(135,206,250,tensor(0., device='cuda:0', grad_fn=<DivBackward0>));\">white</span> <span style=\"background-color:rgba(135,206,250,tensor(0.0494, device='cuda:0', grad_fn=<DivBackward0>));\">peach</span> <span style=\"background-color:rgba(135,206,250,tensor(0.0171, device='cuda:0', grad_fn=<DivBackward0>));\">and</span> <span style=\"background-color:rgba(135,206,250,tensor(0.1004, device='cuda:0', grad_fn=<DivBackward0>));\">honeydew</span> <span style=\"background-color:rgba(135,206,250,tensor(0.0762, device='cuda:0', grad_fn=<DivBackward0>));\">melon</span> <span style=\"background-color:rgba(135,206,250,tensor(0.1039, device='cuda:0', grad_fn=<DivBackward0>));\">flavors</span> <span style=\"background-color:rgba(135,206,250,tensor(0.0241, device='cuda:0', grad_fn=<DivBackward0>));\">this</span> <span style=\"background-color:rgba(135,206,250,tensor(0.0775, device='cuda:0', grad_fn=<DivBackward0>));\">dry</span> <span style=\"background-color:rgba(135,206,250,tensor(0.1046, device='cuda:0', grad_fn=<DivBackward0>));\">riesling</span> <span style=\"background-color:rgba(135,206,250,tensor(0.0471, device='cuda:0', grad_fn=<DivBackward0>));\">.</span> <span style=\"background-color:rgba(135,206,250,tensor(0.0031, device='cuda:0', grad_fn=<DivBackward0>));\">the</span> <span style=\"background-color:rgba(135,206,250,tensor(0.1048, device='cuda:0', grad_fn=<DivBackward0>));\">palate</span> <span style=\"background-color:rgba(135,206,250,tensor(0.0223, device='cuda:0', grad_fn=<DivBackward0>));\">is</span> <span style=\"background-color:rgba(135,206,250,tensor(0.0630, device='cuda:0', grad_fn=<DivBackward0>));\">full</span> <span style=\"background-color:rgba(135,206,250,tensor(0.0198, device='cuda:0', grad_fn=<DivBackward0>));\">of</span> <span style=\"background-color:rgba(135,206,250,tensor(0.0269, device='cuda:0', grad_fn=<DivBackward0>));\">the</span> <span style=\"background-color:rgba(135,206,250,tensor(0.1066, device='cuda:0', grad_fn=<DivBackward0>));\">mouth</span> <span style=\"background-color:rgba(135,206,250,tensor(0.0275, device='cuda:0', grad_fn=<DivBackward0>));\">,</span> <span style=\"background-color:rgba(135,206,250,tensor(0.0428, device='cuda:0', grad_fn=<DivBackward0>));\">with</span> <span style=\"background-color:rgba(135,206,250,tensor(0.0084, device='cuda:0', grad_fn=<DivBackward0>));\">a</span> <span style=\"background-color:rgba(135,206,250,tensor(0.0461, device='cuda:0', grad_fn=<DivBackward0>));\">hint</span> <span style=\"background-color:rgba(135,206,250,tensor(0.0434, device='cuda:0', grad_fn=<DivBackward0>));\">of</span> <span style=\"background-color:rgba(135,206,250,tensor(0.1652, device='cuda:0', grad_fn=<DivBackward0>));\">tangerine</span> <span style=\"background-color:rgba(135,206,250,tensor(0.2358, device='cuda:0', grad_fn=<DivBackward0>));\">acidity</span> <span style=\"background-color:rgba(135,206,250,tensor(0.0343, device='cuda:0', grad_fn=<DivBackward0>));\">and</span> <span style=\"background-color:rgba(135,206,250,tensor(0.1189, device='cuda:0', grad_fn=<DivBackward0>));\">a</span> <span style=\"background-color:rgba(135,206,250,tensor(0.0351, device='cuda:0', grad_fn=<DivBackward0>));\">lingering</span> <span style=\"background-color:rgba(135,206,250,tensor(0.1748, device='cuda:0', grad_fn=<DivBackward0>));\">mineral</span> <span style=\"background-color:rgba(135,206,250,tensor(0.5870, device='cuda:0', grad_fn=<DivBackward0>));\">finish</span> <span style=\"background-color:rgba(135,206,250,tensor(0.9158, device='cuda:0', grad_fn=<DivBackward0>));\">.</span> <span style=\"background-color:rgba(135,206,250,tensor(0.1192, device='cuda:0', grad_fn=<DivBackward0>));\">it</span> <span style=\"background-color:rgba(135,206,250,tensor(0.1753, device='cuda:0', grad_fn=<DivBackward0>));\">'</span> <span style=\"background-color:rgba(135,206,250,tensor(0.1193, device='cuda:0', grad_fn=<DivBackward0>));\">s</span>"
      ],
      "text/plain": [
       "<IPython.core.display.HTML object>"
      ]
     },
     "metadata": {},
     "output_type": "display_data"
    },
    {
     "name": "stdout",
     "output_type": "stream",
     "text": [
      "a:   \t89.61%\n",
      "an:   \t2.66%\n",
      "easy:   \t0.8%\n",
      "dry:   \t0.68%\n",
      "medium:   \t0.68%\n",
      "--------\n",
      "\n"
     ]
    },
    {
     "data": {
      "text/html": [
       "<span style=\"background-color:rgba(135,206,250,tensor(0.3098, device='cuda:0', grad_fn=<DivBackward0>));\">wine</span> <span style=\"background-color:rgba(135,206,250,tensor(0.1549, device='cuda:0', grad_fn=<DivBackward0>));\">review</span> <span style=\"background-color:rgba(135,206,250,tensor(0.0715, device='cuda:0', grad_fn=<DivBackward0>));\">:</span> <span style=\"background-color:rgba(135,206,250,tensor(1., device='cuda:0', grad_fn=<DivBackward0>));\">germany</span> <span style=\"background-color:rgba(135,206,250,tensor(0.0603, device='cuda:0', grad_fn=<DivBackward0>));\">:</span> <span style=\"background-color:rgba(135,206,250,tensor(0.3382, device='cuda:0', grad_fn=<DivBackward0>));\">mosel</span> <span style=\"background-color:rgba(135,206,250,tensor(0.0404, device='cuda:0', grad_fn=<DivBackward0>));\">:</span> <span style=\"background-color:rgba(135,206,250,tensor(0.2554, device='cuda:0', grad_fn=<DivBackward0>));\">riesling</span> <span style=\"background-color:rgba(135,206,250,tensor(0.0124, device='cuda:0', grad_fn=<DivBackward0>));\">:</span> <span style=\"background-color:rgba(135,206,250,tensor(0.0895, device='cuda:0', grad_fn=<DivBackward0>));\">pristine</span> <span style=\"background-color:rgba(135,206,250,tensor(0.0971, device='cuda:0', grad_fn=<DivBackward0>));\">aromas</span> <span style=\"background-color:rgba(135,206,250,tensor(0.0187, device='cuda:0', grad_fn=<DivBackward0>));\">of</span> <span style=\"background-color:rgba(135,206,250,tensor(0.0095, device='cuda:0', grad_fn=<DivBackward0>));\">freshly</span> <span style=\"background-color:rgba(135,206,250,tensor(0.0194, device='cuda:0', grad_fn=<DivBackward0>));\">pressed</span> <span style=\"background-color:rgba(135,206,250,tensor(0.0462, device='cuda:0', grad_fn=<DivBackward0>));\">yellow</span> <span style=\"background-color:rgba(135,206,250,tensor(0.0968, device='cuda:0', grad_fn=<DivBackward0>));\">flowers</span> <span style=\"background-color:rgba(135,206,250,tensor(0.0031, device='cuda:0', grad_fn=<DivBackward0>));\">and</span> <span style=\"background-color:rgba(135,206,250,tensor(0.0478, device='cuda:0', grad_fn=<DivBackward0>));\">white</span> <span style=\"background-color:rgba(135,206,250,tensor(0.0468, device='cuda:0', grad_fn=<DivBackward0>));\">peach</span> <span style=\"background-color:rgba(135,206,250,tensor(0.0176, device='cuda:0', grad_fn=<DivBackward0>));\">and</span> <span style=\"background-color:rgba(135,206,250,tensor(0.0009, device='cuda:0', grad_fn=<DivBackward0>));\">honeydew</span> <span style=\"background-color:rgba(135,206,250,tensor(0.0874, device='cuda:0', grad_fn=<DivBackward0>));\">melon</span> <span style=\"background-color:rgba(135,206,250,tensor(0.0846, device='cuda:0', grad_fn=<DivBackward0>));\">flavors</span> <span style=\"background-color:rgba(135,206,250,tensor(0.0303, device='cuda:0', grad_fn=<DivBackward0>));\">this</span> <span style=\"background-color:rgba(135,206,250,tensor(0.0750, device='cuda:0', grad_fn=<DivBackward0>));\">dry</span> <span style=\"background-color:rgba(135,206,250,tensor(0.0738, device='cuda:0', grad_fn=<DivBackward0>));\">riesling</span> <span style=\"background-color:rgba(135,206,250,tensor(0.0421, device='cuda:0', grad_fn=<DivBackward0>));\">.</span> <span style=\"background-color:rgba(135,206,250,tensor(0.0152, device='cuda:0', grad_fn=<DivBackward0>));\">the</span> <span style=\"background-color:rgba(135,206,250,tensor(0.1185, device='cuda:0', grad_fn=<DivBackward0>));\">palate</span> <span style=\"background-color:rgba(135,206,250,tensor(0.0160, device='cuda:0', grad_fn=<DivBackward0>));\">is</span> <span style=\"background-color:rgba(135,206,250,tensor(0.0029, device='cuda:0', grad_fn=<DivBackward0>));\">full</span> <span style=\"background-color:rgba(135,206,250,tensor(0.0233, device='cuda:0', grad_fn=<DivBackward0>));\">of</span> <span style=\"background-color:rgba(135,206,250,tensor(0.0148, device='cuda:0', grad_fn=<DivBackward0>));\">the</span> <span style=\"background-color:rgba(135,206,250,tensor(0.1134, device='cuda:0', grad_fn=<DivBackward0>));\">mouth</span> <span style=\"background-color:rgba(135,206,250,tensor(0.0187, device='cuda:0', grad_fn=<DivBackward0>));\">,</span> <span style=\"background-color:rgba(135,206,250,tensor(0.0309, device='cuda:0', grad_fn=<DivBackward0>));\">with</span> <span style=\"background-color:rgba(135,206,250,tensor(0.0264, device='cuda:0', grad_fn=<DivBackward0>));\">a</span> <span style=\"background-color:rgba(135,206,250,tensor(0.0487, device='cuda:0', grad_fn=<DivBackward0>));\">hint</span> <span style=\"background-color:rgba(135,206,250,tensor(0.0457, device='cuda:0', grad_fn=<DivBackward0>));\">of</span> <span style=\"background-color:rgba(135,206,250,tensor(0.0728, device='cuda:0', grad_fn=<DivBackward0>));\">tangerine</span> <span style=\"background-color:rgba(135,206,250,tensor(0.0317, device='cuda:0', grad_fn=<DivBackward0>));\">acidity</span> <span style=\"background-color:rgba(135,206,250,tensor(0.0528, device='cuda:0', grad_fn=<DivBackward0>));\">and</span> <span style=\"background-color:rgba(135,206,250,tensor(0.0469, device='cuda:0', grad_fn=<DivBackward0>));\">a</span> <span style=\"background-color:rgba(135,206,250,tensor(0.0446, device='cuda:0', grad_fn=<DivBackward0>));\">lingering</span> <span style=\"background-color:rgba(135,206,250,tensor(0.1270, device='cuda:0', grad_fn=<DivBackward0>));\">mineral</span> <span style=\"background-color:rgba(135,206,250,tensor(0.5670, device='cuda:0', grad_fn=<DivBackward0>));\">finish</span> <span style=\"background-color:rgba(135,206,250,tensor(0.4556, device='cuda:0', grad_fn=<DivBackward0>));\">.</span> <span style=\"background-color:rgba(135,206,250,tensor(0.4038, device='cuda:0', grad_fn=<DivBackward0>));\">it</span> <span style=\"background-color:rgba(135,206,250,tensor(0.3695, device='cuda:0', grad_fn=<DivBackward0>));\">'</span> <span style=\"background-color:rgba(135,206,250,tensor(0.8720, device='cuda:0', grad_fn=<DivBackward0>));\">s</span> <span style=\"background-color:rgba(135,206,250,tensor(0.0442, device='cuda:0', grad_fn=<DivBackward0>));\">a</span>"
      ],
      "text/plain": [
       "<IPython.core.display.HTML object>"
      ]
     },
     "metadata": {},
     "output_type": "display_data"
    },
    {
     "name": "stdout",
     "output_type": "stream",
     "text": [
      "bit:   \t93.77%\n",
      "touch:   \t1.9%\n",
      "fine:   \t0.9%\n",
      "little:   \t0.82%\n",
      "wine:   \t0.75%\n",
      "--------\n",
      "\n"
     ]
    },
    {
     "data": {
      "text/html": [
       "<span style=\"background-color:rgba(135,206,250,tensor(0.5020, device='cuda:0', grad_fn=<DivBackward0>));\">wine</span> <span style=\"background-color:rgba(135,206,250,tensor(0.4996, device='cuda:0', grad_fn=<DivBackward0>));\">review</span> <span style=\"background-color:rgba(135,206,250,tensor(0.2076, device='cuda:0', grad_fn=<DivBackward0>));\">:</span> <span style=\"background-color:rgba(135,206,250,tensor(0.8669, device='cuda:0', grad_fn=<DivBackward0>));\">germany</span> <span style=\"background-color:rgba(135,206,250,tensor(0.1393, device='cuda:0', grad_fn=<DivBackward0>));\">:</span> <span style=\"background-color:rgba(135,206,250,tensor(0.2524, device='cuda:0', grad_fn=<DivBackward0>));\">mosel</span> <span style=\"background-color:rgba(135,206,250,tensor(0.0613, device='cuda:0', grad_fn=<DivBackward0>));\">:</span> <span style=\"background-color:rgba(135,206,250,tensor(0.0162, device='cuda:0', grad_fn=<DivBackward0>));\">riesling</span> <span style=\"background-color:rgba(135,206,250,tensor(0.0258, device='cuda:0', grad_fn=<DivBackward0>));\">:</span> <span style=\"background-color:rgba(135,206,250,tensor(0.0074, device='cuda:0', grad_fn=<DivBackward0>));\">pristine</span> <span style=\"background-color:rgba(135,206,250,tensor(0.1185, device='cuda:0', grad_fn=<DivBackward0>));\">aromas</span> <span style=\"background-color:rgba(135,206,250,tensor(0.0372, device='cuda:0', grad_fn=<DivBackward0>));\">of</span> <span style=\"background-color:rgba(135,206,250,tensor(0.0143, device='cuda:0', grad_fn=<DivBackward0>));\">freshly</span> <span style=\"background-color:rgba(135,206,250,tensor(0.0317, device='cuda:0', grad_fn=<DivBackward0>));\">pressed</span> <span style=\"background-color:rgba(135,206,250,tensor(0.0785, device='cuda:0', grad_fn=<DivBackward0>));\">yellow</span> <span style=\"background-color:rgba(135,206,250,tensor(0.0435, device='cuda:0', grad_fn=<DivBackward0>));\">flowers</span> <span style=\"background-color:rgba(135,206,250,tensor(0.0230, device='cuda:0', grad_fn=<DivBackward0>));\">and</span> <span style=\"background-color:rgba(135,206,250,tensor(0.0502, device='cuda:0', grad_fn=<DivBackward0>));\">white</span> <span style=\"background-color:rgba(135,206,250,tensor(0.0301, device='cuda:0', grad_fn=<DivBackward0>));\">peach</span> <span style=\"background-color:rgba(135,206,250,tensor(0.0216, device='cuda:0', grad_fn=<DivBackward0>));\">and</span> <span style=\"background-color:rgba(135,206,250,tensor(0.0484, device='cuda:0', grad_fn=<DivBackward0>));\">honeydew</span> <span style=\"background-color:rgba(135,206,250,tensor(0.0714, device='cuda:0', grad_fn=<DivBackward0>));\">melon</span> <span style=\"background-color:rgba(135,206,250,tensor(0.0793, device='cuda:0', grad_fn=<DivBackward0>));\">flavors</span> <span style=\"background-color:rgba(135,206,250,tensor(0.0192, device='cuda:0', grad_fn=<DivBackward0>));\">this</span> <span style=\"background-color:rgba(135,206,250,tensor(0.0342, device='cuda:0', grad_fn=<DivBackward0>));\">dry</span> <span style=\"background-color:rgba(135,206,250,tensor(0.0933, device='cuda:0', grad_fn=<DivBackward0>));\">riesling</span> <span style=\"background-color:rgba(135,206,250,tensor(0.0651, device='cuda:0', grad_fn=<DivBackward0>));\">.</span> <span style=\"background-color:rgba(135,206,250,tensor(0.0342, device='cuda:0', grad_fn=<DivBackward0>));\">the</span> <span style=\"background-color:rgba(135,206,250,tensor(0.0847, device='cuda:0', grad_fn=<DivBackward0>));\">palate</span> <span style=\"background-color:rgba(135,206,250,tensor(0.0252, device='cuda:0', grad_fn=<DivBackward0>));\">is</span> <span style=\"background-color:rgba(135,206,250,tensor(0.0889, device='cuda:0', grad_fn=<DivBackward0>));\">full</span> <span style=\"background-color:rgba(135,206,250,tensor(0.0312, device='cuda:0', grad_fn=<DivBackward0>));\">of</span> <span style=\"background-color:rgba(135,206,250,tensor(0.0452, device='cuda:0', grad_fn=<DivBackward0>));\">the</span> <span style=\"background-color:rgba(135,206,250,tensor(0.0690, device='cuda:0', grad_fn=<DivBackward0>));\">mouth</span> <span style=\"background-color:rgba(135,206,250,tensor(0.0629, device='cuda:0', grad_fn=<DivBackward0>));\">,</span> <span style=\"background-color:rgba(135,206,250,tensor(0.0849, device='cuda:0', grad_fn=<DivBackward0>));\">with</span> <span style=\"background-color:rgba(135,206,250,tensor(0.0541, device='cuda:0', grad_fn=<DivBackward0>));\">a</span> <span style=\"background-color:rgba(135,206,250,tensor(0.0547, device='cuda:0', grad_fn=<DivBackward0>));\">hint</span> <span style=\"background-color:rgba(135,206,250,tensor(0.0612, device='cuda:0', grad_fn=<DivBackward0>));\">of</span> <span style=\"background-color:rgba(135,206,250,tensor(0.0753, device='cuda:0', grad_fn=<DivBackward0>));\">tangerine</span> <span style=\"background-color:rgba(135,206,250,tensor(0.2293, device='cuda:0', grad_fn=<DivBackward0>));\">acidity</span> <span style=\"background-color:rgba(135,206,250,tensor(0.0738, device='cuda:0', grad_fn=<DivBackward0>));\">and</span> <span style=\"background-color:rgba(135,206,250,tensor(0.1016, device='cuda:0', grad_fn=<DivBackward0>));\">a</span> <span style=\"background-color:rgba(135,206,250,tensor(0.2789, device='cuda:0', grad_fn=<DivBackward0>));\">lingering</span> <span style=\"background-color:rgba(135,206,250,tensor(0.2136, device='cuda:0', grad_fn=<DivBackward0>));\">mineral</span> <span style=\"background-color:rgba(135,206,250,tensor(0.2458, device='cuda:0', grad_fn=<DivBackward0>));\">finish</span> <span style=\"background-color:rgba(135,206,250,tensor(0.8237, device='cuda:0', grad_fn=<DivBackward0>));\">.</span> <span style=\"background-color:rgba(135,206,250,tensor(0.1463, device='cuda:0', grad_fn=<DivBackward0>));\">it</span> <span style=\"background-color:rgba(135,206,250,tensor(0.3348, device='cuda:0', grad_fn=<DivBackward0>));\">'</span> <span style=\"background-color:rgba(135,206,250,tensor(0.6149, device='cuda:0', grad_fn=<DivBackward0>));\">s</span> <span style=\"background-color:rgba(135,206,250,tensor(1., device='cuda:0', grad_fn=<DivBackward0>));\">a</span> <span style=\"background-color:rgba(135,206,250,tensor(0.4001, device='cuda:0', grad_fn=<DivBackward0>));\">bit</span>"
      ],
      "text/plain": [
       "<IPython.core.display.HTML object>"
      ]
     },
     "metadata": {},
     "output_type": "display_data"
    },
    {
     "name": "stdout",
     "output_type": "stream",
     "text": [
      "lean:   \t26.56%\n",
      "demure:   \t15.36%\n",
      "disjointed:   \t8.84%\n",
      "rustic:   \t4.69%\n",
      "soft:   \t4.26%\n",
      "--------\n",
      "\n"
     ]
    },
    {
     "data": {
      "text/html": [
       "<span style=\"background-color:rgba(135,206,250,tensor(0.0256, device='cuda:0', grad_fn=<DivBackward0>));\">wine</span> <span style=\"background-color:rgba(135,206,250,tensor(0.0138, device='cuda:0', grad_fn=<DivBackward0>));\">review</span> <span style=\"background-color:rgba(135,206,250,tensor(0.0007, device='cuda:0', grad_fn=<DivBackward0>));\">:</span> <span style=\"background-color:rgba(135,206,250,tensor(0.2632, device='cuda:0', grad_fn=<DivBackward0>));\">germany</span> <span style=\"background-color:rgba(135,206,250,tensor(0.0071, device='cuda:0', grad_fn=<DivBackward0>));\">:</span> <span style=\"background-color:rgba(135,206,250,tensor(0.0837, device='cuda:0', grad_fn=<DivBackward0>));\">mosel</span> <span style=\"background-color:rgba(135,206,250,tensor(0.0039, device='cuda:0', grad_fn=<DivBackward0>));\">:</span> <span style=\"background-color:rgba(135,206,250,tensor(0.1032, device='cuda:0', grad_fn=<DivBackward0>));\">riesling</span> <span style=\"background-color:rgba(135,206,250,tensor(0.0015, device='cuda:0', grad_fn=<DivBackward0>));\">:</span> <span style=\"background-color:rgba(135,206,250,tensor(0.0116, device='cuda:0', grad_fn=<DivBackward0>));\">pristine</span> <span style=\"background-color:rgba(135,206,250,tensor(0.0321, device='cuda:0', grad_fn=<DivBackward0>));\">aromas</span> <span style=\"background-color:rgba(135,206,250,tensor(0.0061, device='cuda:0', grad_fn=<DivBackward0>));\">of</span> <span style=\"background-color:rgba(135,206,250,tensor(0.0009, device='cuda:0', grad_fn=<DivBackward0>));\">freshly</span> <span style=\"background-color:rgba(135,206,250,tensor(0.0019, device='cuda:0', grad_fn=<DivBackward0>));\">pressed</span> <span style=\"background-color:rgba(135,206,250,tensor(0.0085, device='cuda:0', grad_fn=<DivBackward0>));\">yellow</span> <span style=\"background-color:rgba(135,206,250,tensor(3.7368e-05, device='cuda:0', grad_fn=<DivBackward0>));\">flowers</span> <span style=\"background-color:rgba(135,206,250,tensor(8.8328e-05, device='cuda:0', grad_fn=<DivBackward0>));\">and</span> <span style=\"background-color:rgba(135,206,250,tensor(0.0129, device='cuda:0', grad_fn=<DivBackward0>));\">white</span> <span style=\"background-color:rgba(135,206,250,tensor(0.0101, device='cuda:0', grad_fn=<DivBackward0>));\">peach</span> <span style=\"background-color:rgba(135,206,250,tensor(0.0054, device='cuda:0', grad_fn=<DivBackward0>));\">and</span> <span style=\"background-color:rgba(135,206,250,tensor(0.0148, device='cuda:0', grad_fn=<DivBackward0>));\">honeydew</span> <span style=\"background-color:rgba(135,206,250,tensor(0.0152, device='cuda:0', grad_fn=<DivBackward0>));\">melon</span> <span style=\"background-color:rgba(135,206,250,tensor(0.0236, device='cuda:0', grad_fn=<DivBackward0>));\">flavors</span> <span style=\"background-color:rgba(135,206,250,tensor(0.0101, device='cuda:0', grad_fn=<DivBackward0>));\">this</span> <span style=\"background-color:rgba(135,206,250,tensor(0.0081, device='cuda:0', grad_fn=<DivBackward0>));\">dry</span> <span style=\"background-color:rgba(135,206,250,tensor(0.0255, device='cuda:0', grad_fn=<DivBackward0>));\">riesling</span> <span style=\"background-color:rgba(135,206,250,tensor(0.0189, device='cuda:0', grad_fn=<DivBackward0>));\">.</span> <span style=\"background-color:rgba(135,206,250,tensor(0.0044, device='cuda:0', grad_fn=<DivBackward0>));\">the</span> <span style=\"background-color:rgba(135,206,250,tensor(0.0362, device='cuda:0', grad_fn=<DivBackward0>));\">palate</span> <span style=\"background-color:rgba(135,206,250,tensor(0.0118, device='cuda:0', grad_fn=<DivBackward0>));\">is</span> <span style=\"background-color:rgba(135,206,250,tensor(4.7468e-05, device='cuda:0', grad_fn=<DivBackward0>));\">full</span> <span style=\"background-color:rgba(135,206,250,tensor(0.0095, device='cuda:0', grad_fn=<DivBackward0>));\">of</span> <span style=\"background-color:rgba(135,206,250,tensor(0.0063, device='cuda:0', grad_fn=<DivBackward0>));\">the</span> <span style=\"background-color:rgba(135,206,250,tensor(0.0152, device='cuda:0', grad_fn=<DivBackward0>));\">mouth</span> <span style=\"background-color:rgba(135,206,250,tensor(0.0045, device='cuda:0', grad_fn=<DivBackward0>));\">,</span> <span style=\"background-color:rgba(135,206,250,tensor(0.0176, device='cuda:0', grad_fn=<DivBackward0>));\">with</span> <span style=\"background-color:rgba(135,206,250,tensor(0.0203, device='cuda:0', grad_fn=<DivBackward0>));\">a</span> <span style=\"background-color:rgba(135,206,250,tensor(0.0146, device='cuda:0', grad_fn=<DivBackward0>));\">hint</span> <span style=\"background-color:rgba(135,206,250,tensor(0.0140, device='cuda:0', grad_fn=<DivBackward0>));\">of</span> <span style=\"background-color:rgba(135,206,250,tensor(0.0192, device='cuda:0', grad_fn=<DivBackward0>));\">tangerine</span> <span style=\"background-color:rgba(135,206,250,tensor(0.0387, device='cuda:0', grad_fn=<DivBackward0>));\">acidity</span> <span style=\"background-color:rgba(135,206,250,tensor(0.0167, device='cuda:0', grad_fn=<DivBackward0>));\">and</span> <span style=\"background-color:rgba(135,206,250,tensor(0.0331, device='cuda:0', grad_fn=<DivBackward0>));\">a</span> <span style=\"background-color:rgba(135,206,250,tensor(0.0254, device='cuda:0', grad_fn=<DivBackward0>));\">lingering</span> <span style=\"background-color:rgba(135,206,250,tensor(0.0271, device='cuda:0', grad_fn=<DivBackward0>));\">mineral</span> <span style=\"background-color:rgba(135,206,250,tensor(0.1542, device='cuda:0', grad_fn=<DivBackward0>));\">finish</span> <span style=\"background-color:rgba(135,206,250,tensor(0.0911, device='cuda:0', grad_fn=<DivBackward0>));\">.</span> <span style=\"background-color:rgba(135,206,250,tensor(0.0507, device='cuda:0', grad_fn=<DivBackward0>));\">it</span> <span style=\"background-color:rgba(135,206,250,tensor(0.0345, device='cuda:0', grad_fn=<DivBackward0>));\">'</span> <span style=\"background-color:rgba(135,206,250,tensor(0.0502, device='cuda:0', grad_fn=<DivBackward0>));\">s</span> <span style=\"background-color:rgba(135,206,250,tensor(0.3062, device='cuda:0', grad_fn=<DivBackward0>));\">a</span> <span style=\"background-color:rgba(135,206,250,tensor(1., device='cuda:0', grad_fn=<DivBackward0>));\">bit</span> <span style=\"background-color:rgba(135,206,250,tensor(0.0230, device='cuda:0', grad_fn=<DivBackward0>));\">confected</span>"
      ],
      "text/plain": [
       "<IPython.core.display.HTML object>"
      ]
     },
     "metadata": {},
     "output_type": "display_data"
    },
    {
     "name": "stdout",
     "output_type": "stream",
     "text": [
      ",:   \t56.15%\n",
      "in:   \t22.55%\n",
      "and:   \t9.66%\n",
      "but:   \t5.47%\n",
      ".:   \t2.99%\n",
      "--------\n",
      "\n"
     ]
    },
    {
     "data": {
      "text/html": [
       "<span style=\"background-color:rgba(135,206,250,tensor(0.0211, device='cuda:0', grad_fn=<DivBackward0>));\">wine</span> <span style=\"background-color:rgba(135,206,250,tensor(0.0604, device='cuda:0', grad_fn=<DivBackward0>));\">review</span> <span style=\"background-color:rgba(135,206,250,tensor(0.0166, device='cuda:0', grad_fn=<DivBackward0>));\">:</span> <span style=\"background-color:rgba(135,206,250,tensor(0.6259, device='cuda:0', grad_fn=<DivBackward0>));\">germany</span> <span style=\"background-color:rgba(135,206,250,tensor(0.0268, device='cuda:0', grad_fn=<DivBackward0>));\">:</span> <span style=\"background-color:rgba(135,206,250,tensor(0.2817, device='cuda:0', grad_fn=<DivBackward0>));\">mosel</span> <span style=\"background-color:rgba(135,206,250,tensor(0.0041, device='cuda:0', grad_fn=<DivBackward0>));\">:</span> <span style=\"background-color:rgba(135,206,250,tensor(0.2973, device='cuda:0', grad_fn=<DivBackward0>));\">riesling</span> <span style=\"background-color:rgba(135,206,250,tensor(0.0062, device='cuda:0', grad_fn=<DivBackward0>));\">:</span> <span style=\"background-color:rgba(135,206,250,tensor(0.0923, device='cuda:0', grad_fn=<DivBackward0>));\">pristine</span> <span style=\"background-color:rgba(135,206,250,tensor(0.0786, device='cuda:0', grad_fn=<DivBackward0>));\">aromas</span> <span style=\"background-color:rgba(135,206,250,tensor(0.0141, device='cuda:0', grad_fn=<DivBackward0>));\">of</span> <span style=\"background-color:rgba(135,206,250,tensor(0.0050, device='cuda:0', grad_fn=<DivBackward0>));\">freshly</span> <span style=\"background-color:rgba(135,206,250,tensor(0.0155, device='cuda:0', grad_fn=<DivBackward0>));\">pressed</span> <span style=\"background-color:rgba(135,206,250,tensor(0.0335, device='cuda:0', grad_fn=<DivBackward0>));\">yellow</span> <span style=\"background-color:rgba(135,206,250,tensor(0.0009, device='cuda:0', grad_fn=<DivBackward0>));\">flowers</span> <span style=\"background-color:rgba(135,206,250,tensor(0.0001, device='cuda:0', grad_fn=<DivBackward0>));\">and</span> <span style=\"background-color:rgba(135,206,250,tensor(0.0281, device='cuda:0', grad_fn=<DivBackward0>));\">white</span> <span style=\"background-color:rgba(135,206,250,tensor(0.0275, device='cuda:0', grad_fn=<DivBackward0>));\">peach</span> <span style=\"background-color:rgba(135,206,250,tensor(0.0078, device='cuda:0', grad_fn=<DivBackward0>));\">and</span> <span style=\"background-color:rgba(135,206,250,tensor(0.0012, device='cuda:0', grad_fn=<DivBackward0>));\">honeydew</span> <span style=\"background-color:rgba(135,206,250,tensor(0.0382, device='cuda:0', grad_fn=<DivBackward0>));\">melon</span> <span style=\"background-color:rgba(135,206,250,tensor(0.0466, device='cuda:0', grad_fn=<DivBackward0>));\">flavors</span> <span style=\"background-color:rgba(135,206,250,tensor(0.0120, device='cuda:0', grad_fn=<DivBackward0>));\">this</span> <span style=\"background-color:rgba(135,206,250,tensor(0.0362, device='cuda:0', grad_fn=<DivBackward0>));\">dry</span> <span style=\"background-color:rgba(135,206,250,tensor(0.0608, device='cuda:0', grad_fn=<DivBackward0>));\">riesling</span> <span style=\"background-color:rgba(135,206,250,tensor(0.0012, device='cuda:0', grad_fn=<DivBackward0>));\">.</span> <span style=\"background-color:rgba(135,206,250,tensor(0.0122, device='cuda:0', grad_fn=<DivBackward0>));\">the</span> <span style=\"background-color:rgba(135,206,250,tensor(0.0006, device='cuda:0', grad_fn=<DivBackward0>));\">palate</span> <span style=\"background-color:rgba(135,206,250,tensor(0.0113, device='cuda:0', grad_fn=<DivBackward0>));\">is</span> <span style=\"background-color:rgba(135,206,250,tensor(0.0388, device='cuda:0', grad_fn=<DivBackward0>));\">full</span> <span style=\"background-color:rgba(135,206,250,tensor(0.0118, device='cuda:0', grad_fn=<DivBackward0>));\">of</span> <span style=\"background-color:rgba(135,206,250,tensor(0.0139, device='cuda:0', grad_fn=<DivBackward0>));\">the</span> <span style=\"background-color:rgba(135,206,250,tensor(0.0469, device='cuda:0', grad_fn=<DivBackward0>));\">mouth</span> <span style=\"background-color:rgba(135,206,250,tensor(0.0112, device='cuda:0', grad_fn=<DivBackward0>));\">,</span> <span style=\"background-color:rgba(135,206,250,tensor(0.0247, device='cuda:0', grad_fn=<DivBackward0>));\">with</span> <span style=\"background-color:rgba(135,206,250,tensor(0.0199, device='cuda:0', grad_fn=<DivBackward0>));\">a</span> <span style=\"background-color:rgba(135,206,250,tensor(0.0206, device='cuda:0', grad_fn=<DivBackward0>));\">hint</span> <span style=\"background-color:rgba(135,206,250,tensor(0.0116, device='cuda:0', grad_fn=<DivBackward0>));\">of</span> <span style=\"background-color:rgba(135,206,250,tensor(0.0497, device='cuda:0', grad_fn=<DivBackward0>));\">tangerine</span> <span style=\"background-color:rgba(135,206,250,tensor(0.1111, device='cuda:0', grad_fn=<DivBackward0>));\">acidity</span> <span style=\"background-color:rgba(135,206,250,tensor(0.0136, device='cuda:0', grad_fn=<DivBackward0>));\">and</span> <span style=\"background-color:rgba(135,206,250,tensor(0.0346, device='cuda:0', grad_fn=<DivBackward0>));\">a</span> <span style=\"background-color:rgba(135,206,250,tensor(0.0709, device='cuda:0', grad_fn=<DivBackward0>));\">lingering</span> <span style=\"background-color:rgba(135,206,250,tensor(0.0933, device='cuda:0', grad_fn=<DivBackward0>));\">mineral</span> <span style=\"background-color:rgba(135,206,250,tensor(0.2066, device='cuda:0', grad_fn=<DivBackward0>));\">finish</span> <span style=\"background-color:rgba(135,206,250,tensor(0.0518, device='cuda:0', grad_fn=<DivBackward0>));\">.</span> <span style=\"background-color:rgba(135,206,250,tensor(0.1588, device='cuda:0', grad_fn=<DivBackward0>));\">it</span> <span style=\"background-color:rgba(135,206,250,tensor(0.1189, device='cuda:0', grad_fn=<DivBackward0>));\">'</span> <span style=\"background-color:rgba(135,206,250,tensor(0.1669, device='cuda:0', grad_fn=<DivBackward0>));\">s</span> <span style=\"background-color:rgba(135,206,250,tensor(0.4589, device='cuda:0', grad_fn=<DivBackward0>));\">a</span> <span style=\"background-color:rgba(135,206,250,tensor(1., device='cuda:0', grad_fn=<DivBackward0>));\">bit</span> <span style=\"background-color:rgba(135,206,250,tensor(0.5206, device='cuda:0', grad_fn=<DivBackward0>));\">confected</span> <span style=\"background-color:rgba(135,206,250,tensor(0.2127, device='cuda:0', grad_fn=<DivBackward0>));\">and</span>"
      ],
      "text/plain": [
       "<IPython.core.display.HTML object>"
      ]
     },
     "metadata": {},
     "output_type": "display_data"
    },
    {
     "name": "stdout",
     "output_type": "stream",
     "text": [
      "sweet:   \t18.54%\n",
      "delicate:   \t16.19%\n",
      "filigreed:   \t10.36%\n",
      "a:   \t10.01%\n",
      "easy:   \t6.41%\n",
      "--------\n",
      "\n"
     ]
    },
    {
     "data": {
      "text/html": [
       "<span style=\"background-color:rgba(135,206,250,tensor(0.0625, device='cuda:0', grad_fn=<DivBackward0>));\">wine</span> <span style=\"background-color:rgba(135,206,250,tensor(0.0198, device='cuda:0', grad_fn=<DivBackward0>));\">review</span> <span style=\"background-color:rgba(135,206,250,tensor(0.0018, device='cuda:0', grad_fn=<DivBackward0>));\">:</span> <span style=\"background-color:rgba(135,206,250,tensor(0.0139, device='cuda:0', grad_fn=<DivBackward0>));\">germany</span> <span style=\"background-color:rgba(135,206,250,tensor(0.0070, device='cuda:0', grad_fn=<DivBackward0>));\">:</span> <span style=\"background-color:rgba(135,206,250,tensor(0.1596, device='cuda:0', grad_fn=<DivBackward0>));\">mosel</span> <span style=\"background-color:rgba(135,206,250,tensor(0.0042, device='cuda:0', grad_fn=<DivBackward0>));\">:</span> <span style=\"background-color:rgba(135,206,250,tensor(0.3332, device='cuda:0', grad_fn=<DivBackward0>));\">riesling</span> <span style=\"background-color:rgba(135,206,250,tensor(0.0018, device='cuda:0', grad_fn=<DivBackward0>));\">:</span> <span style=\"background-color:rgba(135,206,250,tensor(0.0163, device='cuda:0', grad_fn=<DivBackward0>));\">pristine</span> <span style=\"background-color:rgba(135,206,250,tensor(0.0462, device='cuda:0', grad_fn=<DivBackward0>));\">aromas</span> <span style=\"background-color:rgba(135,206,250,tensor(0.0074, device='cuda:0', grad_fn=<DivBackward0>));\">of</span> <span style=\"background-color:rgba(135,206,250,tensor(0.0021, device='cuda:0', grad_fn=<DivBackward0>));\">freshly</span> <span style=\"background-color:rgba(135,206,250,tensor(0.0041, device='cuda:0', grad_fn=<DivBackward0>));\">pressed</span> <span style=\"background-color:rgba(135,206,250,tensor(0.0142, device='cuda:0', grad_fn=<DivBackward0>));\">yellow</span> <span style=\"background-color:rgba(135,206,250,tensor(0.0087, device='cuda:0', grad_fn=<DivBackward0>));\">flowers</span> <span style=\"background-color:rgba(135,206,250,tensor(0.0062, device='cuda:0', grad_fn=<DivBackward0>));\">and</span> <span style=\"background-color:rgba(135,206,250,tensor(0.0270, device='cuda:0', grad_fn=<DivBackward0>));\">white</span> <span style=\"background-color:rgba(135,206,250,tensor(0.0133, device='cuda:0', grad_fn=<DivBackward0>));\">peach</span> <span style=\"background-color:rgba(135,206,250,tensor(0.0060, device='cuda:0', grad_fn=<DivBackward0>));\">and</span> <span style=\"background-color:rgba(135,206,250,tensor(0.0227, device='cuda:0', grad_fn=<DivBackward0>));\">honeydew</span> <span style=\"background-color:rgba(135,206,250,tensor(0.0231, device='cuda:0', grad_fn=<DivBackward0>));\">melon</span> <span style=\"background-color:rgba(135,206,250,tensor(0.0415, device='cuda:0', grad_fn=<DivBackward0>));\">flavors</span> <span style=\"background-color:rgba(135,206,250,tensor(0.0083, device='cuda:0', grad_fn=<DivBackward0>));\">this</span> <span style=\"background-color:rgba(135,206,250,tensor(0.0098, device='cuda:0', grad_fn=<DivBackward0>));\">dry</span> <span style=\"background-color:rgba(135,206,250,tensor(0.0703, device='cuda:0', grad_fn=<DivBackward0>));\">riesling</span> <span style=\"background-color:rgba(135,206,250,tensor(0.0008, device='cuda:0', grad_fn=<DivBackward0>));\">.</span> <span style=\"background-color:rgba(135,206,250,tensor(0.0003, device='cuda:0', grad_fn=<DivBackward0>));\">the</span> <span style=\"background-color:rgba(135,206,250,tensor(0.0006, device='cuda:0', grad_fn=<DivBackward0>));\">palate</span> <span style=\"background-color:rgba(135,206,250,tensor(0.0147, device='cuda:0', grad_fn=<DivBackward0>));\">is</span> <span style=\"background-color:rgba(135,206,250,tensor(0.0136, device='cuda:0', grad_fn=<DivBackward0>));\">full</span> <span style=\"background-color:rgba(135,206,250,tensor(0.0092, device='cuda:0', grad_fn=<DivBackward0>));\">of</span> <span style=\"background-color:rgba(135,206,250,tensor(0.0078, device='cuda:0', grad_fn=<DivBackward0>));\">the</span> <span style=\"background-color:rgba(135,206,250,tensor(0.0259, device='cuda:0', grad_fn=<DivBackward0>));\">mouth</span> <span style=\"background-color:rgba(135,206,250,tensor(0.0051, device='cuda:0', grad_fn=<DivBackward0>));\">,</span> <span style=\"background-color:rgba(135,206,250,tensor(0.0202, device='cuda:0', grad_fn=<DivBackward0>));\">with</span> <span style=\"background-color:rgba(135,206,250,tensor(0.0226, device='cuda:0', grad_fn=<DivBackward0>));\">a</span> <span style=\"background-color:rgba(135,206,250,tensor(0.0011, device='cuda:0', grad_fn=<DivBackward0>));\">hint</span> <span style=\"background-color:rgba(135,206,250,tensor(0.0107, device='cuda:0', grad_fn=<DivBackward0>));\">of</span> <span style=\"background-color:rgba(135,206,250,tensor(0.0005, device='cuda:0', grad_fn=<DivBackward0>));\">tangerine</span> <span style=\"background-color:rgba(135,206,250,tensor(0.0024, device='cuda:0', grad_fn=<DivBackward0>));\">acidity</span> <span style=\"background-color:rgba(135,206,250,tensor(0.0160, device='cuda:0', grad_fn=<DivBackward0>));\">and</span> <span style=\"background-color:rgba(135,206,250,tensor(0.0423, device='cuda:0', grad_fn=<DivBackward0>));\">a</span> <span style=\"background-color:rgba(135,206,250,tensor(0.0180, device='cuda:0', grad_fn=<DivBackward0>));\">lingering</span> <span style=\"background-color:rgba(135,206,250,tensor(0.0507, device='cuda:0', grad_fn=<DivBackward0>));\">mineral</span> <span style=\"background-color:rgba(135,206,250,tensor(0.2243, device='cuda:0', grad_fn=<DivBackward0>));\">finish</span> <span style=\"background-color:rgba(135,206,250,tensor(0.1536, device='cuda:0', grad_fn=<DivBackward0>));\">.</span> <span style=\"background-color:rgba(135,206,250,tensor(0.0474, device='cuda:0', grad_fn=<DivBackward0>));\">it</span> <span style=\"background-color:rgba(135,206,250,tensor(0.0552, device='cuda:0', grad_fn=<DivBackward0>));\">'</span> <span style=\"background-color:rgba(135,206,250,tensor(0.0880, device='cuda:0', grad_fn=<DivBackward0>));\">s</span> <span style=\"background-color:rgba(135,206,250,tensor(0.3448, device='cuda:0', grad_fn=<DivBackward0>));\">a</span> <span style=\"background-color:rgba(135,206,250,tensor(1., device='cuda:0', grad_fn=<DivBackward0>));\">bit</span> <span style=\"background-color:rgba(135,206,250,tensor(0.0621, device='cuda:0', grad_fn=<DivBackward0>));\">confected</span> <span style=\"background-color:rgba(135,206,250,tensor(0.3683, device='cuda:0', grad_fn=<DivBackward0>));\">and</span> <span style=\"background-color:rgba(135,206,250,tensor(0.0656, device='cuda:0', grad_fn=<DivBackward0>));\">straightforward</span>"
      ],
      "text/plain": [
       "<IPython.core.display.HTML object>"
      ]
     },
     "metadata": {},
     "output_type": "display_data"
    },
    {
     "name": "stdout",
     "output_type": "stream",
     "text": [
      ",:   \t74.2%\n",
      ".:   \t20.48%\n",
      "but:   \t1.9%\n",
      "now:   \t1.79%\n",
      "in:   \t0.83%\n",
      "--------\n",
      "\n"
     ]
    },
    {
     "data": {
      "text/html": [
       "<span style=\"background-color:rgba(135,206,250,tensor(0.1697, device='cuda:0', grad_fn=<DivBackward0>));\">wine</span> <span style=\"background-color:rgba(135,206,250,tensor(0.0829, device='cuda:0', grad_fn=<DivBackward0>));\">review</span> <span style=\"background-color:rgba(135,206,250,tensor(0.0309, device='cuda:0', grad_fn=<DivBackward0>));\">:</span> <span style=\"background-color:rgba(135,206,250,tensor(0.7148, device='cuda:0', grad_fn=<DivBackward0>));\">germany</span> <span style=\"background-color:rgba(135,206,250,tensor(0.0525, device='cuda:0', grad_fn=<DivBackward0>));\">:</span> <span style=\"background-color:rgba(135,206,250,tensor(0.2646, device='cuda:0', grad_fn=<DivBackward0>));\">mosel</span> <span style=\"background-color:rgba(135,206,250,tensor(0.0126, device='cuda:0', grad_fn=<DivBackward0>));\">:</span> <span style=\"background-color:rgba(135,206,250,tensor(0.4127, device='cuda:0', grad_fn=<DivBackward0>));\">riesling</span> <span style=\"background-color:rgba(135,206,250,tensor(0.0109, device='cuda:0', grad_fn=<DivBackward0>));\">:</span> <span style=\"background-color:rgba(135,206,250,tensor(0.0851, device='cuda:0', grad_fn=<DivBackward0>));\">pristine</span> <span style=\"background-color:rgba(135,206,250,tensor(0.1042, device='cuda:0', grad_fn=<DivBackward0>));\">aromas</span> <span style=\"background-color:rgba(135,206,250,tensor(0.0245, device='cuda:0', grad_fn=<DivBackward0>));\">of</span> <span style=\"background-color:rgba(135,206,250,tensor(0.0091, device='cuda:0', grad_fn=<DivBackward0>));\">freshly</span> <span style=\"background-color:rgba(135,206,250,tensor(0.0172, device='cuda:0', grad_fn=<DivBackward0>));\">pressed</span> <span style=\"background-color:rgba(135,206,250,tensor(0.0381, device='cuda:0', grad_fn=<DivBackward0>));\">yellow</span> <span style=\"background-color:rgba(135,206,250,tensor(0.0536, device='cuda:0', grad_fn=<DivBackward0>));\">flowers</span> <span style=\"background-color:rgba(135,206,250,tensor(0.0218, device='cuda:0', grad_fn=<DivBackward0>));\">and</span> <span style=\"background-color:rgba(135,206,250,tensor(0.0498, device='cuda:0', grad_fn=<DivBackward0>));\">white</span> <span style=\"background-color:rgba(135,206,250,tensor(0.0376, device='cuda:0', grad_fn=<DivBackward0>));\">peach</span> <span style=\"background-color:rgba(135,206,250,tensor(0.0255, device='cuda:0', grad_fn=<DivBackward0>));\">and</span> <span style=\"background-color:rgba(135,206,250,tensor(0.0746, device='cuda:0', grad_fn=<DivBackward0>));\">honeydew</span> <span style=\"background-color:rgba(135,206,250,tensor(0.0518, device='cuda:0', grad_fn=<DivBackward0>));\">melon</span> <span style=\"background-color:rgba(135,206,250,tensor(0.0565, device='cuda:0', grad_fn=<DivBackward0>));\">flavors</span> <span style=\"background-color:rgba(135,206,250,tensor(0.0381, device='cuda:0', grad_fn=<DivBackward0>));\">this</span> <span style=\"background-color:rgba(135,206,250,tensor(0.0403, device='cuda:0', grad_fn=<DivBackward0>));\">dry</span> <span style=\"background-color:rgba(135,206,250,tensor(0.0931, device='cuda:0', grad_fn=<DivBackward0>));\">riesling</span> <span style=\"background-color:rgba(135,206,250,tensor(0.0495, device='cuda:0', grad_fn=<DivBackward0>));\">.</span> <span style=\"background-color:rgba(135,206,250,tensor(0.0221, device='cuda:0', grad_fn=<DivBackward0>));\">the</span> <span style=\"background-color:rgba(135,206,250,tensor(0.0755, device='cuda:0', grad_fn=<DivBackward0>));\">palate</span> <span style=\"background-color:rgba(135,206,250,tensor(0.0367, device='cuda:0', grad_fn=<DivBackward0>));\">is</span> <span style=\"background-color:rgba(135,206,250,tensor(0.0378, device='cuda:0', grad_fn=<DivBackward0>));\">full</span> <span style=\"background-color:rgba(135,206,250,tensor(0.0190, device='cuda:0', grad_fn=<DivBackward0>));\">of</span> <span style=\"background-color:rgba(135,206,250,tensor(0.0264, device='cuda:0', grad_fn=<DivBackward0>));\">the</span> <span style=\"background-color:rgba(135,206,250,tensor(0.0600, device='cuda:0', grad_fn=<DivBackward0>));\">mouth</span> <span style=\"background-color:rgba(135,206,250,tensor(0.0164, device='cuda:0', grad_fn=<DivBackward0>));\">,</span> <span style=\"background-color:rgba(135,206,250,tensor(0.0780, device='cuda:0', grad_fn=<DivBackward0>));\">with</span> <span style=\"background-color:rgba(135,206,250,tensor(0.0449, device='cuda:0', grad_fn=<DivBackward0>));\">a</span> <span style=\"background-color:rgba(135,206,250,tensor(0.0080, device='cuda:0', grad_fn=<DivBackward0>));\">hint</span> <span style=\"background-color:rgba(135,206,250,tensor(0.0277, device='cuda:0', grad_fn=<DivBackward0>));\">of</span> <span style=\"background-color:rgba(135,206,250,tensor(0.0596, device='cuda:0', grad_fn=<DivBackward0>));\">tangerine</span> <span style=\"background-color:rgba(135,206,250,tensor(0.1113, device='cuda:0', grad_fn=<DivBackward0>));\">acidity</span> <span style=\"background-color:rgba(135,206,250,tensor(0.0417, device='cuda:0', grad_fn=<DivBackward0>));\">and</span> <span style=\"background-color:rgba(135,206,250,tensor(0.0664, device='cuda:0', grad_fn=<DivBackward0>));\">a</span> <span style=\"background-color:rgba(135,206,250,tensor(0.1210, device='cuda:0', grad_fn=<DivBackward0>));\">lingering</span> <span style=\"background-color:rgba(135,206,250,tensor(0.0977, device='cuda:0', grad_fn=<DivBackward0>));\">mineral</span> <span style=\"background-color:rgba(135,206,250,tensor(0.2379, device='cuda:0', grad_fn=<DivBackward0>));\">finish</span> <span style=\"background-color:rgba(135,206,250,tensor(0.2374, device='cuda:0', grad_fn=<DivBackward0>));\">.</span> <span style=\"background-color:rgba(135,206,250,tensor(0.2064, device='cuda:0', grad_fn=<DivBackward0>));\">it</span> <span style=\"background-color:rgba(135,206,250,tensor(0.1139, device='cuda:0', grad_fn=<DivBackward0>));\">'</span> <span style=\"background-color:rgba(135,206,250,tensor(0.1960, device='cuda:0', grad_fn=<DivBackward0>));\">s</span> <span style=\"background-color:rgba(135,206,250,tensor(0.2993, device='cuda:0', grad_fn=<DivBackward0>));\">a</span> <span style=\"background-color:rgba(135,206,250,tensor(1., device='cuda:0', grad_fn=<DivBackward0>));\">bit</span> <span style=\"background-color:rgba(135,206,250,tensor(0.1601, device='cuda:0', grad_fn=<DivBackward0>));\">confected</span> <span style=\"background-color:rgba(135,206,250,tensor(0.0772, device='cuda:0', grad_fn=<DivBackward0>));\">and</span> <span style=\"background-color:rgba(135,206,250,tensor(0.7368, device='cuda:0', grad_fn=<DivBackward0>));\">straightforward</span> <span style=\"background-color:rgba(135,206,250,tensor(0.3071, device='cuda:0', grad_fn=<DivBackward0>));\">,</span>"
      ],
      "text/plain": [
       "<IPython.core.display.HTML object>"
      ]
     },
     "metadata": {},
     "output_type": "display_data"
    },
    {
     "name": "stdout",
     "output_type": "stream",
     "text": [
      "with:   \t58.37%\n",
      "but:   \t37.78%\n",
      "yet:   \t1.29%\n",
      "it:   \t1.12%\n",
      "and:   \t0.91%\n",
      "--------\n",
      "\n"
     ]
    },
    {
     "data": {
      "text/html": [
       "<span style=\"background-color:rgba(135,206,250,tensor(0.1204, device='cuda:0', grad_fn=<DivBackward0>));\">wine</span> <span style=\"background-color:rgba(135,206,250,tensor(0.0989, device='cuda:0', grad_fn=<DivBackward0>));\">review</span> <span style=\"background-color:rgba(135,206,250,tensor(0.0639, device='cuda:0', grad_fn=<DivBackward0>));\">:</span> <span style=\"background-color:rgba(135,206,250,tensor(0.5515, device='cuda:0', grad_fn=<DivBackward0>));\">germany</span> <span style=\"background-color:rgba(135,206,250,tensor(0.0125, device='cuda:0', grad_fn=<DivBackward0>));\">:</span> <span style=\"background-color:rgba(135,206,250,tensor(0.2610, device='cuda:0', grad_fn=<DivBackward0>));\">mosel</span> <span style=\"background-color:rgba(135,206,250,tensor(0.0413, device='cuda:0', grad_fn=<DivBackward0>));\">:</span> <span style=\"background-color:rgba(135,206,250,tensor(0.2602, device='cuda:0', grad_fn=<DivBackward0>));\">riesling</span> <span style=\"background-color:rgba(135,206,250,tensor(0.0125, device='cuda:0', grad_fn=<DivBackward0>));\">:</span> <span style=\"background-color:rgba(135,206,250,tensor(0.1002, device='cuda:0', grad_fn=<DivBackward0>));\">pristine</span> <span style=\"background-color:rgba(135,206,250,tensor(0.0843, device='cuda:0', grad_fn=<DivBackward0>));\">aromas</span> <span style=\"background-color:rgba(135,206,250,tensor(0.0092, device='cuda:0', grad_fn=<DivBackward0>));\">of</span> <span style=\"background-color:rgba(135,206,250,tensor(0.0011, device='cuda:0', grad_fn=<DivBackward0>));\">freshly</span> <span style=\"background-color:rgba(135,206,250,tensor(0.0091, device='cuda:0', grad_fn=<DivBackward0>));\">pressed</span> <span style=\"background-color:rgba(135,206,250,tensor(0.0477, device='cuda:0', grad_fn=<DivBackward0>));\">yellow</span> <span style=\"background-color:rgba(135,206,250,tensor(0.0766, device='cuda:0', grad_fn=<DivBackward0>));\">flowers</span> <span style=\"background-color:rgba(135,206,250,tensor(0.0062, device='cuda:0', grad_fn=<DivBackward0>));\">and</span> <span style=\"background-color:rgba(135,206,250,tensor(0.0413, device='cuda:0', grad_fn=<DivBackward0>));\">white</span> <span style=\"background-color:rgba(135,206,250,tensor(0.0552, device='cuda:0', grad_fn=<DivBackward0>));\">peach</span> <span style=\"background-color:rgba(135,206,250,tensor(0.0051, device='cuda:0', grad_fn=<DivBackward0>));\">and</span> <span style=\"background-color:rgba(135,206,250,tensor(0.0976, device='cuda:0', grad_fn=<DivBackward0>));\">honeydew</span> <span style=\"background-color:rgba(135,206,250,tensor(0.0670, device='cuda:0', grad_fn=<DivBackward0>));\">melon</span> <span style=\"background-color:rgba(135,206,250,tensor(0.0623, device='cuda:0', grad_fn=<DivBackward0>));\">flavors</span> <span style=\"background-color:rgba(135,206,250,tensor(0.0097, device='cuda:0', grad_fn=<DivBackward0>));\">this</span> <span style=\"background-color:rgba(135,206,250,tensor(0.0318, device='cuda:0', grad_fn=<DivBackward0>));\">dry</span> <span style=\"background-color:rgba(135,206,250,tensor(0.0483, device='cuda:0', grad_fn=<DivBackward0>));\">riesling</span> <span style=\"background-color:rgba(135,206,250,tensor(0., device='cuda:0', grad_fn=<DivBackward0>));\">.</span> <span style=\"background-color:rgba(135,206,250,tensor(0.0075, device='cuda:0', grad_fn=<DivBackward0>));\">the</span> <span style=\"background-color:rgba(135,206,250,tensor(0.0567, device='cuda:0', grad_fn=<DivBackward0>));\">palate</span> <span style=\"background-color:rgba(135,206,250,tensor(0.0077, device='cuda:0', grad_fn=<DivBackward0>));\">is</span> <span style=\"background-color:rgba(135,206,250,tensor(0.0283, device='cuda:0', grad_fn=<DivBackward0>));\">full</span> <span style=\"background-color:rgba(135,206,250,tensor(0.0061, device='cuda:0', grad_fn=<DivBackward0>));\">of</span> <span style=\"background-color:rgba(135,206,250,tensor(0.0076, device='cuda:0', grad_fn=<DivBackward0>));\">the</span> <span style=\"background-color:rgba(135,206,250,tensor(0.0430, device='cuda:0', grad_fn=<DivBackward0>));\">mouth</span> <span style=\"background-color:rgba(135,206,250,tensor(0.0077, device='cuda:0', grad_fn=<DivBackward0>));\">,</span> <span style=\"background-color:rgba(135,206,250,tensor(0.0094, device='cuda:0', grad_fn=<DivBackward0>));\">with</span> <span style=\"background-color:rgba(135,206,250,tensor(0.0152, device='cuda:0', grad_fn=<DivBackward0>));\">a</span> <span style=\"background-color:rgba(135,206,250,tensor(0.0183, device='cuda:0', grad_fn=<DivBackward0>));\">hint</span> <span style=\"background-color:rgba(135,206,250,tensor(0.0071, device='cuda:0', grad_fn=<DivBackward0>));\">of</span> <span style=\"background-color:rgba(135,206,250,tensor(0.0554, device='cuda:0', grad_fn=<DivBackward0>));\">tangerine</span> <span style=\"background-color:rgba(135,206,250,tensor(0.1458, device='cuda:0', grad_fn=<DivBackward0>));\">acidity</span> <span style=\"background-color:rgba(135,206,250,tensor(0.0087, device='cuda:0', grad_fn=<DivBackward0>));\">and</span> <span style=\"background-color:rgba(135,206,250,tensor(0.0195, device='cuda:0', grad_fn=<DivBackward0>));\">a</span> <span style=\"background-color:rgba(135,206,250,tensor(0.0538, device='cuda:0', grad_fn=<DivBackward0>));\">lingering</span> <span style=\"background-color:rgba(135,206,250,tensor(0.0384, device='cuda:0', grad_fn=<DivBackward0>));\">mineral</span> <span style=\"background-color:rgba(135,206,250,tensor(0.0083, device='cuda:0', grad_fn=<DivBackward0>));\">finish</span> <span style=\"background-color:rgba(135,206,250,tensor(0.0603, device='cuda:0', grad_fn=<DivBackward0>));\">.</span> <span style=\"background-color:rgba(135,206,250,tensor(0.0326, device='cuda:0', grad_fn=<DivBackward0>));\">it</span> <span style=\"background-color:rgba(135,206,250,tensor(0.0287, device='cuda:0', grad_fn=<DivBackward0>));\">'</span> <span style=\"background-color:rgba(135,206,250,tensor(0.0270, device='cuda:0', grad_fn=<DivBackward0>));\">s</span> <span style=\"background-color:rgba(135,206,250,tensor(0.0470, device='cuda:0', grad_fn=<DivBackward0>));\">a</span> <span style=\"background-color:rgba(135,206,250,tensor(0.1488, device='cuda:0', grad_fn=<DivBackward0>));\">bit</span> <span style=\"background-color:rgba(135,206,250,tensor(0.0585, device='cuda:0', grad_fn=<DivBackward0>));\">confected</span> <span style=\"background-color:rgba(135,206,250,tensor(0., device='cuda:0', grad_fn=<DivBackward0>));\">and</span> <span style=\"background-color:rgba(135,206,250,tensor(0.4145, device='cuda:0', grad_fn=<DivBackward0>));\">straightforward</span> <span style=\"background-color:rgba(135,206,250,tensor(1., device='cuda:0', grad_fn=<DivBackward0>));\">,</span> <span style=\"background-color:rgba(135,206,250,tensor(0.2217, device='cuda:0', grad_fn=<DivBackward0>));\">with</span>"
      ],
      "text/plain": [
       "<IPython.core.display.HTML object>"
      ]
     },
     "metadata": {},
     "output_type": "display_data"
    },
    {
     "name": "stdout",
     "output_type": "stream",
     "text": [
      "a:   \t99.4%\n",
      "an:   \t0.48%\n",
      "just:   \t0.08%\n",
      "fresh:   \t0.01%\n",
      "crisp:   \t0.0%\n",
      "--------\n",
      "\n"
     ]
    },
    {
     "data": {
      "text/html": [
       "<span style=\"background-color:rgba(135,206,250,tensor(0.1578, device='cuda:0', grad_fn=<DivBackward0>));\">wine</span> <span style=\"background-color:rgba(135,206,250,tensor(0.1057, device='cuda:0', grad_fn=<DivBackward0>));\">review</span> <span style=\"background-color:rgba(135,206,250,tensor(0.0339, device='cuda:0', grad_fn=<DivBackward0>));\">:</span> <span style=\"background-color:rgba(135,206,250,tensor(0.5298, device='cuda:0', grad_fn=<DivBackward0>));\">germany</span> <span style=\"background-color:rgba(135,206,250,tensor(0.0498, device='cuda:0', grad_fn=<DivBackward0>));\">:</span> <span style=\"background-color:rgba(135,206,250,tensor(0.2114, device='cuda:0', grad_fn=<DivBackward0>));\">mosel</span> <span style=\"background-color:rgba(135,206,250,tensor(0.0114, device='cuda:0', grad_fn=<DivBackward0>));\">:</span> <span style=\"background-color:rgba(135,206,250,tensor(0.2150, device='cuda:0', grad_fn=<DivBackward0>));\">riesling</span> <span style=\"background-color:rgba(135,206,250,tensor(0.0026, device='cuda:0', grad_fn=<DivBackward0>));\">:</span> <span style=\"background-color:rgba(135,206,250,tensor(0.0600, device='cuda:0', grad_fn=<DivBackward0>));\">pristine</span> <span style=\"background-color:rgba(135,206,250,tensor(0.0655, device='cuda:0', grad_fn=<DivBackward0>));\">aromas</span> <span style=\"background-color:rgba(135,206,250,tensor(0.0169, device='cuda:0', grad_fn=<DivBackward0>));\">of</span> <span style=\"background-color:rgba(135,206,250,tensor(0.0059, device='cuda:0', grad_fn=<DivBackward0>));\">freshly</span> <span style=\"background-color:rgba(135,206,250,tensor(0.0112, device='cuda:0', grad_fn=<DivBackward0>));\">pressed</span> <span style=\"background-color:rgba(135,206,250,tensor(0.0288, device='cuda:0', grad_fn=<DivBackward0>));\">yellow</span> <span style=\"background-color:rgba(135,206,250,tensor(0.0526, device='cuda:0', grad_fn=<DivBackward0>));\">flowers</span> <span style=\"background-color:rgba(135,206,250,tensor(0.0010, device='cuda:0', grad_fn=<DivBackward0>));\">and</span> <span style=\"background-color:rgba(135,206,250,tensor(0.0315, device='cuda:0', grad_fn=<DivBackward0>));\">white</span> <span style=\"background-color:rgba(135,206,250,tensor(0.0295, device='cuda:0', grad_fn=<DivBackward0>));\">peach</span> <span style=\"background-color:rgba(135,206,250,tensor(0.0088, device='cuda:0', grad_fn=<DivBackward0>));\">and</span> <span style=\"background-color:rgba(135,206,250,tensor(0.0588, device='cuda:0', grad_fn=<DivBackward0>));\">honeydew</span> <span style=\"background-color:rgba(135,206,250,tensor(0.0518, device='cuda:0', grad_fn=<DivBackward0>));\">melon</span> <span style=\"background-color:rgba(135,206,250,tensor(0.0494, device='cuda:0', grad_fn=<DivBackward0>));\">flavors</span> <span style=\"background-color:rgba(135,206,250,tensor(0.0149, device='cuda:0', grad_fn=<DivBackward0>));\">this</span> <span style=\"background-color:rgba(135,206,250,tensor(0.0510, device='cuda:0', grad_fn=<DivBackward0>));\">dry</span> <span style=\"background-color:rgba(135,206,250,tensor(0.0527, device='cuda:0', grad_fn=<DivBackward0>));\">riesling</span> <span style=\"background-color:rgba(135,206,250,tensor(0.0020, device='cuda:0', grad_fn=<DivBackward0>));\">.</span> <span style=\"background-color:rgba(135,206,250,tensor(0.0104, device='cuda:0', grad_fn=<DivBackward0>));\">the</span> <span style=\"background-color:rgba(135,206,250,tensor(0.0657, device='cuda:0', grad_fn=<DivBackward0>));\">palate</span> <span style=\"background-color:rgba(135,206,250,tensor(0.0009, device='cuda:0', grad_fn=<DivBackward0>));\">is</span> <span style=\"background-color:rgba(135,206,250,tensor(0.0223, device='cuda:0', grad_fn=<DivBackward0>));\">full</span> <span style=\"background-color:rgba(135,206,250,tensor(0.0133, device='cuda:0', grad_fn=<DivBackward0>));\">of</span> <span style=\"background-color:rgba(135,206,250,tensor(0.0107, device='cuda:0', grad_fn=<DivBackward0>));\">the</span> <span style=\"background-color:rgba(135,206,250,tensor(0.0571, device='cuda:0', grad_fn=<DivBackward0>));\">mouth</span> <span style=\"background-color:rgba(135,206,250,tensor(0.0080, device='cuda:0', grad_fn=<DivBackward0>));\">,</span> <span style=\"background-color:rgba(135,206,250,tensor(0.0158, device='cuda:0', grad_fn=<DivBackward0>));\">with</span> <span style=\"background-color:rgba(135,206,250,tensor(0.0138, device='cuda:0', grad_fn=<DivBackward0>));\">a</span> <span style=\"background-color:rgba(135,206,250,tensor(0.0209, device='cuda:0', grad_fn=<DivBackward0>));\">hint</span> <span style=\"background-color:rgba(135,206,250,tensor(0.0160, device='cuda:0', grad_fn=<DivBackward0>));\">of</span> <span style=\"background-color:rgba(135,206,250,tensor(0.0014, device='cuda:0', grad_fn=<DivBackward0>));\">tangerine</span> <span style=\"background-color:rgba(135,206,250,tensor(0.0631, device='cuda:0', grad_fn=<DivBackward0>));\">acidity</span> <span style=\"background-color:rgba(135,206,250,tensor(0.0121, device='cuda:0', grad_fn=<DivBackward0>));\">and</span> <span style=\"background-color:rgba(135,206,250,tensor(0.0188, device='cuda:0', grad_fn=<DivBackward0>));\">a</span> <span style=\"background-color:rgba(135,206,250,tensor(0.0022, device='cuda:0', grad_fn=<DivBackward0>));\">lingering</span> <span style=\"background-color:rgba(135,206,250,tensor(0.0500, device='cuda:0', grad_fn=<DivBackward0>));\">mineral</span> <span style=\"background-color:rgba(135,206,250,tensor(0.1845, device='cuda:0', grad_fn=<DivBackward0>));\">finish</span> <span style=\"background-color:rgba(135,206,250,tensor(0.0453, device='cuda:0', grad_fn=<DivBackward0>));\">.</span> <span style=\"background-color:rgba(135,206,250,tensor(0.0497, device='cuda:0', grad_fn=<DivBackward0>));\">it</span> <span style=\"background-color:rgba(135,206,250,tensor(0.0284, device='cuda:0', grad_fn=<DivBackward0>));\">'</span> <span style=\"background-color:rgba(135,206,250,tensor(0.0308, device='cuda:0', grad_fn=<DivBackward0>));\">s</span> <span style=\"background-color:rgba(135,206,250,tensor(0.0428, device='cuda:0', grad_fn=<DivBackward0>));\">a</span> <span style=\"background-color:rgba(135,206,250,tensor(0.2085, device='cuda:0', grad_fn=<DivBackward0>));\">bit</span> <span style=\"background-color:rgba(135,206,250,tensor(0.0498, device='cuda:0', grad_fn=<DivBackward0>));\">confected</span> <span style=\"background-color:rgba(135,206,250,tensor(0.1494, device='cuda:0', grad_fn=<DivBackward0>));\">and</span> <span style=\"background-color:rgba(135,206,250,tensor(0.2603, device='cuda:0', grad_fn=<DivBackward0>));\">straightforward</span> <span style=\"background-color:rgba(135,206,250,tensor(0.4837, device='cuda:0', grad_fn=<DivBackward0>));\">,</span> <span style=\"background-color:rgba(135,206,250,tensor(1., device='cuda:0', grad_fn=<DivBackward0>));\">with</span> <span style=\"background-color:rgba(135,206,250,tensor(0.2799, device='cuda:0', grad_fn=<DivBackward0>));\">a</span>"
      ],
      "text/plain": [
       "<IPython.core.display.HTML object>"
      ]
     },
     "metadata": {},
     "output_type": "display_data"
    },
    {
     "name": "stdout",
     "output_type": "stream",
     "text": [
      "hint:   \t36.6%\n",
      "touch:   \t29.93%\n",
      "lingering:   \t19.64%\n",
      "note:   \t3.82%\n",
      "long:   \t1.67%\n",
      "--------\n",
      "\n"
     ]
    },
    {
     "data": {
      "text/html": [
       "<span style=\"background-color:rgba(135,206,250,tensor(0.0773, device='cuda:0', grad_fn=<DivBackward0>));\">wine</span> <span style=\"background-color:rgba(135,206,250,tensor(0.0830, device='cuda:0', grad_fn=<DivBackward0>));\">review</span> <span style=\"background-color:rgba(135,206,250,tensor(0.0186, device='cuda:0', grad_fn=<DivBackward0>));\">:</span> <span style=\"background-color:rgba(135,206,250,tensor(0.2487, device='cuda:0', grad_fn=<DivBackward0>));\">germany</span> <span style=\"background-color:rgba(135,206,250,tensor(0.0290, device='cuda:0', grad_fn=<DivBackward0>));\">:</span> <span style=\"background-color:rgba(135,206,250,tensor(0.0527, device='cuda:0', grad_fn=<DivBackward0>));\">mosel</span> <span style=\"background-color:rgba(135,206,250,tensor(0.0133, device='cuda:0', grad_fn=<DivBackward0>));\">:</span> <span style=\"background-color:rgba(135,206,250,tensor(0.0062, device='cuda:0', grad_fn=<DivBackward0>));\">riesling</span> <span style=\"background-color:rgba(135,206,250,tensor(0.0054, device='cuda:0', grad_fn=<DivBackward0>));\">:</span> <span style=\"background-color:rgba(135,206,250,tensor(0.0197, device='cuda:0', grad_fn=<DivBackward0>));\">pristine</span> <span style=\"background-color:rgba(135,206,250,tensor(0.0282, device='cuda:0', grad_fn=<DivBackward0>));\">aromas</span> <span style=\"background-color:rgba(135,206,250,tensor(0.0067, device='cuda:0', grad_fn=<DivBackward0>));\">of</span> <span style=\"background-color:rgba(135,206,250,tensor(0.0025, device='cuda:0', grad_fn=<DivBackward0>));\">freshly</span> <span style=\"background-color:rgba(135,206,250,tensor(0.0047, device='cuda:0', grad_fn=<DivBackward0>));\">pressed</span> <span style=\"background-color:rgba(135,206,250,tensor(0.0122, device='cuda:0', grad_fn=<DivBackward0>));\">yellow</span> <span style=\"background-color:rgba(135,206,250,tensor(0.0072, device='cuda:0', grad_fn=<DivBackward0>));\">flowers</span> <span style=\"background-color:rgba(135,206,250,tensor(0.0072, device='cuda:0', grad_fn=<DivBackward0>));\">and</span> <span style=\"background-color:rgba(135,206,250,tensor(0.0150, device='cuda:0', grad_fn=<DivBackward0>));\">white</span> <span style=\"background-color:rgba(135,206,250,tensor(0.0081, device='cuda:0', grad_fn=<DivBackward0>));\">peach</span> <span style=\"background-color:rgba(135,206,250,tensor(0.0056, device='cuda:0', grad_fn=<DivBackward0>));\">and</span> <span style=\"background-color:rgba(135,206,250,tensor(0.0083, device='cuda:0', grad_fn=<DivBackward0>));\">honeydew</span> <span style=\"background-color:rgba(135,206,250,tensor(0.0068, device='cuda:0', grad_fn=<DivBackward0>));\">melon</span> <span style=\"background-color:rgba(135,206,250,tensor(0.0138, device='cuda:0', grad_fn=<DivBackward0>));\">flavors</span> <span style=\"background-color:rgba(135,206,250,tensor(0.0060, device='cuda:0', grad_fn=<DivBackward0>));\">this</span> <span style=\"background-color:rgba(135,206,250,tensor(0.0104, device='cuda:0', grad_fn=<DivBackward0>));\">dry</span> <span style=\"background-color:rgba(135,206,250,tensor(0.0244, device='cuda:0', grad_fn=<DivBackward0>));\">riesling</span> <span style=\"background-color:rgba(135,206,250,tensor(0.0173, device='cuda:0', grad_fn=<DivBackward0>));\">.</span> <span style=\"background-color:rgba(135,206,250,tensor(0.0175, device='cuda:0', grad_fn=<DivBackward0>));\">the</span> <span style=\"background-color:rgba(135,206,250,tensor(0.0161, device='cuda:0', grad_fn=<DivBackward0>));\">palate</span> <span style=\"background-color:rgba(135,206,250,tensor(0.0048, device='cuda:0', grad_fn=<DivBackward0>));\">is</span> <span style=\"background-color:rgba(135,206,250,tensor(0.0176, device='cuda:0', grad_fn=<DivBackward0>));\">full</span> <span style=\"background-color:rgba(135,206,250,tensor(0.0093, device='cuda:0', grad_fn=<DivBackward0>));\">of</span> <span style=\"background-color:rgba(135,206,250,tensor(0.0209, device='cuda:0', grad_fn=<DivBackward0>));\">the</span> <span style=\"background-color:rgba(135,206,250,tensor(0.0086, device='cuda:0', grad_fn=<DivBackward0>));\">mouth</span> <span style=\"background-color:rgba(135,206,250,tensor(0.0135, device='cuda:0', grad_fn=<DivBackward0>));\">,</span> <span style=\"background-color:rgba(135,206,250,tensor(0.0385, device='cuda:0', grad_fn=<DivBackward0>));\">with</span> <span style=\"background-color:rgba(135,206,250,tensor(0.0149, device='cuda:0', grad_fn=<DivBackward0>));\">a</span> <span style=\"background-color:rgba(135,206,250,tensor(0.0351, device='cuda:0', grad_fn=<DivBackward0>));\">hint</span> <span style=\"background-color:rgba(135,206,250,tensor(0.0153, device='cuda:0', grad_fn=<DivBackward0>));\">of</span> <span style=\"background-color:rgba(135,206,250,tensor(0.0119, device='cuda:0', grad_fn=<DivBackward0>));\">tangerine</span> <span style=\"background-color:rgba(135,206,250,tensor(0.0490, device='cuda:0', grad_fn=<DivBackward0>));\">acidity</span> <span style=\"background-color:rgba(135,206,250,tensor(0.0208, device='cuda:0', grad_fn=<DivBackward0>));\">and</span> <span style=\"background-color:rgba(135,206,250,tensor(0.0190, device='cuda:0', grad_fn=<DivBackward0>));\">a</span> <span style=\"background-color:rgba(135,206,250,tensor(0.0721, device='cuda:0', grad_fn=<DivBackward0>));\">lingering</span> <span style=\"background-color:rgba(135,206,250,tensor(0.0262, device='cuda:0', grad_fn=<DivBackward0>));\">mineral</span> <span style=\"background-color:rgba(135,206,250,tensor(0.0571, device='cuda:0', grad_fn=<DivBackward0>));\">finish</span> <span style=\"background-color:rgba(135,206,250,tensor(0.0549, device='cuda:0', grad_fn=<DivBackward0>));\">.</span> <span style=\"background-color:rgba(135,206,250,tensor(0.0594, device='cuda:0', grad_fn=<DivBackward0>));\">it</span> <span style=\"background-color:rgba(135,206,250,tensor(0.0310, device='cuda:0', grad_fn=<DivBackward0>));\">'</span> <span style=\"background-color:rgba(135,206,250,tensor(0.0086, device='cuda:0', grad_fn=<DivBackward0>));\">s</span> <span style=\"background-color:rgba(135,206,250,tensor(0.0453, device='cuda:0', grad_fn=<DivBackward0>));\">a</span> <span style=\"background-color:rgba(135,206,250,tensor(0.0571, device='cuda:0', grad_fn=<DivBackward0>));\">bit</span> <span style=\"background-color:rgba(135,206,250,tensor(0.0528, device='cuda:0', grad_fn=<DivBackward0>));\">confected</span> <span style=\"background-color:rgba(135,206,250,tensor(0.0983, device='cuda:0', grad_fn=<DivBackward0>));\">and</span> <span style=\"background-color:rgba(135,206,250,tensor(0.0825, device='cuda:0', grad_fn=<DivBackward0>));\">straightforward</span> <span style=\"background-color:rgba(135,206,250,tensor(0.0504, device='cuda:0', grad_fn=<DivBackward0>));\">,</span> <span style=\"background-color:rgba(135,206,250,tensor(1., device='cuda:0', grad_fn=<DivBackward0>));\">with</span> <span style=\"background-color:rgba(135,206,250,tensor(0.2439, device='cuda:0', grad_fn=<DivBackward0>));\">a</span> <span style=\"background-color:rgba(135,206,250,tensor(0.1114, device='cuda:0', grad_fn=<DivBackward0>));\">touch</span>"
      ],
      "text/plain": [
       "<IPython.core.display.HTML object>"
      ]
     },
     "metadata": {},
     "output_type": "display_data"
    },
    {
     "name": "stdout",
     "output_type": "stream",
     "text": [
      "of:   \t100.0%\n",
      "and:   \t0.0%\n",
      ",:   \t0.0%\n",
      ".:   \t0.0%\n",
      "that:   \t0.0%\n",
      "--------\n",
      "\n"
     ]
    },
    {
     "data": {
      "text/html": [
       "<span style=\"background-color:rgba(135,206,250,tensor(0.2087, device='cuda:0', grad_fn=<DivBackward0>));\">wine</span> <span style=\"background-color:rgba(135,206,250,tensor(0.0935, device='cuda:0', grad_fn=<DivBackward0>));\">review</span> <span style=\"background-color:rgba(135,206,250,tensor(0.0193, device='cuda:0', grad_fn=<DivBackward0>));\">:</span> <span style=\"background-color:rgba(135,206,250,tensor(0.8966, device='cuda:0', grad_fn=<DivBackward0>));\">germany</span> <span style=\"background-color:rgba(135,206,250,tensor(0.0628, device='cuda:0', grad_fn=<DivBackward0>));\">:</span> <span style=\"background-color:rgba(135,206,250,tensor(0.3653, device='cuda:0', grad_fn=<DivBackward0>));\">mosel</span> <span style=\"background-color:rgba(135,206,250,tensor(0.0356, device='cuda:0', grad_fn=<DivBackward0>));\">:</span> <span style=\"background-color:rgba(135,206,250,tensor(0.9812, device='cuda:0', grad_fn=<DivBackward0>));\">riesling</span> <span style=\"background-color:rgba(135,206,250,tensor(0.0136, device='cuda:0', grad_fn=<DivBackward0>));\">:</span> <span style=\"background-color:rgba(135,206,250,tensor(0.1454, device='cuda:0', grad_fn=<DivBackward0>));\">pristine</span> <span style=\"background-color:rgba(135,206,250,tensor(0.1369, device='cuda:0', grad_fn=<DivBackward0>));\">aromas</span> <span style=\"background-color:rgba(135,206,250,tensor(0.0170, device='cuda:0', grad_fn=<DivBackward0>));\">of</span> <span style=\"background-color:rgba(135,206,250,tensor(0.0143, device='cuda:0', grad_fn=<DivBackward0>));\">freshly</span> <span style=\"background-color:rgba(135,206,250,tensor(0.0012, device='cuda:0', grad_fn=<DivBackward0>));\">pressed</span> <span style=\"background-color:rgba(135,206,250,tensor(0.1104, device='cuda:0', grad_fn=<DivBackward0>));\">yellow</span> <span style=\"background-color:rgba(135,206,250,tensor(0.0665, device='cuda:0', grad_fn=<DivBackward0>));\">flowers</span> <span style=\"background-color:rgba(135,206,250,tensor(0.0177, device='cuda:0', grad_fn=<DivBackward0>));\">and</span> <span style=\"background-color:rgba(135,206,250,tensor(0.1248, device='cuda:0', grad_fn=<DivBackward0>));\">white</span> <span style=\"background-color:rgba(135,206,250,tensor(0.0945, device='cuda:0', grad_fn=<DivBackward0>));\">peach</span> <span style=\"background-color:rgba(135,206,250,tensor(0.0169, device='cuda:0', grad_fn=<DivBackward0>));\">and</span> <span style=\"background-color:rgba(135,206,250,tensor(0.1182, device='cuda:0', grad_fn=<DivBackward0>));\">honeydew</span> <span style=\"background-color:rgba(135,206,250,tensor(0.1113, device='cuda:0', grad_fn=<DivBackward0>));\">melon</span> <span style=\"background-color:rgba(135,206,250,tensor(0.0852, device='cuda:0', grad_fn=<DivBackward0>));\">flavors</span> <span style=\"background-color:rgba(135,206,250,tensor(0.0250, device='cuda:0', grad_fn=<DivBackward0>));\">this</span> <span style=\"background-color:rgba(135,206,250,tensor(0.1049, device='cuda:0', grad_fn=<DivBackward0>));\">dry</span> <span style=\"background-color:rgba(135,206,250,tensor(0.1844, device='cuda:0', grad_fn=<DivBackward0>));\">riesling</span> <span style=\"background-color:rgba(135,206,250,tensor(0.0379, device='cuda:0', grad_fn=<DivBackward0>));\">.</span> <span style=\"background-color:rgba(135,206,250,tensor(0.0231, device='cuda:0', grad_fn=<DivBackward0>));\">the</span> <span style=\"background-color:rgba(135,206,250,tensor(0., device='cuda:0', grad_fn=<DivBackward0>));\">palate</span> <span style=\"background-color:rgba(135,206,250,tensor(0.0006, device='cuda:0', grad_fn=<DivBackward0>));\">is</span> <span style=\"background-color:rgba(135,206,250,tensor(0.0314, device='cuda:0', grad_fn=<DivBackward0>));\">full</span> <span style=\"background-color:rgba(135,206,250,tensor(0.0118, device='cuda:0', grad_fn=<DivBackward0>));\">of</span> <span style=\"background-color:rgba(135,206,250,tensor(0.0246, device='cuda:0', grad_fn=<DivBackward0>));\">the</span> <span style=\"background-color:rgba(135,206,250,tensor(0.0617, device='cuda:0', grad_fn=<DivBackward0>));\">mouth</span> <span style=\"background-color:rgba(135,206,250,tensor(0.0130, device='cuda:0', grad_fn=<DivBackward0>));\">,</span> <span style=\"background-color:rgba(135,206,250,tensor(0.0335, device='cuda:0', grad_fn=<DivBackward0>));\">with</span> <span style=\"background-color:rgba(135,206,250,tensor(0.0017, device='cuda:0', grad_fn=<DivBackward0>));\">a</span> <span style=\"background-color:rgba(135,206,250,tensor(0.0308, device='cuda:0', grad_fn=<DivBackward0>));\">hint</span> <span style=\"background-color:rgba(135,206,250,tensor(0.0119, device='cuda:0', grad_fn=<DivBackward0>));\">of</span> <span style=\"background-color:rgba(135,206,250,tensor(0.0905, device='cuda:0', grad_fn=<DivBackward0>));\">tangerine</span> <span style=\"background-color:rgba(135,206,250,tensor(0.1298, device='cuda:0', grad_fn=<DivBackward0>));\">acidity</span> <span style=\"background-color:rgba(135,206,250,tensor(0.0188, device='cuda:0', grad_fn=<DivBackward0>));\">and</span> <span style=\"background-color:rgba(135,206,250,tensor(0.0373, device='cuda:0', grad_fn=<DivBackward0>));\">a</span> <span style=\"background-color:rgba(135,206,250,tensor(0.1035, device='cuda:0', grad_fn=<DivBackward0>));\">lingering</span> <span style=\"background-color:rgba(135,206,250,tensor(0.0796, device='cuda:0', grad_fn=<DivBackward0>));\">mineral</span> <span style=\"background-color:rgba(135,206,250,tensor(0.0053, device='cuda:0', grad_fn=<DivBackward0>));\">finish</span> <span style=\"background-color:rgba(135,206,250,tensor(0.0744, device='cuda:0', grad_fn=<DivBackward0>));\">.</span> <span style=\"background-color:rgba(135,206,250,tensor(0.0733, device='cuda:0', grad_fn=<DivBackward0>));\">it</span> <span style=\"background-color:rgba(135,206,250,tensor(0.0469, device='cuda:0', grad_fn=<DivBackward0>));\">'</span> <span style=\"background-color:rgba(135,206,250,tensor(0.0336, device='cuda:0', grad_fn=<DivBackward0>));\">s</span> <span style=\"background-color:rgba(135,206,250,tensor(0.1086, device='cuda:0', grad_fn=<DivBackward0>));\">a</span> <span style=\"background-color:rgba(135,206,250,tensor(0.1967, device='cuda:0', grad_fn=<DivBackward0>));\">bit</span> <span style=\"background-color:rgba(135,206,250,tensor(0.0947, device='cuda:0', grad_fn=<DivBackward0>));\">confected</span> <span style=\"background-color:rgba(135,206,250,tensor(0.0985, device='cuda:0', grad_fn=<DivBackward0>));\">and</span> <span style=\"background-color:rgba(135,206,250,tensor(0.4784, device='cuda:0', grad_fn=<DivBackward0>));\">straightforward</span> <span style=\"background-color:rgba(135,206,250,tensor(0.2208, device='cuda:0', grad_fn=<DivBackward0>));\">,</span> <span style=\"background-color:rgba(135,206,250,tensor(0.7980, device='cuda:0', grad_fn=<DivBackward0>));\">with</span> <span style=\"background-color:rgba(135,206,250,tensor(1., device='cuda:0', grad_fn=<DivBackward0>));\">a</span> <span style=\"background-color:rgba(135,206,250,tensor(0., device='cuda:0', grad_fn=<DivBackward0>));\">touch</span> <span style=\"background-color:rgba(135,206,250,tensor(0.4313, device='cuda:0', grad_fn=<DivBackward0>));\">of</span>"
      ],
      "text/plain": [
       "<IPython.core.display.HTML object>"
      ]
     },
     "metadata": {},
     "output_type": "display_data"
    },
    {
     "name": "stdout",
     "output_type": "stream",
     "text": [
      "sweet:   \t36.88%\n",
      "lime:   \t10.74%\n",
      "sweetness:   \t10.5%\n",
      "acidity:   \t7.03%\n",
      "fresh:   \t3.64%\n",
      "--------\n",
      "\n"
     ]
    },
    {
     "data": {
      "text/html": [
       "<span style=\"background-color:rgba(135,206,250,tensor(0.0831, device='cuda:0', grad_fn=<DivBackward0>));\">wine</span> <span style=\"background-color:rgba(135,206,250,tensor(0.1821, device='cuda:0', grad_fn=<DivBackward0>));\">review</span> <span style=\"background-color:rgba(135,206,250,tensor(0.0543, device='cuda:0', grad_fn=<DivBackward0>));\">:</span> <span style=\"background-color:rgba(135,206,250,tensor(0.4740, device='cuda:0', grad_fn=<DivBackward0>));\">germany</span> <span style=\"background-color:rgba(135,206,250,tensor(0.0599, device='cuda:0', grad_fn=<DivBackward0>));\">:</span> <span style=\"background-color:rgba(135,206,250,tensor(0.0916, device='cuda:0', grad_fn=<DivBackward0>));\">mosel</span> <span style=\"background-color:rgba(135,206,250,tensor(0.0249, device='cuda:0', grad_fn=<DivBackward0>));\">:</span> <span style=\"background-color:rgba(135,206,250,tensor(0.1393, device='cuda:0', grad_fn=<DivBackward0>));\">riesling</span> <span style=\"background-color:rgba(135,206,250,tensor(0.0084, device='cuda:0', grad_fn=<DivBackward0>));\">:</span> <span style=\"background-color:rgba(135,206,250,tensor(0.0236, device='cuda:0', grad_fn=<DivBackward0>));\">pristine</span> <span style=\"background-color:rgba(135,206,250,tensor(0.0404, device='cuda:0', grad_fn=<DivBackward0>));\">aromas</span> <span style=\"background-color:rgba(135,206,250,tensor(0.0114, device='cuda:0', grad_fn=<DivBackward0>));\">of</span> <span style=\"background-color:rgba(135,206,250,tensor(0.0070, device='cuda:0', grad_fn=<DivBackward0>));\">freshly</span> <span style=\"background-color:rgba(135,206,250,tensor(0.0051, device='cuda:0', grad_fn=<DivBackward0>));\">pressed</span> <span style=\"background-color:rgba(135,206,250,tensor(0.0160, device='cuda:0', grad_fn=<DivBackward0>));\">yellow</span> <span style=\"background-color:rgba(135,206,250,tensor(0.0137, device='cuda:0', grad_fn=<DivBackward0>));\">flowers</span> <span style=\"background-color:rgba(135,206,250,tensor(0.0122, device='cuda:0', grad_fn=<DivBackward0>));\">and</span> <span style=\"background-color:rgba(135,206,250,tensor(0.0112, device='cuda:0', grad_fn=<DivBackward0>));\">white</span> <span style=\"background-color:rgba(135,206,250,tensor(0.0197, device='cuda:0', grad_fn=<DivBackward0>));\">peach</span> <span style=\"background-color:rgba(135,206,250,tensor(0.0114, device='cuda:0', grad_fn=<DivBackward0>));\">and</span> <span style=\"background-color:rgba(135,206,250,tensor(0.0132, device='cuda:0', grad_fn=<DivBackward0>));\">honeydew</span> <span style=\"background-color:rgba(135,206,250,tensor(0.0133, device='cuda:0', grad_fn=<DivBackward0>));\">melon</span> <span style=\"background-color:rgba(135,206,250,tensor(0.0236, device='cuda:0', grad_fn=<DivBackward0>));\">flavors</span> <span style=\"background-color:rgba(135,206,250,tensor(0.0147, device='cuda:0', grad_fn=<DivBackward0>));\">this</span> <span style=\"background-color:rgba(135,206,250,tensor(0.0292, device='cuda:0', grad_fn=<DivBackward0>));\">dry</span> <span style=\"background-color:rgba(135,206,250,tensor(0.0420, device='cuda:0', grad_fn=<DivBackward0>));\">riesling</span> <span style=\"background-color:rgba(135,206,250,tensor(0.0406, device='cuda:0', grad_fn=<DivBackward0>));\">.</span> <span style=\"background-color:rgba(135,206,250,tensor(0.0264, device='cuda:0', grad_fn=<DivBackward0>));\">the</span> <span style=\"background-color:rgba(135,206,250,tensor(0.0494, device='cuda:0', grad_fn=<DivBackward0>));\">palate</span> <span style=\"background-color:rgba(135,206,250,tensor(0.0145, device='cuda:0', grad_fn=<DivBackward0>));\">is</span> <span style=\"background-color:rgba(135,206,250,tensor(0.0285, device='cuda:0', grad_fn=<DivBackward0>));\">full</span> <span style=\"background-color:rgba(135,206,250,tensor(0.0164, device='cuda:0', grad_fn=<DivBackward0>));\">of</span> <span style=\"background-color:rgba(135,206,250,tensor(0.0393, device='cuda:0', grad_fn=<DivBackward0>));\">the</span> <span style=\"background-color:rgba(135,206,250,tensor(0.0310, device='cuda:0', grad_fn=<DivBackward0>));\">mouth</span> <span style=\"background-color:rgba(135,206,250,tensor(0.0013, device='cuda:0', grad_fn=<DivBackward0>));\">,</span> <span style=\"background-color:rgba(135,206,250,tensor(0.0524, device='cuda:0', grad_fn=<DivBackward0>));\">with</span> <span style=\"background-color:rgba(135,206,250,tensor(0.0021, device='cuda:0', grad_fn=<DivBackward0>));\">a</span> <span style=\"background-color:rgba(135,206,250,tensor(0.0255, device='cuda:0', grad_fn=<DivBackward0>));\">hint</span> <span style=\"background-color:rgba(135,206,250,tensor(0.0201, device='cuda:0', grad_fn=<DivBackward0>));\">of</span> <span style=\"background-color:rgba(135,206,250,tensor(0.0005, device='cuda:0', grad_fn=<DivBackward0>));\">tangerine</span> <span style=\"background-color:rgba(135,206,250,tensor(0.0255, device='cuda:0', grad_fn=<DivBackward0>));\">acidity</span> <span style=\"background-color:rgba(135,206,250,tensor(0.0348, device='cuda:0', grad_fn=<DivBackward0>));\">and</span> <span style=\"background-color:rgba(135,206,250,tensor(0.0394, device='cuda:0', grad_fn=<DivBackward0>));\">a</span> <span style=\"background-color:rgba(135,206,250,tensor(0.0031, device='cuda:0', grad_fn=<DivBackward0>));\">lingering</span> <span style=\"background-color:rgba(135,206,250,tensor(0.0303, device='cuda:0', grad_fn=<DivBackward0>));\">mineral</span> <span style=\"background-color:rgba(135,206,250,tensor(0., device='cuda:0', grad_fn=<DivBackward0>));\">finish</span> <span style=\"background-color:rgba(135,206,250,tensor(0.1487, device='cuda:0', grad_fn=<DivBackward0>));\">.</span> <span style=\"background-color:rgba(135,206,250,tensor(0.0873, device='cuda:0', grad_fn=<DivBackward0>));\">it</span> <span style=\"background-color:rgba(135,206,250,tensor(0.0599, device='cuda:0', grad_fn=<DivBackward0>));\">'</span> <span style=\"background-color:rgba(135,206,250,tensor(0.0426, device='cuda:0', grad_fn=<DivBackward0>));\">s</span> <span style=\"background-color:rgba(135,206,250,tensor(0.1266, device='cuda:0', grad_fn=<DivBackward0>));\">a</span> <span style=\"background-color:rgba(135,206,250,tensor(0.1666, device='cuda:0', grad_fn=<DivBackward0>));\">bit</span> <span style=\"background-color:rgba(135,206,250,tensor(0.0600, device='cuda:0', grad_fn=<DivBackward0>));\">confected</span> <span style=\"background-color:rgba(135,206,250,tensor(0.2245, device='cuda:0', grad_fn=<DivBackward0>));\">and</span> <span style=\"background-color:rgba(135,206,250,tensor(0.3503, device='cuda:0', grad_fn=<DivBackward0>));\">straightforward</span> <span style=\"background-color:rgba(135,206,250,tensor(0.1791, device='cuda:0', grad_fn=<DivBackward0>));\">,</span> <span style=\"background-color:rgba(135,206,250,tensor(0.4546, device='cuda:0', grad_fn=<DivBackward0>));\">with</span> <span style=\"background-color:rgba(135,206,250,tensor(0.5083, device='cuda:0', grad_fn=<DivBackward0>));\">a</span> <span style=\"background-color:rgba(135,206,250,tensor(1., device='cuda:0', grad_fn=<DivBackward0>));\">touch</span> <span style=\"background-color:rgba(135,206,250,tensor(0.6477, device='cuda:0', grad_fn=<DivBackward0>));\">of</span> <span style=\"background-color:rgba(135,206,250,tensor(0.2204, device='cuda:0', grad_fn=<DivBackward0>));\">acidity</span>"
      ],
      "text/plain": [
       "<IPython.core.display.HTML object>"
      ]
     },
     "metadata": {},
     "output_type": "display_data"
    },
    {
     "name": "stdout",
     "output_type": "stream",
     "text": [
      ".:   \t77.89%\n",
      "and:   \t12.22%\n",
      "on:   \t4.25%\n",
      ",:   \t2.57%\n",
      "that:   \t1.62%\n",
      "--------\n",
      "\n"
     ]
    },
    {
     "data": {
      "text/html": [
       "<span style=\"background-color:rgba(135,206,250,tensor(0.2492, device='cuda:0', grad_fn=<DivBackward0>));\">wine</span> <span style=\"background-color:rgba(135,206,250,tensor(0.5126, device='cuda:0', grad_fn=<DivBackward0>));\">review</span> <span style=\"background-color:rgba(135,206,250,tensor(0.1629, device='cuda:0', grad_fn=<DivBackward0>));\">:</span> <span style=\"background-color:rgba(135,206,250,tensor(1., device='cuda:0', grad_fn=<DivBackward0>));\">germany</span> <span style=\"background-color:rgba(135,206,250,tensor(0.2124, device='cuda:0', grad_fn=<DivBackward0>));\">:</span> <span style=\"background-color:rgba(135,206,250,tensor(0.2026, device='cuda:0', grad_fn=<DivBackward0>));\">mosel</span> <span style=\"background-color:rgba(135,206,250,tensor(0.1194, device='cuda:0', grad_fn=<DivBackward0>));\">:</span> <span style=\"background-color:rgba(135,206,250,tensor(0.3161, device='cuda:0', grad_fn=<DivBackward0>));\">riesling</span> <span style=\"background-color:rgba(135,206,250,tensor(0.0311, device='cuda:0', grad_fn=<DivBackward0>));\">:</span> <span style=\"background-color:rgba(135,206,250,tensor(0.0843, device='cuda:0', grad_fn=<DivBackward0>));\">pristine</span> <span style=\"background-color:rgba(135,206,250,tensor(0.0076, device='cuda:0', grad_fn=<DivBackward0>));\">aromas</span> <span style=\"background-color:rgba(135,206,250,tensor(0.0018, device='cuda:0', grad_fn=<DivBackward0>));\">of</span> <span style=\"background-color:rgba(135,206,250,tensor(0.0092, device='cuda:0', grad_fn=<DivBackward0>));\">freshly</span> <span style=\"background-color:rgba(135,206,250,tensor(0.0135, device='cuda:0', grad_fn=<DivBackward0>));\">pressed</span> <span style=\"background-color:rgba(135,206,250,tensor(0.0514, device='cuda:0', grad_fn=<DivBackward0>));\">yellow</span> <span style=\"background-color:rgba(135,206,250,tensor(0.0669, device='cuda:0', grad_fn=<DivBackward0>));\">flowers</span> <span style=\"background-color:rgba(135,206,250,tensor(0.0139, device='cuda:0', grad_fn=<DivBackward0>));\">and</span> <span style=\"background-color:rgba(135,206,250,tensor(0.0509, device='cuda:0', grad_fn=<DivBackward0>));\">white</span> <span style=\"background-color:rgba(135,206,250,tensor(0.0663, device='cuda:0', grad_fn=<DivBackward0>));\">peach</span> <span style=\"background-color:rgba(135,206,250,tensor(0.0122, device='cuda:0', grad_fn=<DivBackward0>));\">and</span> <span style=\"background-color:rgba(135,206,250,tensor(0.0655, device='cuda:0', grad_fn=<DivBackward0>));\">honeydew</span> <span style=\"background-color:rgba(135,206,250,tensor(0.0583, device='cuda:0', grad_fn=<DivBackward0>));\">melon</span> <span style=\"background-color:rgba(135,206,250,tensor(0.1227, device='cuda:0', grad_fn=<DivBackward0>));\">flavors</span> <span style=\"background-color:rgba(135,206,250,tensor(0.0333, device='cuda:0', grad_fn=<DivBackward0>));\">this</span> <span style=\"background-color:rgba(135,206,250,tensor(0.0504, device='cuda:0', grad_fn=<DivBackward0>));\">dry</span> <span style=\"background-color:rgba(135,206,250,tensor(0.0639, device='cuda:0', grad_fn=<DivBackward0>));\">riesling</span> <span style=\"background-color:rgba(135,206,250,tensor(0.0241, device='cuda:0', grad_fn=<DivBackward0>));\">.</span> <span style=\"background-color:rgba(135,206,250,tensor(0., device='cuda:0', grad_fn=<DivBackward0>));\">the</span> <span style=\"background-color:rgba(135,206,250,tensor(0.1428, device='cuda:0', grad_fn=<DivBackward0>));\">palate</span> <span style=\"background-color:rgba(135,206,250,tensor(0.0120, device='cuda:0', grad_fn=<DivBackward0>));\">is</span> <span style=\"background-color:rgba(135,206,250,tensor(0.0309, device='cuda:0', grad_fn=<DivBackward0>));\">full</span> <span style=\"background-color:rgba(135,206,250,tensor(0.0107, device='cuda:0', grad_fn=<DivBackward0>));\">of</span> <span style=\"background-color:rgba(135,206,250,tensor(0.0093, device='cuda:0', grad_fn=<DivBackward0>));\">the</span> <span style=\"background-color:rgba(135,206,250,tensor(0.0744, device='cuda:0', grad_fn=<DivBackward0>));\">mouth</span> <span style=\"background-color:rgba(135,206,250,tensor(0.0001, device='cuda:0', grad_fn=<DivBackward0>));\">,</span> <span style=\"background-color:rgba(135,206,250,tensor(0.0143, device='cuda:0', grad_fn=<DivBackward0>));\">with</span> <span style=\"background-color:rgba(135,206,250,tensor(0.0120, device='cuda:0', grad_fn=<DivBackward0>));\">a</span> <span style=\"background-color:rgba(135,206,250,tensor(0.0187, device='cuda:0', grad_fn=<DivBackward0>));\">hint</span> <span style=\"background-color:rgba(135,206,250,tensor(0.0091, device='cuda:0', grad_fn=<DivBackward0>));\">of</span> <span style=\"background-color:rgba(135,206,250,tensor(0.0002, device='cuda:0', grad_fn=<DivBackward0>));\">tangerine</span> <span style=\"background-color:rgba(135,206,250,tensor(0.0812, device='cuda:0', grad_fn=<DivBackward0>));\">acidity</span> <span style=\"background-color:rgba(135,206,250,tensor(0.0111, device='cuda:0', grad_fn=<DivBackward0>));\">and</span> <span style=\"background-color:rgba(135,206,250,tensor(0.0149, device='cuda:0', grad_fn=<DivBackward0>));\">a</span> <span style=\"background-color:rgba(135,206,250,tensor(0.0378, device='cuda:0', grad_fn=<DivBackward0>));\">lingering</span> <span style=\"background-color:rgba(135,206,250,tensor(0.0360, device='cuda:0', grad_fn=<DivBackward0>));\">mineral</span> <span style=\"background-color:rgba(135,206,250,tensor(0.4433, device='cuda:0', grad_fn=<DivBackward0>));\">finish</span> <span style=\"background-color:rgba(135,206,250,tensor(0.0321, device='cuda:0', grad_fn=<DivBackward0>));\">.</span> <span style=\"background-color:rgba(135,206,250,tensor(0.0360, device='cuda:0', grad_fn=<DivBackward0>));\">it</span> <span style=\"background-color:rgba(135,206,250,tensor(0.0170, device='cuda:0', grad_fn=<DivBackward0>));\">'</span> <span style=\"background-color:rgba(135,206,250,tensor(0.0139, device='cuda:0', grad_fn=<DivBackward0>));\">s</span> <span style=\"background-color:rgba(135,206,250,tensor(0.0267, device='cuda:0', grad_fn=<DivBackward0>));\">a</span> <span style=\"background-color:rgba(135,206,250,tensor(0.1024, device='cuda:0', grad_fn=<DivBackward0>));\">bit</span> <span style=\"background-color:rgba(135,206,250,tensor(0.0325, device='cuda:0', grad_fn=<DivBackward0>));\">confected</span> <span style=\"background-color:rgba(135,206,250,tensor(0.0141, device='cuda:0', grad_fn=<DivBackward0>));\">and</span> <span style=\"background-color:rgba(135,206,250,tensor(0.2063, device='cuda:0', grad_fn=<DivBackward0>));\">straightforward</span> <span style=\"background-color:rgba(135,206,250,tensor(0.0484, device='cuda:0', grad_fn=<DivBackward0>));\">,</span> <span style=\"background-color:rgba(135,206,250,tensor(0.0709, device='cuda:0', grad_fn=<DivBackward0>));\">with</span> <span style=\"background-color:rgba(135,206,250,tensor(0.0990, device='cuda:0', grad_fn=<DivBackward0>));\">a</span> <span style=\"background-color:rgba(135,206,250,tensor(0.1155, device='cuda:0', grad_fn=<DivBackward0>));\">touch</span> <span style=\"background-color:rgba(135,206,250,tensor(0.1373, device='cuda:0', grad_fn=<DivBackward0>));\">of</span> <span style=\"background-color:rgba(135,206,250,tensor(0.3987, device='cuda:0', grad_fn=<DivBackward0>));\">acidity</span> <span style=\"background-color:rgba(135,206,250,tensor(0.6280, device='cuda:0', grad_fn=<DivBackward0>));\">.</span>"
      ],
      "text/plain": [
       "<IPython.core.display.HTML object>"
      ]
     },
     "metadata": {},
     "output_type": "display_data"
    },
    {
     "name": "stdout",
     "output_type": "stream",
     "text": [
      "<PAD>:   \t98.77%\n",
      "drink:   \t1.14%\n",
      "it:   \t0.04%\n",
      "enjoy:   \t0.03%\n",
      "a:   \t0.01%\n",
      "--------\n",
      "\n"
     ]
    },
    {
     "data": {
      "text/html": [
       "<span style=\"background-color:rgba(135,206,250,tensor(0.1711, device='cuda:0', grad_fn=<DivBackward0>));\">wine</span> <span style=\"background-color:rgba(135,206,250,tensor(1., device='cuda:0', grad_fn=<DivBackward0>));\">review</span> <span style=\"background-color:rgba(135,206,250,tensor(0.1186, device='cuda:0', grad_fn=<DivBackward0>));\">:</span> <span style=\"background-color:rgba(135,206,250,tensor(0.0957, device='cuda:0', grad_fn=<DivBackward0>));\">germany</span> <span style=\"background-color:rgba(135,206,250,tensor(0.0443, device='cuda:0', grad_fn=<DivBackward0>));\">:</span> <span style=\"background-color:rgba(135,206,250,tensor(0.0147, device='cuda:0', grad_fn=<DivBackward0>));\">mosel</span> <span style=\"background-color:rgba(135,206,250,tensor(0.0244, device='cuda:0', grad_fn=<DivBackward0>));\">:</span> <span style=\"background-color:rgba(135,206,250,tensor(0.0455, device='cuda:0', grad_fn=<DivBackward0>));\">riesling</span> <span style=\"background-color:rgba(135,206,250,tensor(0.0117, device='cuda:0', grad_fn=<DivBackward0>));\">:</span> <span style=\"background-color:rgba(135,206,250,tensor(0.0085, device='cuda:0', grad_fn=<DivBackward0>));\">pristine</span> <span style=\"background-color:rgba(135,206,250,tensor(0.0190, device='cuda:0', grad_fn=<DivBackward0>));\">aromas</span> <span style=\"background-color:rgba(135,206,250,tensor(0.0137, device='cuda:0', grad_fn=<DivBackward0>));\">of</span> <span style=\"background-color:rgba(135,206,250,tensor(0.0103, device='cuda:0', grad_fn=<DivBackward0>));\">freshly</span> <span style=\"background-color:rgba(135,206,250,tensor(0.0016, device='cuda:0', grad_fn=<DivBackward0>));\">pressed</span> <span style=\"background-color:rgba(135,206,250,tensor(0.0091, device='cuda:0', grad_fn=<DivBackward0>));\">yellow</span> <span style=\"background-color:rgba(135,206,250,tensor(0.0052, device='cuda:0', grad_fn=<DivBackward0>));\">flowers</span> <span style=\"background-color:rgba(135,206,250,tensor(0.0052, device='cuda:0', grad_fn=<DivBackward0>));\">and</span> <span style=\"background-color:rgba(135,206,250,tensor(0.0041, device='cuda:0', grad_fn=<DivBackward0>));\">white</span> <span style=\"background-color:rgba(135,206,250,tensor(0.0075, device='cuda:0', grad_fn=<DivBackward0>));\">peach</span> <span style=\"background-color:rgba(135,206,250,tensor(0.0046, device='cuda:0', grad_fn=<DivBackward0>));\">and</span> <span style=\"background-color:rgba(135,206,250,tensor(8.3551e-05, device='cuda:0', grad_fn=<DivBackward0>));\">honeydew</span> <span style=\"background-color:rgba(135,206,250,tensor(0.0099, device='cuda:0', grad_fn=<DivBackward0>));\">melon</span> <span style=\"background-color:rgba(135,206,250,tensor(0.0095, device='cuda:0', grad_fn=<DivBackward0>));\">flavors</span> <span style=\"background-color:rgba(135,206,250,tensor(0.0035, device='cuda:0', grad_fn=<DivBackward0>));\">this</span> <span style=\"background-color:rgba(135,206,250,tensor(0.0110, device='cuda:0', grad_fn=<DivBackward0>));\">dry</span> <span style=\"background-color:rgba(135,206,250,tensor(0.0109, device='cuda:0', grad_fn=<DivBackward0>));\">riesling</span> <span style=\"background-color:rgba(135,206,250,tensor(0.0076, device='cuda:0', grad_fn=<DivBackward0>));\">.</span> <span style=\"background-color:rgba(135,206,250,tensor(0.0109, device='cuda:0', grad_fn=<DivBackward0>));\">the</span> <span style=\"background-color:rgba(135,206,250,tensor(0.0134, device='cuda:0', grad_fn=<DivBackward0>));\">palate</span> <span style=\"background-color:rgba(135,206,250,tensor(0.0059, device='cuda:0', grad_fn=<DivBackward0>));\">is</span> <span style=\"background-color:rgba(135,206,250,tensor(0.0171, device='cuda:0', grad_fn=<DivBackward0>));\">full</span> <span style=\"background-color:rgba(135,206,250,tensor(0.0160, device='cuda:0', grad_fn=<DivBackward0>));\">of</span> <span style=\"background-color:rgba(135,206,250,tensor(0.0106, device='cuda:0', grad_fn=<DivBackward0>));\">the</span> <span style=\"background-color:rgba(135,206,250,tensor(1.8929e-06, device='cuda:0', grad_fn=<DivBackward0>));\">mouth</span> <span style=\"background-color:rgba(135,206,250,tensor(0.0127, device='cuda:0', grad_fn=<DivBackward0>));\">,</span> <span style=\"background-color:rgba(135,206,250,tensor(8.0099e-06, device='cuda:0', grad_fn=<DivBackward0>));\">with</span> <span style=\"background-color:rgba(135,206,250,tensor(0.0232, device='cuda:0', grad_fn=<DivBackward0>));\">a</span> <span style=\"background-color:rgba(135,206,250,tensor(4.4545e-06, device='cuda:0', grad_fn=<DivBackward0>));\">hint</span> <span style=\"background-color:rgba(135,206,250,tensor(0.0116, device='cuda:0', grad_fn=<DivBackward0>));\">of</span> <span style=\"background-color:rgba(135,206,250,tensor(0.0042, device='cuda:0', grad_fn=<DivBackward0>));\">tangerine</span> <span style=\"background-color:rgba(135,206,250,tensor(0.0200, device='cuda:0', grad_fn=<DivBackward0>));\">acidity</span> <span style=\"background-color:rgba(135,206,250,tensor(0.0063, device='cuda:0', grad_fn=<DivBackward0>));\">and</span> <span style=\"background-color:rgba(135,206,250,tensor(0.0278, device='cuda:0', grad_fn=<DivBackward0>));\">a</span> <span style=\"background-color:rgba(135,206,250,tensor(0.0219, device='cuda:0', grad_fn=<DivBackward0>));\">lingering</span> <span style=\"background-color:rgba(135,206,250,tensor(0.0136, device='cuda:0', grad_fn=<DivBackward0>));\">mineral</span> <span style=\"background-color:rgba(135,206,250,tensor(0.0328, device='cuda:0', grad_fn=<DivBackward0>));\">finish</span> <span style=\"background-color:rgba(135,206,250,tensor(0.0070, device='cuda:0', grad_fn=<DivBackward0>));\">.</span> <span style=\"background-color:rgba(135,206,250,tensor(0.0059, device='cuda:0', grad_fn=<DivBackward0>));\">it</span> <span style=\"background-color:rgba(135,206,250,tensor(0.0109, device='cuda:0', grad_fn=<DivBackward0>));\">'</span> <span style=\"background-color:rgba(135,206,250,tensor(9.0520e-05, device='cuda:0', grad_fn=<DivBackward0>));\">s</span> <span style=\"background-color:rgba(135,206,250,tensor(0.0333, device='cuda:0', grad_fn=<DivBackward0>));\">a</span> <span style=\"background-color:rgba(135,206,250,tensor(0.0116, device='cuda:0', grad_fn=<DivBackward0>));\">bit</span> <span style=\"background-color:rgba(135,206,250,tensor(0.0144, device='cuda:0', grad_fn=<DivBackward0>));\">confected</span> <span style=\"background-color:rgba(135,206,250,tensor(0.0093, device='cuda:0', grad_fn=<DivBackward0>));\">and</span> <span style=\"background-color:rgba(135,206,250,tensor(0.0270, device='cuda:0', grad_fn=<DivBackward0>));\">straightforward</span> <span style=\"background-color:rgba(135,206,250,tensor(0.0303, device='cuda:0', grad_fn=<DivBackward0>));\">,</span> <span style=\"background-color:rgba(135,206,250,tensor(0.0125, device='cuda:0', grad_fn=<DivBackward0>));\">with</span> <span style=\"background-color:rgba(135,206,250,tensor(0.0731, device='cuda:0', grad_fn=<DivBackward0>));\">a</span> <span style=\"background-color:rgba(135,206,250,tensor(0.0350, device='cuda:0', grad_fn=<DivBackward0>));\">touch</span> <span style=\"background-color:rgba(135,206,250,tensor(0.0350, device='cuda:0', grad_fn=<DivBackward0>));\">of</span> <span style=\"background-color:rgba(135,206,250,tensor(0.0648, device='cuda:0', grad_fn=<DivBackward0>));\">acidity</span> <span style=\"background-color:rgba(135,206,250,tensor(0.0307, device='cuda:0', grad_fn=<DivBackward0>));\">.</span> <span style=\"background-color:rgba(135,206,250,tensor(0.6009, device='cuda:0', grad_fn=<DivBackward0>));\"><PAD></span>"
      ],
      "text/plain": [
       "<IPython.core.display.HTML object>"
      ]
     },
     "metadata": {},
     "output_type": "display_data"
    },
    {
     "name": "stdout",
     "output_type": "stream",
     "text": [
      "<PAD>:   \t100.0%\n",
      "enjoy:   \t0.0%\n",
      ".:   \t0.0%\n",
      "drink:   \t0.0%\n",
      "give:   \t0.0%\n",
      "--------\n",
      "\n"
     ]
    },
    {
     "data": {
      "text/html": [
       "<span style=\"background-color:rgba(135,206,250,tensor(0.1763, device='cuda:0', grad_fn=<DivBackward0>));\">wine</span> <span style=\"background-color:rgba(135,206,250,tensor(1., device='cuda:0', grad_fn=<DivBackward0>));\">review</span> <span style=\"background-color:rgba(135,206,250,tensor(0.1178, device='cuda:0', grad_fn=<DivBackward0>));\">:</span> <span style=\"background-color:rgba(135,206,250,tensor(0.1026, device='cuda:0', grad_fn=<DivBackward0>));\">germany</span> <span style=\"background-color:rgba(135,206,250,tensor(0.0890, device='cuda:0', grad_fn=<DivBackward0>));\">:</span> <span style=\"background-color:rgba(135,206,250,tensor(0.0307, device='cuda:0', grad_fn=<DivBackward0>));\">mosel</span> <span style=\"background-color:rgba(135,206,250,tensor(0.0573, device='cuda:0', grad_fn=<DivBackward0>));\">:</span> <span style=\"background-color:rgba(135,206,250,tensor(0.0440, device='cuda:0', grad_fn=<DivBackward0>));\">riesling</span> <span style=\"background-color:rgba(135,206,250,tensor(0.0247, device='cuda:0', grad_fn=<DivBackward0>));\">:</span> <span style=\"background-color:rgba(135,206,250,tensor(0.0094, device='cuda:0', grad_fn=<DivBackward0>));\">pristine</span> <span style=\"background-color:rgba(135,206,250,tensor(0.0197, device='cuda:0', grad_fn=<DivBackward0>));\">aromas</span> <span style=\"background-color:rgba(135,206,250,tensor(0.0147, device='cuda:0', grad_fn=<DivBackward0>));\">of</span> <span style=\"background-color:rgba(135,206,250,tensor(0.0101, device='cuda:0', grad_fn=<DivBackward0>));\">freshly</span> <span style=\"background-color:rgba(135,206,250,tensor(0.0017, device='cuda:0', grad_fn=<DivBackward0>));\">pressed</span> <span style=\"background-color:rgba(135,206,250,tensor(0.0090, device='cuda:0', grad_fn=<DivBackward0>));\">yellow</span> <span style=\"background-color:rgba(135,206,250,tensor(0.0057, device='cuda:0', grad_fn=<DivBackward0>));\">flowers</span> <span style=\"background-color:rgba(135,206,250,tensor(0.0050, device='cuda:0', grad_fn=<DivBackward0>));\">and</span> <span style=\"background-color:rgba(135,206,250,tensor(0.0037, device='cuda:0', grad_fn=<DivBackward0>));\">white</span> <span style=\"background-color:rgba(135,206,250,tensor(0.0070, device='cuda:0', grad_fn=<DivBackward0>));\">peach</span> <span style=\"background-color:rgba(135,206,250,tensor(0.0045, device='cuda:0', grad_fn=<DivBackward0>));\">and</span> <span style=\"background-color:rgba(135,206,250,tensor(7.6145e-05, device='cuda:0', grad_fn=<DivBackward0>));\">honeydew</span> <span style=\"background-color:rgba(135,206,250,tensor(0.0100, device='cuda:0', grad_fn=<DivBackward0>));\">melon</span> <span style=\"background-color:rgba(135,206,250,tensor(0.0101, device='cuda:0', grad_fn=<DivBackward0>));\">flavors</span> <span style=\"background-color:rgba(135,206,250,tensor(0.0034, device='cuda:0', grad_fn=<DivBackward0>));\">this</span> <span style=\"background-color:rgba(135,206,250,tensor(0.0103, device='cuda:0', grad_fn=<DivBackward0>));\">dry</span> <span style=\"background-color:rgba(135,206,250,tensor(0.0102, device='cuda:0', grad_fn=<DivBackward0>));\">riesling</span> <span style=\"background-color:rgba(135,206,250,tensor(0.0075, device='cuda:0', grad_fn=<DivBackward0>));\">.</span> <span style=\"background-color:rgba(135,206,250,tensor(0.0105, device='cuda:0', grad_fn=<DivBackward0>));\">the</span> <span style=\"background-color:rgba(135,206,250,tensor(0.0135, device='cuda:0', grad_fn=<DivBackward0>));\">palate</span> <span style=\"background-color:rgba(135,206,250,tensor(0.0058, device='cuda:0', grad_fn=<DivBackward0>));\">is</span> <span style=\"background-color:rgba(135,206,250,tensor(0.0167, device='cuda:0', grad_fn=<DivBackward0>));\">full</span> <span style=\"background-color:rgba(135,206,250,tensor(0.0168, device='cuda:0', grad_fn=<DivBackward0>));\">of</span> <span style=\"background-color:rgba(135,206,250,tensor(0.0104, device='cuda:0', grad_fn=<DivBackward0>));\">the</span> <span style=\"background-color:rgba(135,206,250,tensor(0.0105, device='cuda:0', grad_fn=<DivBackward0>));\">mouth</span> <span style=\"background-color:rgba(135,206,250,tensor(0.0136, device='cuda:0', grad_fn=<DivBackward0>));\">,</span> <span style=\"background-color:rgba(135,206,250,tensor(0.0041, device='cuda:0', grad_fn=<DivBackward0>));\">with</span> <span style=\"background-color:rgba(135,206,250,tensor(0.0239, device='cuda:0', grad_fn=<DivBackward0>));\">a</span> <span style=\"background-color:rgba(135,206,250,tensor(0.0040, device='cuda:0', grad_fn=<DivBackward0>));\">hint</span> <span style=\"background-color:rgba(135,206,250,tensor(0.0122, device='cuda:0', grad_fn=<DivBackward0>));\">of</span> <span style=\"background-color:rgba(135,206,250,tensor(0.0041, device='cuda:0', grad_fn=<DivBackward0>));\">tangerine</span> <span style=\"background-color:rgba(135,206,250,tensor(0.0187, device='cuda:0', grad_fn=<DivBackward0>));\">acidity</span> <span style=\"background-color:rgba(135,206,250,tensor(0.0060, device='cuda:0', grad_fn=<DivBackward0>));\">and</span> <span style=\"background-color:rgba(135,206,250,tensor(0.0286, device='cuda:0', grad_fn=<DivBackward0>));\">a</span> <span style=\"background-color:rgba(135,206,250,tensor(0.0235, device='cuda:0', grad_fn=<DivBackward0>));\">lingering</span> <span style=\"background-color:rgba(135,206,250,tensor(0.0142, device='cuda:0', grad_fn=<DivBackward0>));\">mineral</span> <span style=\"background-color:rgba(135,206,250,tensor(0.0318, device='cuda:0', grad_fn=<DivBackward0>));\">finish</span> <span style=\"background-color:rgba(135,206,250,tensor(0.0069, device='cuda:0', grad_fn=<DivBackward0>));\">.</span> <span style=\"background-color:rgba(135,206,250,tensor(0.0058, device='cuda:0', grad_fn=<DivBackward0>));\">it</span> <span style=\"background-color:rgba(135,206,250,tensor(0.0103, device='cuda:0', grad_fn=<DivBackward0>));\">'</span> <span style=\"background-color:rgba(135,206,250,tensor(6.7765e-05, device='cuda:0', grad_fn=<DivBackward0>));\">s</span> <span style=\"background-color:rgba(135,206,250,tensor(0.0329, device='cuda:0', grad_fn=<DivBackward0>));\">a</span> <span style=\"background-color:rgba(135,206,250,tensor(0.0111, device='cuda:0', grad_fn=<DivBackward0>));\">bit</span> <span style=\"background-color:rgba(135,206,250,tensor(0.0131, device='cuda:0', grad_fn=<DivBackward0>));\">confected</span> <span style=\"background-color:rgba(135,206,250,tensor(0.0084, device='cuda:0', grad_fn=<DivBackward0>));\">and</span> <span style=\"background-color:rgba(135,206,250,tensor(0.0264, device='cuda:0', grad_fn=<DivBackward0>));\">straightforward</span> <span style=\"background-color:rgba(135,206,250,tensor(0.0309, device='cuda:0', grad_fn=<DivBackward0>));\">,</span> <span style=\"background-color:rgba(135,206,250,tensor(0.0125, device='cuda:0', grad_fn=<DivBackward0>));\">with</span> <span style=\"background-color:rgba(135,206,250,tensor(0.0740, device='cuda:0', grad_fn=<DivBackward0>));\">a</span> <span style=\"background-color:rgba(135,206,250,tensor(0.0356, device='cuda:0', grad_fn=<DivBackward0>));\">touch</span> <span style=\"background-color:rgba(135,206,250,tensor(0.0359, device='cuda:0', grad_fn=<DivBackward0>));\">of</span> <span style=\"background-color:rgba(135,206,250,tensor(0.0584, device='cuda:0', grad_fn=<DivBackward0>));\">acidity</span> <span style=\"background-color:rgba(135,206,250,tensor(0.0267, device='cuda:0', grad_fn=<DivBackward0>));\">.</span> <span style=\"background-color:rgba(135,206,250,tensor(0.3797, device='cuda:0', grad_fn=<DivBackward0>));\"><PAD></span> <span style=\"background-color:rgba(135,206,250,tensor(0.4145, device='cuda:0', grad_fn=<DivBackward0>));\"><PAD></span>"
      ],
      "text/plain": [
       "<IPython.core.display.HTML object>"
      ]
     },
     "metadata": {},
     "output_type": "display_data"
    },
    {
     "name": "stdout",
     "output_type": "stream",
     "text": [
      "<PAD>:   \t100.0%\n",
      ".:   \t0.0%\n",
      "drink:   \t0.0%\n",
      "by:   \t0.0%\n",
      "enjoy:   \t0.0%\n",
      "--------\n",
      "\n"
     ]
    },
    {
     "data": {
      "text/html": [
       "<span style=\"background-color:rgba(135,206,250,tensor(0.1747, device='cuda:0', grad_fn=<DivBackward0>));\">wine</span> <span style=\"background-color:rgba(135,206,250,tensor(1., device='cuda:0', grad_fn=<DivBackward0>));\">review</span> <span style=\"background-color:rgba(135,206,250,tensor(0.1089, device='cuda:0', grad_fn=<DivBackward0>));\">:</span> <span style=\"background-color:rgba(135,206,250,tensor(0.0989, device='cuda:0', grad_fn=<DivBackward0>));\">germany</span> <span style=\"background-color:rgba(135,206,250,tensor(0.0804, device='cuda:0', grad_fn=<DivBackward0>));\">:</span> <span style=\"background-color:rgba(135,206,250,tensor(0.0292, device='cuda:0', grad_fn=<DivBackward0>));\">mosel</span> <span style=\"background-color:rgba(135,206,250,tensor(0.0518, device='cuda:0', grad_fn=<DivBackward0>));\">:</span> <span style=\"background-color:rgba(135,206,250,tensor(0.0057, device='cuda:0', grad_fn=<DivBackward0>));\">riesling</span> <span style=\"background-color:rgba(135,206,250,tensor(0.0231, device='cuda:0', grad_fn=<DivBackward0>));\">:</span> <span style=\"background-color:rgba(135,206,250,tensor(0.0008, device='cuda:0', grad_fn=<DivBackward0>));\">pristine</span> <span style=\"background-color:rgba(135,206,250,tensor(0.0194, device='cuda:0', grad_fn=<DivBackward0>));\">aromas</span> <span style=\"background-color:rgba(135,206,250,tensor(0.0149, device='cuda:0', grad_fn=<DivBackward0>));\">of</span> <span style=\"background-color:rgba(135,206,250,tensor(0.0096, device='cuda:0', grad_fn=<DivBackward0>));\">freshly</span> <span style=\"background-color:rgba(135,206,250,tensor(0.0017, device='cuda:0', grad_fn=<DivBackward0>));\">pressed</span> <span style=\"background-color:rgba(135,206,250,tensor(0.0083, device='cuda:0', grad_fn=<DivBackward0>));\">yellow</span> <span style=\"background-color:rgba(135,206,250,tensor(0.0057, device='cuda:0', grad_fn=<DivBackward0>));\">flowers</span> <span style=\"background-color:rgba(135,206,250,tensor(0.0045, device='cuda:0', grad_fn=<DivBackward0>));\">and</span> <span style=\"background-color:rgba(135,206,250,tensor(0.0033, device='cuda:0', grad_fn=<DivBackward0>));\">white</span> <span style=\"background-color:rgba(135,206,250,tensor(0.0059, device='cuda:0', grad_fn=<DivBackward0>));\">peach</span> <span style=\"background-color:rgba(135,206,250,tensor(0.0041, device='cuda:0', grad_fn=<DivBackward0>));\">and</span> <span style=\"background-color:rgba(135,206,250,tensor(0.0023, device='cuda:0', grad_fn=<DivBackward0>));\">honeydew</span> <span style=\"background-color:rgba(135,206,250,tensor(0.0088, device='cuda:0', grad_fn=<DivBackward0>));\">melon</span> <span style=\"background-color:rgba(135,206,250,tensor(0.0092, device='cuda:0', grad_fn=<DivBackward0>));\">flavors</span> <span style=\"background-color:rgba(135,206,250,tensor(0.0029, device='cuda:0', grad_fn=<DivBackward0>));\">this</span> <span style=\"background-color:rgba(135,206,250,tensor(0.0086, device='cuda:0', grad_fn=<DivBackward0>));\">dry</span> <span style=\"background-color:rgba(135,206,250,tensor(0.0087, device='cuda:0', grad_fn=<DivBackward0>));\">riesling</span> <span style=\"background-color:rgba(135,206,250,tensor(0.0066, device='cuda:0', grad_fn=<DivBackward0>));\">.</span> <span style=\"background-color:rgba(135,206,250,tensor(0.0093, device='cuda:0', grad_fn=<DivBackward0>));\">the</span> <span style=\"background-color:rgba(135,206,250,tensor(0., device='cuda:0', grad_fn=<DivBackward0>));\">palate</span> <span style=\"background-color:rgba(135,206,250,tensor(0.0052, device='cuda:0', grad_fn=<DivBackward0>));\">is</span> <span style=\"background-color:rgba(135,206,250,tensor(0.0145, device='cuda:0', grad_fn=<DivBackward0>));\">full</span> <span style=\"background-color:rgba(135,206,250,tensor(0.0160, device='cuda:0', grad_fn=<DivBackward0>));\">of</span> <span style=\"background-color:rgba(135,206,250,tensor(0.0094, device='cuda:0', grad_fn=<DivBackward0>));\">the</span> <span style=\"background-color:rgba(135,206,250,tensor(2.0473e-06, device='cuda:0', grad_fn=<DivBackward0>));\">mouth</span> <span style=\"background-color:rgba(135,206,250,tensor(0.0134, device='cuda:0', grad_fn=<DivBackward0>));\">,</span> <span style=\"background-color:rgba(135,206,250,tensor(0.0037, device='cuda:0', grad_fn=<DivBackward0>));\">with</span> <span style=\"background-color:rgba(135,206,250,tensor(0.0216, device='cuda:0', grad_fn=<DivBackward0>));\">a</span> <span style=\"background-color:rgba(135,206,250,tensor(3.2999e-06, device='cuda:0', grad_fn=<DivBackward0>));\">hint</span> <span style=\"background-color:rgba(135,206,250,tensor(0.0115, device='cuda:0', grad_fn=<DivBackward0>));\">of</span> <span style=\"background-color:rgba(135,206,250,tensor(0.0037, device='cuda:0', grad_fn=<DivBackward0>));\">tangerine</span> <span style=\"background-color:rgba(135,206,250,tensor(0.0154, device='cuda:0', grad_fn=<DivBackward0>));\">acidity</span> <span style=\"background-color:rgba(135,206,250,tensor(1.6546e-05, device='cuda:0', grad_fn=<DivBackward0>));\">and</span> <span style=\"background-color:rgba(135,206,250,tensor(0.0254, device='cuda:0', grad_fn=<DivBackward0>));\">a</span> <span style=\"background-color:rgba(135,206,250,tensor(0.0216, device='cuda:0', grad_fn=<DivBackward0>));\">lingering</span> <span style=\"background-color:rgba(135,206,250,tensor(0.0134, device='cuda:0', grad_fn=<DivBackward0>));\">mineral</span> <span style=\"background-color:rgba(135,206,250,tensor(0.0263, device='cuda:0', grad_fn=<DivBackward0>));\">finish</span> <span style=\"background-color:rgba(135,206,250,tensor(0.0060, device='cuda:0', grad_fn=<DivBackward0>));\">.</span> <span style=\"background-color:rgba(135,206,250,tensor(0.0048, device='cuda:0', grad_fn=<DivBackward0>));\">it</span> <span style=\"background-color:rgba(135,206,250,tensor(0.0087, device='cuda:0', grad_fn=<DivBackward0>));\">'</span> <span style=\"background-color:rgba(135,206,250,tensor(0.0043, device='cuda:0', grad_fn=<DivBackward0>));\">s</span> <span style=\"background-color:rgba(135,206,250,tensor(0.0287, device='cuda:0', grad_fn=<DivBackward0>));\">a</span> <span style=\"background-color:rgba(135,206,250,tensor(0.0094, device='cuda:0', grad_fn=<DivBackward0>));\">bit</span> <span style=\"background-color:rgba(135,206,250,tensor(0.0110, device='cuda:0', grad_fn=<DivBackward0>));\">confected</span> <span style=\"background-color:rgba(135,206,250,tensor(0.0069, device='cuda:0', grad_fn=<DivBackward0>));\">and</span> <span style=\"background-color:rgba(135,206,250,tensor(0.0219, device='cuda:0', grad_fn=<DivBackward0>));\">straightforward</span> <span style=\"background-color:rgba(135,206,250,tensor(0.0285, device='cuda:0', grad_fn=<DivBackward0>));\">,</span> <span style=\"background-color:rgba(135,206,250,tensor(0.0103, device='cuda:0', grad_fn=<DivBackward0>));\">with</span> <span style=\"background-color:rgba(135,206,250,tensor(0.0003, device='cuda:0', grad_fn=<DivBackward0>));\">a</span> <span style=\"background-color:rgba(135,206,250,tensor(0.0311, device='cuda:0', grad_fn=<DivBackward0>));\">touch</span> <span style=\"background-color:rgba(135,206,250,tensor(0.0327, device='cuda:0', grad_fn=<DivBackward0>));\">of</span> <span style=\"background-color:rgba(135,206,250,tensor(0.0468, device='cuda:0', grad_fn=<DivBackward0>));\">acidity</span> <span style=\"background-color:rgba(135,206,250,tensor(0.0040, device='cuda:0', grad_fn=<DivBackward0>));\">.</span> <span style=\"background-color:rgba(135,206,250,tensor(0.2142, device='cuda:0', grad_fn=<DivBackward0>));\"><PAD></span> <span style=\"background-color:rgba(135,206,250,tensor(0.2546, device='cuda:0', grad_fn=<DivBackward0>));\"><PAD></span> <span style=\"background-color:rgba(135,206,250,tensor(0.2857, device='cuda:0', grad_fn=<DivBackward0>));\"><PAD></span>"
      ],
      "text/plain": [
       "<IPython.core.display.HTML object>"
      ]
     },
     "metadata": {},
     "output_type": "display_data"
    },
    {
     "name": "stdout",
     "output_type": "stream",
     "text": [
      "<PAD>:   \t100.0%\n",
      ".:   \t0.0%\n",
      "<UNK>:   \t0.0%\n",
      "drink:   \t0.0%\n",
      "enjoy:   \t0.0%\n",
      "--------\n",
      "\n"
     ]
    },
    {
     "data": {
      "text/html": [
       "<span style=\"background-color:rgba(135,206,250,tensor(0.1704, device='cuda:0', grad_fn=<DivBackward0>));\">wine</span> <span style=\"background-color:rgba(135,206,250,tensor(1., device='cuda:0', grad_fn=<DivBackward0>));\">review</span> <span style=\"background-color:rgba(135,206,250,tensor(0.1002, device='cuda:0', grad_fn=<DivBackward0>));\">:</span> <span style=\"background-color:rgba(135,206,250,tensor(0.0873, device='cuda:0', grad_fn=<DivBackward0>));\">germany</span> <span style=\"background-color:rgba(135,206,250,tensor(0.0712, device='cuda:0', grad_fn=<DivBackward0>));\">:</span> <span style=\"background-color:rgba(135,206,250,tensor(0.0267, device='cuda:0', grad_fn=<DivBackward0>));\">mosel</span> <span style=\"background-color:rgba(135,206,250,tensor(0.0458, device='cuda:0', grad_fn=<DivBackward0>));\">:</span> <span style=\"background-color:rgba(135,206,250,tensor(0.0047, device='cuda:0', grad_fn=<DivBackward0>));\">riesling</span> <span style=\"background-color:rgba(135,206,250,tensor(0.0132, device='cuda:0', grad_fn=<DivBackward0>));\">:</span> <span style=\"background-color:rgba(135,206,250,tensor(0.0084, device='cuda:0', grad_fn=<DivBackward0>));\">pristine</span> <span style=\"background-color:rgba(135,206,250,tensor(0.0183, device='cuda:0', grad_fn=<DivBackward0>));\">aromas</span> <span style=\"background-color:rgba(135,206,250,tensor(0.0007, device='cuda:0', grad_fn=<DivBackward0>));\">of</span> <span style=\"background-color:rgba(135,206,250,tensor(0.0093, device='cuda:0', grad_fn=<DivBackward0>));\">freshly</span> <span style=\"background-color:rgba(135,206,250,tensor(0.0017, device='cuda:0', grad_fn=<DivBackward0>));\">pressed</span> <span style=\"background-color:rgba(135,206,250,tensor(0.0001, device='cuda:0', grad_fn=<DivBackward0>));\">yellow</span> <span style=\"background-color:rgba(135,206,250,tensor(0.0053, device='cuda:0', grad_fn=<DivBackward0>));\">flowers</span> <span style=\"background-color:rgba(135,206,250,tensor(0.0044, device='cuda:0', grad_fn=<DivBackward0>));\">and</span> <span style=\"background-color:rgba(135,206,250,tensor(0.0032, device='cuda:0', grad_fn=<DivBackward0>));\">white</span> <span style=\"background-color:rgba(135,206,250,tensor(0.0049, device='cuda:0', grad_fn=<DivBackward0>));\">peach</span> <span style=\"background-color:rgba(135,206,250,tensor(0.0039, device='cuda:0', grad_fn=<DivBackward0>));\">and</span> <span style=\"background-color:rgba(135,206,250,tensor(0.0019, device='cuda:0', grad_fn=<DivBackward0>));\">honeydew</span> <span style=\"background-color:rgba(135,206,250,tensor(0.0075, device='cuda:0', grad_fn=<DivBackward0>));\">melon</span> <span style=\"background-color:rgba(135,206,250,tensor(0.0078, device='cuda:0', grad_fn=<DivBackward0>));\">flavors</span> <span style=\"background-color:rgba(135,206,250,tensor(0.0025, device='cuda:0', grad_fn=<DivBackward0>));\">this</span> <span style=\"background-color:rgba(135,206,250,tensor(0.0070, device='cuda:0', grad_fn=<DivBackward0>));\">dry</span> <span style=\"background-color:rgba(135,206,250,tensor(0.0075, device='cuda:0', grad_fn=<DivBackward0>));\">riesling</span> <span style=\"background-color:rgba(135,206,250,tensor(0.0056, device='cuda:0', grad_fn=<DivBackward0>));\">.</span> <span style=\"background-color:rgba(135,206,250,tensor(0.0083, device='cuda:0', grad_fn=<DivBackward0>));\">the</span> <span style=\"background-color:rgba(135,206,250,tensor(0.0105, device='cuda:0', grad_fn=<DivBackward0>));\">palate</span> <span style=\"background-color:rgba(135,206,250,tensor(0.0047, device='cuda:0', grad_fn=<DivBackward0>));\">is</span> <span style=\"background-color:rgba(135,206,250,tensor(0.0124, device='cuda:0', grad_fn=<DivBackward0>));\">full</span> <span style=\"background-color:rgba(135,206,250,tensor(0.0149, device='cuda:0', grad_fn=<DivBackward0>));\">of</span> <span style=\"background-color:rgba(135,206,250,tensor(0.0087, device='cuda:0', grad_fn=<DivBackward0>));\">the</span> <span style=\"background-color:rgba(135,206,250,tensor(0.0084, device='cuda:0', grad_fn=<DivBackward0>));\">mouth</span> <span style=\"background-color:rgba(135,206,250,tensor(4.5440e-06, device='cuda:0', grad_fn=<DivBackward0>));\">,</span> <span style=\"background-color:rgba(135,206,250,tensor(0.0033, device='cuda:0', grad_fn=<DivBackward0>));\">with</span> <span style=\"background-color:rgba(135,206,250,tensor(0.0190, device='cuda:0', grad_fn=<DivBackward0>));\">a</span> <span style=\"background-color:rgba(135,206,250,tensor(0.0033, device='cuda:0', grad_fn=<DivBackward0>));\">hint</span> <span style=\"background-color:rgba(135,206,250,tensor(0.0105, device='cuda:0', grad_fn=<DivBackward0>));\">of</span> <span style=\"background-color:rgba(135,206,250,tensor(0.0032, device='cuda:0', grad_fn=<DivBackward0>));\">tangerine</span> <span style=\"background-color:rgba(135,206,250,tensor(0., device='cuda:0', grad_fn=<DivBackward0>));\">acidity</span> <span style=\"background-color:rgba(135,206,250,tensor(0.0046, device='cuda:0', grad_fn=<DivBackward0>));\">and</span> <span style=\"background-color:rgba(135,206,250,tensor(0., device='cuda:0', grad_fn=<DivBackward0>));\">a</span> <span style=\"background-color:rgba(135,206,250,tensor(0.0179, device='cuda:0', grad_fn=<DivBackward0>));\">lingering</span> <span style=\"background-color:rgba(135,206,250,tensor(0.0121, device='cuda:0', grad_fn=<DivBackward0>));\">mineral</span> <span style=\"background-color:rgba(135,206,250,tensor(0.0210, device='cuda:0', grad_fn=<DivBackward0>));\">finish</span> <span style=\"background-color:rgba(135,206,250,tensor(0.0050, device='cuda:0', grad_fn=<DivBackward0>));\">.</span> <span style=\"background-color:rgba(135,206,250,tensor(0.0039, device='cuda:0', grad_fn=<DivBackward0>));\">it</span> <span style=\"background-color:rgba(135,206,250,tensor(0.0075, device='cuda:0', grad_fn=<DivBackward0>));\">'</span> <span style=\"background-color:rgba(135,206,250,tensor(0.0041, device='cuda:0', grad_fn=<DivBackward0>));\">s</span> <span style=\"background-color:rgba(135,206,250,tensor(0.0246, device='cuda:0', grad_fn=<DivBackward0>));\">a</span> <span style=\"background-color:rgba(135,206,250,tensor(0.0001, device='cuda:0', grad_fn=<DivBackward0>));\">bit</span> <span style=\"background-color:rgba(135,206,250,tensor(0.0095, device='cuda:0', grad_fn=<DivBackward0>));\">confected</span> <span style=\"background-color:rgba(135,206,250,tensor(0.0058, device='cuda:0', grad_fn=<DivBackward0>));\">and</span> <span style=\"background-color:rgba(135,206,250,tensor(0.0172, device='cuda:0', grad_fn=<DivBackward0>));\">straightforward</span> <span style=\"background-color:rgba(135,206,250,tensor(0.0253, device='cuda:0', grad_fn=<DivBackward0>));\">,</span> <span style=\"background-color:rgba(135,206,250,tensor(0.0085, device='cuda:0', grad_fn=<DivBackward0>));\">with</span> <span style=\"background-color:rgba(135,206,250,tensor(0.0514, device='cuda:0', grad_fn=<DivBackward0>));\">a</span> <span style=\"background-color:rgba(135,206,250,tensor(0.0255, device='cuda:0', grad_fn=<DivBackward0>));\">touch</span> <span style=\"background-color:rgba(135,206,250,tensor(0.0269, device='cuda:0', grad_fn=<DivBackward0>));\">of</span> <span style=\"background-color:rgba(135,206,250,tensor(0.0368, device='cuda:0', grad_fn=<DivBackward0>));\">acidity</span> <span style=\"background-color:rgba(135,206,250,tensor(0.0174, device='cuda:0', grad_fn=<DivBackward0>));\">.</span> <span style=\"background-color:rgba(135,206,250,tensor(0.1239, device='cuda:0', grad_fn=<DivBackward0>));\"><PAD></span> <span style=\"background-color:rgba(135,206,250,tensor(0.1511, device='cuda:0', grad_fn=<DivBackward0>));\"><PAD></span> <span style=\"background-color:rgba(135,206,250,tensor(0.1827, device='cuda:0', grad_fn=<DivBackward0>));\"><PAD></span> <span style=\"background-color:rgba(135,206,250,tensor(0.2283, device='cuda:0', grad_fn=<DivBackward0>));\"><PAD></span>"
      ],
      "text/plain": [
       "<IPython.core.display.HTML object>"
      ]
     },
     "metadata": {},
     "output_type": "display_data"
    },
    {
     "name": "stdout",
     "output_type": "stream",
     "text": [
      "<PAD>:   \t100.0%\n",
      "drink:   \t0.0%\n",
      ".:   \t0.0%\n",
      "enjoy:   \t0.0%\n",
      "give:   \t0.0%\n",
      "--------\n",
      "\n"
     ]
    },
    {
     "data": {
      "text/html": [
       "<span style=\"background-color:rgba(135,206,250,tensor(0.2295, device='cuda:0', grad_fn=<DivBackward0>));\">wine</span> <span style=\"background-color:rgba(135,206,250,tensor(1., device='cuda:0', grad_fn=<DivBackward0>));\">review</span> <span style=\"background-color:rgba(135,206,250,tensor(0.1358, device='cuda:0', grad_fn=<DivBackward0>));\">:</span> <span style=\"background-color:rgba(135,206,250,tensor(0.1050, device='cuda:0', grad_fn=<DivBackward0>));\">germany</span> <span style=\"background-color:rgba(135,206,250,tensor(0.0392, device='cuda:0', grad_fn=<DivBackward0>));\">:</span> <span style=\"background-color:rgba(135,206,250,tensor(0.0347, device='cuda:0', grad_fn=<DivBackward0>));\">mosel</span> <span style=\"background-color:rgba(135,206,250,tensor(0.0608, device='cuda:0', grad_fn=<DivBackward0>));\">:</span> <span style=\"background-color:rgba(135,206,250,tensor(0.0489, device='cuda:0', grad_fn=<DivBackward0>));\">riesling</span> <span style=\"background-color:rgba(135,206,250,tensor(0.0303, device='cuda:0', grad_fn=<DivBackward0>));\">:</span> <span style=\"background-color:rgba(135,206,250,tensor(0.0099, device='cuda:0', grad_fn=<DivBackward0>));\">pristine</span> <span style=\"background-color:rgba(135,206,250,tensor(0.0269, device='cuda:0', grad_fn=<DivBackward0>));\">aromas</span> <span style=\"background-color:rgba(135,206,250,tensor(0.0208, device='cuda:0', grad_fn=<DivBackward0>));\">of</span> <span style=\"background-color:rgba(135,206,250,tensor(0.0129, device='cuda:0', grad_fn=<DivBackward0>));\">freshly</span> <span style=\"background-color:rgba(135,206,250,tensor(0.0024, device='cuda:0', grad_fn=<DivBackward0>));\">pressed</span> <span style=\"background-color:rgba(135,206,250,tensor(0.0107, device='cuda:0', grad_fn=<DivBackward0>));\">yellow</span> <span style=\"background-color:rgba(135,206,250,tensor(0.0068, device='cuda:0', grad_fn=<DivBackward0>));\">flowers</span> <span style=\"background-color:rgba(135,206,250,tensor(0.0063, device='cuda:0', grad_fn=<DivBackward0>));\">and</span> <span style=\"background-color:rgba(135,206,250,tensor(0.0047, device='cuda:0', grad_fn=<DivBackward0>));\">white</span> <span style=\"background-color:rgba(135,206,250,tensor(0.0062, device='cuda:0', grad_fn=<DivBackward0>));\">peach</span> <span style=\"background-color:rgba(135,206,250,tensor(0.0055, device='cuda:0', grad_fn=<DivBackward0>));\">and</span> <span style=\"background-color:rgba(135,206,250,tensor(0.0022, device='cuda:0', grad_fn=<DivBackward0>));\">honeydew</span> <span style=\"background-color:rgba(135,206,250,tensor(1.1494e-05, device='cuda:0', grad_fn=<DivBackward0>));\">melon</span> <span style=\"background-color:rgba(135,206,250,tensor(0.0095, device='cuda:0', grad_fn=<DivBackward0>));\">flavors</span> <span style=\"background-color:rgba(135,206,250,tensor(0.0034, device='cuda:0', grad_fn=<DivBackward0>));\">this</span> <span style=\"background-color:rgba(135,206,250,tensor(0.0085, device='cuda:0', grad_fn=<DivBackward0>));\">dry</span> <span style=\"background-color:rgba(135,206,250,tensor(0.0096, device='cuda:0', grad_fn=<DivBackward0>));\">riesling</span> <span style=\"background-color:rgba(135,206,250,tensor(0.0071, device='cuda:0', grad_fn=<DivBackward0>));\">.</span> <span style=\"background-color:rgba(135,206,250,tensor(0.0111, device='cuda:0', grad_fn=<DivBackward0>));\">the</span> <span style=\"background-color:rgba(135,206,250,tensor(0.0131, device='cuda:0', grad_fn=<DivBackward0>));\">palate</span> <span style=\"background-color:rgba(135,206,250,tensor(0.0064, device='cuda:0', grad_fn=<DivBackward0>));\">is</span> <span style=\"background-color:rgba(135,206,250,tensor(0., device='cuda:0', grad_fn=<DivBackward0>));\">full</span> <span style=\"background-color:rgba(135,206,250,tensor(0.0197, device='cuda:0', grad_fn=<DivBackward0>));\">of</span> <span style=\"background-color:rgba(135,206,250,tensor(0.0117, device='cuda:0', grad_fn=<DivBackward0>));\">the</span> <span style=\"background-color:rgba(135,206,250,tensor(0.0107, device='cuda:0', grad_fn=<DivBackward0>));\">mouth</span> <span style=\"background-color:rgba(135,206,250,tensor(0.0175, device='cuda:0', grad_fn=<DivBackward0>));\">,</span> <span style=\"background-color:rgba(135,206,250,tensor(0.0044, device='cuda:0', grad_fn=<DivBackward0>));\">with</span> <span style=\"background-color:rgba(135,206,250,tensor(0.0244, device='cuda:0', grad_fn=<DivBackward0>));\">a</span> <span style=\"background-color:rgba(135,206,250,tensor(0.0041, device='cuda:0', grad_fn=<DivBackward0>));\">hint</span> <span style=\"background-color:rgba(135,206,250,tensor(0.0136, device='cuda:0', grad_fn=<DivBackward0>));\">of</span> <span style=\"background-color:rgba(135,206,250,tensor(0.0040, device='cuda:0', grad_fn=<DivBackward0>));\">tangerine</span> <span style=\"background-color:rgba(135,206,250,tensor(0.0156, device='cuda:0', grad_fn=<DivBackward0>));\">acidity</span> <span style=\"background-color:rgba(135,206,250,tensor(0.0062, device='cuda:0', grad_fn=<DivBackward0>));\">and</span> <span style=\"background-color:rgba(135,206,250,tensor(0.0272, device='cuda:0', grad_fn=<DivBackward0>));\">a</span> <span style=\"background-color:rgba(135,206,250,tensor(0.0200, device='cuda:0', grad_fn=<DivBackward0>));\">lingering</span> <span style=\"background-color:rgba(135,206,250,tensor(0.0152, device='cuda:0', grad_fn=<DivBackward0>));\">mineral</span> <span style=\"background-color:rgba(135,206,250,tensor(0.0255, device='cuda:0', grad_fn=<DivBackward0>));\">finish</span> <span style=\"background-color:rgba(135,206,250,tensor(0.0061, device='cuda:0', grad_fn=<DivBackward0>));\">.</span> <span style=\"background-color:rgba(135,206,250,tensor(0.0050, device='cuda:0', grad_fn=<DivBackward0>));\">it</span> <span style=\"background-color:rgba(135,206,250,tensor(0.0099, device='cuda:0', grad_fn=<DivBackward0>));\">'</span> <span style=\"background-color:rgba(135,206,250,tensor(0.0054, device='cuda:0', grad_fn=<DivBackward0>));\">s</span> <span style=\"background-color:rgba(135,206,250,tensor(0.0309, device='cuda:0', grad_fn=<DivBackward0>));\">a</span> <span style=\"background-color:rgba(135,206,250,tensor(0.0093, device='cuda:0', grad_fn=<DivBackward0>));\">bit</span> <span style=\"background-color:rgba(135,206,250,tensor(0.0121, device='cuda:0', grad_fn=<DivBackward0>));\">confected</span> <span style=\"background-color:rgba(135,206,250,tensor(0.0075, device='cuda:0', grad_fn=<DivBackward0>));\">and</span> <span style=\"background-color:rgba(135,206,250,tensor(0.0201, device='cuda:0', grad_fn=<DivBackward0>));\">straightforward</span> <span style=\"background-color:rgba(135,206,250,tensor(0.0315, device='cuda:0', grad_fn=<DivBackward0>));\">,</span> <span style=\"background-color:rgba(135,206,250,tensor(0.0104, device='cuda:0', grad_fn=<DivBackward0>));\">with</span> <span style=\"background-color:rgba(135,206,250,tensor(0.0610, device='cuda:0', grad_fn=<DivBackward0>));\">a</span> <span style=\"background-color:rgba(135,206,250,tensor(0.0299, device='cuda:0', grad_fn=<DivBackward0>));\">touch</span> <span style=\"background-color:rgba(135,206,250,tensor(0.0337, device='cuda:0', grad_fn=<DivBackward0>));\">of</span> <span style=\"background-color:rgba(135,206,250,tensor(0., device='cuda:0', grad_fn=<DivBackward0>));\">acidity</span> <span style=\"background-color:rgba(135,206,250,tensor(0.0202, device='cuda:0', grad_fn=<DivBackward0>));\">.</span> <span style=\"background-color:rgba(135,206,250,tensor(0.1187, device='cuda:0', grad_fn=<DivBackward0>));\"><PAD></span> <span style=\"background-color:rgba(135,206,250,tensor(0.1428, device='cuda:0', grad_fn=<DivBackward0>));\"><PAD></span> <span style=\"background-color:rgba(135,206,250,tensor(0.1751, device='cuda:0', grad_fn=<DivBackward0>));\"><PAD></span> <span style=\"background-color:rgba(135,206,250,tensor(0.2311, device='cuda:0', grad_fn=<DivBackward0>));\"><PAD></span> <span style=\"background-color:rgba(135,206,250,tensor(0.3334, device='cuda:0', grad_fn=<DivBackward0>));\"><PAD></span>"
      ],
      "text/plain": [
       "<IPython.core.display.HTML object>"
      ]
     },
     "metadata": {},
     "output_type": "display_data"
    },
    {
     "name": "stdout",
     "output_type": "stream",
     "text": [
      "<PAD>:   \t100.0%\n",
      "drink:   \t0.0%\n",
      "enjoy:   \t0.0%\n",
      "<UNK>:   \t0.0%\n",
      ".:   \t0.0%\n",
      "--------\n",
      "\n"
     ]
    },
    {
     "data": {
      "text/html": [
       "<span style=\"background-color:rgba(135,206,250,tensor(0.1608, device='cuda:0', grad_fn=<DivBackward0>));\">wine</span> <span style=\"background-color:rgba(135,206,250,tensor(1., device='cuda:0', grad_fn=<DivBackward0>));\">review</span> <span style=\"background-color:rgba(135,206,250,tensor(0.1025, device='cuda:0', grad_fn=<DivBackward0>));\">:</span> <span style=\"background-color:rgba(135,206,250,tensor(0.0702, device='cuda:0', grad_fn=<DivBackward0>));\">germany</span> <span style=\"background-color:rgba(135,206,250,tensor(0.0714, device='cuda:0', grad_fn=<DivBackward0>));\">:</span> <span style=\"background-color:rgba(135,206,250,tensor(0.0167, device='cuda:0', grad_fn=<DivBackward0>));\">mosel</span> <span style=\"background-color:rgba(135,206,250,tensor(0.0203, device='cuda:0', grad_fn=<DivBackward0>));\">:</span> <span style=\"background-color:rgba(135,206,250,tensor(0.0358, device='cuda:0', grad_fn=<DivBackward0>));\">riesling</span> <span style=\"background-color:rgba(135,206,250,tensor(0.0237, device='cuda:0', grad_fn=<DivBackward0>));\">:</span> <span style=\"background-color:rgba(135,206,250,tensor(0.0062, device='cuda:0', grad_fn=<DivBackward0>));\">pristine</span> <span style=\"background-color:rgba(135,206,250,tensor(0.0010, device='cuda:0', grad_fn=<DivBackward0>));\">aromas</span> <span style=\"background-color:rgba(135,206,250,tensor(0.0007, device='cuda:0', grad_fn=<DivBackward0>));\">of</span> <span style=\"background-color:rgba(135,206,250,tensor(0.0072, device='cuda:0', grad_fn=<DivBackward0>));\">freshly</span> <span style=\"background-color:rgba(135,206,250,tensor(0.0017, device='cuda:0', grad_fn=<DivBackward0>));\">pressed</span> <span style=\"background-color:rgba(135,206,250,tensor(0.0079, device='cuda:0', grad_fn=<DivBackward0>));\">yellow</span> <span style=\"background-color:rgba(135,206,250,tensor(0.0046, device='cuda:0', grad_fn=<DivBackward0>));\">flowers</span> <span style=\"background-color:rgba(135,206,250,tensor(0.0053, device='cuda:0', grad_fn=<DivBackward0>));\">and</span> <span style=\"background-color:rgba(135,206,250,tensor(0.0041, device='cuda:0', grad_fn=<DivBackward0>));\">white</span> <span style=\"background-color:rgba(135,206,250,tensor(0.0044, device='cuda:0', grad_fn=<DivBackward0>));\">peach</span> <span style=\"background-color:rgba(135,206,250,tensor(0.0044, device='cuda:0', grad_fn=<DivBackward0>));\">and</span> <span style=\"background-color:rgba(135,206,250,tensor(0.0015, device='cuda:0', grad_fn=<DivBackward0>));\">honeydew</span> <span style=\"background-color:rgba(135,206,250,tensor(0.0071, device='cuda:0', grad_fn=<DivBackward0>));\">melon</span> <span style=\"background-color:rgba(135,206,250,tensor(2.9998e-05, device='cuda:0', grad_fn=<DivBackward0>));\">flavors</span> <span style=\"background-color:rgba(135,206,250,tensor(0.0027, device='cuda:0', grad_fn=<DivBackward0>));\">this</span> <span style=\"background-color:rgba(135,206,250,tensor(0.0060, device='cuda:0', grad_fn=<DivBackward0>));\">dry</span> <span style=\"background-color:rgba(135,206,250,tensor(0.0071, device='cuda:0', grad_fn=<DivBackward0>));\">riesling</span> <span style=\"background-color:rgba(135,206,250,tensor(0.0051, device='cuda:0', grad_fn=<DivBackward0>));\">.</span> <span style=\"background-color:rgba(135,206,250,tensor(0.0083, device='cuda:0', grad_fn=<DivBackward0>));\">the</span> <span style=\"background-color:rgba(135,206,250,tensor(0.0092, device='cuda:0', grad_fn=<DivBackward0>));\">palate</span> <span style=\"background-color:rgba(135,206,250,tensor(0.0049, device='cuda:0', grad_fn=<DivBackward0>));\">is</span> <span style=\"background-color:rgba(135,206,250,tensor(0.0111, device='cuda:0', grad_fn=<DivBackward0>));\">full</span> <span style=\"background-color:rgba(135,206,250,tensor(0.0144, device='cuda:0', grad_fn=<DivBackward0>));\">of</span> <span style=\"background-color:rgba(135,206,250,tensor(0.0087, device='cuda:0', grad_fn=<DivBackward0>));\">the</span> <span style=\"background-color:rgba(135,206,250,tensor(3.1853e-06, device='cuda:0', grad_fn=<DivBackward0>));\">mouth</span> <span style=\"background-color:rgba(135,206,250,tensor(0.0126, device='cuda:0', grad_fn=<DivBackward0>));\">,</span> <span style=\"background-color:rgba(135,206,250,tensor(0.0033, device='cuda:0', grad_fn=<DivBackward0>));\">with</span> <span style=\"background-color:rgba(135,206,250,tensor(0., device='cuda:0', grad_fn=<DivBackward0>));\">a</span> <span style=\"background-color:rgba(135,206,250,tensor(0.0028, device='cuda:0', grad_fn=<DivBackward0>));\">hint</span> <span style=\"background-color:rgba(135,206,250,tensor(0.0097, device='cuda:0', grad_fn=<DivBackward0>));\">of</span> <span style=\"background-color:rgba(135,206,250,tensor(0.0028, device='cuda:0', grad_fn=<DivBackward0>));\">tangerine</span> <span style=\"background-color:rgba(135,206,250,tensor(2.3848e-05, device='cuda:0', grad_fn=<DivBackward0>));\">acidity</span> <span style=\"background-color:rgba(135,206,250,tensor(0.0048, device='cuda:0', grad_fn=<DivBackward0>));\">and</span> <span style=\"background-color:rgba(135,206,250,tensor(0.0202, device='cuda:0', grad_fn=<DivBackward0>));\">a</span> <span style=\"background-color:rgba(135,206,250,tensor(0.0125, device='cuda:0', grad_fn=<DivBackward0>));\">lingering</span> <span style=\"background-color:rgba(135,206,250,tensor(0.0105, device='cuda:0', grad_fn=<DivBackward0>));\">mineral</span> <span style=\"background-color:rgba(135,206,250,tensor(0.0193, device='cuda:0', grad_fn=<DivBackward0>));\">finish</span> <span style=\"background-color:rgba(135,206,250,tensor(0.0043, device='cuda:0', grad_fn=<DivBackward0>));\">.</span> <span style=\"background-color:rgba(135,206,250,tensor(0.0036, device='cuda:0', grad_fn=<DivBackward0>));\">it</span> <span style=\"background-color:rgba(135,206,250,tensor(0.0079, device='cuda:0', grad_fn=<DivBackward0>));\">'</span> <span style=\"background-color:rgba(135,206,250,tensor(0.0038, device='cuda:0', grad_fn=<DivBackward0>));\">s</span> <span style=\"background-color:rgba(135,206,250,tensor(0.0225, device='cuda:0', grad_fn=<DivBackward0>));\">a</span> <span style=\"background-color:rgba(135,206,250,tensor(0.0001, device='cuda:0', grad_fn=<DivBackward0>));\">bit</span> <span style=\"background-color:rgba(135,206,250,tensor(0.0086, device='cuda:0', grad_fn=<DivBackward0>));\">confected</span> <span style=\"background-color:rgba(135,206,250,tensor(0.0002, device='cuda:0', grad_fn=<DivBackward0>));\">and</span> <span style=\"background-color:rgba(135,206,250,tensor(0.0140, device='cuda:0', grad_fn=<DivBackward0>));\">straightforward</span> <span style=\"background-color:rgba(135,206,250,tensor(0.0002, device='cuda:0', grad_fn=<DivBackward0>));\">,</span> <span style=\"background-color:rgba(135,206,250,tensor(0.0073, device='cuda:0', grad_fn=<DivBackward0>));\">with</span> <span style=\"background-color:rgba(135,206,250,tensor(0.0426, device='cuda:0', grad_fn=<DivBackward0>));\">a</span> <span style=\"background-color:rgba(135,206,250,tensor(0.0202, device='cuda:0', grad_fn=<DivBackward0>));\">touch</span> <span style=\"background-color:rgba(135,206,250,tensor(0.0230, device='cuda:0', grad_fn=<DivBackward0>));\">of</span> <span style=\"background-color:rgba(135,206,250,tensor(0.0012, device='cuda:0', grad_fn=<DivBackward0>));\">acidity</span> <span style=\"background-color:rgba(135,206,250,tensor(0.0135, device='cuda:0', grad_fn=<DivBackward0>));\">.</span> <span style=\"background-color:rgba(135,206,250,tensor(0.0743, device='cuda:0', grad_fn=<DivBackward0>));\"><PAD></span> <span style=\"background-color:rgba(135,206,250,tensor(0.0874, device='cuda:0', grad_fn=<DivBackward0>));\"><PAD></span> <span style=\"background-color:rgba(135,206,250,tensor(0.1041, device='cuda:0', grad_fn=<DivBackward0>));\"><PAD></span> <span style=\"background-color:rgba(135,206,250,tensor(0.0569, device='cuda:0', grad_fn=<DivBackward0>));\"><PAD></span> <span style=\"background-color:rgba(135,206,250,tensor(0.2034, device='cuda:0', grad_fn=<DivBackward0>));\"><PAD></span> <span style=\"background-color:rgba(135,206,250,tensor(0.3336, device='cuda:0', grad_fn=<DivBackward0>));\"><PAD></span>"
      ],
      "text/plain": [
       "<IPython.core.display.HTML object>"
      ]
     },
     "metadata": {},
     "output_type": "display_data"
    },
    {
     "name": "stdout",
     "output_type": "stream",
     "text": [
      "<PAD>:   \t100.0%\n",
      "enjoy:   \t0.0%\n",
      "drink:   \t0.0%\n",
      "—m:   \t0.0%\n",
      "<UNK>:   \t0.0%\n",
      "--------\n",
      "\n"
     ]
    },
    {
     "data": {
      "text/html": [
       "<span style=\"background-color:rgba(135,206,250,tensor(0.3438, device='cuda:0', grad_fn=<DivBackward0>));\">wine</span> <span style=\"background-color:rgba(135,206,250,tensor(0.7609, device='cuda:0', grad_fn=<DivBackward0>));\">review</span> <span style=\"background-color:rgba(135,206,250,tensor(0.2383, device='cuda:0', grad_fn=<DivBackward0>));\">:</span> <span style=\"background-color:rgba(135,206,250,tensor(0.1584, device='cuda:0', grad_fn=<DivBackward0>));\">germany</span> <span style=\"background-color:rgba(135,206,250,tensor(0.1732, device='cuda:0', grad_fn=<DivBackward0>));\">:</span> <span style=\"background-color:rgba(135,206,250,tensor(0.0408, device='cuda:0', grad_fn=<DivBackward0>));\">mosel</span> <span style=\"background-color:rgba(135,206,250,tensor(0.1141, device='cuda:0', grad_fn=<DivBackward0>));\">:</span> <span style=\"background-color:rgba(135,206,250,tensor(0.0846, device='cuda:0', grad_fn=<DivBackward0>));\">riesling</span> <span style=\"background-color:rgba(135,206,250,tensor(0.0573, device='cuda:0', grad_fn=<DivBackward0>));\">:</span> <span style=\"background-color:rgba(135,206,250,tensor(0.0126, device='cuda:0', grad_fn=<DivBackward0>));\">pristine</span> <span style=\"background-color:rgba(135,206,250,tensor(0.0495, device='cuda:0', grad_fn=<DivBackward0>));\">aromas</span> <span style=\"background-color:rgba(135,206,250,tensor(0., device='cuda:0', grad_fn=<DivBackward0>));\">of</span> <span style=\"background-color:rgba(135,206,250,tensor(0.0224, device='cuda:0', grad_fn=<DivBackward0>));\">freshly</span> <span style=\"background-color:rgba(135,206,250,tensor(0.0033, device='cuda:0', grad_fn=<DivBackward0>));\">pressed</span> <span style=\"background-color:rgba(135,206,250,tensor(0.0182, device='cuda:0', grad_fn=<DivBackward0>));\">yellow</span> <span style=\"background-color:rgba(135,206,250,tensor(0.0107, device='cuda:0', grad_fn=<DivBackward0>));\">flowers</span> <span style=\"background-color:rgba(135,206,250,tensor(0.0136, device='cuda:0', grad_fn=<DivBackward0>));\">and</span> <span style=\"background-color:rgba(135,206,250,tensor(0.0107, device='cuda:0', grad_fn=<DivBackward0>));\">white</span> <span style=\"background-color:rgba(135,206,250,tensor(0.0107, device='cuda:0', grad_fn=<DivBackward0>));\">peach</span> <span style=\"background-color:rgba(135,206,250,tensor(0.0114, device='cuda:0', grad_fn=<DivBackward0>));\">and</span> <span style=\"background-color:rgba(135,206,250,tensor(0.0039, device='cuda:0', grad_fn=<DivBackward0>));\">honeydew</span> <span style=\"background-color:rgba(135,206,250,tensor(0.0181, device='cuda:0', grad_fn=<DivBackward0>));\">melon</span> <span style=\"background-color:rgba(135,206,250,tensor(0.0155, device='cuda:0', grad_fn=<DivBackward0>));\">flavors</span> <span style=\"background-color:rgba(135,206,250,tensor(0.0075, device='cuda:0', grad_fn=<DivBackward0>));\">this</span> <span style=\"background-color:rgba(135,206,250,tensor(0.0147, device='cuda:0', grad_fn=<DivBackward0>));\">dry</span> <span style=\"background-color:rgba(135,206,250,tensor(0.0176, device='cuda:0', grad_fn=<DivBackward0>));\">riesling</span> <span style=\"background-color:rgba(135,206,250,tensor(0.0121, device='cuda:0', grad_fn=<DivBackward0>));\">.</span> <span style=\"background-color:rgba(135,206,250,tensor(0.0198, device='cuda:0', grad_fn=<DivBackward0>));\">the</span> <span style=\"background-color:rgba(135,206,250,tensor(0.0221, device='cuda:0', grad_fn=<DivBackward0>));\">palate</span> <span style=\"background-color:rgba(135,206,250,tensor(1.4976e-05, device='cuda:0', grad_fn=<DivBackward0>));\">is</span> <span style=\"background-color:rgba(135,206,250,tensor(0.0258, device='cuda:0', grad_fn=<DivBackward0>));\">full</span> <span style=\"background-color:rgba(135,206,250,tensor(0.0339, device='cuda:0', grad_fn=<DivBackward0>));\">of</span> <span style=\"background-color:rgba(135,206,250,tensor(0.0202, device='cuda:0', grad_fn=<DivBackward0>));\">the</span> <span style=\"background-color:rgba(135,206,250,tensor(0.0189, device='cuda:0', grad_fn=<DivBackward0>));\">mouth</span> <span style=\"background-color:rgba(135,206,250,tensor(0.0286, device='cuda:0', grad_fn=<DivBackward0>));\">,</span> <span style=\"background-color:rgba(135,206,250,tensor(0.0080, device='cuda:0', grad_fn=<DivBackward0>));\">with</span> <span style=\"background-color:rgba(135,206,250,tensor(0.0454, device='cuda:0', grad_fn=<DivBackward0>));\">a</span> <span style=\"background-color:rgba(135,206,250,tensor(0.0062, device='cuda:0', grad_fn=<DivBackward0>));\">hint</span> <span style=\"background-color:rgba(135,206,250,tensor(0.0226, device='cuda:0', grad_fn=<DivBackward0>));\">of</span> <span style=\"background-color:rgba(135,206,250,tensor(0.0067, device='cuda:0', grad_fn=<DivBackward0>));\">tangerine</span> <span style=\"background-color:rgba(135,206,250,tensor(0.0288, device='cuda:0', grad_fn=<DivBackward0>));\">acidity</span> <span style=\"background-color:rgba(135,206,250,tensor(0.0124, device='cuda:0', grad_fn=<DivBackward0>));\">and</span> <span style=\"background-color:rgba(135,206,250,tensor(0.0523, device='cuda:0', grad_fn=<DivBackward0>));\">a</span> <span style=\"background-color:rgba(135,206,250,tensor(0.0277, device='cuda:0', grad_fn=<DivBackward0>));\">lingering</span> <span style=\"background-color:rgba(135,206,250,tensor(0.0235, device='cuda:0', grad_fn=<DivBackward0>));\">mineral</span> <span style=\"background-color:rgba(135,206,250,tensor(0.0520, device='cuda:0', grad_fn=<DivBackward0>));\">finish</span> <span style=\"background-color:rgba(135,206,250,tensor(0.0105, device='cuda:0', grad_fn=<DivBackward0>));\">.</span> <span style=\"background-color:rgba(135,206,250,tensor(0.0092, device='cuda:0', grad_fn=<DivBackward0>));\">it</span> <span style=\"background-color:rgba(135,206,250,tensor(0.0209, device='cuda:0', grad_fn=<DivBackward0>));\">'</span> <span style=\"background-color:rgba(135,206,250,tensor(0.0083, device='cuda:0', grad_fn=<DivBackward0>));\">s</span> <span style=\"background-color:rgba(135,206,250,tensor(0.0551, device='cuda:0', grad_fn=<DivBackward0>));\">a</span> <span style=\"background-color:rgba(135,206,250,tensor(0.0145, device='cuda:0', grad_fn=<DivBackward0>));\">bit</span> <span style=\"background-color:rgba(135,206,250,tensor(0.0195, device='cuda:0', grad_fn=<DivBackward0>));\">confected</span> <span style=\"background-color:rgba(135,206,250,tensor(0.0136, device='cuda:0', grad_fn=<DivBackward0>));\">and</span> <span style=\"background-color:rgba(135,206,250,tensor(0.0340, device='cuda:0', grad_fn=<DivBackward0>));\">straightforward</span> <span style=\"background-color:rgba(135,206,250,tensor(0.0469, device='cuda:0', grad_fn=<DivBackward0>));\">,</span> <span style=\"background-color:rgba(135,206,250,tensor(0.0004, device='cuda:0', grad_fn=<DivBackward0>));\">with</span> <span style=\"background-color:rgba(135,206,250,tensor(0.1037, device='cuda:0', grad_fn=<DivBackward0>));\">a</span> <span style=\"background-color:rgba(135,206,250,tensor(0.0468, device='cuda:0', grad_fn=<DivBackward0>));\">touch</span> <span style=\"background-color:rgba(135,206,250,tensor(0.0529, device='cuda:0', grad_fn=<DivBackward0>));\">of</span> <span style=\"background-color:rgba(135,206,250,tensor(0.0732, device='cuda:0', grad_fn=<DivBackward0>));\">acidity</span> <span style=\"background-color:rgba(135,206,250,tensor(0.0306, device='cuda:0', grad_fn=<DivBackward0>));\">.</span> <span style=\"background-color:rgba(135,206,250,tensor(0.1661, device='cuda:0', grad_fn=<DivBackward0>));\"><PAD></span> <span style=\"background-color:rgba(135,206,250,tensor(0.1923, device='cuda:0', grad_fn=<DivBackward0>));\"><PAD></span> <span style=\"background-color:rgba(135,206,250,tensor(0.2209, device='cuda:0', grad_fn=<DivBackward0>));\"><PAD></span> <span style=\"background-color:rgba(135,206,250,tensor(0.2673, device='cuda:0', grad_fn=<DivBackward0>));\"><PAD></span> <span style=\"background-color:rgba(135,206,250,tensor(0.3812, device='cuda:0', grad_fn=<DivBackward0>));\"><PAD></span> <span style=\"background-color:rgba(135,206,250,tensor(0.6568, device='cuda:0', grad_fn=<DivBackward0>));\"><PAD></span> <span style=\"background-color:rgba(135,206,250,tensor(1., device='cuda:0', grad_fn=<DivBackward0>));\"><PAD></span>"
      ],
      "text/plain": [
       "<IPython.core.display.HTML object>"
      ]
     },
     "metadata": {},
     "output_type": "display_data"
    },
    {
     "name": "stdout",
     "output_type": "stream",
     "text": [
      "<PAD>:   \t100.0%\n",
      "drink:   \t0.0%\n",
      "owner:   \t0.0%\n",
      "enjoy:   \t0.0%\n",
      "<UNK>:   \t0.0%\n",
      "--------\n",
      "\n"
     ]
    },
    {
     "data": {
      "text/html": [
       "<span style=\"background-color:rgba(135,206,250,tensor(0.1853, device='cuda:0', grad_fn=<DivBackward0>));\">wine</span> <span style=\"background-color:rgba(135,206,250,tensor(1., device='cuda:0', grad_fn=<DivBackward0>));\">review</span> <span style=\"background-color:rgba(135,206,250,tensor(0.1314, device='cuda:0', grad_fn=<DivBackward0>));\">:</span> <span style=\"background-color:rgba(135,206,250,tensor(0.0957, device='cuda:0', grad_fn=<DivBackward0>));\">germany</span> <span style=\"background-color:rgba(135,206,250,tensor(0.1007, device='cuda:0', grad_fn=<DivBackward0>));\">:</span> <span style=\"background-color:rgba(135,206,250,tensor(0.0348, device='cuda:0', grad_fn=<DivBackward0>));\">mosel</span> <span style=\"background-color:rgba(135,206,250,tensor(0.0663, device='cuda:0', grad_fn=<DivBackward0>));\">:</span> <span style=\"background-color:rgba(135,206,250,tensor(0.0519, device='cuda:0', grad_fn=<DivBackward0>));\">riesling</span> <span style=\"background-color:rgba(135,206,250,tensor(0.0325, device='cuda:0', grad_fn=<DivBackward0>));\">:</span> <span style=\"background-color:rgba(135,206,250,tensor(0.0087, device='cuda:0', grad_fn=<DivBackward0>));\">pristine</span> <span style=\"background-color:rgba(135,206,250,tensor(0.0308, device='cuda:0', grad_fn=<DivBackward0>));\">aromas</span> <span style=\"background-color:rgba(135,206,250,tensor(0.0222, device='cuda:0', grad_fn=<DivBackward0>));\">of</span> <span style=\"background-color:rgba(135,206,250,tensor(0.0126, device='cuda:0', grad_fn=<DivBackward0>));\">freshly</span> <span style=\"background-color:rgba(135,206,250,tensor(0.0018, device='cuda:0', grad_fn=<DivBackward0>));\">pressed</span> <span style=\"background-color:rgba(135,206,250,tensor(0.0109, device='cuda:0', grad_fn=<DivBackward0>));\">yellow</span> <span style=\"background-color:rgba(135,206,250,tensor(0.0066, device='cuda:0', grad_fn=<DivBackward0>));\">flowers</span> <span style=\"background-color:rgba(135,206,250,tensor(0.0083, device='cuda:0', grad_fn=<DivBackward0>));\">and</span> <span style=\"background-color:rgba(135,206,250,tensor(0.0068, device='cuda:0', grad_fn=<DivBackward0>));\">white</span> <span style=\"background-color:rgba(135,206,250,tensor(0.0068, device='cuda:0', grad_fn=<DivBackward0>));\">peach</span> <span style=\"background-color:rgba(135,206,250,tensor(0.0070, device='cuda:0', grad_fn=<DivBackward0>));\">and</span> <span style=\"background-color:rgba(135,206,250,tensor(0.0027, device='cuda:0', grad_fn=<DivBackward0>));\">honeydew</span> <span style=\"background-color:rgba(135,206,250,tensor(0.0122, device='cuda:0', grad_fn=<DivBackward0>));\">melon</span> <span style=\"background-color:rgba(135,206,250,tensor(0.0098, device='cuda:0', grad_fn=<DivBackward0>));\">flavors</span> <span style=\"background-color:rgba(135,206,250,tensor(0.0050, device='cuda:0', grad_fn=<DivBackward0>));\">this</span> <span style=\"background-color:rgba(135,206,250,tensor(0.0094, device='cuda:0', grad_fn=<DivBackward0>));\">dry</span> <span style=\"background-color:rgba(135,206,250,tensor(0.0111, device='cuda:0', grad_fn=<DivBackward0>));\">riesling</span> <span style=\"background-color:rgba(135,206,250,tensor(0.0074, device='cuda:0', grad_fn=<DivBackward0>));\">.</span> <span style=\"background-color:rgba(135,206,250,tensor(0.0115, device='cuda:0', grad_fn=<DivBackward0>));\">the</span> <span style=\"background-color:rgba(135,206,250,tensor(1.1084e-06, device='cuda:0', grad_fn=<DivBackward0>));\">palate</span> <span style=\"background-color:rgba(135,206,250,tensor(0.0074, device='cuda:0', grad_fn=<DivBackward0>));\">is</span> <span style=\"background-color:rgba(135,206,250,tensor(5.3081e-06, device='cuda:0', grad_fn=<DivBackward0>));\">full</span> <span style=\"background-color:rgba(135,206,250,tensor(0.0205, device='cuda:0', grad_fn=<DivBackward0>));\">of</span> <span style=\"background-color:rgba(135,206,250,tensor(0.0116, device='cuda:0', grad_fn=<DivBackward0>));\">the</span> <span style=\"background-color:rgba(135,206,250,tensor(0.0121, device='cuda:0', grad_fn=<DivBackward0>));\">mouth</span> <span style=\"background-color:rgba(135,206,250,tensor(0.0162, device='cuda:0', grad_fn=<DivBackward0>));\">,</span> <span style=\"background-color:rgba(135,206,250,tensor(7.8271e-06, device='cuda:0', grad_fn=<DivBackward0>));\">with</span> <span style=\"background-color:rgba(135,206,250,tensor(0.0294, device='cuda:0', grad_fn=<DivBackward0>));\">a</span> <span style=\"background-color:rgba(135,206,250,tensor(0.0036, device='cuda:0', grad_fn=<DivBackward0>));\">hint</span> <span style=\"background-color:rgba(135,206,250,tensor(0.0137, device='cuda:0', grad_fn=<DivBackward0>));\">of</span> <span style=\"background-color:rgba(135,206,250,tensor(0.0043, device='cuda:0', grad_fn=<DivBackward0>));\">tangerine</span> <span style=\"background-color:rgba(135,206,250,tensor(0.0188, device='cuda:0', grad_fn=<DivBackward0>));\">acidity</span> <span style=\"background-color:rgba(135,206,250,tensor(0.0077, device='cuda:0', grad_fn=<DivBackward0>));\">and</span> <span style=\"background-color:rgba(135,206,250,tensor(0.0349, device='cuda:0', grad_fn=<DivBackward0>));\">a</span> <span style=\"background-color:rgba(135,206,250,tensor(0.0172, device='cuda:0', grad_fn=<DivBackward0>));\">lingering</span> <span style=\"background-color:rgba(135,206,250,tensor(0.0138, device='cuda:0', grad_fn=<DivBackward0>));\">mineral</span> <span style=\"background-color:rgba(135,206,250,tensor(0.0361, device='cuda:0', grad_fn=<DivBackward0>));\">finish</span> <span style=\"background-color:rgba(135,206,250,tensor(0.0066, device='cuda:0', grad_fn=<DivBackward0>));\">.</span> <span style=\"background-color:rgba(135,206,250,tensor(0.0057, device='cuda:0', grad_fn=<DivBackward0>));\">it</span> <span style=\"background-color:rgba(135,206,250,tensor(0.0132, device='cuda:0', grad_fn=<DivBackward0>));\">'</span> <span style=\"background-color:rgba(135,206,250,tensor(0.0046, device='cuda:0', grad_fn=<DivBackward0>));\">s</span> <span style=\"background-color:rgba(135,206,250,tensor(0.0346, device='cuda:0', grad_fn=<DivBackward0>));\">a</span> <span style=\"background-color:rgba(135,206,250,tensor(8.7363e-05, device='cuda:0', grad_fn=<DivBackward0>));\">bit</span> <span style=\"background-color:rgba(135,206,250,tensor(0.0107, device='cuda:0', grad_fn=<DivBackward0>));\">confected</span> <span style=\"background-color:rgba(135,206,250,tensor(0.0081, device='cuda:0', grad_fn=<DivBackward0>));\">and</span> <span style=\"background-color:rgba(135,206,250,tensor(0.0214, device='cuda:0', grad_fn=<DivBackward0>));\">straightforward</span> <span style=\"background-color:rgba(135,206,250,tensor(0.0260, device='cuda:0', grad_fn=<DivBackward0>));\">,</span> <span style=\"background-color:rgba(135,206,250,tensor(0.0098, device='cuda:0', grad_fn=<DivBackward0>));\">with</span> <span style=\"background-color:rgba(135,206,250,tensor(0.0653, device='cuda:0', grad_fn=<DivBackward0>));\">a</span> <span style=\"background-color:rgba(135,206,250,tensor(0.0287, device='cuda:0', grad_fn=<DivBackward0>));\">touch</span> <span style=\"background-color:rgba(135,206,250,tensor(0.0003, device='cuda:0', grad_fn=<DivBackward0>));\">of</span> <span style=\"background-color:rgba(135,206,250,tensor(0.0463, device='cuda:0', grad_fn=<DivBackward0>));\">acidity</span> <span style=\"background-color:rgba(135,206,250,tensor(0.0180, device='cuda:0', grad_fn=<DivBackward0>));\">.</span> <span style=\"background-color:rgba(135,206,250,tensor(0.0950, device='cuda:0', grad_fn=<DivBackward0>));\"><PAD></span> <span style=\"background-color:rgba(135,206,250,tensor(0.1094, device='cuda:0', grad_fn=<DivBackward0>));\"><PAD></span> <span style=\"background-color:rgba(135,206,250,tensor(0.1229, device='cuda:0', grad_fn=<DivBackward0>));\"><PAD></span> <span style=\"background-color:rgba(135,206,250,tensor(0.1392, device='cuda:0', grad_fn=<DivBackward0>));\"><PAD></span> <span style=\"background-color:rgba(135,206,250,tensor(0.1766, device='cuda:0', grad_fn=<DivBackward0>));\"><PAD></span> <span style=\"background-color:rgba(135,206,250,tensor(0.2825, device='cuda:0', grad_fn=<DivBackward0>));\"><PAD></span> <span style=\"background-color:rgba(135,206,250,tensor(0.5213, device='cuda:0', grad_fn=<DivBackward0>));\"><PAD></span> <span style=\"background-color:rgba(135,206,250,tensor(0.8580, device='cuda:0', grad_fn=<DivBackward0>));\"><PAD></span>"
      ],
      "text/plain": [
       "<IPython.core.display.HTML object>"
      ]
     },
     "metadata": {},
     "output_type": "display_data"
    },
    {
     "name": "stdout",
     "output_type": "stream",
     "text": [
      "<PAD>:   \t100.0%\n",
      ".:   \t0.0%\n",
      "<UNK>:   \t0.0%\n",
      "owner:   \t0.0%\n",
      "s:   \t0.0%\n",
      "--------\n",
      "\n"
     ]
    },
    {
     "data": {
      "text/html": [
       "<span style=\"background-color:rgba(135,206,250,tensor(0.0463, device='cuda:0', grad_fn=<DivBackward0>));\">wine</span> <span style=\"background-color:rgba(135,206,250,tensor(1., device='cuda:0', grad_fn=<DivBackward0>));\">review</span> <span style=\"background-color:rgba(135,206,250,tensor(0.1365, device='cuda:0', grad_fn=<DivBackward0>));\">:</span> <span style=\"background-color:rgba(135,206,250,tensor(0.1159, device='cuda:0', grad_fn=<DivBackward0>));\">germany</span> <span style=\"background-color:rgba(135,206,250,tensor(0.1084, device='cuda:0', grad_fn=<DivBackward0>));\">:</span> <span style=\"background-color:rgba(135,206,250,tensor(0.0400, device='cuda:0', grad_fn=<DivBackward0>));\">mosel</span> <span style=\"background-color:rgba(135,206,250,tensor(0.0390, device='cuda:0', grad_fn=<DivBackward0>));\">:</span> <span style=\"background-color:rgba(135,206,250,tensor(0.0627, device='cuda:0', grad_fn=<DivBackward0>));\">riesling</span> <span style=\"background-color:rgba(135,206,250,tensor(0.0340, device='cuda:0', grad_fn=<DivBackward0>));\">:</span> <span style=\"background-color:rgba(135,206,250,tensor(0.0117, device='cuda:0', grad_fn=<DivBackward0>));\">pristine</span> <span style=\"background-color:rgba(135,206,250,tensor(0.0369, device='cuda:0', grad_fn=<DivBackward0>));\">aromas</span> <span style=\"background-color:rgba(135,206,250,tensor(0.0260, device='cuda:0', grad_fn=<DivBackward0>));\">of</span> <span style=\"background-color:rgba(135,206,250,tensor(0.0136, device='cuda:0', grad_fn=<DivBackward0>));\">freshly</span> <span style=\"background-color:rgba(135,206,250,tensor(0.0022, device='cuda:0', grad_fn=<DivBackward0>));\">pressed</span> <span style=\"background-color:rgba(135,206,250,tensor(0.0130, device='cuda:0', grad_fn=<DivBackward0>));\">yellow</span> <span style=\"background-color:rgba(135,206,250,tensor(0.0081, device='cuda:0', grad_fn=<DivBackward0>));\">flowers</span> <span style=\"background-color:rgba(135,206,250,tensor(0.0094, device='cuda:0', grad_fn=<DivBackward0>));\">and</span> <span style=\"background-color:rgba(135,206,250,tensor(0.0076, device='cuda:0', grad_fn=<DivBackward0>));\">white</span> <span style=\"background-color:rgba(135,206,250,tensor(0.0084, device='cuda:0', grad_fn=<DivBackward0>));\">peach</span> <span style=\"background-color:rgba(135,206,250,tensor(0.0077, device='cuda:0', grad_fn=<DivBackward0>));\">and</span> <span style=\"background-color:rgba(135,206,250,tensor(0., device='cuda:0', grad_fn=<DivBackward0>));\">honeydew</span> <span style=\"background-color:rgba(135,206,250,tensor(0.0154, device='cuda:0', grad_fn=<DivBackward0>));\">melon</span> <span style=\"background-color:rgba(135,206,250,tensor(0., device='cuda:0', grad_fn=<DivBackward0>));\">flavors</span> <span style=\"background-color:rgba(135,206,250,tensor(0.0059, device='cuda:0', grad_fn=<DivBackward0>));\">this</span> <span style=\"background-color:rgba(135,206,250,tensor(0.0115, device='cuda:0', grad_fn=<DivBackward0>));\">dry</span> <span style=\"background-color:rgba(135,206,250,tensor(0.0132, device='cuda:0', grad_fn=<DivBackward0>));\">riesling</span> <span style=\"background-color:rgba(135,206,250,tensor(7.1933e-06, device='cuda:0', grad_fn=<DivBackward0>));\">.</span> <span style=\"background-color:rgba(135,206,250,tensor(0.0125, device='cuda:0', grad_fn=<DivBackward0>));\">the</span> <span style=\"background-color:rgba(135,206,250,tensor(0.0169, device='cuda:0', grad_fn=<DivBackward0>));\">palate</span> <span style=\"background-color:rgba(135,206,250,tensor(0.0079, device='cuda:0', grad_fn=<DivBackward0>));\">is</span> <span style=\"background-color:rgba(135,206,250,tensor(0.0174, device='cuda:0', grad_fn=<DivBackward0>));\">full</span> <span style=\"background-color:rgba(135,206,250,tensor(0.0236, device='cuda:0', grad_fn=<DivBackward0>));\">of</span> <span style=\"background-color:rgba(135,206,250,tensor(0.0126, device='cuda:0', grad_fn=<DivBackward0>));\">the</span> <span style=\"background-color:rgba(135,206,250,tensor(0.0145, device='cuda:0', grad_fn=<DivBackward0>));\">mouth</span> <span style=\"background-color:rgba(135,206,250,tensor(0.0175, device='cuda:0', grad_fn=<DivBackward0>));\">,</span> <span style=\"background-color:rgba(135,206,250,tensor(0.0053, device='cuda:0', grad_fn=<DivBackward0>));\">with</span> <span style=\"background-color:rgba(135,206,250,tensor(0.0351, device='cuda:0', grad_fn=<DivBackward0>));\">a</span> <span style=\"background-color:rgba(135,206,250,tensor(0.0040, device='cuda:0', grad_fn=<DivBackward0>));\">hint</span> <span style=\"background-color:rgba(135,206,250,tensor(0.0158, device='cuda:0', grad_fn=<DivBackward0>));\">of</span> <span style=\"background-color:rgba(135,206,250,tensor(0.0052, device='cuda:0', grad_fn=<DivBackward0>));\">tangerine</span> <span style=\"background-color:rgba(135,206,250,tensor(0.0225, device='cuda:0', grad_fn=<DivBackward0>));\">acidity</span> <span style=\"background-color:rgba(135,206,250,tensor(0.0085, device='cuda:0', grad_fn=<DivBackward0>));\">and</span> <span style=\"background-color:rgba(135,206,250,tensor(0.0416, device='cuda:0', grad_fn=<DivBackward0>));\">a</span> <span style=\"background-color:rgba(135,206,250,tensor(0.0212, device='cuda:0', grad_fn=<DivBackward0>));\">lingering</span> <span style=\"background-color:rgba(135,206,250,tensor(0.0152, device='cuda:0', grad_fn=<DivBackward0>));\">mineral</span> <span style=\"background-color:rgba(135,206,250,tensor(0., device='cuda:0', grad_fn=<DivBackward0>));\">finish</span> <span style=\"background-color:rgba(135,206,250,tensor(0.0075, device='cuda:0', grad_fn=<DivBackward0>));\">.</span> <span style=\"background-color:rgba(135,206,250,tensor(7.2222e-05, device='cuda:0', grad_fn=<DivBackward0>));\">it</span> <span style=\"background-color:rgba(135,206,250,tensor(0.0138, device='cuda:0', grad_fn=<DivBackward0>));\">'</span> <span style=\"background-color:rgba(135,206,250,tensor(0.0052, device='cuda:0', grad_fn=<DivBackward0>));\">s</span> <span style=\"background-color:rgba(135,206,250,tensor(0.0397, device='cuda:0', grad_fn=<DivBackward0>));\">a</span> <span style=\"background-color:rgba(135,206,250,tensor(0.0098, device='cuda:0', grad_fn=<DivBackward0>));\">bit</span> <span style=\"background-color:rgba(135,206,250,tensor(0.0109, device='cuda:0', grad_fn=<DivBackward0>));\">confected</span> <span style=\"background-color:rgba(135,206,250,tensor(0.0086, device='cuda:0', grad_fn=<DivBackward0>));\">and</span> <span style=\"background-color:rgba(135,206,250,tensor(0.0240, device='cuda:0', grad_fn=<DivBackward0>));\">straightforward</span> <span style=\"background-color:rgba(135,206,250,tensor(0.0270, device='cuda:0', grad_fn=<DivBackward0>));\">,</span> <span style=\"background-color:rgba(135,206,250,tensor(0.0102, device='cuda:0', grad_fn=<DivBackward0>));\">with</span> <span style=\"background-color:rgba(135,206,250,tensor(8.8774e-05, device='cuda:0', grad_fn=<DivBackward0>));\">a</span> <span style=\"background-color:rgba(135,206,250,tensor(0.0330, device='cuda:0', grad_fn=<DivBackward0>));\">touch</span> <span style=\"background-color:rgba(135,206,250,tensor(0.0350, device='cuda:0', grad_fn=<DivBackward0>));\">of</span> <span style=\"background-color:rgba(135,206,250,tensor(0.0533, device='cuda:0', grad_fn=<DivBackward0>));\">acidity</span> <span style=\"background-color:rgba(135,206,250,tensor(0.0198, device='cuda:0', grad_fn=<DivBackward0>));\">.</span> <span style=\"background-color:rgba(135,206,250,tensor(0.0983, device='cuda:0', grad_fn=<DivBackward0>));\"><PAD></span> <span style=\"background-color:rgba(135,206,250,tensor(0.1131, device='cuda:0', grad_fn=<DivBackward0>));\"><PAD></span> <span style=\"background-color:rgba(135,206,250,tensor(0.1258, device='cuda:0', grad_fn=<DivBackward0>));\"><PAD></span> <span style=\"background-color:rgba(135,206,250,tensor(0.0297, device='cuda:0', grad_fn=<DivBackward0>));\"><PAD></span> <span style=\"background-color:rgba(135,206,250,tensor(0.1594, device='cuda:0', grad_fn=<DivBackward0>));\"><PAD></span> <span style=\"background-color:rgba(135,206,250,tensor(0.2233, device='cuda:0', grad_fn=<DivBackward0>));\"><PAD></span> <span style=\"background-color:rgba(135,206,250,tensor(0., device='cuda:0', grad_fn=<DivBackward0>));\"><PAD></span> <span style=\"background-color:rgba(135,206,250,tensor(0.6807, device='cuda:0', grad_fn=<DivBackward0>));\"><PAD></span> <span style=\"background-color:rgba(135,206,250,tensor(0., device='cuda:0', grad_fn=<DivBackward0>));\"><PAD></span>"
      ],
      "text/plain": [
       "<IPython.core.display.HTML object>"
      ]
     },
     "metadata": {},
     "output_type": "display_data"
    },
    {
     "name": "stdout",
     "output_type": "stream",
     "text": [
      "<PAD>:   \t100.0%\n",
      "<UNK>:   \t0.0%\n",
      "drink:   \t0.0%\n",
      "hold:   \t0.0%\n",
      "enjoy:   \t0.0%\n",
      "--------\n",
      "\n"
     ]
    },
    {
     "data": {
      "text/html": [
       "<span style=\"background-color:rgba(135,206,250,tensor(0.0471, device='cuda:0', grad_fn=<DivBackward0>));\">wine</span> <span style=\"background-color:rgba(135,206,250,tensor(1., device='cuda:0', grad_fn=<DivBackward0>));\">review</span> <span style=\"background-color:rgba(135,206,250,tensor(0.1252, device='cuda:0', grad_fn=<DivBackward0>));\">:</span> <span style=\"background-color:rgba(135,206,250,tensor(0.1181, device='cuda:0', grad_fn=<DivBackward0>));\">germany</span> <span style=\"background-color:rgba(135,206,250,tensor(0.0997, device='cuda:0', grad_fn=<DivBackward0>));\">:</span> <span style=\"background-color:rgba(135,206,250,tensor(0.0383, device='cuda:0', grad_fn=<DivBackward0>));\">mosel</span> <span style=\"background-color:rgba(135,206,250,tensor(0.0640, device='cuda:0', grad_fn=<DivBackward0>));\">:</span> <span style=\"background-color:rgba(135,206,250,tensor(0.0636, device='cuda:0', grad_fn=<DivBackward0>));\">riesling</span> <span style=\"background-color:rgba(135,206,250,tensor(0.0198, device='cuda:0', grad_fn=<DivBackward0>));\">:</span> <span style=\"background-color:rgba(135,206,250,tensor(0.0132, device='cuda:0', grad_fn=<DivBackward0>));\">pristine</span> <span style=\"background-color:rgba(135,206,250,tensor(0.0362, device='cuda:0', grad_fn=<DivBackward0>));\">aromas</span> <span style=\"background-color:rgba(135,206,250,tensor(0.0258, device='cuda:0', grad_fn=<DivBackward0>));\">of</span> <span style=\"background-color:rgba(135,206,250,tensor(0.0129, device='cuda:0', grad_fn=<DivBackward0>));\">freshly</span> <span style=\"background-color:rgba(135,206,250,tensor(0.0023, device='cuda:0', grad_fn=<DivBackward0>));\">pressed</span> <span style=\"background-color:rgba(135,206,250,tensor(0.0003, device='cuda:0', grad_fn=<DivBackward0>));\">yellow</span> <span style=\"background-color:rgba(135,206,250,tensor(0.0078, device='cuda:0', grad_fn=<DivBackward0>));\">flowers</span> <span style=\"background-color:rgba(135,206,250,tensor(0.0085, device='cuda:0', grad_fn=<DivBackward0>));\">and</span> <span style=\"background-color:rgba(135,206,250,tensor(0.0067, device='cuda:0', grad_fn=<DivBackward0>));\">white</span> <span style=\"background-color:rgba(135,206,250,tensor(1.7558e-05, device='cuda:0', grad_fn=<DivBackward0>));\">peach</span> <span style=\"background-color:rgba(135,206,250,tensor(0.0070, device='cuda:0', grad_fn=<DivBackward0>));\">and</span> <span style=\"background-color:rgba(135,206,250,tensor(0.0035, device='cuda:0', grad_fn=<DivBackward0>));\">honeydew</span> <span style=\"background-color:rgba(135,206,250,tensor(0.0152, device='cuda:0', grad_fn=<DivBackward0>));\">melon</span> <span style=\"background-color:rgba(135,206,250,tensor(0.0106, device='cuda:0', grad_fn=<DivBackward0>));\">flavors</span> <span style=\"background-color:rgba(135,206,250,tensor(0.0052, device='cuda:0', grad_fn=<DivBackward0>));\">this</span> <span style=\"background-color:rgba(135,206,250,tensor(0.0113, device='cuda:0', grad_fn=<DivBackward0>));\">dry</span> <span style=\"background-color:rgba(135,206,250,tensor(0.0125, device='cuda:0', grad_fn=<DivBackward0>));\">riesling</span> <span style=\"background-color:rgba(135,206,250,tensor(0.0079, device='cuda:0', grad_fn=<DivBackward0>));\">.</span> <span style=\"background-color:rgba(135,206,250,tensor(4.9733e-06, device='cuda:0', grad_fn=<DivBackward0>));\">the</span> <span style=\"background-color:rgba(135,206,250,tensor(0.0159, device='cuda:0', grad_fn=<DivBackward0>));\">palate</span> <span style=\"background-color:rgba(135,206,250,tensor(0.0066, device='cuda:0', grad_fn=<DivBackward0>));\">is</span> <span style=\"background-color:rgba(135,206,250,tensor(4.8112e-06, device='cuda:0', grad_fn=<DivBackward0>));\">full</span> <span style=\"background-color:rgba(135,206,250,tensor(0.0223, device='cuda:0', grad_fn=<DivBackward0>));\">of</span> <span style=\"background-color:rgba(135,206,250,tensor(0.0115, device='cuda:0', grad_fn=<DivBackward0>));\">the</span> <span style=\"background-color:rgba(135,206,250,tensor(0.0136, device='cuda:0', grad_fn=<DivBackward0>));\">mouth</span> <span style=\"background-color:rgba(135,206,250,tensor(0.0156, device='cuda:0', grad_fn=<DivBackward0>));\">,</span> <span style=\"background-color:rgba(135,206,250,tensor(0.0048, device='cuda:0', grad_fn=<DivBackward0>));\">with</span> <span style=\"background-color:rgba(135,206,250,tensor(0.0322, device='cuda:0', grad_fn=<DivBackward0>));\">a</span> <span style=\"background-color:rgba(135,206,250,tensor(0.0035, device='cuda:0', grad_fn=<DivBackward0>));\">hint</span> <span style=\"background-color:rgba(135,206,250,tensor(1.5315e-05, device='cuda:0', grad_fn=<DivBackward0>));\">of</span> <span style=\"background-color:rgba(135,206,250,tensor(0.0048, device='cuda:0', grad_fn=<DivBackward0>));\">tangerine</span> <span style=\"background-color:rgba(135,206,250,tensor(0.0206, device='cuda:0', grad_fn=<DivBackward0>));\">acidity</span> <span style=\"background-color:rgba(135,206,250,tensor(0.0073, device='cuda:0', grad_fn=<DivBackward0>));\">and</span> <span style=\"background-color:rgba(135,206,250,tensor(0.0368, device='cuda:0', grad_fn=<DivBackward0>));\">a</span> <span style=\"background-color:rgba(135,206,250,tensor(0.0202, device='cuda:0', grad_fn=<DivBackward0>));\">lingering</span> <span style=\"background-color:rgba(135,206,250,tensor(0.0132, device='cuda:0', grad_fn=<DivBackward0>));\">mineral</span> <span style=\"background-color:rgba(135,206,250,tensor(0.0362, device='cuda:0', grad_fn=<DivBackward0>));\">finish</span> <span style=\"background-color:rgba(135,206,250,tensor(0.0066, device='cuda:0', grad_fn=<DivBackward0>));\">.</span> <span style=\"background-color:rgba(135,206,250,tensor(0.0052, device='cuda:0', grad_fn=<DivBackward0>));\">it</span> <span style=\"background-color:rgba(135,206,250,tensor(0.0101, device='cuda:0', grad_fn=<DivBackward0>));\">'</span> <span style=\"background-color:rgba(135,206,250,tensor(0.0051, device='cuda:0', grad_fn=<DivBackward0>));\">s</span> <span style=\"background-color:rgba(135,206,250,tensor(0.0347, device='cuda:0', grad_fn=<DivBackward0>));\">a</span> <span style=\"background-color:rgba(135,206,250,tensor(0.0089, device='cuda:0', grad_fn=<DivBackward0>));\">bit</span> <span style=\"background-color:rgba(135,206,250,tensor(0.0089, device='cuda:0', grad_fn=<DivBackward0>));\">confected</span> <span style=\"background-color:rgba(135,206,250,tensor(0.0071, device='cuda:0', grad_fn=<DivBackward0>));\">and</span> <span style=\"background-color:rgba(135,206,250,tensor(0.0201, device='cuda:0', grad_fn=<DivBackward0>));\">straightforward</span> <span style=\"background-color:rgba(135,206,250,tensor(0.0227, device='cuda:0', grad_fn=<DivBackward0>));\">,</span> <span style=\"background-color:rgba(135,206,250,tensor(0.0089, device='cuda:0', grad_fn=<DivBackward0>));\">with</span> <span style=\"background-color:rgba(135,206,250,tensor(0.0635, device='cuda:0', grad_fn=<DivBackward0>));\">a</span> <span style=\"background-color:rgba(135,206,250,tensor(0.0294, device='cuda:0', grad_fn=<DivBackward0>));\">touch</span> <span style=\"background-color:rgba(135,206,250,tensor(0.0306, device='cuda:0', grad_fn=<DivBackward0>));\">of</span> <span style=\"background-color:rgba(135,206,250,tensor(0.0460, device='cuda:0', grad_fn=<DivBackward0>));\">acidity</span> <span style=\"background-color:rgba(135,206,250,tensor(0.0171, device='cuda:0', grad_fn=<DivBackward0>));\">.</span> <span style=\"background-color:rgba(135,206,250,tensor(0.0779, device='cuda:0', grad_fn=<DivBackward0>));\"><PAD></span> <span style=\"background-color:rgba(135,206,250,tensor(0.0897, device='cuda:0', grad_fn=<DivBackward0>));\"><PAD></span> <span style=\"background-color:rgba(135,206,250,tensor(0.0995, device='cuda:0', grad_fn=<DivBackward0>));\"><PAD></span> <span style=\"background-color:rgba(135,206,250,tensor(0.1075, device='cuda:0', grad_fn=<DivBackward0>));\"><PAD></span> <span style=\"background-color:rgba(135,206,250,tensor(0.1196, device='cuda:0', grad_fn=<DivBackward0>));\"><PAD></span> <span style=\"background-color:rgba(135,206,250,tensor(0.1518, device='cuda:0', grad_fn=<DivBackward0>));\"><PAD></span> <span style=\"background-color:rgba(135,206,250,tensor(0.2351, device='cuda:0', grad_fn=<DivBackward0>));\"><PAD></span> <span style=\"background-color:rgba(135,206,250,tensor(0.3970, device='cuda:0', grad_fn=<DivBackward0>));\"><PAD></span> <span style=\"background-color:rgba(135,206,250,tensor(0.5953, device='cuda:0', grad_fn=<DivBackward0>));\"><PAD></span> <span style=\"background-color:rgba(135,206,250,tensor(0.7220, device='cuda:0', grad_fn=<DivBackward0>));\"><PAD></span>"
      ],
      "text/plain": [
       "<IPython.core.display.HTML object>"
      ]
     },
     "metadata": {},
     "output_type": "display_data"
    },
    {
     "name": "stdout",
     "output_type": "stream",
     "text": [
      "<PAD>:   \t100.0%\n",
      ".:   \t0.0%\n",
      "<UNK>:   \t0.0%\n",
      "drink:   \t0.0%\n",
      ",:   \t0.0%\n",
      "--------\n",
      "\n"
     ]
    },
    {
     "data": {
      "text/html": [
       "<span style=\"background-color:rgba(135,206,250,tensor(0.0471, device='cuda:0', grad_fn=<DivBackward0>));\">wine</span> <span style=\"background-color:rgba(135,206,250,tensor(1., device='cuda:0', grad_fn=<DivBackward0>));\">review</span> <span style=\"background-color:rgba(135,206,250,tensor(0.1058, device='cuda:0', grad_fn=<DivBackward0>));\">:</span> <span style=\"background-color:rgba(135,206,250,tensor(0.0971, device='cuda:0', grad_fn=<DivBackward0>));\">germany</span> <span style=\"background-color:rgba(135,206,250,tensor(0.0337, device='cuda:0', grad_fn=<DivBackward0>));\">:</span> <span style=\"background-color:rgba(135,206,250,tensor(0.0305, device='cuda:0', grad_fn=<DivBackward0>));\">mosel</span> <span style=\"background-color:rgba(135,206,250,tensor(0.0521, device='cuda:0', grad_fn=<DivBackward0>));\">:</span> <span style=\"background-color:rgba(135,206,250,tensor(0.0456, device='cuda:0', grad_fn=<DivBackward0>));\">riesling</span> <span style=\"background-color:rgba(135,206,250,tensor(0.0255, device='cuda:0', grad_fn=<DivBackward0>));\">:</span> <span style=\"background-color:rgba(135,206,250,tensor(0.0009, device='cuda:0', grad_fn=<DivBackward0>));\">pristine</span> <span style=\"background-color:rgba(135,206,250,tensor(0.0284, device='cuda:0', grad_fn=<DivBackward0>));\">aromas</span> <span style=\"background-color:rgba(135,206,250,tensor(0.0216, device='cuda:0', grad_fn=<DivBackward0>));\">of</span> <span style=\"background-color:rgba(135,206,250,tensor(0.0111, device='cuda:0', grad_fn=<DivBackward0>));\">freshly</span> <span style=\"background-color:rgba(135,206,250,tensor(0.0021, device='cuda:0', grad_fn=<DivBackward0>));\">pressed</span> <span style=\"background-color:rgba(135,206,250,tensor(0.0112, device='cuda:0', grad_fn=<DivBackward0>));\">yellow</span> <span style=\"background-color:rgba(135,206,250,tensor(0.0057, device='cuda:0', grad_fn=<DivBackward0>));\">flowers</span> <span style=\"background-color:rgba(135,206,250,tensor(0.0064, device='cuda:0', grad_fn=<DivBackward0>));\">and</span> <span style=\"background-color:rgba(135,206,250,tensor(0.0049, device='cuda:0', grad_fn=<DivBackward0>));\">white</span> <span style=\"background-color:rgba(135,206,250,tensor(0.0065, device='cuda:0', grad_fn=<DivBackward0>));\">peach</span> <span style=\"background-color:rgba(135,206,250,tensor(0.0053, device='cuda:0', grad_fn=<DivBackward0>));\">and</span> <span style=\"background-color:rgba(135,206,250,tensor(0.0026, device='cuda:0', grad_fn=<DivBackward0>));\">honeydew</span> <span style=\"background-color:rgba(135,206,250,tensor(0.0117, device='cuda:0', grad_fn=<DivBackward0>));\">melon</span> <span style=\"background-color:rgba(135,206,250,tensor(0.0078, device='cuda:0', grad_fn=<DivBackward0>));\">flavors</span> <span style=\"background-color:rgba(135,206,250,tensor(0.0037, device='cuda:0', grad_fn=<DivBackward0>));\">this</span> <span style=\"background-color:rgba(135,206,250,tensor(0.0089, device='cuda:0', grad_fn=<DivBackward0>));\">dry</span> <span style=\"background-color:rgba(135,206,250,tensor(0.0097, device='cuda:0', grad_fn=<DivBackward0>));\">riesling</span> <span style=\"background-color:rgba(135,206,250,tensor(0.0059, device='cuda:0', grad_fn=<DivBackward0>));\">.</span> <span style=\"background-color:rgba(135,206,250,tensor(0.0086, device='cuda:0', grad_fn=<DivBackward0>));\">the</span> <span style=\"background-color:rgba(135,206,250,tensor(0.0115, device='cuda:0', grad_fn=<DivBackward0>));\">palate</span> <span style=\"background-color:rgba(135,206,250,tensor(0.0046, device='cuda:0', grad_fn=<DivBackward0>));\">is</span> <span style=\"background-color:rgba(135,206,250,tensor(0.0128, device='cuda:0', grad_fn=<DivBackward0>));\">full</span> <span style=\"background-color:rgba(135,206,250,tensor(0.0177, device='cuda:0', grad_fn=<DivBackward0>));\">of</span> <span style=\"background-color:rgba(135,206,250,tensor(0.0090, device='cuda:0', grad_fn=<DivBackward0>));\">the</span> <span style=\"background-color:rgba(135,206,250,tensor(0.0098, device='cuda:0', grad_fn=<DivBackward0>));\">mouth</span> <span style=\"background-color:rgba(135,206,250,tensor(0.0117, device='cuda:0', grad_fn=<DivBackward0>));\">,</span> <span style=\"background-color:rgba(135,206,250,tensor(0.0037, device='cuda:0', grad_fn=<DivBackward0>));\">with</span> <span style=\"background-color:rgba(135,206,250,tensor(0.0230, device='cuda:0', grad_fn=<DivBackward0>));\">a</span> <span style=\"background-color:rgba(135,206,250,tensor(0.0025, device='cuda:0', grad_fn=<DivBackward0>));\">hint</span> <span style=\"background-color:rgba(135,206,250,tensor(0.0116, device='cuda:0', grad_fn=<DivBackward0>));\">of</span> <span style=\"background-color:rgba(135,206,250,tensor(0.0033, device='cuda:0', grad_fn=<DivBackward0>));\">tangerine</span> <span style=\"background-color:rgba(135,206,250,tensor(0.0146, device='cuda:0', grad_fn=<DivBackward0>));\">acidity</span> <span style=\"background-color:rgba(135,206,250,tensor(0.0051, device='cuda:0', grad_fn=<DivBackward0>));\">and</span> <span style=\"background-color:rgba(135,206,250,tensor(0.0249, device='cuda:0', grad_fn=<DivBackward0>));\">a</span> <span style=\"background-color:rgba(135,206,250,tensor(0.0146, device='cuda:0', grad_fn=<DivBackward0>));\">lingering</span> <span style=\"background-color:rgba(135,206,250,tensor(0.0091, device='cuda:0', grad_fn=<DivBackward0>));\">mineral</span> <span style=\"background-color:rgba(135,206,250,tensor(0.0225, device='cuda:0', grad_fn=<DivBackward0>));\">finish</span> <span style=\"background-color:rgba(135,206,250,tensor(0.0045, device='cuda:0', grad_fn=<DivBackward0>));\">.</span> <span style=\"background-color:rgba(135,206,250,tensor(0.0036, device='cuda:0', grad_fn=<DivBackward0>));\">it</span> <span style=\"background-color:rgba(135,206,250,tensor(0.0059, device='cuda:0', grad_fn=<DivBackward0>));\">'</span> <span style=\"background-color:rgba(135,206,250,tensor(0.0041, device='cuda:0', grad_fn=<DivBackward0>));\">s</span> <span style=\"background-color:rgba(135,206,250,tensor(0.0236, device='cuda:0', grad_fn=<DivBackward0>));\">a</span> <span style=\"background-color:rgba(135,206,250,tensor(0.0065, device='cuda:0', grad_fn=<DivBackward0>));\">bit</span> <span style=\"background-color:rgba(135,206,250,tensor(0.0062, device='cuda:0', grad_fn=<DivBackward0>));\">confected</span> <span style=\"background-color:rgba(135,206,250,tensor(0.0001, device='cuda:0', grad_fn=<DivBackward0>));\">and</span> <span style=\"background-color:rgba(135,206,250,tensor(0.0129, device='cuda:0', grad_fn=<DivBackward0>));\">straightforward</span> <span style=\"background-color:rgba(135,206,250,tensor(0.0159, device='cuda:0', grad_fn=<DivBackward0>));\">,</span> <span style=\"background-color:rgba(135,206,250,tensor(0.0063, device='cuda:0', grad_fn=<DivBackward0>));\">with</span> <span style=\"background-color:rgba(135,206,250,tensor(0.0417, device='cuda:0', grad_fn=<DivBackward0>));\">a</span> <span style=\"background-color:rgba(135,206,250,tensor(0.0209, device='cuda:0', grad_fn=<DivBackward0>));\">touch</span> <span style=\"background-color:rgba(135,206,250,tensor(0.0216, device='cuda:0', grad_fn=<DivBackward0>));\">of</span> <span style=\"background-color:rgba(135,206,250,tensor(0.0306, device='cuda:0', grad_fn=<DivBackward0>));\">acidity</span> <span style=\"background-color:rgba(135,206,250,tensor(0.0116, device='cuda:0', grad_fn=<DivBackward0>));\">.</span> <span style=\"background-color:rgba(135,206,250,tensor(0.0491, device='cuda:0', grad_fn=<DivBackward0>));\"><PAD></span> <span style=\"background-color:rgba(135,206,250,tensor(0.0569, device='cuda:0', grad_fn=<DivBackward0>));\"><PAD></span> <span style=\"background-color:rgba(135,206,250,tensor(0.0634, device='cuda:0', grad_fn=<DivBackward0>));\"><PAD></span> <span style=\"background-color:rgba(135,206,250,tensor(0.0683, device='cuda:0', grad_fn=<DivBackward0>));\"><PAD></span> <span style=\"background-color:rgba(135,206,250,tensor(0.0592, device='cuda:0', grad_fn=<DivBackward0>));\"><PAD></span> <span style=\"background-color:rgba(135,206,250,tensor(0.0896, device='cuda:0', grad_fn=<DivBackward0>));\"><PAD></span> <span style=\"background-color:rgba(135,206,250,tensor(0.1238, device='cuda:0', grad_fn=<DivBackward0>));\"><PAD></span> <span style=\"background-color:rgba(135,206,250,tensor(0.1879, device='cuda:0', grad_fn=<DivBackward0>));\"><PAD></span> <span style=\"background-color:rgba(135,206,250,tensor(0.2753, device='cuda:0', grad_fn=<DivBackward0>));\"><PAD></span> <span style=\"background-color:rgba(135,206,250,tensor(0.3548, device='cuda:0', grad_fn=<DivBackward0>));\"><PAD></span> <span style=\"background-color:rgba(135,206,250,tensor(0.3990, device='cuda:0', grad_fn=<DivBackward0>));\"><PAD></span>"
      ],
      "text/plain": [
       "<IPython.core.display.HTML object>"
      ]
     },
     "metadata": {},
     "output_type": "display_data"
    },
    {
     "name": "stdout",
     "output_type": "stream",
     "text": [
      "<PAD>:   \t100.0%\n",
      "<UNK>:   \t0.0%\n",
      "s:   \t0.0%\n",
      ".:   \t0.0%\n",
      "drink:   \t0.0%\n",
      "--------\n",
      "\n"
     ]
    },
    {
     "data": {
      "text/html": [
       "<span style=\"background-color:rgba(135,206,250,tensor(0.0438, device='cuda:0', grad_fn=<DivBackward0>));\">wine</span> <span style=\"background-color:rgba(135,206,250,tensor(1., device='cuda:0', grad_fn=<DivBackward0>));\">review</span> <span style=\"background-color:rgba(135,206,250,tensor(0.0917, device='cuda:0', grad_fn=<DivBackward0>));\">:</span> <span style=\"background-color:rgba(135,206,250,tensor(0.0718, device='cuda:0', grad_fn=<DivBackward0>));\">germany</span> <span style=\"background-color:rgba(135,206,250,tensor(0.0686, device='cuda:0', grad_fn=<DivBackward0>));\">:</span> <span style=\"background-color:rgba(135,206,250,tensor(0.0229, device='cuda:0', grad_fn=<DivBackward0>));\">mosel</span> <span style=\"background-color:rgba(135,206,250,tensor(0.0436, device='cuda:0', grad_fn=<DivBackward0>));\">:</span> <span style=\"background-color:rgba(135,206,250,tensor(0.0395, device='cuda:0', grad_fn=<DivBackward0>));\">riesling</span> <span style=\"background-color:rgba(135,206,250,tensor(0.0219, device='cuda:0', grad_fn=<DivBackward0>));\">:</span> <span style=\"background-color:rgba(135,206,250,tensor(0.0085, device='cuda:0', grad_fn=<DivBackward0>));\">pristine</span> <span style=\"background-color:rgba(135,206,250,tensor(0., device='cuda:0', grad_fn=<DivBackward0>));\">aromas</span> <span style=\"background-color:rgba(135,206,250,tensor(0.0172, device='cuda:0', grad_fn=<DivBackward0>));\">of</span> <span style=\"background-color:rgba(135,206,250,tensor(0.0094, device='cuda:0', grad_fn=<DivBackward0>));\">freshly</span> <span style=\"background-color:rgba(135,206,250,tensor(0.0001, device='cuda:0', grad_fn=<DivBackward0>));\">pressed</span> <span style=\"background-color:rgba(135,206,250,tensor(0.0086, device='cuda:0', grad_fn=<DivBackward0>));\">yellow</span> <span style=\"background-color:rgba(135,206,250,tensor(0.0036, device='cuda:0', grad_fn=<DivBackward0>));\">flowers</span> <span style=\"background-color:rgba(135,206,250,tensor(0.0047, device='cuda:0', grad_fn=<DivBackward0>));\">and</span> <span style=\"background-color:rgba(135,206,250,tensor(0.0036, device='cuda:0', grad_fn=<DivBackward0>));\">white</span> <span style=\"background-color:rgba(135,206,250,tensor(0.0046, device='cuda:0', grad_fn=<DivBackward0>));\">peach</span> <span style=\"background-color:rgba(135,206,250,tensor(0.0041, device='cuda:0', grad_fn=<DivBackward0>));\">and</span> <span style=\"background-color:rgba(135,206,250,tensor(0.0018, device='cuda:0', grad_fn=<DivBackward0>));\">honeydew</span> <span style=\"background-color:rgba(135,206,250,tensor(0.0083, device='cuda:0', grad_fn=<DivBackward0>));\">melon</span> <span style=\"background-color:rgba(135,206,250,tensor(0.0055, device='cuda:0', grad_fn=<DivBackward0>));\">flavors</span> <span style=\"background-color:rgba(135,206,250,tensor(0.0027, device='cuda:0', grad_fn=<DivBackward0>));\">this</span> <span style=\"background-color:rgba(135,206,250,tensor(0.0066, device='cuda:0', grad_fn=<DivBackward0>));\">dry</span> <span style=\"background-color:rgba(135,206,250,tensor(0.0070, device='cuda:0', grad_fn=<DivBackward0>));\">riesling</span> <span style=\"background-color:rgba(135,206,250,tensor(0.0042, device='cuda:0', grad_fn=<DivBackward0>));\">.</span> <span style=\"background-color:rgba(135,206,250,tensor(0.0067, device='cuda:0', grad_fn=<DivBackward0>));\">the</span> <span style=\"background-color:rgba(135,206,250,tensor(0.0077, device='cuda:0', grad_fn=<DivBackward0>));\">palate</span> <span style=\"background-color:rgba(135,206,250,tensor(0.0033, device='cuda:0', grad_fn=<DivBackward0>));\">is</span> <span style=\"background-color:rgba(135,206,250,tensor(0.0101, device='cuda:0', grad_fn=<DivBackward0>));\">full</span> <span style=\"background-color:rgba(135,206,250,tensor(0.0135, device='cuda:0', grad_fn=<DivBackward0>));\">of</span> <span style=\"background-color:rgba(135,206,250,tensor(0.0069, device='cuda:0', grad_fn=<DivBackward0>));\">the</span> <span style=\"background-color:rgba(135,206,250,tensor(0.0065, device='cuda:0', grad_fn=<DivBackward0>));\">mouth</span> <span style=\"background-color:rgba(135,206,250,tensor(0.0086, device='cuda:0', grad_fn=<DivBackward0>));\">,</span> <span style=\"background-color:rgba(135,206,250,tensor(0.0027, device='cuda:0', grad_fn=<DivBackward0>));\">with</span> <span style=\"background-color:rgba(135,206,250,tensor(0.0153, device='cuda:0', grad_fn=<DivBackward0>));\">a</span> <span style=\"background-color:rgba(135,206,250,tensor(0.0017, device='cuda:0', grad_fn=<DivBackward0>));\">hint</span> <span style=\"background-color:rgba(135,206,250,tensor(0.0087, device='cuda:0', grad_fn=<DivBackward0>));\">of</span> <span style=\"background-color:rgba(135,206,250,tensor(0.0020, device='cuda:0', grad_fn=<DivBackward0>));\">tangerine</span> <span style=\"background-color:rgba(135,206,250,tensor(0.0097, device='cuda:0', grad_fn=<DivBackward0>));\">acidity</span> <span style=\"background-color:rgba(135,206,250,tensor(0.0035, device='cuda:0', grad_fn=<DivBackward0>));\">and</span> <span style=\"background-color:rgba(135,206,250,tensor(0.0160, device='cuda:0', grad_fn=<DivBackward0>));\">a</span> <span style=\"background-color:rgba(135,206,250,tensor(0.0096, device='cuda:0', grad_fn=<DivBackward0>));\">lingering</span> <span style=\"background-color:rgba(135,206,250,tensor(0.0059, device='cuda:0', grad_fn=<DivBackward0>));\">mineral</span> <span style=\"background-color:rgba(135,206,250,tensor(0.0137, device='cuda:0', grad_fn=<DivBackward0>));\">finish</span> <span style=\"background-color:rgba(135,206,250,tensor(0.0029, device='cuda:0', grad_fn=<DivBackward0>));\">.</span> <span style=\"background-color:rgba(135,206,250,tensor(0.0024, device='cuda:0', grad_fn=<DivBackward0>));\">it</span> <span style=\"background-color:rgba(135,206,250,tensor(0.0035, device='cuda:0', grad_fn=<DivBackward0>));\">'</span> <span style=\"background-color:rgba(135,206,250,tensor(0.0030, device='cuda:0', grad_fn=<DivBackward0>));\">s</span> <span style=\"background-color:rgba(135,206,250,tensor(0.0153, device='cuda:0', grad_fn=<DivBackward0>));\">a</span> <span style=\"background-color:rgba(135,206,250,tensor(0.0044, device='cuda:0', grad_fn=<DivBackward0>));\">bit</span> <span style=\"background-color:rgba(135,206,250,tensor(0.0045, device='cuda:0', grad_fn=<DivBackward0>));\">confected</span> <span style=\"background-color:rgba(135,206,250,tensor(0.0033, device='cuda:0', grad_fn=<DivBackward0>));\">and</span> <span style=\"background-color:rgba(135,206,250,tensor(0.0003, device='cuda:0', grad_fn=<DivBackward0>));\">straightforward</span> <span style=\"background-color:rgba(135,206,250,tensor(0.0110, device='cuda:0', grad_fn=<DivBackward0>));\">,</span> <span style=\"background-color:rgba(135,206,250,tensor(7.6002e-05, device='cuda:0', grad_fn=<DivBackward0>));\">with</span> <span style=\"background-color:rgba(135,206,250,tensor(4.9904e-05, device='cuda:0', grad_fn=<DivBackward0>));\">a</span> <span style=\"background-color:rgba(135,206,250,tensor(0.0137, device='cuda:0', grad_fn=<DivBackward0>));\">touch</span> <span style=\"background-color:rgba(135,206,250,tensor(0.0149, device='cuda:0', grad_fn=<DivBackward0>));\">of</span> <span style=\"background-color:rgba(135,206,250,tensor(0.0192, device='cuda:0', grad_fn=<DivBackward0>));\">acidity</span> <span style=\"background-color:rgba(135,206,250,tensor(0.0075, device='cuda:0', grad_fn=<DivBackward0>));\">.</span> <span style=\"background-color:rgba(135,206,250,tensor(0.0302, device='cuda:0', grad_fn=<DivBackward0>));\"><PAD></span> <span style=\"background-color:rgba(135,206,250,tensor(0.0035, device='cuda:0', grad_fn=<DivBackward0>));\"><PAD></span> <span style=\"background-color:rgba(135,206,250,tensor(0.0399, device='cuda:0', grad_fn=<DivBackward0>));\"><PAD></span> <span style=\"background-color:rgba(135,206,250,tensor(0.0430, device='cuda:0', grad_fn=<DivBackward0>));\"><PAD></span> <span style=\"background-color:rgba(135,206,250,tensor(0.0466, device='cuda:0', grad_fn=<DivBackward0>));\"><PAD></span> <span style=\"background-color:rgba(135,206,250,tensor(0.0536, device='cuda:0', grad_fn=<DivBackward0>));\"><PAD></span> <span style=\"background-color:rgba(135,206,250,tensor(0.0673, device='cuda:0', grad_fn=<DivBackward0>));\"><PAD></span> <span style=\"background-color:rgba(135,206,250,tensor(0.0899, device='cuda:0', grad_fn=<DivBackward0>));\"><PAD></span> <span style=\"background-color:rgba(135,206,250,tensor(0.1203, device='cuda:0', grad_fn=<DivBackward0>));\"><PAD></span> <span style=\"background-color:rgba(135,206,250,tensor(0.1547, device='cuda:0', grad_fn=<DivBackward0>));\"><PAD></span> <span style=\"background-color:rgba(135,206,250,tensor(0.1880, device='cuda:0', grad_fn=<DivBackward0>));\"><PAD></span> <span style=\"background-color:rgba(135,206,250,tensor(0.2137, device='cuda:0', grad_fn=<DivBackward0>));\"><PAD></span>"
      ],
      "text/plain": [
       "<IPython.core.display.HTML object>"
      ]
     },
     "metadata": {},
     "output_type": "display_data"
    },
    {
     "name": "stdout",
     "output_type": "stream",
     "text": [
      "<PAD>:   \t100.0%\n",
      "drink:   \t0.0%\n",
      "<UNK>:   \t0.0%\n",
      ".:   \t0.0%\n",
      "enjoy:   \t0.0%\n",
      "--------\n",
      "\n"
     ]
    },
    {
     "data": {
      "text/html": [
       "<span style=\"background-color:rgba(135,206,250,tensor(0.0811, device='cuda:0', grad_fn=<DivBackward0>));\">wine</span> <span style=\"background-color:rgba(135,206,250,tensor(1., device='cuda:0', grad_fn=<DivBackward0>));\">review</span> <span style=\"background-color:rgba(135,206,250,tensor(0.0883, device='cuda:0', grad_fn=<DivBackward0>));\">:</span> <span style=\"background-color:rgba(135,206,250,tensor(0.0570, device='cuda:0', grad_fn=<DivBackward0>));\">germany</span> <span style=\"background-color:rgba(135,206,250,tensor(0.0649, device='cuda:0', grad_fn=<DivBackward0>));\">:</span> <span style=\"background-color:rgba(135,206,250,tensor(0.0100, device='cuda:0', grad_fn=<DivBackward0>));\">mosel</span> <span style=\"background-color:rgba(135,206,250,tensor(0.0419, device='cuda:0', grad_fn=<DivBackward0>));\">:</span> <span style=\"background-color:rgba(135,206,250,tensor(0.0318, device='cuda:0', grad_fn=<DivBackward0>));\">riesling</span> <span style=\"background-color:rgba(135,206,250,tensor(0.0095, device='cuda:0', grad_fn=<DivBackward0>));\">:</span> <span style=\"background-color:rgba(135,206,250,tensor(0.0067, device='cuda:0', grad_fn=<DivBackward0>));\">pristine</span> <span style=\"background-color:rgba(135,206,250,tensor(0.0159, device='cuda:0', grad_fn=<DivBackward0>));\">aromas</span> <span style=\"background-color:rgba(135,206,250,tensor(0.0146, device='cuda:0', grad_fn=<DivBackward0>));\">of</span> <span style=\"background-color:rgba(135,206,250,tensor(0.0086, device='cuda:0', grad_fn=<DivBackward0>));\">freshly</span> <span style=\"background-color:rgba(135,206,250,tensor(0.0015, device='cuda:0', grad_fn=<DivBackward0>));\">pressed</span> <span style=\"background-color:rgba(135,206,250,tensor(0.0069, device='cuda:0', grad_fn=<DivBackward0>));\">yellow</span> <span style=\"background-color:rgba(135,206,250,tensor(3.9389e-05, device='cuda:0', grad_fn=<DivBackward0>));\">flowers</span> <span style=\"background-color:rgba(135,206,250,tensor(0.0002, device='cuda:0', grad_fn=<DivBackward0>));\">and</span> <span style=\"background-color:rgba(135,206,250,tensor(0.0030, device='cuda:0', grad_fn=<DivBackward0>));\">white</span> <span style=\"background-color:rgba(135,206,250,tensor(0.0036, device='cuda:0', grad_fn=<DivBackward0>));\">peach</span> <span style=\"background-color:rgba(135,206,250,tensor(0.0035, device='cuda:0', grad_fn=<DivBackward0>));\">and</span> <span style=\"background-color:rgba(135,206,250,tensor(0.0014, device='cuda:0', grad_fn=<DivBackward0>));\">honeydew</span> <span style=\"background-color:rgba(135,206,250,tensor(0.0064, device='cuda:0', grad_fn=<DivBackward0>));\">melon</span> <span style=\"background-color:rgba(135,206,250,tensor(0.0045, device='cuda:0', grad_fn=<DivBackward0>));\">flavors</span> <span style=\"background-color:rgba(135,206,250,tensor(0.0022, device='cuda:0', grad_fn=<DivBackward0>));\">this</span> <span style=\"background-color:rgba(135,206,250,tensor(0.0054, device='cuda:0', grad_fn=<DivBackward0>));\">dry</span> <span style=\"background-color:rgba(135,206,250,tensor(0.0057, device='cuda:0', grad_fn=<DivBackward0>));\">riesling</span> <span style=\"background-color:rgba(135,206,250,tensor(0.0034, device='cuda:0', grad_fn=<DivBackward0>));\">.</span> <span style=\"background-color:rgba(135,206,250,tensor(0.0059, device='cuda:0', grad_fn=<DivBackward0>));\">the</span> <span style=\"background-color:rgba(135,206,250,tensor(0.0058, device='cuda:0', grad_fn=<DivBackward0>));\">palate</span> <span style=\"background-color:rgba(135,206,250,tensor(0.0027, device='cuda:0', grad_fn=<DivBackward0>));\">is</span> <span style=\"background-color:rgba(135,206,250,tensor(0.0091, device='cuda:0', grad_fn=<DivBackward0>));\">full</span> <span style=\"background-color:rgba(135,206,250,tensor(0.0114, device='cuda:0', grad_fn=<DivBackward0>));\">of</span> <span style=\"background-color:rgba(135,206,250,tensor(0.0059, device='cuda:0', grad_fn=<DivBackward0>));\">the</span> <span style=\"background-color:rgba(135,206,250,tensor(0.0048, device='cuda:0', grad_fn=<DivBackward0>));\">mouth</span> <span style=\"background-color:rgba(135,206,250,tensor(0.0070, device='cuda:0', grad_fn=<DivBackward0>));\">,</span> <span style=\"background-color:rgba(135,206,250,tensor(0.0021, device='cuda:0', grad_fn=<DivBackward0>));\">with</span> <span style=\"background-color:rgba(135,206,250,tensor(0.0116, device='cuda:0', grad_fn=<DivBackward0>));\">a</span> <span style=\"background-color:rgba(135,206,250,tensor(0.0013, device='cuda:0', grad_fn=<DivBackward0>));\">hint</span> <span style=\"background-color:rgba(135,206,250,tensor(1.1564e-05, device='cuda:0', grad_fn=<DivBackward0>));\">of</span> <span style=\"background-color:rgba(135,206,250,tensor(3.6777e-07, device='cuda:0', grad_fn=<DivBackward0>));\">tangerine</span> <span style=\"background-color:rgba(135,206,250,tensor(0.0074, device='cuda:0', grad_fn=<DivBackward0>));\">acidity</span> <span style=\"background-color:rgba(135,206,250,tensor(0.0028, device='cuda:0', grad_fn=<DivBackward0>));\">and</span> <span style=\"background-color:rgba(135,206,250,tensor(0.0121, device='cuda:0', grad_fn=<DivBackward0>));\">a</span> <span style=\"background-color:rgba(135,206,250,tensor(0.0071, device='cuda:0', grad_fn=<DivBackward0>));\">lingering</span> <span style=\"background-color:rgba(135,206,250,tensor(0.0045, device='cuda:0', grad_fn=<DivBackward0>));\">mineral</span> <span style=\"background-color:rgba(135,206,250,tensor(0.0104, device='cuda:0', grad_fn=<DivBackward0>));\">finish</span> <span style=\"background-color:rgba(135,206,250,tensor(0.0022, device='cuda:0', grad_fn=<DivBackward0>));\">.</span> <span style=\"background-color:rgba(135,206,250,tensor(0.0019, device='cuda:0', grad_fn=<DivBackward0>));\">it</span> <span style=\"background-color:rgba(135,206,250,tensor(0.0028, device='cuda:0', grad_fn=<DivBackward0>));\">'</span> <span style=\"background-color:rgba(135,206,250,tensor(0.0022, device='cuda:0', grad_fn=<DivBackward0>));\">s</span> <span style=\"background-color:rgba(135,206,250,tensor(0.0115, device='cuda:0', grad_fn=<DivBackward0>));\">a</span> <span style=\"background-color:rgba(135,206,250,tensor(0.0032, device='cuda:0', grad_fn=<DivBackward0>));\">bit</span> <span style=\"background-color:rgba(135,206,250,tensor(0.0038, device='cuda:0', grad_fn=<DivBackward0>));\">confected</span> <span style=\"background-color:rgba(135,206,250,tensor(0.0027, device='cuda:0', grad_fn=<DivBackward0>));\">and</span> <span style=\"background-color:rgba(135,206,250,tensor(0.0071, device='cuda:0', grad_fn=<DivBackward0>));\">straightforward</span> <span style=\"background-color:rgba(135,206,250,tensor(0.0088, device='cuda:0', grad_fn=<DivBackward0>));\">,</span> <span style=\"background-color:rgba(135,206,250,tensor(5.5301e-05, device='cuda:0', grad_fn=<DivBackward0>));\">with</span> <span style=\"background-color:rgba(135,206,250,tensor(0.0192, device='cuda:0', grad_fn=<DivBackward0>));\">a</span> <span style=\"background-color:rgba(135,206,250,tensor(0.0101, device='cuda:0', grad_fn=<DivBackward0>));\">touch</span> <span style=\"background-color:rgba(135,206,250,tensor(0.0118, device='cuda:0', grad_fn=<DivBackward0>));\">of</span> <span style=\"background-color:rgba(135,206,250,tensor(0.0137, device='cuda:0', grad_fn=<DivBackward0>));\">acidity</span> <span style=\"background-color:rgba(135,206,250,tensor(0.0055, device='cuda:0', grad_fn=<DivBackward0>));\">.</span> <span style=\"background-color:rgba(135,206,250,tensor(0.0219, device='cuda:0', grad_fn=<DivBackward0>));\"><PAD></span> <span style=\"background-color:rgba(135,206,250,tensor(0.0261, device='cuda:0', grad_fn=<DivBackward0>));\"><PAD></span> <span style=\"background-color:rgba(135,206,250,tensor(0.0296, device='cuda:0', grad_fn=<DivBackward0>));\"><PAD></span> <span style=\"background-color:rgba(135,206,250,tensor(0.0320, device='cuda:0', grad_fn=<DivBackward0>));\"><PAD></span> <span style=\"background-color:rgba(135,206,250,tensor(0.0343, device='cuda:0', grad_fn=<DivBackward0>));\"><PAD></span> <span style=\"background-color:rgba(135,206,250,tensor(0.0381, device='cuda:0', grad_fn=<DivBackward0>));\"><PAD></span> <span style=\"background-color:rgba(135,206,250,tensor(0.0448, device='cuda:0', grad_fn=<DivBackward0>));\"><PAD></span> <span style=\"background-color:rgba(135,206,250,tensor(0.0544, device='cuda:0', grad_fn=<DivBackward0>));\"><PAD></span> <span style=\"background-color:rgba(135,206,250,tensor(0.0659, device='cuda:0', grad_fn=<DivBackward0>));\"><PAD></span> <span style=\"background-color:rgba(135,206,250,tensor(0.0343, device='cuda:0', grad_fn=<DivBackward0>));\"><PAD></span> <span style=\"background-color:rgba(135,206,250,tensor(0.0989, device='cuda:0', grad_fn=<DivBackward0>));\"><PAD></span> <span style=\"background-color:rgba(135,206,250,tensor(0.0802, device='cuda:0', grad_fn=<DivBackward0>));\"><PAD></span> <span style=\"background-color:rgba(135,206,250,tensor(0.1399, device='cuda:0', grad_fn=<DivBackward0>));\"><PAD></span>"
      ],
      "text/plain": [
       "<IPython.core.display.HTML object>"
      ]
     },
     "metadata": {},
     "output_type": "display_data"
    },
    {
     "name": "stdout",
     "output_type": "stream",
     "text": [
      "<PAD>:   \t100.0%\n",
      "<UNK>:   \t0.0%\n",
      "drink:   \t0.0%\n",
      ".:   \t0.0%\n",
      "the:   \t0.0%\n",
      "--------\n",
      "\n"
     ]
    },
    {
     "data": {
      "text/html": [
       "<span style=\"background-color:rgba(135,206,250,tensor(0.1125, device='cuda:0', grad_fn=<DivBackward0>));\">wine</span> <span style=\"background-color:rgba(135,206,250,tensor(1., device='cuda:0', grad_fn=<DivBackward0>));\">review</span> <span style=\"background-color:rgba(135,206,250,tensor(0.0931, device='cuda:0', grad_fn=<DivBackward0>));\">:</span> <span style=\"background-color:rgba(135,206,250,tensor(0.0543, device='cuda:0', grad_fn=<DivBackward0>));\">germany</span> <span style=\"background-color:rgba(135,206,250,tensor(0., device='cuda:0', grad_fn=<DivBackward0>));\">:</span> <span style=\"background-color:rgba(135,206,250,tensor(0.0181, device='cuda:0', grad_fn=<DivBackward0>));\">mosel</span> <span style=\"background-color:rgba(135,206,250,tensor(0.0215, device='cuda:0', grad_fn=<DivBackward0>));\">:</span> <span style=\"background-color:rgba(135,206,250,tensor(0.0296, device='cuda:0', grad_fn=<DivBackward0>));\">riesling</span> <span style=\"background-color:rgba(135,206,250,tensor(0.0240, device='cuda:0', grad_fn=<DivBackward0>));\">:</span> <span style=\"background-color:rgba(135,206,250,tensor(0.0065, device='cuda:0', grad_fn=<DivBackward0>));\">pristine</span> <span style=\"background-color:rgba(135,206,250,tensor(0.0146, device='cuda:0', grad_fn=<DivBackward0>));\">aromas</span> <span style=\"background-color:rgba(135,206,250,tensor(0.0137, device='cuda:0', grad_fn=<DivBackward0>));\">of</span> <span style=\"background-color:rgba(135,206,250,tensor(0.0087, device='cuda:0', grad_fn=<DivBackward0>));\">freshly</span> <span style=\"background-color:rgba(135,206,250,tensor(0.0013, device='cuda:0', grad_fn=<DivBackward0>));\">pressed</span> <span style=\"background-color:rgba(135,206,250,tensor(0.0062, device='cuda:0', grad_fn=<DivBackward0>));\">yellow</span> <span style=\"background-color:rgba(135,206,250,tensor(0.0024, device='cuda:0', grad_fn=<DivBackward0>));\">flowers</span> <span style=\"background-color:rgba(135,206,250,tensor(0.0039, device='cuda:0', grad_fn=<DivBackward0>));\">and</span> <span style=\"background-color:rgba(135,206,250,tensor(0.0030, device='cuda:0', grad_fn=<DivBackward0>));\">white</span> <span style=\"background-color:rgba(135,206,250,tensor(0.0033, device='cuda:0', grad_fn=<DivBackward0>));\">peach</span> <span style=\"background-color:rgba(135,206,250,tensor(0.0034, device='cuda:0', grad_fn=<DivBackward0>));\">and</span> <span style=\"background-color:rgba(135,206,250,tensor(0.0013, device='cuda:0', grad_fn=<DivBackward0>));\">honeydew</span> <span style=\"background-color:rgba(135,206,250,tensor(0.0058, device='cuda:0', grad_fn=<DivBackward0>));\">melon</span> <span style=\"background-color:rgba(135,206,250,tensor(0.0046, device='cuda:0', grad_fn=<DivBackward0>));\">flavors</span> <span style=\"background-color:rgba(135,206,250,tensor(0.0022, device='cuda:0', grad_fn=<DivBackward0>));\">this</span> <span style=\"background-color:rgba(135,206,250,tensor(0.0051, device='cuda:0', grad_fn=<DivBackward0>));\">dry</span> <span style=\"background-color:rgba(135,206,250,tensor(0.0054, device='cuda:0', grad_fn=<DivBackward0>));\">riesling</span> <span style=\"background-color:rgba(135,206,250,tensor(0.0033, device='cuda:0', grad_fn=<DivBackward0>));\">.</span> <span style=\"background-color:rgba(135,206,250,tensor(0.0058, device='cuda:0', grad_fn=<DivBackward0>));\">the</span> <span style=\"background-color:rgba(135,206,250,tensor(1.7882e-06, device='cuda:0', grad_fn=<DivBackward0>));\">palate</span> <span style=\"background-color:rgba(135,206,250,tensor(0.0028, device='cuda:0', grad_fn=<DivBackward0>));\">is</span> <span style=\"background-color:rgba(135,206,250,tensor(0.0096, device='cuda:0', grad_fn=<DivBackward0>));\">full</span> <span style=\"background-color:rgba(135,206,250,tensor(0.0109, device='cuda:0', grad_fn=<DivBackward0>));\">of</span> <span style=\"background-color:rgba(135,206,250,tensor(6.3593e-06, device='cuda:0', grad_fn=<DivBackward0>));\">the</span> <span style=\"background-color:rgba(135,206,250,tensor(0.0044, device='cuda:0', grad_fn=<DivBackward0>));\">mouth</span> <span style=\"background-color:rgba(135,206,250,tensor(0.0066, device='cuda:0', grad_fn=<DivBackward0>));\">,</span> <span style=\"background-color:rgba(135,206,250,tensor(0.0019, device='cuda:0', grad_fn=<DivBackward0>));\">with</span> <span style=\"background-color:rgba(135,206,250,tensor(0.0106, device='cuda:0', grad_fn=<DivBackward0>));\">a</span> <span style=\"background-color:rgba(135,206,250,tensor(0.0013, device='cuda:0', grad_fn=<DivBackward0>));\">hint</span> <span style=\"background-color:rgba(135,206,250,tensor(0.0067, device='cuda:0', grad_fn=<DivBackward0>));\">of</span> <span style=\"background-color:rgba(135,206,250,tensor(0.0011, device='cuda:0', grad_fn=<DivBackward0>));\">tangerine</span> <span style=\"background-color:rgba(135,206,250,tensor(0.0070, device='cuda:0', grad_fn=<DivBackward0>));\">acidity</span> <span style=\"background-color:rgba(135,206,250,tensor(0.0027, device='cuda:0', grad_fn=<DivBackward0>));\">and</span> <span style=\"background-color:rgba(135,206,250,tensor(0.0116, device='cuda:0', grad_fn=<DivBackward0>));\">a</span> <span style=\"background-color:rgba(135,206,250,tensor(0.0067, device='cuda:0', grad_fn=<DivBackward0>));\">lingering</span> <span style=\"background-color:rgba(135,206,250,tensor(0.0043, device='cuda:0', grad_fn=<DivBackward0>));\">mineral</span> <span style=\"background-color:rgba(135,206,250,tensor(2.5453e-05, device='cuda:0', grad_fn=<DivBackward0>));\">finish</span> <span style=\"background-color:rgba(135,206,250,tensor(0.0021, device='cuda:0', grad_fn=<DivBackward0>));\">.</span> <span style=\"background-color:rgba(135,206,250,tensor(0.0018, device='cuda:0', grad_fn=<DivBackward0>));\">it</span> <span style=\"background-color:rgba(135,206,250,tensor(0.0030, device='cuda:0', grad_fn=<DivBackward0>));\">'</span> <span style=\"background-color:rgba(135,206,250,tensor(0.0018, device='cuda:0', grad_fn=<DivBackward0>));\">s</span> <span style=\"background-color:rgba(135,206,250,tensor(0.0108, device='cuda:0', grad_fn=<DivBackward0>));\">a</span> <span style=\"background-color:rgba(135,206,250,tensor(0.0028, device='cuda:0', grad_fn=<DivBackward0>));\">bit</span> <span style=\"background-color:rgba(135,206,250,tensor(0.0039, device='cuda:0', grad_fn=<DivBackward0>));\">confected</span> <span style=\"background-color:rgba(135,206,250,tensor(0.0026, device='cuda:0', grad_fn=<DivBackward0>));\">and</span> <span style=\"background-color:rgba(135,206,250,tensor(0.0075, device='cuda:0', grad_fn=<DivBackward0>));\">straightforward</span> <span style=\"background-color:rgba(135,206,250,tensor(0.0084, device='cuda:0', grad_fn=<DivBackward0>));\">,</span> <span style=\"background-color:rgba(135,206,250,tensor(0.0030, device='cuda:0', grad_fn=<DivBackward0>));\">with</span> <span style=\"background-color:rgba(135,206,250,tensor(0.0179, device='cuda:0', grad_fn=<DivBackward0>));\">a</span> <span style=\"background-color:rgba(135,206,250,tensor(0.0089, device='cuda:0', grad_fn=<DivBackward0>));\">touch</span> <span style=\"background-color:rgba(135,206,250,tensor(0.0112, device='cuda:0', grad_fn=<DivBackward0>));\">of</span> <span style=\"background-color:rgba(135,206,250,tensor(0.0132, device='cuda:0', grad_fn=<DivBackward0>));\">acidity</span> <span style=\"background-color:rgba(135,206,250,tensor(0.0049, device='cuda:0', grad_fn=<DivBackward0>));\">.</span> <span style=\"background-color:rgba(135,206,250,tensor(0.0179, device='cuda:0', grad_fn=<DivBackward0>));\"><PAD></span> <span style=\"background-color:rgba(135,206,250,tensor(0.0217, device='cuda:0', grad_fn=<DivBackward0>));\"><PAD></span> <span style=\"background-color:rgba(135,206,250,tensor(0.0261, device='cuda:0', grad_fn=<DivBackward0>));\"><PAD></span> <span style=\"background-color:rgba(135,206,250,tensor(0.0283, device='cuda:0', grad_fn=<DivBackward0>));\"><PAD></span> <span style=\"background-color:rgba(135,206,250,tensor(0.0300, device='cuda:0', grad_fn=<DivBackward0>));\"><PAD></span> <span style=\"background-color:rgba(135,206,250,tensor(0.0326, device='cuda:0', grad_fn=<DivBackward0>));\"><PAD></span> <span style=\"background-color:rgba(135,206,250,tensor(0.0083, device='cuda:0', grad_fn=<DivBackward0>));\"><PAD></span> <span style=\"background-color:rgba(135,206,250,tensor(0.0428, device='cuda:0', grad_fn=<DivBackward0>));\"><PAD></span> <span style=\"background-color:rgba(135,206,250,tensor(0.0491, device='cuda:0', grad_fn=<DivBackward0>));\"><PAD></span> <span style=\"background-color:rgba(135,206,250,tensor(0.0566, device='cuda:0', grad_fn=<DivBackward0>));\"><PAD></span> <span style=\"background-color:rgba(135,206,250,tensor(0.0677, device='cuda:0', grad_fn=<DivBackward0>));\"><PAD></span> <span style=\"background-color:rgba(135,206,250,tensor(0.0401, device='cuda:0', grad_fn=<DivBackward0>));\"><PAD></span> <span style=\"background-color:rgba(135,206,250,tensor(0.1019, device='cuda:0', grad_fn=<DivBackward0>));\"><PAD></span> <span style=\"background-color:rgba(135,206,250,tensor(0.1133, device='cuda:0', grad_fn=<DivBackward0>));\"><PAD></span>"
      ],
      "text/plain": [
       "<IPython.core.display.HTML object>"
      ]
     },
     "metadata": {},
     "output_type": "display_data"
    },
    {
     "name": "stdout",
     "output_type": "stream",
     "text": [
      "<PAD>:   \t100.0%\n",
      "drink:   \t0.0%\n",
      "<UNK>:   \t0.0%\n",
      ".:   \t0.0%\n",
      "enjoy:   \t0.0%\n",
      "--------\n",
      "\n"
     ]
    },
    {
     "data": {
      "text/html": [
       "<span style=\"background-color:rgba(135,206,250,tensor(0.1133, device='cuda:0', grad_fn=<DivBackward0>));\">wine</span> <span style=\"background-color:rgba(135,206,250,tensor(1., device='cuda:0', grad_fn=<DivBackward0>));\">review</span> <span style=\"background-color:rgba(135,206,250,tensor(0.1010, device='cuda:0', grad_fn=<DivBackward0>));\">:</span> <span style=\"background-color:rgba(135,206,250,tensor(0.0609, device='cuda:0', grad_fn=<DivBackward0>));\">germany</span> <span style=\"background-color:rgba(135,206,250,tensor(0.0778, device='cuda:0', grad_fn=<DivBackward0>));\">:</span> <span style=\"background-color:rgba(135,206,250,tensor(0.0207, device='cuda:0', grad_fn=<DivBackward0>));\">mosel</span> <span style=\"background-color:rgba(135,206,250,tensor(0.0538, device='cuda:0', grad_fn=<DivBackward0>));\">:</span> <span style=\"background-color:rgba(135,206,250,tensor(0.0316, device='cuda:0', grad_fn=<DivBackward0>));\">riesling</span> <span style=\"background-color:rgba(135,206,250,tensor(0.0282, device='cuda:0', grad_fn=<DivBackward0>));\">:</span> <span style=\"background-color:rgba(135,206,250,tensor(0.0075, device='cuda:0', grad_fn=<DivBackward0>));\">pristine</span> <span style=\"background-color:rgba(135,206,250,tensor(0.0158, device='cuda:0', grad_fn=<DivBackward0>));\">aromas</span> <span style=\"background-color:rgba(135,206,250,tensor(0.0139, device='cuda:0', grad_fn=<DivBackward0>));\">of</span> <span style=\"background-color:rgba(135,206,250,tensor(0.0094, device='cuda:0', grad_fn=<DivBackward0>));\">freshly</span> <span style=\"background-color:rgba(135,206,250,tensor(0.0013, device='cuda:0', grad_fn=<DivBackward0>));\">pressed</span> <span style=\"background-color:rgba(135,206,250,tensor(0.0004, device='cuda:0', grad_fn=<DivBackward0>));\">yellow</span> <span style=\"background-color:rgba(135,206,250,tensor(0.0028, device='cuda:0', grad_fn=<DivBackward0>));\">flowers</span> <span style=\"background-color:rgba(135,206,250,tensor(0.0042, device='cuda:0', grad_fn=<DivBackward0>));\">and</span> <span style=\"background-color:rgba(135,206,250,tensor(0.0035, device='cuda:0', grad_fn=<DivBackward0>));\">white</span> <span style=\"background-color:rgba(135,206,250,tensor(0.0036, device='cuda:0', grad_fn=<DivBackward0>));\">peach</span> <span style=\"background-color:rgba(135,206,250,tensor(6.9254e-05, device='cuda:0', grad_fn=<DivBackward0>));\">and</span> <span style=\"background-color:rgba(135,206,250,tensor(0.0015, device='cuda:0', grad_fn=<DivBackward0>));\">honeydew</span> <span style=\"background-color:rgba(135,206,250,tensor(0.0061, device='cuda:0', grad_fn=<DivBackward0>));\">melon</span> <span style=\"background-color:rgba(135,206,250,tensor(0.0054, device='cuda:0', grad_fn=<DivBackward0>));\">flavors</span> <span style=\"background-color:rgba(135,206,250,tensor(0.0025, device='cuda:0', grad_fn=<DivBackward0>));\">this</span> <span style=\"background-color:rgba(135,206,250,tensor(0.0056, device='cuda:0', grad_fn=<DivBackward0>));\">dry</span> <span style=\"background-color:rgba(135,206,250,tensor(0.0058, device='cuda:0', grad_fn=<DivBackward0>));\">riesling</span> <span style=\"background-color:rgba(135,206,250,tensor(0.0036, device='cuda:0', grad_fn=<DivBackward0>));\">.</span> <span style=\"background-color:rgba(135,206,250,tensor(0.0061, device='cuda:0', grad_fn=<DivBackward0>));\">the</span> <span style=\"background-color:rgba(135,206,250,tensor(0.0058, device='cuda:0', grad_fn=<DivBackward0>));\">palate</span> <span style=\"background-color:rgba(135,206,250,tensor(0.0031, device='cuda:0', grad_fn=<DivBackward0>));\">is</span> <span style=\"background-color:rgba(135,206,250,tensor(0.0112, device='cuda:0', grad_fn=<DivBackward0>));\">full</span> <span style=\"background-color:rgba(135,206,250,tensor(0.0112, device='cuda:0', grad_fn=<DivBackward0>));\">of</span> <span style=\"background-color:rgba(135,206,250,tensor(0.0056, device='cuda:0', grad_fn=<DivBackward0>));\">the</span> <span style=\"background-color:rgba(135,206,250,tensor(0.0048, device='cuda:0', grad_fn=<DivBackward0>));\">mouth</span> <span style=\"background-color:rgba(135,206,250,tensor(0.0071, device='cuda:0', grad_fn=<DivBackward0>));\">,</span> <span style=\"background-color:rgba(135,206,250,tensor(0.0018, device='cuda:0', grad_fn=<DivBackward0>));\">with</span> <span style=\"background-color:rgba(135,206,250,tensor(0.0115, device='cuda:0', grad_fn=<DivBackward0>));\">a</span> <span style=\"background-color:rgba(135,206,250,tensor(4.7170e-06, device='cuda:0', grad_fn=<DivBackward0>));\">hint</span> <span style=\"background-color:rgba(135,206,250,tensor(1.2904e-05, device='cuda:0', grad_fn=<DivBackward0>));\">of</span> <span style=\"background-color:rgba(135,206,250,tensor(0.0013, device='cuda:0', grad_fn=<DivBackward0>));\">tangerine</span> <span style=\"background-color:rgba(135,206,250,tensor(0.0082, device='cuda:0', grad_fn=<DivBackward0>));\">acidity</span> <span style=\"background-color:rgba(135,206,250,tensor(0.0030, device='cuda:0', grad_fn=<DivBackward0>));\">and</span> <span style=\"background-color:rgba(135,206,250,tensor(1.2020e-05, device='cuda:0', grad_fn=<DivBackward0>));\">a</span> <span style=\"background-color:rgba(135,206,250,tensor(0.0076, device='cuda:0', grad_fn=<DivBackward0>));\">lingering</span> <span style=\"background-color:rgba(135,206,250,tensor(5.3336e-05, device='cuda:0', grad_fn=<DivBackward0>));\">mineral</span> <span style=\"background-color:rgba(135,206,250,tensor(0.0125, device='cuda:0', grad_fn=<DivBackward0>));\">finish</span> <span style=\"background-color:rgba(135,206,250,tensor(0.0024, device='cuda:0', grad_fn=<DivBackward0>));\">.</span> <span style=\"background-color:rgba(135,206,250,tensor(0.0019, device='cuda:0', grad_fn=<DivBackward0>));\">it</span> <span style=\"background-color:rgba(135,206,250,tensor(0.0037, device='cuda:0', grad_fn=<DivBackward0>));\">'</span> <span style=\"background-color:rgba(135,206,250,tensor(0.0016, device='cuda:0', grad_fn=<DivBackward0>));\">s</span> <span style=\"background-color:rgba(135,206,250,tensor(0.0119, device='cuda:0', grad_fn=<DivBackward0>));\">a</span> <span style=\"background-color:rgba(135,206,250,tensor(0.0028, device='cuda:0', grad_fn=<DivBackward0>));\">bit</span> <span style=\"background-color:rgba(135,206,250,tensor(0.0045, device='cuda:0', grad_fn=<DivBackward0>));\">confected</span> <span style=\"background-color:rgba(135,206,250,tensor(0.0028, device='cuda:0', grad_fn=<DivBackward0>));\">and</span> <span style=\"background-color:rgba(135,206,250,tensor(0.0094, device='cuda:0', grad_fn=<DivBackward0>));\">straightforward</span> <span style=\"background-color:rgba(135,206,250,tensor(7.3244e-05, device='cuda:0', grad_fn=<DivBackward0>));\">,</span> <span style=\"background-color:rgba(135,206,250,tensor(0.0030, device='cuda:0', grad_fn=<DivBackward0>));\">with</span> <span style=\"background-color:rgba(135,206,250,tensor(0.0199, device='cuda:0', grad_fn=<DivBackward0>));\">a</span> <span style=\"background-color:rgba(135,206,250,tensor(0.0091, device='cuda:0', grad_fn=<DivBackward0>));\">touch</span> <span style=\"background-color:rgba(135,206,250,tensor(0.0117, device='cuda:0', grad_fn=<DivBackward0>));\">of</span> <span style=\"background-color:rgba(135,206,250,tensor(0.0149, device='cuda:0', grad_fn=<DivBackward0>));\">acidity</span> <span style=\"background-color:rgba(135,206,250,tensor(0.0051, device='cuda:0', grad_fn=<DivBackward0>));\">.</span> <span style=\"background-color:rgba(135,206,250,tensor(0.0183, device='cuda:0', grad_fn=<DivBackward0>));\"><PAD></span> <span style=\"background-color:rgba(135,206,250,tensor(0.0206, device='cuda:0', grad_fn=<DivBackward0>));\"><PAD></span> <span style=\"background-color:rgba(135,206,250,tensor(0.0246, device='cuda:0', grad_fn=<DivBackward0>));\"><PAD></span> <span style=\"background-color:rgba(135,206,250,tensor(0.0267, device='cuda:0', grad_fn=<DivBackward0>));\"><PAD></span> <span style=\"background-color:rgba(135,206,250,tensor(0.0282, device='cuda:0', grad_fn=<DivBackward0>));\"><PAD></span> <span style=\"background-color:rgba(135,206,250,tensor(0.0302, device='cuda:0', grad_fn=<DivBackward0>));\"><PAD></span> <span style=\"background-color:rgba(135,206,250,tensor(0.0338, device='cuda:0', grad_fn=<DivBackward0>));\"><PAD></span> <span style=\"background-color:rgba(135,206,250,tensor(0.0384, device='cuda:0', grad_fn=<DivBackward0>));\"><PAD></span> <span style=\"background-color:rgba(135,206,250,tensor(0.0433, device='cuda:0', grad_fn=<DivBackward0>));\"><PAD></span> <span style=\"background-color:rgba(135,206,250,tensor(0.0486, device='cuda:0', grad_fn=<DivBackward0>));\"><PAD></span> <span style=\"background-color:rgba(135,206,250,tensor(0.0365, device='cuda:0', grad_fn=<DivBackward0>));\"><PAD></span> <span style=\"background-color:rgba(135,206,250,tensor(0.0673, device='cuda:0', grad_fn=<DivBackward0>));\"><PAD></span> <span style=\"background-color:rgba(135,206,250,tensor(0.0819, device='cuda:0', grad_fn=<DivBackward0>));\"><PAD></span> <span style=\"background-color:rgba(135,206,250,tensor(0.0960, device='cuda:0', grad_fn=<DivBackward0>));\"><PAD></span> <span style=\"background-color:rgba(135,206,250,tensor(0.1002, device='cuda:0', grad_fn=<DivBackward0>));\"><PAD></span>"
      ],
      "text/plain": [
       "<IPython.core.display.HTML object>"
      ]
     },
     "metadata": {},
     "output_type": "display_data"
    },
    {
     "name": "stdout",
     "output_type": "stream",
     "text": [
      "<PAD>:   \t100.0%\n",
      ".:   \t0.0%\n",
      "drink:   \t0.0%\n",
      "<UNK>:   \t0.0%\n",
      "enjoy:   \t0.0%\n",
      "--------\n",
      "\n"
     ]
    },
    {
     "data": {
      "text/html": [
       "<span style=\"background-color:rgba(135,206,250,tensor(0.1201, device='cuda:0', grad_fn=<DivBackward0>));\">wine</span> <span style=\"background-color:rgba(135,206,250,tensor(1., device='cuda:0', grad_fn=<DivBackward0>));\">review</span> <span style=\"background-color:rgba(135,206,250,tensor(0.1055, device='cuda:0', grad_fn=<DivBackward0>));\">:</span> <span style=\"background-color:rgba(135,206,250,tensor(0.0704, device='cuda:0', grad_fn=<DivBackward0>));\">germany</span> <span style=\"background-color:rgba(135,206,250,tensor(0.0835, device='cuda:0', grad_fn=<DivBackward0>));\">:</span> <span style=\"background-color:rgba(135,206,250,tensor(0.0102, device='cuda:0', grad_fn=<DivBackward0>));\">mosel</span> <span style=\"background-color:rgba(135,206,250,tensor(0.0594, device='cuda:0', grad_fn=<DivBackward0>));\">:</span> <span style=\"background-color:rgba(135,206,250,tensor(0.0347, device='cuda:0', grad_fn=<DivBackward0>));\">riesling</span> <span style=\"background-color:rgba(135,206,250,tensor(0.0314, device='cuda:0', grad_fn=<DivBackward0>));\">:</span> <span style=\"background-color:rgba(135,206,250,tensor(0.0076, device='cuda:0', grad_fn=<DivBackward0>));\">pristine</span> <span style=\"background-color:rgba(135,206,250,tensor(0.0184, device='cuda:0', grad_fn=<DivBackward0>));\">aromas</span> <span style=\"background-color:rgba(135,206,250,tensor(0.0144, device='cuda:0', grad_fn=<DivBackward0>));\">of</span> <span style=\"background-color:rgba(135,206,250,tensor(0.0102, device='cuda:0', grad_fn=<DivBackward0>));\">freshly</span> <span style=\"background-color:rgba(135,206,250,tensor(0.0011, device='cuda:0', grad_fn=<DivBackward0>));\">pressed</span> <span style=\"background-color:rgba(135,206,250,tensor(0.0075, device='cuda:0', grad_fn=<DivBackward0>));\">yellow</span> <span style=\"background-color:rgba(135,206,250,tensor(0.0038, device='cuda:0', grad_fn=<DivBackward0>));\">flowers</span> <span style=\"background-color:rgba(135,206,250,tensor(0.0046, device='cuda:0', grad_fn=<DivBackward0>));\">and</span> <span style=\"background-color:rgba(135,206,250,tensor(0.0041, device='cuda:0', grad_fn=<DivBackward0>));\">white</span> <span style=\"background-color:rgba(135,206,250,tensor(0.0042, device='cuda:0', grad_fn=<DivBackward0>));\">peach</span> <span style=\"background-color:rgba(135,206,250,tensor(0.0038, device='cuda:0', grad_fn=<DivBackward0>));\">and</span> <span style=\"background-color:rgba(135,206,250,tensor(0.0001, device='cuda:0', grad_fn=<DivBackward0>));\">honeydew</span> <span style=\"background-color:rgba(135,206,250,tensor(0.0068, device='cuda:0', grad_fn=<DivBackward0>));\">melon</span> <span style=\"background-color:rgba(135,206,250,tensor(0.0063, device='cuda:0', grad_fn=<DivBackward0>));\">flavors</span> <span style=\"background-color:rgba(135,206,250,tensor(0.0027, device='cuda:0', grad_fn=<DivBackward0>));\">this</span> <span style=\"background-color:rgba(135,206,250,tensor(0.0063, device='cuda:0', grad_fn=<DivBackward0>));\">dry</span> <span style=\"background-color:rgba(135,206,250,tensor(0.0063, device='cuda:0', grad_fn=<DivBackward0>));\">riesling</span> <span style=\"background-color:rgba(135,206,250,tensor(0.0041, device='cuda:0', grad_fn=<DivBackward0>));\">.</span> <span style=\"background-color:rgba(135,206,250,tensor(0.0063, device='cuda:0', grad_fn=<DivBackward0>));\">the</span> <span style=\"background-color:rgba(135,206,250,tensor(0.0066, device='cuda:0', grad_fn=<DivBackward0>));\">palate</span> <span style=\"background-color:rgba(135,206,250,tensor(0.0035, device='cuda:0', grad_fn=<DivBackward0>));\">is</span> <span style=\"background-color:rgba(135,206,250,tensor(6.0113e-06, device='cuda:0', grad_fn=<DivBackward0>));\">full</span> <span style=\"background-color:rgba(135,206,250,tensor(6.3268e-06, device='cuda:0', grad_fn=<DivBackward0>));\">of</span> <span style=\"background-color:rgba(135,206,250,tensor(0.0057, device='cuda:0', grad_fn=<DivBackward0>));\">the</span> <span style=\"background-color:rgba(135,206,250,tensor(0.0060, device='cuda:0', grad_fn=<DivBackward0>));\">mouth</span> <span style=\"background-color:rgba(135,206,250,tensor(0.0079, device='cuda:0', grad_fn=<DivBackward0>));\">,</span> <span style=\"background-color:rgba(135,206,250,tensor(0.0018, device='cuda:0', grad_fn=<DivBackward0>));\">with</span> <span style=\"background-color:rgba(135,206,250,tensor(8.2622e-06, device='cuda:0', grad_fn=<DivBackward0>));\">a</span> <span style=\"background-color:rgba(135,206,250,tensor(0.0022, device='cuda:0', grad_fn=<DivBackward0>));\">hint</span> <span style=\"background-color:rgba(135,206,250,tensor(0.0073, device='cuda:0', grad_fn=<DivBackward0>));\">of</span> <span style=\"background-color:rgba(135,206,250,tensor(0.0016, device='cuda:0', grad_fn=<DivBackward0>));\">tangerine</span> <span style=\"background-color:rgba(135,206,250,tensor(0.0100, device='cuda:0', grad_fn=<DivBackward0>));\">acidity</span> <span style=\"background-color:rgba(135,206,250,tensor(0.0032, device='cuda:0', grad_fn=<DivBackward0>));\">and</span> <span style=\"background-color:rgba(135,206,250,tensor(0.0153, device='cuda:0', grad_fn=<DivBackward0>));\">a</span> <span style=\"background-color:rgba(135,206,250,tensor(0.0090, device='cuda:0', grad_fn=<DivBackward0>));\">lingering</span> <span style=\"background-color:rgba(135,206,250,tensor(0.0061, device='cuda:0', grad_fn=<DivBackward0>));\">mineral</span> <span style=\"background-color:rgba(135,206,250,tensor(3.5582e-05, device='cuda:0', grad_fn=<DivBackward0>));\">finish</span> <span style=\"background-color:rgba(135,206,250,tensor(0.0027, device='cuda:0', grad_fn=<DivBackward0>));\">.</span> <span style=\"background-color:rgba(135,206,250,tensor(0.0021, device='cuda:0', grad_fn=<DivBackward0>));\">it</span> <span style=\"background-color:rgba(135,206,250,tensor(0.0044, device='cuda:0', grad_fn=<DivBackward0>));\">'</span> <span style=\"background-color:rgba(135,206,250,tensor(0.0016, device='cuda:0', grad_fn=<DivBackward0>));\">s</span> <span style=\"background-color:rgba(135,206,250,tensor(0.0138, device='cuda:0', grad_fn=<DivBackward0>));\">a</span> <span style=\"background-color:rgba(135,206,250,tensor(0.0030, device='cuda:0', grad_fn=<DivBackward0>));\">bit</span> <span style=\"background-color:rgba(135,206,250,tensor(0.0053, device='cuda:0', grad_fn=<DivBackward0>));\">confected</span> <span style=\"background-color:rgba(135,206,250,tensor(0.0031, device='cuda:0', grad_fn=<DivBackward0>));\">and</span> <span style=\"background-color:rgba(135,206,250,tensor(0.0120, device='cuda:0', grad_fn=<DivBackward0>));\">straightforward</span> <span style=\"background-color:rgba(135,206,250,tensor(0.0104, device='cuda:0', grad_fn=<DivBackward0>));\">,</span> <span style=\"background-color:rgba(135,206,250,tensor(0.0030, device='cuda:0', grad_fn=<DivBackward0>));\">with</span> <span style=\"background-color:rgba(135,206,250,tensor(0.0231, device='cuda:0', grad_fn=<DivBackward0>));\">a</span> <span style=\"background-color:rgba(135,206,250,tensor(0.0097, device='cuda:0', grad_fn=<DivBackward0>));\">touch</span> <span style=\"background-color:rgba(135,206,250,tensor(0.0121, device='cuda:0', grad_fn=<DivBackward0>));\">of</span> <span style=\"background-color:rgba(135,206,250,tensor(0.0175, device='cuda:0', grad_fn=<DivBackward0>));\">acidity</span> <span style=\"background-color:rgba(135,206,250,tensor(0.0055, device='cuda:0', grad_fn=<DivBackward0>));\">.</span> <span style=\"background-color:rgba(135,206,250,tensor(0.0172, device='cuda:0', grad_fn=<DivBackward0>));\"><PAD></span> <span style=\"background-color:rgba(135,206,250,tensor(0.0011, device='cuda:0', grad_fn=<DivBackward0>));\"><PAD></span> <span style=\"background-color:rgba(135,206,250,tensor(0.0224, device='cuda:0', grad_fn=<DivBackward0>));\"><PAD></span> <span style=\"background-color:rgba(135,206,250,tensor(0.0229, device='cuda:0', grad_fn=<DivBackward0>));\"><PAD></span> <span style=\"background-color:rgba(135,206,250,tensor(0.0255, device='cuda:0', grad_fn=<DivBackward0>));\"><PAD></span> <span style=\"background-color:rgba(135,206,250,tensor(0.0273, device='cuda:0', grad_fn=<DivBackward0>));\"><PAD></span> <span style=\"background-color:rgba(135,206,250,tensor(0.0304, device='cuda:0', grad_fn=<DivBackward0>));\"><PAD></span> <span style=\"background-color:rgba(135,206,250,tensor(0.0345, device='cuda:0', grad_fn=<DivBackward0>));\"><PAD></span> <span style=\"background-color:rgba(135,206,250,tensor(0.0386, device='cuda:0', grad_fn=<DivBackward0>));\"><PAD></span> <span style=\"background-color:rgba(135,206,250,tensor(0.0426, device='cuda:0', grad_fn=<DivBackward0>));\"><PAD></span> <span style=\"background-color:rgba(135,206,250,tensor(0.0480, device='cuda:0', grad_fn=<DivBackward0>));\"><PAD></span> <span style=\"background-color:rgba(135,206,250,tensor(0.0559, device='cuda:0', grad_fn=<DivBackward0>));\"><PAD></span> <span style=\"background-color:rgba(135,206,250,tensor(0.0665, device='cuda:0', grad_fn=<DivBackward0>));\"><PAD></span> <span style=\"background-color:rgba(135,206,250,tensor(0.0786, device='cuda:0', grad_fn=<DivBackward0>));\"><PAD></span> <span style=\"background-color:rgba(135,206,250,tensor(0.0546, device='cuda:0', grad_fn=<DivBackward0>));\"><PAD></span> <span style=\"background-color:rgba(135,206,250,tensor(0.0823, device='cuda:0', grad_fn=<DivBackward0>));\"><PAD></span>"
      ],
      "text/plain": [
       "<IPython.core.display.HTML object>"
      ]
     },
     "metadata": {},
     "output_type": "display_data"
    },
    {
     "name": "stdout",
     "output_type": "stream",
     "text": [
      "<PAD>:   \t100.0%\n",
      ".:   \t0.0%\n",
      "drink:   \t0.0%\n",
      "<UNK>:   \t0.0%\n",
      "the:   \t0.0%\n",
      "--------\n",
      "\n"
     ]
    },
    {
     "data": {
      "text/html": [
       "<span style=\"background-color:rgba(135,206,250,tensor(0.1245, device='cuda:0', grad_fn=<DivBackward0>));\">wine</span> <span style=\"background-color:rgba(135,206,250,tensor(1., device='cuda:0', grad_fn=<DivBackward0>));\">review</span> <span style=\"background-color:rgba(135,206,250,tensor(0.1035, device='cuda:0', grad_fn=<DivBackward0>));\">:</span> <span style=\"background-color:rgba(135,206,250,tensor(0.0713, device='cuda:0', grad_fn=<DivBackward0>));\">germany</span> <span style=\"background-color:rgba(135,206,250,tensor(0.0823, device='cuda:0', grad_fn=<DivBackward0>));\">:</span> <span style=\"background-color:rgba(135,206,250,tensor(0.0285, device='cuda:0', grad_fn=<DivBackward0>));\">mosel</span> <span style=\"background-color:rgba(135,206,250,tensor(0.0596, device='cuda:0', grad_fn=<DivBackward0>));\">:</span> <span style=\"background-color:rgba(135,206,250,tensor(0.0336, device='cuda:0', grad_fn=<DivBackward0>));\">riesling</span> <span style=\"background-color:rgba(135,206,250,tensor(0.0315, device='cuda:0', grad_fn=<DivBackward0>));\">:</span> <span style=\"background-color:rgba(135,206,250,tensor(0.0098, device='cuda:0', grad_fn=<DivBackward0>));\">pristine</span> <span style=\"background-color:rgba(135,206,250,tensor(0.0201, device='cuda:0', grad_fn=<DivBackward0>));\">aromas</span> <span style=\"background-color:rgba(135,206,250,tensor(0.0143, device='cuda:0', grad_fn=<DivBackward0>));\">of</span> <span style=\"background-color:rgba(135,206,250,tensor(0.0105, device='cuda:0', grad_fn=<DivBackward0>));\">freshly</span> <span style=\"background-color:rgba(135,206,250,tensor(0.0013, device='cuda:0', grad_fn=<DivBackward0>));\">pressed</span> <span style=\"background-color:rgba(135,206,250,tensor(0.0084, device='cuda:0', grad_fn=<DivBackward0>));\">yellow</span> <span style=\"background-color:rgba(135,206,250,tensor(0.0046, device='cuda:0', grad_fn=<DivBackward0>));\">flowers</span> <span style=\"background-color:rgba(135,206,250,tensor(0.0047, device='cuda:0', grad_fn=<DivBackward0>));\">and</span> <span style=\"background-color:rgba(135,206,250,tensor(0.0041, device='cuda:0', grad_fn=<DivBackward0>));\">white</span> <span style=\"background-color:rgba(135,206,250,tensor(1.9888e-05, device='cuda:0', grad_fn=<DivBackward0>));\">peach</span> <span style=\"background-color:rgba(135,206,250,tensor(0.0038, device='cuda:0', grad_fn=<DivBackward0>));\">and</span> <span style=\"background-color:rgba(135,206,250,tensor(0.0019, device='cuda:0', grad_fn=<DivBackward0>));\">honeydew</span> <span style=\"background-color:rgba(135,206,250,tensor(0.0073, device='cuda:0', grad_fn=<DivBackward0>));\">melon</span> <span style=\"background-color:rgba(135,206,250,tensor(0.0067, device='cuda:0', grad_fn=<DivBackward0>));\">flavors</span> <span style=\"background-color:rgba(135,206,250,tensor(0.0028, device='cuda:0', grad_fn=<DivBackward0>));\">this</span> <span style=\"background-color:rgba(135,206,250,tensor(0.0066, device='cuda:0', grad_fn=<DivBackward0>));\">dry</span> <span style=\"background-color:rgba(135,206,250,tensor(1.1412e-05, device='cuda:0', grad_fn=<DivBackward0>));\">riesling</span> <span style=\"background-color:rgba(135,206,250,tensor(0.0043, device='cuda:0', grad_fn=<DivBackward0>));\">.</span> <span style=\"background-color:rgba(135,206,250,tensor(0.0062, device='cuda:0', grad_fn=<DivBackward0>));\">the</span> <span style=\"background-color:rgba(135,206,250,tensor(0.0070, device='cuda:0', grad_fn=<DivBackward0>));\">palate</span> <span style=\"background-color:rgba(135,206,250,tensor(0.0036, device='cuda:0', grad_fn=<DivBackward0>));\">is</span> <span style=\"background-color:rgba(135,206,250,tensor(0.0141, device='cuda:0', grad_fn=<DivBackward0>));\">full</span> <span style=\"background-color:rgba(135,206,250,tensor(0.0115, device='cuda:0', grad_fn=<DivBackward0>));\">of</span> <span style=\"background-color:rgba(135,206,250,tensor(0.0055, device='cuda:0', grad_fn=<DivBackward0>));\">the</span> <span style=\"background-color:rgba(135,206,250,tensor(0.0070, device='cuda:0', grad_fn=<DivBackward0>));\">mouth</span> <span style=\"background-color:rgba(135,206,250,tensor(0.0085, device='cuda:0', grad_fn=<DivBackward0>));\">,</span> <span style=\"background-color:rgba(135,206,250,tensor(0.0018, device='cuda:0', grad_fn=<DivBackward0>));\">with</span> <span style=\"background-color:rgba(135,206,250,tensor(0.0143, device='cuda:0', grad_fn=<DivBackward0>));\">a</span> <span style=\"background-color:rgba(135,206,250,tensor(4.6074e-06, device='cuda:0', grad_fn=<DivBackward0>));\">hint</span> <span style=\"background-color:rgba(135,206,250,tensor(0.0073, device='cuda:0', grad_fn=<DivBackward0>));\">of</span> <span style=\"background-color:rgba(135,206,250,tensor(0.0018, device='cuda:0', grad_fn=<DivBackward0>));\">tangerine</span> <span style=\"background-color:rgba(135,206,250,tensor(0.0109, device='cuda:0', grad_fn=<DivBackward0>));\">acidity</span> <span style=\"background-color:rgba(135,206,250,tensor(0.0033, device='cuda:0', grad_fn=<DivBackward0>));\">and</span> <span style=\"background-color:rgba(135,206,250,tensor(0.0161, device='cuda:0', grad_fn=<DivBackward0>));\">a</span> <span style=\"background-color:rgba(135,206,250,tensor(0., device='cuda:0', grad_fn=<DivBackward0>));\">lingering</span> <span style=\"background-color:rgba(135,206,250,tensor(0.0067, device='cuda:0', grad_fn=<DivBackward0>));\">mineral</span> <span style=\"background-color:rgba(135,206,250,tensor(0.0135, device='cuda:0', grad_fn=<DivBackward0>));\">finish</span> <span style=\"background-color:rgba(135,206,250,tensor(0.0028, device='cuda:0', grad_fn=<DivBackward0>));\">.</span> <span style=\"background-color:rgba(135,206,250,tensor(0.0021, device='cuda:0', grad_fn=<DivBackward0>));\">it</span> <span style=\"background-color:rgba(135,206,250,tensor(5.7655e-05, device='cuda:0', grad_fn=<DivBackward0>));\">'</span> <span style=\"background-color:rgba(135,206,250,tensor(0.0016, device='cuda:0', grad_fn=<DivBackward0>));\">s</span> <span style=\"background-color:rgba(135,206,250,tensor(0.0146, device='cuda:0', grad_fn=<DivBackward0>));\">a</span> <span style=\"background-color:rgba(135,206,250,tensor(0.0031, device='cuda:0', grad_fn=<DivBackward0>));\">bit</span> <span style=\"background-color:rgba(135,206,250,tensor(0.0058, device='cuda:0', grad_fn=<DivBackward0>));\">confected</span> <span style=\"background-color:rgba(135,206,250,tensor(0.0030, device='cuda:0', grad_fn=<DivBackward0>));\">and</span> <span style=\"background-color:rgba(135,206,250,tensor(0.0131, device='cuda:0', grad_fn=<DivBackward0>));\">straightforward</span> <span style=\"background-color:rgba(135,206,250,tensor(0.0112, device='cuda:0', grad_fn=<DivBackward0>));\">,</span> <span style=\"background-color:rgba(135,206,250,tensor(0.0031, device='cuda:0', grad_fn=<DivBackward0>));\">with</span> <span style=\"background-color:rgba(135,206,250,tensor(0.0245, device='cuda:0', grad_fn=<DivBackward0>));\">a</span> <span style=\"background-color:rgba(135,206,250,tensor(0.0096, device='cuda:0', grad_fn=<DivBackward0>));\">touch</span> <span style=\"background-color:rgba(135,206,250,tensor(0.0117, device='cuda:0', grad_fn=<DivBackward0>));\">of</span> <span style=\"background-color:rgba(135,206,250,tensor(0.0184, device='cuda:0', grad_fn=<DivBackward0>));\">acidity</span> <span style=\"background-color:rgba(135,206,250,tensor(0.0056, device='cuda:0', grad_fn=<DivBackward0>));\">.</span> <span style=\"background-color:rgba(135,206,250,tensor(0.0150, device='cuda:0', grad_fn=<DivBackward0>));\"><PAD></span> <span style=\"background-color:rgba(135,206,250,tensor(0.0172, device='cuda:0', grad_fn=<DivBackward0>));\"><PAD></span> <span style=\"background-color:rgba(135,206,250,tensor(0.0012, device='cuda:0', grad_fn=<DivBackward0>));\"><PAD></span> <span style=\"background-color:rgba(135,206,250,tensor(0.0189, device='cuda:0', grad_fn=<DivBackward0>));\"><PAD></span> <span style=\"background-color:rgba(135,206,250,tensor(0.0214, device='cuda:0', grad_fn=<DivBackward0>));\"><PAD></span> <span style=\"background-color:rgba(135,206,250,tensor(0.0230, device='cuda:0', grad_fn=<DivBackward0>));\"><PAD></span> <span style=\"background-color:rgba(135,206,250,tensor(0.0258, device='cuda:0', grad_fn=<DivBackward0>));\"><PAD></span> <span style=\"background-color:rgba(135,206,250,tensor(0.0293, device='cuda:0', grad_fn=<DivBackward0>));\"><PAD></span> <span style=\"background-color:rgba(135,206,250,tensor(0.0325, device='cuda:0', grad_fn=<DivBackward0>));\"><PAD></span> <span style=\"background-color:rgba(135,206,250,tensor(0.0353, device='cuda:0', grad_fn=<DivBackward0>));\"><PAD></span> <span style=\"background-color:rgba(135,206,250,tensor(0.0276, device='cuda:0', grad_fn=<DivBackward0>));\"><PAD></span> <span style=\"background-color:rgba(135,206,250,tensor(0.0447, device='cuda:0', grad_fn=<DivBackward0>));\"><PAD></span> <span style=\"background-color:rgba(135,206,250,tensor(0.0522, device='cuda:0', grad_fn=<DivBackward0>));\"><PAD></span> <span style=\"background-color:rgba(135,206,250,tensor(0.0607, device='cuda:0', grad_fn=<DivBackward0>));\"><PAD></span> <span style=\"background-color:rgba(135,206,250,tensor(0., device='cuda:0', grad_fn=<DivBackward0>));\"><PAD></span> <span style=\"background-color:rgba(135,206,250,tensor(0.0665, device='cuda:0', grad_fn=<DivBackward0>));\"><PAD></span> <span style=\"background-color:rgba(135,206,250,tensor(0.0524, device='cuda:0', grad_fn=<DivBackward0>));\"><PAD></span>"
      ],
      "text/plain": [
       "<IPython.core.display.HTML object>"
      ]
     },
     "metadata": {},
     "output_type": "display_data"
    },
    {
     "name": "stdout",
     "output_type": "stream",
     "text": [
      "<PAD>:   \t100.0%\n",
      "drink:   \t0.0%\n",
      "the:   \t0.0%\n",
      "enjoy:   \t0.0%\n",
      ".:   \t0.0%\n",
      "--------\n",
      "\n"
     ]
    }
   ],
   "source": [
    "gen_text, info = text_generator.generate(\"wine review : germany\", max_tokens=80, temperature=0.5, return_info=True)\n",
    "print_probs(info, tokenizer.vocab)"
   ]
  },
  {
   "cell_type": "code",
   "execution_count": null,
   "id": "4122154c-9e41-44ba-8c5f-fe88a55fe977",
   "metadata": {},
   "outputs": [],
   "source": []
  }
 ],
 "metadata": {
  "kernelspec": {
   "display_name": "torch",
   "language": "python",
   "name": "python3"
  },
  "language_info": {
   "codemirror_mode": {
    "name": "ipython",
    "version": 3
   },
   "file_extension": ".py",
   "mimetype": "text/x-python",
   "name": "python",
   "nbconvert_exporter": "python",
   "pygments_lexer": "ipython3",
   "version": "3.12.7"
  }
 },
 "nbformat": 4,
 "nbformat_minor": 5
}
